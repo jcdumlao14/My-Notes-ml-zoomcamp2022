{
  "nbformat": 4,
  "nbformat_minor": 0,
  "metadata": {
    "colab": {
      "provenance": [],
      "collapsed_sections": [],
      "authorship_tag": "ABX9TyO05lxTaKvdmBDRwlryLOZ/",
      "include_colab_link": true
    },
    "kernelspec": {
      "name": "python3",
      "display_name": "Python 3"
    },
    "language_info": {
      "name": "python"
    }
  },
  "cells": [
    {
      "cell_type": "markdown",
      "metadata": {
        "id": "view-in-github",
        "colab_type": "text"
      },
      "source": [
        "<a href=\"https://colab.research.google.com/github/jcdumlao14/My-Notes-ml-zoomcamp2022/blob/main/week1_notes_3Linear_Algebra.ipynb\" target=\"_parent\"><img src=\"https://colab.research.google.com/assets/colab-badge.svg\" alt=\"Open In Colab\"/></a>"
      ]
    },
    {
      "cell_type": "markdown",
      "source": [
        "# **Machine Learning Zoomcamp**\n",
        "\n",
        "## **1.8 Linear algebra refresher**\n",
        "\n",
        "Plan:\n",
        "\n",
        "* Vector operations\n",
        "* Multiplication\n",
        "  * Vector-vector multiplication\n",
        "  * Matrix-vector multiplication\n",
        "  * Matrix-matrix multiplication\n",
        "* Identity matrix\n",
        "* Inverse"
      ],
      "metadata": {
        "id": "wXylUblITbTf"
      }
    },
    {
      "cell_type": "code",
      "execution_count": null,
      "metadata": {
        "id": "AkAfs_SETNpf"
      },
      "outputs": [],
      "source": [
        "import numpy as np"
      ]
    },
    {
      "cell_type": "markdown",
      "source": [
        "* if you remember the why we did it in numpy, so in numpy actually the vector are rows."
      ],
      "metadata": {
        "id": "uT9_WsRKYb8v"
      }
    },
    {
      "cell_type": "markdown",
      "source": [
        "# **Vector operations**\n"
      ],
      "metadata": {
        "id": "A2Sl_8A3T6Qm"
      }
    },
    {
      "cell_type": "markdown",
      "source": [
        "* **Vector operations** - vector operations, Extension of the laws of elementary algebra to vectors. They include addition, subtraction, and three types of multiplication. The sum of two vectors is a third vector, represented as the diagonal of the parallelogram constructed with the two original vectors as sides."
      ],
      "metadata": {
        "id": "ZtnUK1QsVuhW"
      }
    },
    {
      "cell_type": "code",
      "source": [
        "u = np.array([2, 4, 5, 6])"
      ],
      "metadata": {
        "id": "PkLlp-2lT3tK"
      },
      "execution_count": null,
      "outputs": []
    },
    {
      "cell_type": "code",
      "source": [
        "u"
      ],
      "metadata": {
        "colab": {
          "base_uri": "https://localhost:8080/"
        },
        "id": "FO8ZubKOWPns",
        "outputId": "9a62c48e-5754-474f-8799-7ea1ee9ec32a"
      },
      "execution_count": null,
      "outputs": [
        {
          "output_type": "execute_result",
          "data": {
            "text/plain": [
              "array([2, 4, 5, 6])"
            ]
          },
          "metadata": {},
          "execution_count": 4
        }
      ]
    },
    {
      "cell_type": "code",
      "source": [
        "2 * u"
      ],
      "metadata": {
        "colab": {
          "base_uri": "https://localhost:8080/"
        },
        "id": "6kdFd1hDUBj-",
        "outputId": "2a7164b3-26d9-46b4-f256-8ffb752ae988"
      },
      "execution_count": null,
      "outputs": [
        {
          "output_type": "execute_result",
          "data": {
            "text/plain": [
              "array([ 4,  8, 10, 12])"
            ]
          },
          "metadata": {},
          "execution_count": 3
        }
      ]
    },
    {
      "cell_type": "code",
      "source": [
        "v = np.array([1, 0, 0, 2])\n"
      ],
      "metadata": {
        "id": "gNAx69vVUFqj"
      },
      "execution_count": null,
      "outputs": []
    },
    {
      "cell_type": "code",
      "source": [
        "v"
      ],
      "metadata": {
        "colab": {
          "base_uri": "https://localhost:8080/"
        },
        "id": "tUyB1qCGWTCM",
        "outputId": "3a29272f-03cc-4a5f-b815-690bd639fc13"
      },
      "execution_count": null,
      "outputs": [
        {
          "output_type": "execute_result",
          "data": {
            "text/plain": [
              "array([1, 0, 0, 2])"
            ]
          },
          "metadata": {},
          "execution_count": 6
        }
      ]
    },
    {
      "cell_type": "code",
      "source": [
        "u + v"
      ],
      "metadata": {
        "colab": {
          "base_uri": "https://localhost:8080/"
        },
        "id": "e3ebRS6sUKKH",
        "outputId": "79642552-5ad1-480a-c350-0da4e38ba4e8"
      },
      "execution_count": null,
      "outputs": [
        {
          "output_type": "execute_result",
          "data": {
            "text/plain": [
              "array([3, 4, 5, 8])"
            ]
          },
          "metadata": {},
          "execution_count": 7
        }
      ]
    },
    {
      "cell_type": "code",
      "source": [
        "u * v"
      ],
      "metadata": {
        "colab": {
          "base_uri": "https://localhost:8080/"
        },
        "id": "8aEd1LxqUO7t",
        "outputId": "ebe2daa2-01c4-425a-d729-93837af55dc1"
      },
      "execution_count": null,
      "outputs": [
        {
          "output_type": "execute_result",
          "data": {
            "text/plain": [
              "array([ 2,  0,  0, 12])"
            ]
          },
          "metadata": {},
          "execution_count": 8
        }
      ]
    },
    {
      "cell_type": "markdown",
      "source": [
        "* we'll start with the simple vector operation which is multiplication you want to multiply a vector by some number, so let's say we want to multiply a vector by the number two what we do is we multiply every element of this vector by two in this case **2,4,5, 6** and you can see that the way we write vector is like its a column, column vector and this is just a notation this is how things are usually written in linear algebra, so in linear algebra typically the vectors are columns not rows."
      ],
      "metadata": {
        "id": "nJ-wUJUqWtYY"
      }
    },
    {
      "cell_type": "markdown",
      "source": [
        "* So if you see here, have these two vectors **u and v**, and if we are at u plus v then we have element-wise addition. if you remember from the previous lecture we can multiply  **2 * u**  and a NumPy array by two and then the result **4,8,10,12** is multiplication element-wise so this is the same u column and v column = result in linear algebra."
      ],
      "metadata": {
        "id": "A0dK_RO7X3D1"
      }
    },
    {
      "cell_type": "markdown",
      "source": [
        "* And if we want to add two vectors let's say **vector u and vector v** so what we do is and if we want to add two vectors what we do is we add each element of a vector and the results are **3, 4, 5, and 8**, so this pretty much the same in the previous lecture in NumPy, so we just add things element-wise\n",
        "\n",
        "* How we can multiply vectors with vectors and how we can multiply a matrix by a vector and how we can multiply a matrix by matrix."
      ],
      "metadata": {
        "id": "yJa6rhHRY9yV"
      }
    },
    {
      "cell_type": "markdown",
      "source": [
        "![image.png](data:image/png;base64,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)"
      ],
      "metadata": {
        "id": "f9I8WzEZzDIm"
      }
    },
    {
      "cell_type": "markdown",
      "source": [
        "![image.png](data:image/png;base64,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)\n",
        "\n"
      ],
      "metadata": {
        "id": "GYnks9P33ufy"
      }
    },
    {
      "cell_type": "markdown",
      "source": [
        "# **Multiplication**\n",
        "\n",
        "* In linear algebra, matrix multiplication is a binary operation that produces a matrix from two matrices. For matrix multiplication, the number of columns in the first matrix must be equal to the number of rows in the second matrix."
      ],
      "metadata": {
        "id": "hB-4nL3UUThi"
      }
    },
    {
      "cell_type": "code",
      "source": [
        "v.shape[0]"
      ],
      "metadata": {
        "colab": {
          "base_uri": "https://localhost:8080/"
        },
        "id": "nGWTb8FHUfmb",
        "outputId": "a32b5af6-1cfe-4147-83db-e251139c033c"
      },
      "execution_count": null,
      "outputs": [
        {
          "output_type": "execute_result",
          "data": {
            "text/plain": [
              "4"
            ]
          },
          "metadata": {},
          "execution_count": 9
        }
      ]
    },
    {
      "cell_type": "code",
      "source": [
        "def vector_vector_multiplication(u, v):\n",
        "    assert u.shape[0] == v.shape[0]\n",
        "    \n",
        "    n = u.shape[0]\n",
        "    \n",
        "    result = 0.0\n",
        "\n",
        "    for i in range(n):\n",
        "        result = result + u[i] * v[i]\n",
        "    \n",
        "    return result"
      ],
      "metadata": {
        "id": "QicRLVrIUfy7"
      },
      "execution_count": null,
      "outputs": []
    },
    {
      "cell_type": "markdown",
      "source": [
        "* So let's say, we want to write a function that does vector vector multiplication, and then we have two vectors here **u and v (u,v)**, so first what we need to do is make sure that these vectors have the same size and we usually do this by checking the shape of the vectors, so if you remember so let me show the shape, print shape, the shape is the size of the **(4, )** write the array first element of this tuple is four, if they are different then multiplication doesn't make sense, we need to make sure that the vectors have the same size, so that's why we have this assertion here then basically what we do next is again in our formula. We write that n is the the the shape of **u** or the shape of **v**  doesn't matter because they have the same shape and we just go over a loop. the result variable which contains our dot product and then we say that result should contain, so first do this product between each element, because we are in the race and NumPy arrays are indexed **from 0 to n minus one (n-1)** and then the size of the array is **n** so instead of going from **1 to n**, this how we implement this. This part inside the sum and this loop **u[i] = v[i]** and what we need to do at the end just return the result this is how we translate this formula into code, so now we can test it, **vector_vector_ multiplication(u,v)**."
      ],
      "metadata": {
        "id": "uC_55qnJkUmw"
      }
    },
    {
      "cell_type": "code",
      "source": [
        "vector_vector_multiplication(u, v)"
      ],
      "metadata": {
        "colab": {
          "base_uri": "https://localhost:8080/"
        },
        "id": "CkGqiVdSUfrM",
        "outputId": "b83d6cf1-648a-47f7-d0e2-0c26990731e1"
      },
      "execution_count": null,
      "outputs": [
        {
          "output_type": "execute_result",
          "data": {
            "text/plain": [
              "14.0"
            ]
          },
          "metadata": {},
          "execution_count": 11
        }
      ]
    },
    {
      "cell_type": "markdown",
      "source": [
        "* Vector vector multiplication so it's also called dot product or sometimes inner product let's say again we have two vectors **u and v** and we want to multiply vector **u** by vector **v** and this is not element by multiplication like we do in NumPy so remember in NumPy if we do this **u * v**, so we have an array where we multiple elements-wise, we have element device multiplication so actually in linear algebra this dot product produces a number, the way we compute it is, we multiply again each number separately like for the first element of **u** multiplied with the first element of **v**, and the second element of **u** multiplied with the second element of **v** and so on.. and what we get is **(2*1, 2*4, 4*0, 5*0, 6*2)**, two times one, four times zero, five times 0, six times two, and then what we do sum them some results and what we have as a result is we have two plus 12 here and the result is 14, so basically the formula, if we want to write the formula so we have a sum that goes over all element of our vector **i= 1** till **n** where **n is the dimension the of the vector** and then we just multiply if the element of **u** with the if the element of **v** and this is the result of a dot product."
      ],
      "metadata": {
        "id": "S3AaL0DweMv9"
      }
    },
    {
      "cell_type": "markdown",
      "source": [
        "* However the way we usually write it in linear algebra is a bit intuitive at first, so the way to do it is so this **U** which is a columns vector, these **V** which is a row vector, and if we want to turn a column vector into a row vector we use a transpose operation, so transpose operation turns column into rows and so this is again this is just notation, so when we multiply a matrix with vector **y** in the case but this is just notation for dot product, for multiplication, we need to have a row vector and a column vector and the result is a dot product **VTU** - this is how we usually write dot product, so this is annotation for dot product and as we already sow the formula for computing the dot product is like this\n",
        "\n"
      ],
      "metadata": {
        "id": "Q1jIp6H4iQlc"
      }
    },
    {
      "cell_type": "markdown",
      "source": [
        "![image.png](data:image/png;base64,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)"
      ],
      "metadata": {
        "id": "FE8hH3NH1uCx"
      }
    },
    {
      "cell_type": "code",
      "source": [
        "u.dot(v)"
      ],
      "metadata": {
        "colab": {
          "base_uri": "https://localhost:8080/"
        },
        "id": "pP-6q-QPUt1M",
        "outputId": "7ae3d139-724e-4fb9-88b4-93ab5f3a796b"
      },
      "execution_count": null,
      "outputs": [
        {
          "output_type": "execute_result",
          "data": {
            "text/plain": [
              "14"
            ]
          },
          "metadata": {},
          "execution_count": 12
        }
      ]
    },
    {
      "cell_type": "markdown",
      "source": [
        "*  **14** is the result of our dot product\n",
        "* In NumPy there is already a function that is doing this its called dot product and this is how we use it we just multiply vector **u** by a vector v and the result is also 14"
      ],
      "metadata": {
        "id": "-R3Zs0cBhrB0"
      }
    },
    {
      "cell_type": "markdown",
      "source": [
        "![image.png](data:image/png;base64,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)"
      ],
      "metadata": {
        "id": "jZnZ44Yw0XXY"
      }
    },
    {
      "cell_type": "code",
      "source": [
        "U = np.array([\n",
        "    [2, 4, 5, 6],\n",
        "    [1, 2, 1, 2],\n",
        "    [3, 1, 2, 1],\n",
        "])"
      ],
      "metadata": {
        "id": "s0k0_8ETUx9M"
      },
      "execution_count": null,
      "outputs": []
    },
    {
      "cell_type": "code",
      "source": [
        "U.shape"
      ],
      "metadata": {
        "colab": {
          "base_uri": "https://localhost:8080/"
        },
        "id": "s1pTaKvoU2ls",
        "outputId": "12c7c8b5-cbe2-41cd-846f-fd4a78202607"
      },
      "execution_count": null,
      "outputs": [
        {
          "output_type": "execute_result",
          "data": {
            "text/plain": [
              "(3, 4)"
            ]
          },
          "metadata": {},
          "execution_count": 4
        }
      ]
    },
    {
      "cell_type": "code",
      "source": [
        "U.shape[0]"
      ],
      "metadata": {
        "colab": {
          "base_uri": "https://localhost:8080/"
        },
        "id": "1PMSq2XxkZSd",
        "outputId": "8f5688c0-0225-43a7-bef7-6888d1ee13ad"
      },
      "execution_count": null,
      "outputs": [
        {
          "output_type": "execute_result",
          "data": {
            "text/plain": [
              "3"
            ]
          },
          "metadata": {},
          "execution_count": 5
        }
      ]
    },
    {
      "cell_type": "code",
      "source": [
        "def matrix_vector_multiplication(U, v):\n",
        "    assert U.shape[1] == v.shape[0]\n",
        "    \n",
        "    num_rows = U.shape[0]\n",
        "    \n",
        "    result = np.zeros(num_rows)\n",
        "    \n",
        "    for i in range(num_rows):\n",
        "        result[i] = vector_vector_multiplication(U[i], v)\n",
        "    \n",
        "    return result"
      ],
      "metadata": {
        "id": "F47H4_jFU69A"
      },
      "execution_count": null,
      "outputs": []
    },
    {
      "cell_type": "markdown",
      "source": [
        "* Let's implement matrix-vector multiplication, so we have big capital **U and I** use capital here to denote that this is a matrix so first, we need to make sure the dimensionality match and if you remember so we have **U.shape (3,4)** we are interested in the number of columns, so remember here if I go back the number of columns in **U** should match the number of elements in **V** so the number of columns is **U** is the dimensionality of each row vector of **U** so if there are four columns it means that the vector **U0** has a dimensionality of four it has four elements the second dimensions the number of columns should match the first dimension so then we have the number of rows we can use **k** or maybe we just put number of rows **\"num_rows\"** which is **U** shape zero so this is the dimentionality of our resulting vector.\n",
        "\n",
        "* This is our result matrix let's initialize it with zeros and number of the dimensionality of this vector the size of this array is a number of rows so then we have a loop so we want now to go through each row of the matrix **U**, loop and now we need to access the if row of **U**, this is what how we do this need to calculate a dot product, so this is vector vector multiplication we can between the ether of **U** and the vector **V** and we write the result as the if the element of the result and then what we do at the end is we just return the result in the python code. let's test is **matrix-vector multiplication** so we do it between **U and V** we get a one-dimensional array."
      ],
      "metadata": {
        "id": "C8mvHgiCq-Kr"
      }
    },
    {
      "cell_type": "code",
      "source": [
        "matrix_vector_multiplication(U, v)\n"
      ],
      "metadata": {
        "colab": {
          "base_uri": "https://localhost:8080/"
        },
        "id": "RlsXwVErU_1I",
        "outputId": "957ace5b-1759-460b-a205-84e998408c8d"
      },
      "execution_count": null,
      "outputs": [
        {
          "output_type": "execute_result",
          "data": {
            "text/plain": [
              "array([14.,  5.,  5.])"
            ]
          },
          "metadata": {},
          "execution_count": 16
        }
      ]
    },
    {
      "cell_type": "code",
      "source": [
        "U.dot(v)"
      ],
      "metadata": {
        "colab": {
          "base_uri": "https://localhost:8080/"
        },
        "id": "QmztkCwiVEXM",
        "outputId": "02a6bc5e-6ede-4c92-9bc4-39abdc3b44e0"
      },
      "execution_count": null,
      "outputs": [
        {
          "output_type": "execute_result",
          "data": {
            "text/plain": [
              "array([14,  5,  5])"
            ]
          },
          "metadata": {},
          "execution_count": 17
        }
      ]
    },
    {
      "cell_type": "markdown",
      "source": [
        "* We compute the two-dimensional array, multiply it and it needs a dot product and you can see that the result is the same."
      ],
      "metadata": {
        "id": "qoqEFrNFuOnE"
      }
    },
    {
      "cell_type": "code",
      "source": [
        "V = np.array([\n",
        "    [1, 1, 2],\n",
        "    [0, 0.5, 1], \n",
        "    [0, 2, 1],\n",
        "    [2, 1, 0],\n",
        "])"
      ],
      "metadata": {
        "id": "Sausy6ibVIWM"
      },
      "execution_count": null,
      "outputs": []
    },
    {
      "cell_type": "code",
      "source": [
        "V"
      ],
      "metadata": {
        "colab": {
          "base_uri": "https://localhost:8080/"
        },
        "id": "t4w9UIXyWhU7",
        "outputId": "c0f7afd3-cc35-44a1-c592-892bad8aebcf"
      },
      "execution_count": null,
      "outputs": [
        {
          "output_type": "execute_result",
          "data": {
            "text/plain": [
              "array([[1. , 1. , 2. ],\n",
              "       [0. , 0.5, 1. ],\n",
              "       [0. , 2. , 1. ],\n",
              "       [2. , 1. , 0. ]])"
            ]
          },
          "metadata": {},
          "execution_count": 19
        }
      ]
    },
    {
      "cell_type": "markdown",
      "source": [
        "* Let's say we have a matrix capital **U** and we have a matrix **V** capital **V** and what we want to compute is multiplication between matrix **U** and matrix **V** what we do here is we look at  so we take a matrix **V** and we break it down into multiple columns so we have column **V0, V1, and V2** and we look at the entire matrix **U** as is and the result of this multiplication is a new matrix for each column, so it will have the three columns for each column we have so column first is a matrix **U** multiplied by vector **V0** then its matrix **U** multiplied by vector one **V1** matric **U** multiplied by vector two, **V2**, we represent matrix multiplication as a bunch of matrix-vector multiplications, let's implement this."
      ],
      "metadata": {
        "id": "QFUuasRzunOS"
      }
    },
    {
      "cell_type": "code",
      "source": [
        "def matrix_matrix_multiplication(U, V):\n",
        "    assert U.shape[1] == V.shape[0]\n",
        "    \n",
        "    num_rows = U.shape[0]\n",
        "    num_cols = V.shape[1]\n",
        "    \n",
        "    result = np.zeros((num_rows, num_cols))\n",
        "    \n",
        "    for i in range(num_cols):\n",
        "        vi = V[:, i]\n",
        "        Uvi = matrix_vector_multiplication(U, vi)\n",
        "        result[:, i] = Uvi\n",
        "    \n",
        "    return result"
      ],
      "metadata": {
        "id": "y63MuzM8VM25"
      },
      "execution_count": null,
      "outputs": []
    },
    {
      "cell_type": "markdown",
      "source": [
        "* So we already have a matrix here multiplication to have two matrices here **U and V** so what we need to check here is the same so that this multiplication makes sense that we can multiply row of **U** with a column of **V** right, so we need to make sure that the dimensions match so we basically can use the same thing, we can check that the multiplication makes sense, then we create new matrix so we called it to result and use initialize with zeros of this matrix will be the number of rows of this matrix will come from here when we multiply **U by and V** we will have a new vector that has dimensionality three because so it will be three will have three rows and it will have also three because there are three columns in **V** so the number of rows comes from **U**, and the number of columns comes from the number of columns in **V**, and then create a matrix with results which with number of rows coming from **U** and  number of columns coming form **V** and then we do a loop, we do it over for each column and then let's take you the eighth column of **U** which is, we use this notation **Ui = U [:,1]** so we take all rows and eighth columns then we multiply these, so it is out of multiplication it will be a matrix_vector multiplication between, it should be **Vi = V[ : , 1]** then we multiply **U** this if the column of **V** and we get the same result as **U**, so this is the result of the multiplication of our matrix **U with vector V** and we need to do now is put it to the result, this is our matrix result, and it has three by three matrix filled with zeros. to replace zeros with some number this will result in multiplication and to reassign columns to a two-dimensional array this is the syntax we use so we say that for if a column of the result, the result is multiplication, we repeat this for every column of **V** and we return the result, check it **metrix_metrix_multiplication** "
      ],
      "metadata": {
        "id": "xmi6w9vEwCp9"
      }
    },
    {
      "cell_type": "code",
      "source": [
        "matrix_matrix_multiplication(U, V)"
      ],
      "metadata": {
        "colab": {
          "base_uri": "https://localhost:8080/"
        },
        "id": "ju0DC98ZVSVl",
        "outputId": "80cb1d97-8706-4691-d150-0780b60356e2"
      },
      "execution_count": null,
      "outputs": [
        {
          "output_type": "execute_result",
          "data": {
            "text/plain": [
              "array([[14. , 20. , 13. ],\n",
              "       [ 5. ,  6. ,  5. ],\n",
              "       [ 5. ,  8.5,  9. ]])"
            ]
          },
          "metadata": {},
          "execution_count": 21
        }
      ]
    },
    {
      "cell_type": "markdown",
      "source": [
        "* metrix_metrix_multiplication so between **U and V** and this is the result, probably figured out this pattern by now is that if we want to do it with plan numpy if we want to multiply two matrices with plane NumPy we use the dot method and you see which means that our matrix-matrix multiplication."
      ],
      "metadata": {
        "id": "yB-dlD7IZNM-"
      }
    },
    {
      "cell_type": "markdown",
      "source": [
        "* A 3×3 matrix has three rows and three columns. In matrix multiplication, **each of the three rows of the first matrix is multiplied by the columns of the second matrix and then we add all the pairs**."
      ],
      "metadata": {
        "id": "GB15UICha7Mq"
      }
    },
    {
      "cell_type": "code",
      "source": [
        "U.dot(V)"
      ],
      "metadata": {
        "colab": {
          "base_uri": "https://localhost:8080/"
        },
        "id": "h5lmNI6gVWVy",
        "outputId": "19b9bc1e-df26-44f9-ce23-e0597259115f"
      },
      "execution_count": null,
      "outputs": [
        {
          "output_type": "execute_result",
          "data": {
            "text/plain": [
              "array([[14. , 20. , 13. ],\n",
              "       [ 5. ,  6. ,  5. ],\n",
              "       [ 5. ,  8.5,  9. ]])"
            ]
          },
          "metadata": {},
          "execution_count": 22
        }
      ]
    },
    {
      "cell_type": "markdown",
      "source": [
        "# **Identity matrix**\n",
        "\n",
        "* An identity matrix is **a matrix of order nxn such that each main diagonal element is equal to 1, and the remaining elements of the matrix are equal to 0**.\n",
        "\n",
        "* The identity matrix of size n is the n\\times n square matrix with ones on the main diagonal and zeros elsewhere"
      ],
      "metadata": {
        "id": "pCE0L81bVdvq"
      }
    },
    {
      "cell_type": "code",
      "source": [
        "np.eye(10)"
      ],
      "metadata": {
        "id": "g0e0N9HTdcjW"
      },
      "execution_count": null,
      "outputs": []
    },
    {
      "cell_type": "markdown",
      "source": [
        "* we use NumPy to identify a matrix and it gives us a matrix where on the diagonal we have ones and we have zeros everywhere else."
      ],
      "metadata": {
        "id": "tmp8N85XdMdv"
      }
    },
    {
      "cell_type": "code",
      "source": [
        "I = np.eye(3)"
      ],
      "metadata": {
        "id": "TsVYjdxWVa0U"
      },
      "execution_count": null,
      "outputs": []
    },
    {
      "cell_type": "code",
      "source": [
        "V"
      ],
      "metadata": {
        "colab": {
          "base_uri": "https://localhost:8080/"
        },
        "id": "JS50nZaQVlWi",
        "outputId": "32c33dea-7858-4a1a-dec3-9e2b8f3d6103"
      },
      "execution_count": null,
      "outputs": [
        {
          "output_type": "execute_result",
          "data": {
            "text/plain": [
              "array([[1. , 1. , 2. ],\n",
              "       [0. , 0.5, 1. ],\n",
              "       [0. , 2. , 1. ],\n",
              "       [2. , 1. , 0. ]])"
            ]
          },
          "metadata": {},
          "execution_count": 24
        }
      ]
    },
    {
      "cell_type": "code",
      "source": [
        "V.dot(I)"
      ],
      "metadata": {
        "colab": {
          "base_uri": "https://localhost:8080/"
        },
        "id": "PS_s2iKxVnLa",
        "outputId": "07f9204d-9a7b-4061-bae7-b2809bd3e7df"
      },
      "execution_count": null,
      "outputs": [
        {
          "output_type": "execute_result",
          "data": {
            "text/plain": [
              "array([[1. , 1. , 2. ],\n",
              "       [0. , 0.5, 1. ],\n",
              "       [0. , 2. , 1. ],\n",
              "       [2. , 1. , 0. ]])"
            ]
          },
          "metadata": {},
          "execution_count": 25
        }
      ]
    },
    {
      "cell_type": "markdown",
      "source": [
        "* This identity matrix of size three then V here so we can test it and we see that three by three matrix"
      ],
      "metadata": {
        "id": "E8QNXnbZegIW"
      }
    },
    {
      "cell_type": "markdown",
      "source": [
        "# **Inverse**"
      ],
      "metadata": {
        "id": "ZqJo9l-3Vvko"
      }
    },
    {
      "cell_type": "markdown",
      "source": [
        "### What is an inverse matrix with an example?\n",
        "\n",
        "Image result for inverse  matrix in linear algebra\n",
        "For example, **2 × 2, 2 × 3, 3 × 2, 3 × 3, 4 × 4**, and so on. We can find the matrix inverse only for square matrices, whose number of rows and columns are equal such as 2 × 2, 3 × 3, etc. In simple words, **the inverse matrix is obtained by dividing the adjugate of the given matrix by the determinant of the given matrix**."
      ],
      "metadata": {
        "id": "UHCzkSIPgXr2"
      }
    },
    {
      "cell_type": "code",
      "source": [
        "Vs = V[[0, 1, 2]]\n",
        "Vs"
      ],
      "metadata": {
        "colab": {
          "base_uri": "https://localhost:8080/"
        },
        "id": "wOJqS4FGVstl",
        "outputId": "7a5fab19-fd76-4d59-e4ef-fb87f09895b0"
      },
      "execution_count": null,
      "outputs": [
        {
          "output_type": "execute_result",
          "data": {
            "text/plain": [
              "array([[1. , 1. , 2. ],\n",
              "       [0. , 0.5, 1. ],\n",
              "       [0. , 2. , 1. ]])"
            ]
          },
          "metadata": {},
          "execution_count": 26
        }
      ]
    },
    {
      "cell_type": "markdown",
      "source": [
        "* We compute the inverse, so first of all only square matrices have inverse so a square matrix matrix is a matrix for which the number of rows goes to the number of columns so we need to have a square matrix, so let's just take the first three now of **V** so this is our matrix square matrix and let's call it **V square** so this our matrix and to compute the inverse of this matrix we use a method from NumPy called **np.linalg.inv**\n",
        "\n",
        "* **np.linalg.inv** - Compute the (multiplicative) inverse of Vs matrix. Given a square matrix **Vs**, return the matrix Vsinv satisfying dot(V, Vs_inv) = dot(Vs_inv, V) = eye(V.shape[0]) ."
      ],
      "metadata": {
        "id": "oBEMk7Ujg7Bw"
      }
    },
    {
      "cell_type": "code",
      "source": [
        "Vs_inv = np.linalg.inv(Vs)\n",
        "Vs_inv"
      ],
      "metadata": {
        "colab": {
          "base_uri": "https://localhost:8080/"
        },
        "id": "9wyK9tmjV3yC",
        "outputId": "b1233d13-779d-4619-8526-092e6cde01e1"
      },
      "execution_count": null,
      "outputs": [
        {
          "output_type": "execute_result",
          "data": {
            "text/plain": [
              "array([[ 1.        , -2.        ,  0.        ],\n",
              "       [ 0.        , -0.66666667,  0.66666667],\n",
              "       [ 0.        ,  1.33333333, -0.33333333]])"
            ]
          },
          "metadata": {},
          "execution_count": 27
        }
      ]
    },
    {
      "cell_type": "code",
      "source": [
        "Vs_inv.dot(Vs)"
      ],
      "metadata": {
        "colab": {
          "base_uri": "https://localhost:8080/"
        },
        "id": "W754FqKCV8Ok",
        "outputId": "2444c50b-6ffa-499b-c741-f997f13f53e0"
      },
      "execution_count": null,
      "outputs": [
        {
          "output_type": "execute_result",
          "data": {
            "text/plain": [
              "array([[1., 0., 0.],\n",
              "       [0., 1., 0.],\n",
              "       [0., 0., 1.]])"
            ]
          },
          "metadata": {},
          "execution_count": 28
        }
      ]
    },
    {
      "cell_type": "markdown",
      "source": [
        "* And when we multiply the s inverse when we multiply these two matrices what we get is one identity matrix this will be quite useful for linear regression."
      ],
      "metadata": {
        "id": "H2bQrzSBg1v7"
      }
    },
    {
      "cell_type": "markdown",
      "source": [
        "## **Next**\n",
        "\n",
        "Intro to Pandas"
      ],
      "metadata": {
        "id": "jKj_eIB0WAdl"
      }
    }
  ]
}