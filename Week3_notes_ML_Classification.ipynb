{
  "nbformat": 4,
  "nbformat_minor": 0,
  "metadata": {
    "colab": {
      "provenance": [],
      "collapsed_sections": [],
      "authorship_tag": "ABX9TyNEyfyBV6O+2x5aqY3dNS1u",
      "include_colab_link": true
    },
    "kernelspec": {
      "name": "python3",
      "display_name": "Python 3"
    },
    "language_info": {
      "name": "python"
    }
  },
  "cells": [
    {
      "cell_type": "markdown",
      "metadata": {
        "id": "view-in-github",
        "colab_type": "text"
      },
      "source": [
        "<a href=\"https://colab.research.google.com/github/jcdumlao14/My-Notes-ml-zoomcamp2022/blob/main/Week3_notes_ML_Classification.ipynb\" target=\"_parent\"><img src=\"https://colab.research.google.com/assets/colab-badge.svg\" alt=\"Open In Colab\"/></a>"
      ]
    },
    {
      "cell_type": "markdown",
      "source": [
        "# **3. Machine Learning for Classification**\n",
        "\n",
        "We'll use logistic regression to predict churn"
      ],
      "metadata": {
        "id": "75E1Frf_1F3u"
      }
    },
    {
      "cell_type": "markdown",
      "source": [
        "## **3.1 Churn prediction project** (video 3.1) \n",
        "\n",
        "* Dataset: https://www.kaggle.com/blastchar/telco-customer-churn\n",
        "\n",
        "* https://raw.githubusercontent.com/alexeygrigorev/mlbookcamp-code/master/chapter-03-churn-prediction/WA_Fn-UseC_-Telco-Customer-Churn.csv"
      ],
      "metadata": {
        "id": "P86fY5-n1Pz2"
      }
    },
    {
      "cell_type": "markdown",
      "source": [
        "* The project aims to identify customers that are likely to churn or stopping to use a service. Each customer has a score associated with the probability of churning. Considering this data, the company would send an email with discounts or other promotions to avoid churning.\n",
        "* TELCO company where we work and we have some customer, phone lines and internet.\n",
        "* To predict and identify clients like that client that want to leave the company or churn\n",
        "* Churn means stop using the services of the company and leaving somewhere could be a different to it to a comported competitor or just stopping using our services altogether\n",
        "* To identify which customers are about to churn and assign everyone some score between Zero and one that tells how likely this customer is going to live\n",
        "* We want to score each customer and understand what is the likelihood that they churn\n",
        "* The way we approach this with machine learning is binary classification. \n",
        "binary classification: \n",
        "![image.png](data:image/png;base64,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)\n",
        "* Target variable yi and this formula for one  single observation X could be a future vector describing customer number i and this y is the variable that tells us whether this customer left or not\n",
        "* In the formula, yi is the model's prediction and belongs to {0,1}, being 0 the negative value or no churning, and 1 the positive value or churning. The output corresponds to the likelihood of churning\n",
        "* yi, in this case, can take two values so it takes zero and it can take one, zero, in this case, means let's start with one means that it's a positive example so this customer did leave the turn so it's like thing like churn, when we talked about spam so a positive example would be a message with spam and zero is the negative example it could be like no churn or no spam and thing like this, so here zero means that there is something present like the effect we want to predict in this present it could be churn, it could be spam it could be something else and  mean it's no present\n",
        "* To identify users who turn\n",
        "* From Xi the output of the out model is a score between 0 and 1 which is the likelihood this particular customer number i g(Xi)"
      ],
      "metadata": {
        "id": "P75yP6b1CRxJ"
      }
    },
    {
      "cell_type": "markdown",
      "source": [
        "## **3.2 Data preparation** (video 3.2)\n",
        "\n",
        "* Download the data, read it with pandas\n",
        "* Look at the data\n",
        "* Make column names and values look uniform\n",
        "* Check if all the columns read correctly\n",
        "* Check if the churn variable needs any preparation"
      ],
      "metadata": {
        "id": "J39u_oaD1QlJ"
      }
    },
    {
      "cell_type": "code",
      "execution_count": 1,
      "metadata": {
        "id": "uR2YWEdt03eK"
      },
      "outputs": [],
      "source": [
        "import pandas as pd\n",
        "import numpy as np\n",
        "\n",
        "import matplotlib.pyplot as plt\n",
        "plt.rcParams['figure.figsize'] = (12,5)\n",
        "plt.style.use('fivethirtyeight')\n",
        "\n",
        "import warnings \n",
        "warnings.filterwarnings(\"ignore\")\n"
      ]
    },
    {
      "cell_type": "code",
      "source": [
        "data = 'https://raw.githubusercontent.com/alexeygrigorev/mlbookcamp-code/master/chapter-03-churn-prediction/WA_Fn-UseC_-Telco-Customer-Churn.csv'\n"
      ],
      "metadata": {
        "id": "5NH8lWDu15BE"
      },
      "execution_count": 2,
      "outputs": []
    },
    {
      "cell_type": "code",
      "source": [
        "!wget $data -O data-week-3.csv "
      ],
      "metadata": {
        "colab": {
          "base_uri": "https://localhost:8080/"
        },
        "id": "igJ35Ewb1-hV",
        "outputId": "e5c42adb-e66d-4d54-8759-7afe774a92da"
      },
      "execution_count": 3,
      "outputs": [
        {
          "output_type": "stream",
          "name": "stdout",
          "text": [
            "--2022-09-23 10:31:36--  https://raw.githubusercontent.com/alexeygrigorev/mlbookcamp-code/master/chapter-03-churn-prediction/WA_Fn-UseC_-Telco-Customer-Churn.csv\n",
            "Resolving raw.githubusercontent.com (raw.githubusercontent.com)... 185.199.108.133, 185.199.109.133, 185.199.110.133, ...\n",
            "Connecting to raw.githubusercontent.com (raw.githubusercontent.com)|185.199.108.133|:443... connected.\n",
            "HTTP request sent, awaiting response... 200 OK\n",
            "Length: 977501 (955K) [text/plain]\n",
            "Saving to: ‘data-week-3.csv’\n",
            "\n",
            "\rdata-week-3.csv       0%[                    ]       0  --.-KB/s               \rdata-week-3.csv     100%[===================>] 954.59K  --.-KB/s    in 0.007s  \n",
            "\n",
            "2022-09-23 10:31:37 (133 MB/s) - ‘data-week-3.csv’ saved [977501/977501]\n",
            "\n"
          ]
        }
      ]
    },
    {
      "cell_type": "code",
      "source": [
        "df = pd.read_csv('data-week-3.csv')\n",
        "df.head()"
      ],
      "metadata": {
        "colab": {
          "base_uri": "https://localhost:8080/",
          "height": 386
        },
        "id": "dHDeO7fv2Eft",
        "outputId": "2f6c1d48-800b-4ceb-92ed-e0431666b2b4"
      },
      "execution_count": 4,
      "outputs": [
        {
          "output_type": "execute_result",
          "data": {
            "text/plain": [
              "   customerID  gender  SeniorCitizen Partner Dependents  tenure PhoneService  \\\n",
              "0  7590-VHVEG  Female              0     Yes         No       1           No   \n",
              "1  5575-GNVDE    Male              0      No         No      34          Yes   \n",
              "2  3668-QPYBK    Male              0      No         No       2          Yes   \n",
              "3  7795-CFOCW    Male              0      No         No      45           No   \n",
              "4  9237-HQITU  Female              0      No         No       2          Yes   \n",
              "\n",
              "      MultipleLines InternetService OnlineSecurity  ... DeviceProtection  \\\n",
              "0  No phone service             DSL             No  ...               No   \n",
              "1                No             DSL            Yes  ...              Yes   \n",
              "2                No             DSL            Yes  ...               No   \n",
              "3  No phone service             DSL            Yes  ...              Yes   \n",
              "4                No     Fiber optic             No  ...               No   \n",
              "\n",
              "  TechSupport StreamingTV StreamingMovies        Contract PaperlessBilling  \\\n",
              "0          No          No              No  Month-to-month              Yes   \n",
              "1          No          No              No        One year               No   \n",
              "2          No          No              No  Month-to-month              Yes   \n",
              "3         Yes          No              No        One year               No   \n",
              "4          No          No              No  Month-to-month              Yes   \n",
              "\n",
              "               PaymentMethod MonthlyCharges  TotalCharges Churn  \n",
              "0           Electronic check          29.85         29.85    No  \n",
              "1               Mailed check          56.95        1889.5    No  \n",
              "2               Mailed check          53.85        108.15   Yes  \n",
              "3  Bank transfer (automatic)          42.30       1840.75    No  \n",
              "4           Electronic check          70.70        151.65   Yes  \n",
              "\n",
              "[5 rows x 21 columns]"
            ],
            "text/html": [
              "\n",
              "  <div id=\"df-ffb1878c-77d4-473a-8cb1-c92c98996134\">\n",
              "    <div class=\"colab-df-container\">\n",
              "      <div>\n",
              "<style scoped>\n",
              "    .dataframe tbody tr th:only-of-type {\n",
              "        vertical-align: middle;\n",
              "    }\n",
              "\n",
              "    .dataframe tbody tr th {\n",
              "        vertical-align: top;\n",
              "    }\n",
              "\n",
              "    .dataframe thead th {\n",
              "        text-align: right;\n",
              "    }\n",
              "</style>\n",
              "<table border=\"1\" class=\"dataframe\">\n",
              "  <thead>\n",
              "    <tr style=\"text-align: right;\">\n",
              "      <th></th>\n",
              "      <th>customerID</th>\n",
              "      <th>gender</th>\n",
              "      <th>SeniorCitizen</th>\n",
              "      <th>Partner</th>\n",
              "      <th>Dependents</th>\n",
              "      <th>tenure</th>\n",
              "      <th>PhoneService</th>\n",
              "      <th>MultipleLines</th>\n",
              "      <th>InternetService</th>\n",
              "      <th>OnlineSecurity</th>\n",
              "      <th>...</th>\n",
              "      <th>DeviceProtection</th>\n",
              "      <th>TechSupport</th>\n",
              "      <th>StreamingTV</th>\n",
              "      <th>StreamingMovies</th>\n",
              "      <th>Contract</th>\n",
              "      <th>PaperlessBilling</th>\n",
              "      <th>PaymentMethod</th>\n",
              "      <th>MonthlyCharges</th>\n",
              "      <th>TotalCharges</th>\n",
              "      <th>Churn</th>\n",
              "    </tr>\n",
              "  </thead>\n",
              "  <tbody>\n",
              "    <tr>\n",
              "      <th>0</th>\n",
              "      <td>7590-VHVEG</td>\n",
              "      <td>Female</td>\n",
              "      <td>0</td>\n",
              "      <td>Yes</td>\n",
              "      <td>No</td>\n",
              "      <td>1</td>\n",
              "      <td>No</td>\n",
              "      <td>No phone service</td>\n",
              "      <td>DSL</td>\n",
              "      <td>No</td>\n",
              "      <td>...</td>\n",
              "      <td>No</td>\n",
              "      <td>No</td>\n",
              "      <td>No</td>\n",
              "      <td>No</td>\n",
              "      <td>Month-to-month</td>\n",
              "      <td>Yes</td>\n",
              "      <td>Electronic check</td>\n",
              "      <td>29.85</td>\n",
              "      <td>29.85</td>\n",
              "      <td>No</td>\n",
              "    </tr>\n",
              "    <tr>\n",
              "      <th>1</th>\n",
              "      <td>5575-GNVDE</td>\n",
              "      <td>Male</td>\n",
              "      <td>0</td>\n",
              "      <td>No</td>\n",
              "      <td>No</td>\n",
              "      <td>34</td>\n",
              "      <td>Yes</td>\n",
              "      <td>No</td>\n",
              "      <td>DSL</td>\n",
              "      <td>Yes</td>\n",
              "      <td>...</td>\n",
              "      <td>Yes</td>\n",
              "      <td>No</td>\n",
              "      <td>No</td>\n",
              "      <td>No</td>\n",
              "      <td>One year</td>\n",
              "      <td>No</td>\n",
              "      <td>Mailed check</td>\n",
              "      <td>56.95</td>\n",
              "      <td>1889.5</td>\n",
              "      <td>No</td>\n",
              "    </tr>\n",
              "    <tr>\n",
              "      <th>2</th>\n",
              "      <td>3668-QPYBK</td>\n",
              "      <td>Male</td>\n",
              "      <td>0</td>\n",
              "      <td>No</td>\n",
              "      <td>No</td>\n",
              "      <td>2</td>\n",
              "      <td>Yes</td>\n",
              "      <td>No</td>\n",
              "      <td>DSL</td>\n",
              "      <td>Yes</td>\n",
              "      <td>...</td>\n",
              "      <td>No</td>\n",
              "      <td>No</td>\n",
              "      <td>No</td>\n",
              "      <td>No</td>\n",
              "      <td>Month-to-month</td>\n",
              "      <td>Yes</td>\n",
              "      <td>Mailed check</td>\n",
              "      <td>53.85</td>\n",
              "      <td>108.15</td>\n",
              "      <td>Yes</td>\n",
              "    </tr>\n",
              "    <tr>\n",
              "      <th>3</th>\n",
              "      <td>7795-CFOCW</td>\n",
              "      <td>Male</td>\n",
              "      <td>0</td>\n",
              "      <td>No</td>\n",
              "      <td>No</td>\n",
              "      <td>45</td>\n",
              "      <td>No</td>\n",
              "      <td>No phone service</td>\n",
              "      <td>DSL</td>\n",
              "      <td>Yes</td>\n",
              "      <td>...</td>\n",
              "      <td>Yes</td>\n",
              "      <td>Yes</td>\n",
              "      <td>No</td>\n",
              "      <td>No</td>\n",
              "      <td>One year</td>\n",
              "      <td>No</td>\n",
              "      <td>Bank transfer (automatic)</td>\n",
              "      <td>42.30</td>\n",
              "      <td>1840.75</td>\n",
              "      <td>No</td>\n",
              "    </tr>\n",
              "    <tr>\n",
              "      <th>4</th>\n",
              "      <td>9237-HQITU</td>\n",
              "      <td>Female</td>\n",
              "      <td>0</td>\n",
              "      <td>No</td>\n",
              "      <td>No</td>\n",
              "      <td>2</td>\n",
              "      <td>Yes</td>\n",
              "      <td>No</td>\n",
              "      <td>Fiber optic</td>\n",
              "      <td>No</td>\n",
              "      <td>...</td>\n",
              "      <td>No</td>\n",
              "      <td>No</td>\n",
              "      <td>No</td>\n",
              "      <td>No</td>\n",
              "      <td>Month-to-month</td>\n",
              "      <td>Yes</td>\n",
              "      <td>Electronic check</td>\n",
              "      <td>70.70</td>\n",
              "      <td>151.65</td>\n",
              "      <td>Yes</td>\n",
              "    </tr>\n",
              "  </tbody>\n",
              "</table>\n",
              "<p>5 rows × 21 columns</p>\n",
              "</div>\n",
              "      <button class=\"colab-df-convert\" onclick=\"convertToInteractive('df-ffb1878c-77d4-473a-8cb1-c92c98996134')\"\n",
              "              title=\"Convert this dataframe to an interactive table.\"\n",
              "              style=\"display:none;\">\n",
              "        \n",
              "  <svg xmlns=\"http://www.w3.org/2000/svg\" height=\"24px\"viewBox=\"0 0 24 24\"\n",
              "       width=\"24px\">\n",
              "    <path d=\"M0 0h24v24H0V0z\" fill=\"none\"/>\n",
              "    <path d=\"M18.56 5.44l.94 2.06.94-2.06 2.06-.94-2.06-.94-.94-2.06-.94 2.06-2.06.94zm-11 1L8.5 8.5l.94-2.06 2.06-.94-2.06-.94L8.5 2.5l-.94 2.06-2.06.94zm10 10l.94 2.06.94-2.06 2.06-.94-2.06-.94-.94-2.06-.94 2.06-2.06.94z\"/><path d=\"M17.41 7.96l-1.37-1.37c-.4-.4-.92-.59-1.43-.59-.52 0-1.04.2-1.43.59L10.3 9.45l-7.72 7.72c-.78.78-.78 2.05 0 2.83L4 21.41c.39.39.9.59 1.41.59.51 0 1.02-.2 1.41-.59l7.78-7.78 2.81-2.81c.8-.78.8-2.07 0-2.86zM5.41 20L4 18.59l7.72-7.72 1.47 1.35L5.41 20z\"/>\n",
              "  </svg>\n",
              "      </button>\n",
              "      \n",
              "  <style>\n",
              "    .colab-df-container {\n",
              "      display:flex;\n",
              "      flex-wrap:wrap;\n",
              "      gap: 12px;\n",
              "    }\n",
              "\n",
              "    .colab-df-convert {\n",
              "      background-color: #E8F0FE;\n",
              "      border: none;\n",
              "      border-radius: 50%;\n",
              "      cursor: pointer;\n",
              "      display: none;\n",
              "      fill: #1967D2;\n",
              "      height: 32px;\n",
              "      padding: 0 0 0 0;\n",
              "      width: 32px;\n",
              "    }\n",
              "\n",
              "    .colab-df-convert:hover {\n",
              "      background-color: #E2EBFA;\n",
              "      box-shadow: 0px 1px 2px rgba(60, 64, 67, 0.3), 0px 1px 3px 1px rgba(60, 64, 67, 0.15);\n",
              "      fill: #174EA6;\n",
              "    }\n",
              "\n",
              "    [theme=dark] .colab-df-convert {\n",
              "      background-color: #3B4455;\n",
              "      fill: #D2E3FC;\n",
              "    }\n",
              "\n",
              "    [theme=dark] .colab-df-convert:hover {\n",
              "      background-color: #434B5C;\n",
              "      box-shadow: 0px 1px 3px 1px rgba(0, 0, 0, 0.15);\n",
              "      filter: drop-shadow(0px 1px 2px rgba(0, 0, 0, 0.3));\n",
              "      fill: #FFFFFF;\n",
              "    }\n",
              "  </style>\n",
              "\n",
              "      <script>\n",
              "        const buttonEl =\n",
              "          document.querySelector('#df-ffb1878c-77d4-473a-8cb1-c92c98996134 button.colab-df-convert');\n",
              "        buttonEl.style.display =\n",
              "          google.colab.kernel.accessAllowed ? 'block' : 'none';\n",
              "\n",
              "        async function convertToInteractive(key) {\n",
              "          const element = document.querySelector('#df-ffb1878c-77d4-473a-8cb1-c92c98996134');\n",
              "          const dataTable =\n",
              "            await google.colab.kernel.invokeFunction('convertToInteractive',\n",
              "                                                     [key], {});\n",
              "          if (!dataTable) return;\n",
              "\n",
              "          const docLinkHtml = 'Like what you see? Visit the ' +\n",
              "            '<a target=\"_blank\" href=https://colab.research.google.com/notebooks/data_table.ipynb>data table notebook</a>'\n",
              "            + ' to learn more about interactive tables.';\n",
              "          element.innerHTML = '';\n",
              "          dataTable['output_type'] = 'display_data';\n",
              "          await google.colab.output.renderOutput(dataTable, element);\n",
              "          const docLink = document.createElement('div');\n",
              "          docLink.innerHTML = docLinkHtml;\n",
              "          element.appendChild(docLink);\n",
              "        }\n",
              "      </script>\n",
              "    </div>\n",
              "  </div>\n",
              "  "
            ]
          },
          "metadata": {},
          "execution_count": 4
        }
      ]
    },
    {
      "cell_type": "code",
      "source": [
        "df.columns = df.columns.str.lower().str.replace(' ', '_')\n",
        "\n",
        "categorical_columns = list(df.dtypes[df.dtypes == 'object'].index)\n",
        "\n",
        "for c in categorical_columns:\n",
        "    df[c] = df[c].str.lower().str.replace(' ', '_')\n"
      ],
      "metadata": {
        "id": "nJ6uIhlg2J21"
      },
      "execution_count": 5,
      "outputs": []
    },
    {
      "cell_type": "code",
      "source": [
        "df.head().T"
      ],
      "metadata": {
        "colab": {
          "base_uri": "https://localhost:8080/",
          "height": 708
        },
        "id": "9vvY27jC2Pno",
        "outputId": "3c325705-3519-4204-de76-28756568a72e"
      },
      "execution_count": 6,
      "outputs": [
        {
          "output_type": "execute_result",
          "data": {
            "text/plain": [
              "                                 0             1               2  \\\n",
              "customerid              7590-vhveg    5575-gnvde      3668-qpybk   \n",
              "gender                      female          male            male   \n",
              "seniorcitizen                    0             0               0   \n",
              "partner                        yes            no              no   \n",
              "dependents                      no            no              no   \n",
              "tenure                           1            34               2   \n",
              "phoneservice                    no           yes             yes   \n",
              "multiplelines     no_phone_service            no              no   \n",
              "internetservice                dsl           dsl             dsl   \n",
              "onlinesecurity                  no           yes             yes   \n",
              "onlinebackup                   yes            no             yes   \n",
              "deviceprotection                no           yes              no   \n",
              "techsupport                     no            no              no   \n",
              "streamingtv                     no            no              no   \n",
              "streamingmovies                 no            no              no   \n",
              "contract            month-to-month      one_year  month-to-month   \n",
              "paperlessbilling               yes            no             yes   \n",
              "paymentmethod     electronic_check  mailed_check    mailed_check   \n",
              "monthlycharges               29.85         56.95           53.85   \n",
              "totalcharges                 29.85        1889.5          108.15   \n",
              "churn                           no            no             yes   \n",
              "\n",
              "                                          3                 4  \n",
              "customerid                       7795-cfocw        9237-hqitu  \n",
              "gender                                 male            female  \n",
              "seniorcitizen                             0                 0  \n",
              "partner                                  no                no  \n",
              "dependents                               no                no  \n",
              "tenure                                   45                 2  \n",
              "phoneservice                             no               yes  \n",
              "multiplelines              no_phone_service                no  \n",
              "internetservice                         dsl       fiber_optic  \n",
              "onlinesecurity                          yes                no  \n",
              "onlinebackup                             no                no  \n",
              "deviceprotection                        yes                no  \n",
              "techsupport                             yes                no  \n",
              "streamingtv                              no                no  \n",
              "streamingmovies                          no                no  \n",
              "contract                           one_year    month-to-month  \n",
              "paperlessbilling                         no               yes  \n",
              "paymentmethod     bank_transfer_(automatic)  electronic_check  \n",
              "monthlycharges                         42.3              70.7  \n",
              "totalcharges                        1840.75            151.65  \n",
              "churn                                    no               yes  "
            ],
            "text/html": [
              "\n",
              "  <div id=\"df-9aaa0926-fbeb-4c18-9fa2-5d931799440b\">\n",
              "    <div class=\"colab-df-container\">\n",
              "      <div>\n",
              "<style scoped>\n",
              "    .dataframe tbody tr th:only-of-type {\n",
              "        vertical-align: middle;\n",
              "    }\n",
              "\n",
              "    .dataframe tbody tr th {\n",
              "        vertical-align: top;\n",
              "    }\n",
              "\n",
              "    .dataframe thead th {\n",
              "        text-align: right;\n",
              "    }\n",
              "</style>\n",
              "<table border=\"1\" class=\"dataframe\">\n",
              "  <thead>\n",
              "    <tr style=\"text-align: right;\">\n",
              "      <th></th>\n",
              "      <th>0</th>\n",
              "      <th>1</th>\n",
              "      <th>2</th>\n",
              "      <th>3</th>\n",
              "      <th>4</th>\n",
              "    </tr>\n",
              "  </thead>\n",
              "  <tbody>\n",
              "    <tr>\n",
              "      <th>customerid</th>\n",
              "      <td>7590-vhveg</td>\n",
              "      <td>5575-gnvde</td>\n",
              "      <td>3668-qpybk</td>\n",
              "      <td>7795-cfocw</td>\n",
              "      <td>9237-hqitu</td>\n",
              "    </tr>\n",
              "    <tr>\n",
              "      <th>gender</th>\n",
              "      <td>female</td>\n",
              "      <td>male</td>\n",
              "      <td>male</td>\n",
              "      <td>male</td>\n",
              "      <td>female</td>\n",
              "    </tr>\n",
              "    <tr>\n",
              "      <th>seniorcitizen</th>\n",
              "      <td>0</td>\n",
              "      <td>0</td>\n",
              "      <td>0</td>\n",
              "      <td>0</td>\n",
              "      <td>0</td>\n",
              "    </tr>\n",
              "    <tr>\n",
              "      <th>partner</th>\n",
              "      <td>yes</td>\n",
              "      <td>no</td>\n",
              "      <td>no</td>\n",
              "      <td>no</td>\n",
              "      <td>no</td>\n",
              "    </tr>\n",
              "    <tr>\n",
              "      <th>dependents</th>\n",
              "      <td>no</td>\n",
              "      <td>no</td>\n",
              "      <td>no</td>\n",
              "      <td>no</td>\n",
              "      <td>no</td>\n",
              "    </tr>\n",
              "    <tr>\n",
              "      <th>tenure</th>\n",
              "      <td>1</td>\n",
              "      <td>34</td>\n",
              "      <td>2</td>\n",
              "      <td>45</td>\n",
              "      <td>2</td>\n",
              "    </tr>\n",
              "    <tr>\n",
              "      <th>phoneservice</th>\n",
              "      <td>no</td>\n",
              "      <td>yes</td>\n",
              "      <td>yes</td>\n",
              "      <td>no</td>\n",
              "      <td>yes</td>\n",
              "    </tr>\n",
              "    <tr>\n",
              "      <th>multiplelines</th>\n",
              "      <td>no_phone_service</td>\n",
              "      <td>no</td>\n",
              "      <td>no</td>\n",
              "      <td>no_phone_service</td>\n",
              "      <td>no</td>\n",
              "    </tr>\n",
              "    <tr>\n",
              "      <th>internetservice</th>\n",
              "      <td>dsl</td>\n",
              "      <td>dsl</td>\n",
              "      <td>dsl</td>\n",
              "      <td>dsl</td>\n",
              "      <td>fiber_optic</td>\n",
              "    </tr>\n",
              "    <tr>\n",
              "      <th>onlinesecurity</th>\n",
              "      <td>no</td>\n",
              "      <td>yes</td>\n",
              "      <td>yes</td>\n",
              "      <td>yes</td>\n",
              "      <td>no</td>\n",
              "    </tr>\n",
              "    <tr>\n",
              "      <th>onlinebackup</th>\n",
              "      <td>yes</td>\n",
              "      <td>no</td>\n",
              "      <td>yes</td>\n",
              "      <td>no</td>\n",
              "      <td>no</td>\n",
              "    </tr>\n",
              "    <tr>\n",
              "      <th>deviceprotection</th>\n",
              "      <td>no</td>\n",
              "      <td>yes</td>\n",
              "      <td>no</td>\n",
              "      <td>yes</td>\n",
              "      <td>no</td>\n",
              "    </tr>\n",
              "    <tr>\n",
              "      <th>techsupport</th>\n",
              "      <td>no</td>\n",
              "      <td>no</td>\n",
              "      <td>no</td>\n",
              "      <td>yes</td>\n",
              "      <td>no</td>\n",
              "    </tr>\n",
              "    <tr>\n",
              "      <th>streamingtv</th>\n",
              "      <td>no</td>\n",
              "      <td>no</td>\n",
              "      <td>no</td>\n",
              "      <td>no</td>\n",
              "      <td>no</td>\n",
              "    </tr>\n",
              "    <tr>\n",
              "      <th>streamingmovies</th>\n",
              "      <td>no</td>\n",
              "      <td>no</td>\n",
              "      <td>no</td>\n",
              "      <td>no</td>\n",
              "      <td>no</td>\n",
              "    </tr>\n",
              "    <tr>\n",
              "      <th>contract</th>\n",
              "      <td>month-to-month</td>\n",
              "      <td>one_year</td>\n",
              "      <td>month-to-month</td>\n",
              "      <td>one_year</td>\n",
              "      <td>month-to-month</td>\n",
              "    </tr>\n",
              "    <tr>\n",
              "      <th>paperlessbilling</th>\n",
              "      <td>yes</td>\n",
              "      <td>no</td>\n",
              "      <td>yes</td>\n",
              "      <td>no</td>\n",
              "      <td>yes</td>\n",
              "    </tr>\n",
              "    <tr>\n",
              "      <th>paymentmethod</th>\n",
              "      <td>electronic_check</td>\n",
              "      <td>mailed_check</td>\n",
              "      <td>mailed_check</td>\n",
              "      <td>bank_transfer_(automatic)</td>\n",
              "      <td>electronic_check</td>\n",
              "    </tr>\n",
              "    <tr>\n",
              "      <th>monthlycharges</th>\n",
              "      <td>29.85</td>\n",
              "      <td>56.95</td>\n",
              "      <td>53.85</td>\n",
              "      <td>42.3</td>\n",
              "      <td>70.7</td>\n",
              "    </tr>\n",
              "    <tr>\n",
              "      <th>totalcharges</th>\n",
              "      <td>29.85</td>\n",
              "      <td>1889.5</td>\n",
              "      <td>108.15</td>\n",
              "      <td>1840.75</td>\n",
              "      <td>151.65</td>\n",
              "    </tr>\n",
              "    <tr>\n",
              "      <th>churn</th>\n",
              "      <td>no</td>\n",
              "      <td>no</td>\n",
              "      <td>yes</td>\n",
              "      <td>no</td>\n",
              "      <td>yes</td>\n",
              "    </tr>\n",
              "  </tbody>\n",
              "</table>\n",
              "</div>\n",
              "      <button class=\"colab-df-convert\" onclick=\"convertToInteractive('df-9aaa0926-fbeb-4c18-9fa2-5d931799440b')\"\n",
              "              title=\"Convert this dataframe to an interactive table.\"\n",
              "              style=\"display:none;\">\n",
              "        \n",
              "  <svg xmlns=\"http://www.w3.org/2000/svg\" height=\"24px\"viewBox=\"0 0 24 24\"\n",
              "       width=\"24px\">\n",
              "    <path d=\"M0 0h24v24H0V0z\" fill=\"none\"/>\n",
              "    <path d=\"M18.56 5.44l.94 2.06.94-2.06 2.06-.94-2.06-.94-.94-2.06-.94 2.06-2.06.94zm-11 1L8.5 8.5l.94-2.06 2.06-.94-2.06-.94L8.5 2.5l-.94 2.06-2.06.94zm10 10l.94 2.06.94-2.06 2.06-.94-2.06-.94-.94-2.06-.94 2.06-2.06.94z\"/><path d=\"M17.41 7.96l-1.37-1.37c-.4-.4-.92-.59-1.43-.59-.52 0-1.04.2-1.43.59L10.3 9.45l-7.72 7.72c-.78.78-.78 2.05 0 2.83L4 21.41c.39.39.9.59 1.41.59.51 0 1.02-.2 1.41-.59l7.78-7.78 2.81-2.81c.8-.78.8-2.07 0-2.86zM5.41 20L4 18.59l7.72-7.72 1.47 1.35L5.41 20z\"/>\n",
              "  </svg>\n",
              "      </button>\n",
              "      \n",
              "  <style>\n",
              "    .colab-df-container {\n",
              "      display:flex;\n",
              "      flex-wrap:wrap;\n",
              "      gap: 12px;\n",
              "    }\n",
              "\n",
              "    .colab-df-convert {\n",
              "      background-color: #E8F0FE;\n",
              "      border: none;\n",
              "      border-radius: 50%;\n",
              "      cursor: pointer;\n",
              "      display: none;\n",
              "      fill: #1967D2;\n",
              "      height: 32px;\n",
              "      padding: 0 0 0 0;\n",
              "      width: 32px;\n",
              "    }\n",
              "\n",
              "    .colab-df-convert:hover {\n",
              "      background-color: #E2EBFA;\n",
              "      box-shadow: 0px 1px 2px rgba(60, 64, 67, 0.3), 0px 1px 3px 1px rgba(60, 64, 67, 0.15);\n",
              "      fill: #174EA6;\n",
              "    }\n",
              "\n",
              "    [theme=dark] .colab-df-convert {\n",
              "      background-color: #3B4455;\n",
              "      fill: #D2E3FC;\n",
              "    }\n",
              "\n",
              "    [theme=dark] .colab-df-convert:hover {\n",
              "      background-color: #434B5C;\n",
              "      box-shadow: 0px 1px 3px 1px rgba(0, 0, 0, 0.15);\n",
              "      filter: drop-shadow(0px 1px 2px rgba(0, 0, 0, 0.3));\n",
              "      fill: #FFFFFF;\n",
              "    }\n",
              "  </style>\n",
              "\n",
              "      <script>\n",
              "        const buttonEl =\n",
              "          document.querySelector('#df-9aaa0926-fbeb-4c18-9fa2-5d931799440b button.colab-df-convert');\n",
              "        buttonEl.style.display =\n",
              "          google.colab.kernel.accessAllowed ? 'block' : 'none';\n",
              "\n",
              "        async function convertToInteractive(key) {\n",
              "          const element = document.querySelector('#df-9aaa0926-fbeb-4c18-9fa2-5d931799440b');\n",
              "          const dataTable =\n",
              "            await google.colab.kernel.invokeFunction('convertToInteractive',\n",
              "                                                     [key], {});\n",
              "          if (!dataTable) return;\n",
              "\n",
              "          const docLinkHtml = 'Like what you see? Visit the ' +\n",
              "            '<a target=\"_blank\" href=https://colab.research.google.com/notebooks/data_table.ipynb>data table notebook</a>'\n",
              "            + ' to learn more about interactive tables.';\n",
              "          element.innerHTML = '';\n",
              "          dataTable['output_type'] = 'display_data';\n",
              "          await google.colab.output.renderOutput(dataTable, element);\n",
              "          const docLink = document.createElement('div');\n",
              "          docLink.innerHTML = docLinkHtml;\n",
              "          element.appendChild(docLink);\n",
              "        }\n",
              "      </script>\n",
              "    </div>\n",
              "  </div>\n",
              "  "
            ]
          },
          "metadata": {},
          "execution_count": 6
        }
      ]
    },
    {
      "cell_type": "code",
      "source": [
        "df.dtypes"
      ],
      "metadata": {
        "colab": {
          "base_uri": "https://localhost:8080/"
        },
        "id": "sFRb6KjIJAIX",
        "outputId": "cb61f6e4-045c-4c19-d45e-0a8837c3d555"
      },
      "execution_count": 7,
      "outputs": [
        {
          "output_type": "execute_result",
          "data": {
            "text/plain": [
              "customerid           object\n",
              "gender               object\n",
              "seniorcitizen         int64\n",
              "partner              object\n",
              "dependents           object\n",
              "tenure                int64\n",
              "phoneservice         object\n",
              "multiplelines        object\n",
              "internetservice      object\n",
              "onlinesecurity       object\n",
              "onlinebackup         object\n",
              "deviceprotection     object\n",
              "techsupport          object\n",
              "streamingtv          object\n",
              "streamingmovies      object\n",
              "contract             object\n",
              "paperlessbilling     object\n",
              "paymentmethod        object\n",
              "monthlycharges      float64\n",
              "totalcharges         object\n",
              "churn                object\n",
              "dtype: object"
            ]
          },
          "metadata": {},
          "execution_count": 7
        }
      ]
    },
    {
      "cell_type": "markdown",
      "source": [
        "* You can see a few interesting things here so first of all this senior citizen is a number, not a sting like not yes or no like in other cases it's an integer so it has values 0/1. so these total charges its an object, so it should be a number"
      ],
      "metadata": {
        "id": "6Pvx8cJgG0zx"
      }
    },
    {
      "cell_type": "code",
      "source": [
        "df.totalcharges"
      ],
      "metadata": {
        "colab": {
          "base_uri": "https://localhost:8080/"
        },
        "id": "StbSIe0YImzh",
        "outputId": "58b20a66-a342-4708-871f-62058819acf7"
      },
      "execution_count": 9,
      "outputs": [
        {
          "output_type": "execute_result",
          "data": {
            "text/plain": [
              "0         29.85\n",
              "1        1889.5\n",
              "2        108.15\n",
              "3       1840.75\n",
              "4        151.65\n",
              "         ...   \n",
              "7038     1990.5\n",
              "7039     7362.9\n",
              "7040     346.45\n",
              "7041      306.6\n",
              "7042     6844.5\n",
              "Name: totalcharges, Length: 7043, dtype: object"
            ]
          },
          "metadata": {},
          "execution_count": 9
        }
      ]
    },
    {
      "cell_type": "code",
      "source": [
        "pd.to_numeric(df.totalcharges)"
      ],
      "metadata": {
        "colab": {
          "base_uri": "https://localhost:8080/",
          "height": 300
        },
        "id": "B4PV7-XnIs3D",
        "outputId": "cc753a3b-6407-4af2-bc15-f26048a11ca4"
      },
      "execution_count": 10,
      "outputs": [
        {
          "output_type": "error",
          "ename": "ValueError",
          "evalue": "ignored",
          "traceback": [
            "\u001b[0;31m---------------------------------------------------------------------------\u001b[0m",
            "\u001b[0;31mValueError\u001b[0m                                Traceback (most recent call last)",
            "\u001b[0;32m/usr/local/lib/python3.7/dist-packages/pandas/_libs/lib.pyx\u001b[0m in \u001b[0;36mpandas._libs.lib.maybe_convert_numeric\u001b[0;34m()\u001b[0m\n",
            "\u001b[0;31mValueError\u001b[0m: Unable to parse string \"_\"",
            "\nDuring handling of the above exception, another exception occurred:\n",
            "\u001b[0;31mValueError\u001b[0m                                Traceback (most recent call last)",
            "\u001b[0;32m<ipython-input-10-d99910e471df>\u001b[0m in \u001b[0;36m<module>\u001b[0;34m\u001b[0m\n\u001b[0;32m----> 1\u001b[0;31m \u001b[0mpd\u001b[0m\u001b[0;34m.\u001b[0m\u001b[0mto_numeric\u001b[0m\u001b[0;34m(\u001b[0m\u001b[0mdf\u001b[0m\u001b[0;34m.\u001b[0m\u001b[0mtotalcharges\u001b[0m\u001b[0;34m)\u001b[0m\u001b[0;34m\u001b[0m\u001b[0;34m\u001b[0m\u001b[0m\n\u001b[0m",
            "\u001b[0;32m/usr/local/lib/python3.7/dist-packages/pandas/core/tools/numeric.py\u001b[0m in \u001b[0;36mto_numeric\u001b[0;34m(arg, errors, downcast)\u001b[0m\n\u001b[1;32m    182\u001b[0m         \u001b[0;32mtry\u001b[0m\u001b[0;34m:\u001b[0m\u001b[0;34m\u001b[0m\u001b[0;34m\u001b[0m\u001b[0m\n\u001b[1;32m    183\u001b[0m             values, _ = lib.maybe_convert_numeric(\n\u001b[0;32m--> 184\u001b[0;31m                 \u001b[0mvalues\u001b[0m\u001b[0;34m,\u001b[0m \u001b[0mset\u001b[0m\u001b[0;34m(\u001b[0m\u001b[0;34m)\u001b[0m\u001b[0;34m,\u001b[0m \u001b[0mcoerce_numeric\u001b[0m\u001b[0;34m=\u001b[0m\u001b[0mcoerce_numeric\u001b[0m\u001b[0;34m\u001b[0m\u001b[0;34m\u001b[0m\u001b[0m\n\u001b[0m\u001b[1;32m    185\u001b[0m             )\n\u001b[1;32m    186\u001b[0m         \u001b[0;32mexcept\u001b[0m \u001b[0;34m(\u001b[0m\u001b[0mValueError\u001b[0m\u001b[0;34m,\u001b[0m \u001b[0mTypeError\u001b[0m\u001b[0;34m)\u001b[0m\u001b[0;34m:\u001b[0m\u001b[0;34m\u001b[0m\u001b[0;34m\u001b[0m\u001b[0m\n",
            "\u001b[0;32m/usr/local/lib/python3.7/dist-packages/pandas/_libs/lib.pyx\u001b[0m in \u001b[0;36mpandas._libs.lib.maybe_convert_numeric\u001b[0;34m()\u001b[0m\n",
            "\u001b[0;31mValueError\u001b[0m: Unable to parse string \"_\" at position 488"
          ]
        }
      ]
    },
    {
      "cell_type": "code",
      "source": [
        "pd.to_numeric(df.totalcharges,errors='coerce')"
      ],
      "metadata": {
        "colab": {
          "base_uri": "https://localhost:8080/"
        },
        "id": "eB-17oLoOYcZ",
        "outputId": "4dd5dff7-7f20-4df8-ff2c-556d2db92fa9"
      },
      "execution_count": 11,
      "outputs": [
        {
          "output_type": "execute_result",
          "data": {
            "text/plain": [
              "0         29.85\n",
              "1       1889.50\n",
              "2        108.15\n",
              "3       1840.75\n",
              "4        151.65\n",
              "         ...   \n",
              "7038    1990.50\n",
              "7039    7362.90\n",
              "7040     346.45\n",
              "7041     306.60\n",
              "7042    6844.50\n",
              "Name: totalcharges, Length: 7043, dtype: float64"
            ]
          },
          "metadata": {},
          "execution_count": 11
        }
      ]
    },
    {
      "cell_type": "markdown",
      "source": [
        "* Then we convert the number function pandas called two numeric which takes in a series and produces it and tries to convert it.\n",
        "* Convert it and you see that it complains that it **unable to parse string underscore \"_\"**  at this position so here it means that it doesn't just contains numbers it also contains things that aren't numbers and the reasons for that is in this dataset, space means  not available so the data is missing they denote it with a space and we replaces spaces with underscores and that was treated it as a string as an object that's why it replaced all the spaces with underscores now what we can do it we can just, how to parse this the the thing we just replace it with another number and for this is a parameter called error that you say \"coerce\" means ignore them as not a number **tc call it total charges**\n"
      ],
      "metadata": {
        "id": "V-sr8PUbKKp-"
      }
    },
    {
      "cell_type": "code",
      "source": [
        "tc = pd.to_numeric(df.totalcharges, errors='coerce')"
      ],
      "metadata": {
        "id": "9nLEALqF2UAm"
      },
      "execution_count": 12,
      "outputs": []
    },
    {
      "cell_type": "code",
      "source": [
        "tc.isnull().sum()"
      ],
      "metadata": {
        "colab": {
          "base_uri": "https://localhost:8080/"
        },
        "id": "N9Dy8BMSzK07",
        "outputId": "e8347c01-0127-4427-c56a-e825282a4d58"
      },
      "execution_count": 13,
      "outputs": [
        {
          "output_type": "execute_result",
          "data": {
            "text/plain": [
              "11"
            ]
          },
          "metadata": {},
          "execution_count": 13
        }
      ]
    },
    {
      "cell_type": "markdown",
      "source": [
        "* 11 values are missing and we can take a look at what's going on here."
      ],
      "metadata": {
        "id": "s01GE38MKeX7"
      }
    },
    {
      "cell_type": "code",
      "source": [
        "df[tc.isnull()]"
      ],
      "metadata": {
        "colab": {
          "base_uri": "https://localhost:8080/",
          "height": 488
        },
        "id": "HDBhfFw_0OJI",
        "outputId": "2428e32d-9e70-448f-8a3f-781152b915ca"
      },
      "execution_count": 14,
      "outputs": [
        {
          "output_type": "execute_result",
          "data": {
            "text/plain": [
              "      customerid  gender  seniorcitizen partner dependents  tenure  \\\n",
              "488   4472-lvygi  female              0     yes        yes       0   \n",
              "753   3115-czmzd    male              0      no        yes       0   \n",
              "936   5709-lvoeq  female              0     yes        yes       0   \n",
              "1082  4367-nuyao    male              0     yes        yes       0   \n",
              "1340  1371-dwpaz  female              0     yes        yes       0   \n",
              "3331  7644-omvmy    male              0     yes        yes       0   \n",
              "3826  3213-vvolg    male              0     yes        yes       0   \n",
              "4380  2520-sgtta  female              0     yes        yes       0   \n",
              "5218  2923-arzlg    male              0     yes        yes       0   \n",
              "6670  4075-wkniu  female              0     yes        yes       0   \n",
              "6754  2775-sefee    male              0      no        yes       0   \n",
              "\n",
              "     phoneservice     multiplelines internetservice       onlinesecurity  ...  \\\n",
              "488            no  no_phone_service             dsl                  yes  ...   \n",
              "753           yes                no              no  no_internet_service  ...   \n",
              "936           yes                no             dsl                  yes  ...   \n",
              "1082          yes               yes              no  no_internet_service  ...   \n",
              "1340           no  no_phone_service             dsl                  yes  ...   \n",
              "3331          yes                no              no  no_internet_service  ...   \n",
              "3826          yes               yes              no  no_internet_service  ...   \n",
              "4380          yes                no              no  no_internet_service  ...   \n",
              "5218          yes                no              no  no_internet_service  ...   \n",
              "6670          yes               yes             dsl                   no  ...   \n",
              "6754          yes               yes             dsl                  yes  ...   \n",
              "\n",
              "         deviceprotection          techsupport          streamingtv  \\\n",
              "488                   yes                  yes                  yes   \n",
              "753   no_internet_service  no_internet_service  no_internet_service   \n",
              "936                   yes                   no                  yes   \n",
              "1082  no_internet_service  no_internet_service  no_internet_service   \n",
              "1340                  yes                  yes                  yes   \n",
              "3331  no_internet_service  no_internet_service  no_internet_service   \n",
              "3826  no_internet_service  no_internet_service  no_internet_service   \n",
              "4380  no_internet_service  no_internet_service  no_internet_service   \n",
              "5218  no_internet_service  no_internet_service  no_internet_service   \n",
              "6670                  yes                  yes                  yes   \n",
              "6754                   no                  yes                   no   \n",
              "\n",
              "          streamingmovies  contract paperlessbilling  \\\n",
              "488                    no  two_year              yes   \n",
              "753   no_internet_service  two_year               no   \n",
              "936                   yes  two_year               no   \n",
              "1082  no_internet_service  two_year               no   \n",
              "1340                   no  two_year               no   \n",
              "3331  no_internet_service  two_year               no   \n",
              "3826  no_internet_service  two_year               no   \n",
              "4380  no_internet_service  two_year               no   \n",
              "5218  no_internet_service  one_year              yes   \n",
              "6670                   no  two_year               no   \n",
              "6754                   no  two_year              yes   \n",
              "\n",
              "                  paymentmethod monthlycharges  totalcharges churn  \n",
              "488   bank_transfer_(automatic)          52.55             _    no  \n",
              "753                mailed_check          20.25             _    no  \n",
              "936                mailed_check          80.85             _    no  \n",
              "1082               mailed_check          25.75             _    no  \n",
              "1340    credit_card_(automatic)          56.05             _    no  \n",
              "3331               mailed_check          19.85             _    no  \n",
              "3826               mailed_check          25.35             _    no  \n",
              "4380               mailed_check          20.00             _    no  \n",
              "5218               mailed_check          19.70             _    no  \n",
              "6670               mailed_check          73.35             _    no  \n",
              "6754  bank_transfer_(automatic)          61.90             _    no  \n",
              "\n",
              "[11 rows x 21 columns]"
            ],
            "text/html": [
              "\n",
              "  <div id=\"df-2ffa1b1b-cbca-4fd4-ac9a-36efbcd0e299\">\n",
              "    <div class=\"colab-df-container\">\n",
              "      <div>\n",
              "<style scoped>\n",
              "    .dataframe tbody tr th:only-of-type {\n",
              "        vertical-align: middle;\n",
              "    }\n",
              "\n",
              "    .dataframe tbody tr th {\n",
              "        vertical-align: top;\n",
              "    }\n",
              "\n",
              "    .dataframe thead th {\n",
              "        text-align: right;\n",
              "    }\n",
              "</style>\n",
              "<table border=\"1\" class=\"dataframe\">\n",
              "  <thead>\n",
              "    <tr style=\"text-align: right;\">\n",
              "      <th></th>\n",
              "      <th>customerid</th>\n",
              "      <th>gender</th>\n",
              "      <th>seniorcitizen</th>\n",
              "      <th>partner</th>\n",
              "      <th>dependents</th>\n",
              "      <th>tenure</th>\n",
              "      <th>phoneservice</th>\n",
              "      <th>multiplelines</th>\n",
              "      <th>internetservice</th>\n",
              "      <th>onlinesecurity</th>\n",
              "      <th>...</th>\n",
              "      <th>deviceprotection</th>\n",
              "      <th>techsupport</th>\n",
              "      <th>streamingtv</th>\n",
              "      <th>streamingmovies</th>\n",
              "      <th>contract</th>\n",
              "      <th>paperlessbilling</th>\n",
              "      <th>paymentmethod</th>\n",
              "      <th>monthlycharges</th>\n",
              "      <th>totalcharges</th>\n",
              "      <th>churn</th>\n",
              "    </tr>\n",
              "  </thead>\n",
              "  <tbody>\n",
              "    <tr>\n",
              "      <th>488</th>\n",
              "      <td>4472-lvygi</td>\n",
              "      <td>female</td>\n",
              "      <td>0</td>\n",
              "      <td>yes</td>\n",
              "      <td>yes</td>\n",
              "      <td>0</td>\n",
              "      <td>no</td>\n",
              "      <td>no_phone_service</td>\n",
              "      <td>dsl</td>\n",
              "      <td>yes</td>\n",
              "      <td>...</td>\n",
              "      <td>yes</td>\n",
              "      <td>yes</td>\n",
              "      <td>yes</td>\n",
              "      <td>no</td>\n",
              "      <td>two_year</td>\n",
              "      <td>yes</td>\n",
              "      <td>bank_transfer_(automatic)</td>\n",
              "      <td>52.55</td>\n",
              "      <td>_</td>\n",
              "      <td>no</td>\n",
              "    </tr>\n",
              "    <tr>\n",
              "      <th>753</th>\n",
              "      <td>3115-czmzd</td>\n",
              "      <td>male</td>\n",
              "      <td>0</td>\n",
              "      <td>no</td>\n",
              "      <td>yes</td>\n",
              "      <td>0</td>\n",
              "      <td>yes</td>\n",
              "      <td>no</td>\n",
              "      <td>no</td>\n",
              "      <td>no_internet_service</td>\n",
              "      <td>...</td>\n",
              "      <td>no_internet_service</td>\n",
              "      <td>no_internet_service</td>\n",
              "      <td>no_internet_service</td>\n",
              "      <td>no_internet_service</td>\n",
              "      <td>two_year</td>\n",
              "      <td>no</td>\n",
              "      <td>mailed_check</td>\n",
              "      <td>20.25</td>\n",
              "      <td>_</td>\n",
              "      <td>no</td>\n",
              "    </tr>\n",
              "    <tr>\n",
              "      <th>936</th>\n",
              "      <td>5709-lvoeq</td>\n",
              "      <td>female</td>\n",
              "      <td>0</td>\n",
              "      <td>yes</td>\n",
              "      <td>yes</td>\n",
              "      <td>0</td>\n",
              "      <td>yes</td>\n",
              "      <td>no</td>\n",
              "      <td>dsl</td>\n",
              "      <td>yes</td>\n",
              "      <td>...</td>\n",
              "      <td>yes</td>\n",
              "      <td>no</td>\n",
              "      <td>yes</td>\n",
              "      <td>yes</td>\n",
              "      <td>two_year</td>\n",
              "      <td>no</td>\n",
              "      <td>mailed_check</td>\n",
              "      <td>80.85</td>\n",
              "      <td>_</td>\n",
              "      <td>no</td>\n",
              "    </tr>\n",
              "    <tr>\n",
              "      <th>1082</th>\n",
              "      <td>4367-nuyao</td>\n",
              "      <td>male</td>\n",
              "      <td>0</td>\n",
              "      <td>yes</td>\n",
              "      <td>yes</td>\n",
              "      <td>0</td>\n",
              "      <td>yes</td>\n",
              "      <td>yes</td>\n",
              "      <td>no</td>\n",
              "      <td>no_internet_service</td>\n",
              "      <td>...</td>\n",
              "      <td>no_internet_service</td>\n",
              "      <td>no_internet_service</td>\n",
              "      <td>no_internet_service</td>\n",
              "      <td>no_internet_service</td>\n",
              "      <td>two_year</td>\n",
              "      <td>no</td>\n",
              "      <td>mailed_check</td>\n",
              "      <td>25.75</td>\n",
              "      <td>_</td>\n",
              "      <td>no</td>\n",
              "    </tr>\n",
              "    <tr>\n",
              "      <th>1340</th>\n",
              "      <td>1371-dwpaz</td>\n",
              "      <td>female</td>\n",
              "      <td>0</td>\n",
              "      <td>yes</td>\n",
              "      <td>yes</td>\n",
              "      <td>0</td>\n",
              "      <td>no</td>\n",
              "      <td>no_phone_service</td>\n",
              "      <td>dsl</td>\n",
              "      <td>yes</td>\n",
              "      <td>...</td>\n",
              "      <td>yes</td>\n",
              "      <td>yes</td>\n",
              "      <td>yes</td>\n",
              "      <td>no</td>\n",
              "      <td>two_year</td>\n",
              "      <td>no</td>\n",
              "      <td>credit_card_(automatic)</td>\n",
              "      <td>56.05</td>\n",
              "      <td>_</td>\n",
              "      <td>no</td>\n",
              "    </tr>\n",
              "    <tr>\n",
              "      <th>3331</th>\n",
              "      <td>7644-omvmy</td>\n",
              "      <td>male</td>\n",
              "      <td>0</td>\n",
              "      <td>yes</td>\n",
              "      <td>yes</td>\n",
              "      <td>0</td>\n",
              "      <td>yes</td>\n",
              "      <td>no</td>\n",
              "      <td>no</td>\n",
              "      <td>no_internet_service</td>\n",
              "      <td>...</td>\n",
              "      <td>no_internet_service</td>\n",
              "      <td>no_internet_service</td>\n",
              "      <td>no_internet_service</td>\n",
              "      <td>no_internet_service</td>\n",
              "      <td>two_year</td>\n",
              "      <td>no</td>\n",
              "      <td>mailed_check</td>\n",
              "      <td>19.85</td>\n",
              "      <td>_</td>\n",
              "      <td>no</td>\n",
              "    </tr>\n",
              "    <tr>\n",
              "      <th>3826</th>\n",
              "      <td>3213-vvolg</td>\n",
              "      <td>male</td>\n",
              "      <td>0</td>\n",
              "      <td>yes</td>\n",
              "      <td>yes</td>\n",
              "      <td>0</td>\n",
              "      <td>yes</td>\n",
              "      <td>yes</td>\n",
              "      <td>no</td>\n",
              "      <td>no_internet_service</td>\n",
              "      <td>...</td>\n",
              "      <td>no_internet_service</td>\n",
              "      <td>no_internet_service</td>\n",
              "      <td>no_internet_service</td>\n",
              "      <td>no_internet_service</td>\n",
              "      <td>two_year</td>\n",
              "      <td>no</td>\n",
              "      <td>mailed_check</td>\n",
              "      <td>25.35</td>\n",
              "      <td>_</td>\n",
              "      <td>no</td>\n",
              "    </tr>\n",
              "    <tr>\n",
              "      <th>4380</th>\n",
              "      <td>2520-sgtta</td>\n",
              "      <td>female</td>\n",
              "      <td>0</td>\n",
              "      <td>yes</td>\n",
              "      <td>yes</td>\n",
              "      <td>0</td>\n",
              "      <td>yes</td>\n",
              "      <td>no</td>\n",
              "      <td>no</td>\n",
              "      <td>no_internet_service</td>\n",
              "      <td>...</td>\n",
              "      <td>no_internet_service</td>\n",
              "      <td>no_internet_service</td>\n",
              "      <td>no_internet_service</td>\n",
              "      <td>no_internet_service</td>\n",
              "      <td>two_year</td>\n",
              "      <td>no</td>\n",
              "      <td>mailed_check</td>\n",
              "      <td>20.00</td>\n",
              "      <td>_</td>\n",
              "      <td>no</td>\n",
              "    </tr>\n",
              "    <tr>\n",
              "      <th>5218</th>\n",
              "      <td>2923-arzlg</td>\n",
              "      <td>male</td>\n",
              "      <td>0</td>\n",
              "      <td>yes</td>\n",
              "      <td>yes</td>\n",
              "      <td>0</td>\n",
              "      <td>yes</td>\n",
              "      <td>no</td>\n",
              "      <td>no</td>\n",
              "      <td>no_internet_service</td>\n",
              "      <td>...</td>\n",
              "      <td>no_internet_service</td>\n",
              "      <td>no_internet_service</td>\n",
              "      <td>no_internet_service</td>\n",
              "      <td>no_internet_service</td>\n",
              "      <td>one_year</td>\n",
              "      <td>yes</td>\n",
              "      <td>mailed_check</td>\n",
              "      <td>19.70</td>\n",
              "      <td>_</td>\n",
              "      <td>no</td>\n",
              "    </tr>\n",
              "    <tr>\n",
              "      <th>6670</th>\n",
              "      <td>4075-wkniu</td>\n",
              "      <td>female</td>\n",
              "      <td>0</td>\n",
              "      <td>yes</td>\n",
              "      <td>yes</td>\n",
              "      <td>0</td>\n",
              "      <td>yes</td>\n",
              "      <td>yes</td>\n",
              "      <td>dsl</td>\n",
              "      <td>no</td>\n",
              "      <td>...</td>\n",
              "      <td>yes</td>\n",
              "      <td>yes</td>\n",
              "      <td>yes</td>\n",
              "      <td>no</td>\n",
              "      <td>two_year</td>\n",
              "      <td>no</td>\n",
              "      <td>mailed_check</td>\n",
              "      <td>73.35</td>\n",
              "      <td>_</td>\n",
              "      <td>no</td>\n",
              "    </tr>\n",
              "    <tr>\n",
              "      <th>6754</th>\n",
              "      <td>2775-sefee</td>\n",
              "      <td>male</td>\n",
              "      <td>0</td>\n",
              "      <td>no</td>\n",
              "      <td>yes</td>\n",
              "      <td>0</td>\n",
              "      <td>yes</td>\n",
              "      <td>yes</td>\n",
              "      <td>dsl</td>\n",
              "      <td>yes</td>\n",
              "      <td>...</td>\n",
              "      <td>no</td>\n",
              "      <td>yes</td>\n",
              "      <td>no</td>\n",
              "      <td>no</td>\n",
              "      <td>two_year</td>\n",
              "      <td>yes</td>\n",
              "      <td>bank_transfer_(automatic)</td>\n",
              "      <td>61.90</td>\n",
              "      <td>_</td>\n",
              "      <td>no</td>\n",
              "    </tr>\n",
              "  </tbody>\n",
              "</table>\n",
              "<p>11 rows × 21 columns</p>\n",
              "</div>\n",
              "      <button class=\"colab-df-convert\" onclick=\"convertToInteractive('df-2ffa1b1b-cbca-4fd4-ac9a-36efbcd0e299')\"\n",
              "              title=\"Convert this dataframe to an interactive table.\"\n",
              "              style=\"display:none;\">\n",
              "        \n",
              "  <svg xmlns=\"http://www.w3.org/2000/svg\" height=\"24px\"viewBox=\"0 0 24 24\"\n",
              "       width=\"24px\">\n",
              "    <path d=\"M0 0h24v24H0V0z\" fill=\"none\"/>\n",
              "    <path d=\"M18.56 5.44l.94 2.06.94-2.06 2.06-.94-2.06-.94-.94-2.06-.94 2.06-2.06.94zm-11 1L8.5 8.5l.94-2.06 2.06-.94-2.06-.94L8.5 2.5l-.94 2.06-2.06.94zm10 10l.94 2.06.94-2.06 2.06-.94-2.06-.94-.94-2.06-.94 2.06-2.06.94z\"/><path d=\"M17.41 7.96l-1.37-1.37c-.4-.4-.92-.59-1.43-.59-.52 0-1.04.2-1.43.59L10.3 9.45l-7.72 7.72c-.78.78-.78 2.05 0 2.83L4 21.41c.39.39.9.59 1.41.59.51 0 1.02-.2 1.41-.59l7.78-7.78 2.81-2.81c.8-.78.8-2.07 0-2.86zM5.41 20L4 18.59l7.72-7.72 1.47 1.35L5.41 20z\"/>\n",
              "  </svg>\n",
              "      </button>\n",
              "      \n",
              "  <style>\n",
              "    .colab-df-container {\n",
              "      display:flex;\n",
              "      flex-wrap:wrap;\n",
              "      gap: 12px;\n",
              "    }\n",
              "\n",
              "    .colab-df-convert {\n",
              "      background-color: #E8F0FE;\n",
              "      border: none;\n",
              "      border-radius: 50%;\n",
              "      cursor: pointer;\n",
              "      display: none;\n",
              "      fill: #1967D2;\n",
              "      height: 32px;\n",
              "      padding: 0 0 0 0;\n",
              "      width: 32px;\n",
              "    }\n",
              "\n",
              "    .colab-df-convert:hover {\n",
              "      background-color: #E2EBFA;\n",
              "      box-shadow: 0px 1px 2px rgba(60, 64, 67, 0.3), 0px 1px 3px 1px rgba(60, 64, 67, 0.15);\n",
              "      fill: #174EA6;\n",
              "    }\n",
              "\n",
              "    [theme=dark] .colab-df-convert {\n",
              "      background-color: #3B4455;\n",
              "      fill: #D2E3FC;\n",
              "    }\n",
              "\n",
              "    [theme=dark] .colab-df-convert:hover {\n",
              "      background-color: #434B5C;\n",
              "      box-shadow: 0px 1px 3px 1px rgba(0, 0, 0, 0.15);\n",
              "      filter: drop-shadow(0px 1px 2px rgba(0, 0, 0, 0.3));\n",
              "      fill: #FFFFFF;\n",
              "    }\n",
              "  </style>\n",
              "\n",
              "      <script>\n",
              "        const buttonEl =\n",
              "          document.querySelector('#df-2ffa1b1b-cbca-4fd4-ac9a-36efbcd0e299 button.colab-df-convert');\n",
              "        buttonEl.style.display =\n",
              "          google.colab.kernel.accessAllowed ? 'block' : 'none';\n",
              "\n",
              "        async function convertToInteractive(key) {\n",
              "          const element = document.querySelector('#df-2ffa1b1b-cbca-4fd4-ac9a-36efbcd0e299');\n",
              "          const dataTable =\n",
              "            await google.colab.kernel.invokeFunction('convertToInteractive',\n",
              "                                                     [key], {});\n",
              "          if (!dataTable) return;\n",
              "\n",
              "          const docLinkHtml = 'Like what you see? Visit the ' +\n",
              "            '<a target=\"_blank\" href=https://colab.research.google.com/notebooks/data_table.ipynb>data table notebook</a>'\n",
              "            + ' to learn more about interactive tables.';\n",
              "          element.innerHTML = '';\n",
              "          dataTable['output_type'] = 'display_data';\n",
              "          await google.colab.output.renderOutput(dataTable, element);\n",
              "          const docLink = document.createElement('div');\n",
              "          docLink.innerHTML = docLinkHtml;\n",
              "          element.appendChild(docLink);\n",
              "        }\n",
              "      </script>\n",
              "    </div>\n",
              "  </div>\n",
              "  "
            ]
          },
          "metadata": {},
          "execution_count": 14
        }
      ]
    },
    {
      "cell_type": "code",
      "source": [
        "df[tc.isnull()][['customerid','totalcharges']]"
      ],
      "metadata": {
        "colab": {
          "base_uri": "https://localhost:8080/",
          "height": 394
        },
        "id": "qQ7YzNG90apy",
        "outputId": "56df7488-31f7-468a-cdce-6ac4a29d3785"
      },
      "execution_count": 15,
      "outputs": [
        {
          "output_type": "execute_result",
          "data": {
            "text/plain": [
              "      customerid totalcharges\n",
              "488   4472-lvygi            _\n",
              "753   3115-czmzd            _\n",
              "936   5709-lvoeq            _\n",
              "1082  4367-nuyao            _\n",
              "1340  1371-dwpaz            _\n",
              "3331  7644-omvmy            _\n",
              "3826  3213-vvolg            _\n",
              "4380  2520-sgtta            _\n",
              "5218  2923-arzlg            _\n",
              "6670  4075-wkniu            _\n",
              "6754  2775-sefee            _"
            ],
            "text/html": [
              "\n",
              "  <div id=\"df-b92256bc-f8be-4013-8516-388b96b8813a\">\n",
              "    <div class=\"colab-df-container\">\n",
              "      <div>\n",
              "<style scoped>\n",
              "    .dataframe tbody tr th:only-of-type {\n",
              "        vertical-align: middle;\n",
              "    }\n",
              "\n",
              "    .dataframe tbody tr th {\n",
              "        vertical-align: top;\n",
              "    }\n",
              "\n",
              "    .dataframe thead th {\n",
              "        text-align: right;\n",
              "    }\n",
              "</style>\n",
              "<table border=\"1\" class=\"dataframe\">\n",
              "  <thead>\n",
              "    <tr style=\"text-align: right;\">\n",
              "      <th></th>\n",
              "      <th>customerid</th>\n",
              "      <th>totalcharges</th>\n",
              "    </tr>\n",
              "  </thead>\n",
              "  <tbody>\n",
              "    <tr>\n",
              "      <th>488</th>\n",
              "      <td>4472-lvygi</td>\n",
              "      <td>_</td>\n",
              "    </tr>\n",
              "    <tr>\n",
              "      <th>753</th>\n",
              "      <td>3115-czmzd</td>\n",
              "      <td>_</td>\n",
              "    </tr>\n",
              "    <tr>\n",
              "      <th>936</th>\n",
              "      <td>5709-lvoeq</td>\n",
              "      <td>_</td>\n",
              "    </tr>\n",
              "    <tr>\n",
              "      <th>1082</th>\n",
              "      <td>4367-nuyao</td>\n",
              "      <td>_</td>\n",
              "    </tr>\n",
              "    <tr>\n",
              "      <th>1340</th>\n",
              "      <td>1371-dwpaz</td>\n",
              "      <td>_</td>\n",
              "    </tr>\n",
              "    <tr>\n",
              "      <th>3331</th>\n",
              "      <td>7644-omvmy</td>\n",
              "      <td>_</td>\n",
              "    </tr>\n",
              "    <tr>\n",
              "      <th>3826</th>\n",
              "      <td>3213-vvolg</td>\n",
              "      <td>_</td>\n",
              "    </tr>\n",
              "    <tr>\n",
              "      <th>4380</th>\n",
              "      <td>2520-sgtta</td>\n",
              "      <td>_</td>\n",
              "    </tr>\n",
              "    <tr>\n",
              "      <th>5218</th>\n",
              "      <td>2923-arzlg</td>\n",
              "      <td>_</td>\n",
              "    </tr>\n",
              "    <tr>\n",
              "      <th>6670</th>\n",
              "      <td>4075-wkniu</td>\n",
              "      <td>_</td>\n",
              "    </tr>\n",
              "    <tr>\n",
              "      <th>6754</th>\n",
              "      <td>2775-sefee</td>\n",
              "      <td>_</td>\n",
              "    </tr>\n",
              "  </tbody>\n",
              "</table>\n",
              "</div>\n",
              "      <button class=\"colab-df-convert\" onclick=\"convertToInteractive('df-b92256bc-f8be-4013-8516-388b96b8813a')\"\n",
              "              title=\"Convert this dataframe to an interactive table.\"\n",
              "              style=\"display:none;\">\n",
              "        \n",
              "  <svg xmlns=\"http://www.w3.org/2000/svg\" height=\"24px\"viewBox=\"0 0 24 24\"\n",
              "       width=\"24px\">\n",
              "    <path d=\"M0 0h24v24H0V0z\" fill=\"none\"/>\n",
              "    <path d=\"M18.56 5.44l.94 2.06.94-2.06 2.06-.94-2.06-.94-.94-2.06-.94 2.06-2.06.94zm-11 1L8.5 8.5l.94-2.06 2.06-.94-2.06-.94L8.5 2.5l-.94 2.06-2.06.94zm10 10l.94 2.06.94-2.06 2.06-.94-2.06-.94-.94-2.06-.94 2.06-2.06.94z\"/><path d=\"M17.41 7.96l-1.37-1.37c-.4-.4-.92-.59-1.43-.59-.52 0-1.04.2-1.43.59L10.3 9.45l-7.72 7.72c-.78.78-.78 2.05 0 2.83L4 21.41c.39.39.9.59 1.41.59.51 0 1.02-.2 1.41-.59l7.78-7.78 2.81-2.81c.8-.78.8-2.07 0-2.86zM5.41 20L4 18.59l7.72-7.72 1.47 1.35L5.41 20z\"/>\n",
              "  </svg>\n",
              "      </button>\n",
              "      \n",
              "  <style>\n",
              "    .colab-df-container {\n",
              "      display:flex;\n",
              "      flex-wrap:wrap;\n",
              "      gap: 12px;\n",
              "    }\n",
              "\n",
              "    .colab-df-convert {\n",
              "      background-color: #E8F0FE;\n",
              "      border: none;\n",
              "      border-radius: 50%;\n",
              "      cursor: pointer;\n",
              "      display: none;\n",
              "      fill: #1967D2;\n",
              "      height: 32px;\n",
              "      padding: 0 0 0 0;\n",
              "      width: 32px;\n",
              "    }\n",
              "\n",
              "    .colab-df-convert:hover {\n",
              "      background-color: #E2EBFA;\n",
              "      box-shadow: 0px 1px 2px rgba(60, 64, 67, 0.3), 0px 1px 3px 1px rgba(60, 64, 67, 0.15);\n",
              "      fill: #174EA6;\n",
              "    }\n",
              "\n",
              "    [theme=dark] .colab-df-convert {\n",
              "      background-color: #3B4455;\n",
              "      fill: #D2E3FC;\n",
              "    }\n",
              "\n",
              "    [theme=dark] .colab-df-convert:hover {\n",
              "      background-color: #434B5C;\n",
              "      box-shadow: 0px 1px 3px 1px rgba(0, 0, 0, 0.15);\n",
              "      filter: drop-shadow(0px 1px 2px rgba(0, 0, 0, 0.3));\n",
              "      fill: #FFFFFF;\n",
              "    }\n",
              "  </style>\n",
              "\n",
              "      <script>\n",
              "        const buttonEl =\n",
              "          document.querySelector('#df-b92256bc-f8be-4013-8516-388b96b8813a button.colab-df-convert');\n",
              "        buttonEl.style.display =\n",
              "          google.colab.kernel.accessAllowed ? 'block' : 'none';\n",
              "\n",
              "        async function convertToInteractive(key) {\n",
              "          const element = document.querySelector('#df-b92256bc-f8be-4013-8516-388b96b8813a');\n",
              "          const dataTable =\n",
              "            await google.colab.kernel.invokeFunction('convertToInteractive',\n",
              "                                                     [key], {});\n",
              "          if (!dataTable) return;\n",
              "\n",
              "          const docLinkHtml = 'Like what you see? Visit the ' +\n",
              "            '<a target=\"_blank\" href=https://colab.research.google.com/notebooks/data_table.ipynb>data table notebook</a>'\n",
              "            + ' to learn more about interactive tables.';\n",
              "          element.innerHTML = '';\n",
              "          dataTable['output_type'] = 'display_data';\n",
              "          await google.colab.output.renderOutput(dataTable, element);\n",
              "          const docLink = document.createElement('div');\n",
              "          docLink.innerHTML = docLinkHtml;\n",
              "          element.appendChild(docLink);\n",
              "        }\n",
              "      </script>\n",
              "    </div>\n",
              "  </div>\n",
              "  "
            ]
          },
          "metadata": {},
          "execution_count": 15
        }
      ]
    },
    {
      "cell_type": "markdown",
      "source": [
        "* See let's just look at customerid and total charges we see that indeed for all the customers the value of this total charge is missing so what we want to do is now we just want to replace this column with the converted value\n",
        "* What we can do immediately is if we know that there are missing values we can just fill them with zero"
      ],
      "metadata": {
        "id": "4pnk3wh600Dj"
      }
    },
    {
      "cell_type": "code",
      "source": [
        "df.totalcharges = pd.to_numeric(df.totalcharges, errors='coerce')"
      ],
      "metadata": {
        "id": "nMIAHJc1PIBK"
      },
      "execution_count": 16,
      "outputs": []
    },
    {
      "cell_type": "code",
      "source": [
        "df.totalcharges = df.totalcharges.fillna(0)"
      ],
      "metadata": {
        "id": "TLKAosBD2csW"
      },
      "execution_count": 17,
      "outputs": []
    },
    {
      "cell_type": "code",
      "source": [
        "df.totalcharges"
      ],
      "metadata": {
        "colab": {
          "base_uri": "https://localhost:8080/"
        },
        "id": "lt0TBWxt2Qem",
        "outputId": "cc59ae40-0e67-4ce9-bfb8-1904e11235ad"
      },
      "execution_count": 18,
      "outputs": [
        {
          "output_type": "execute_result",
          "data": {
            "text/plain": [
              "0         29.85\n",
              "1       1889.50\n",
              "2        108.15\n",
              "3       1840.75\n",
              "4        151.65\n",
              "         ...   \n",
              "7038    1990.50\n",
              "7039    7362.90\n",
              "7040     346.45\n",
              "7041     306.60\n",
              "7042    6844.50\n",
              "Name: totalcharges, Length: 7043, dtype: float64"
            ]
          },
          "metadata": {},
          "execution_count": 18
        }
      ]
    },
    {
      "cell_type": "markdown",
      "source": [
        "* Write it back so now all the missing values are zero"
      ],
      "metadata": {
        "id": "xBljNzta2V3k"
      }
    },
    {
      "cell_type": "code",
      "source": [
        "df.churn"
      ],
      "metadata": {
        "colab": {
          "base_uri": "https://localhost:8080/"
        },
        "id": "WRR4EqBW3Fc6",
        "outputId": "cfdf6fd9-6d92-4b92-c9a2-b6600cfa7921"
      },
      "execution_count": 19,
      "outputs": [
        {
          "output_type": "execute_result",
          "data": {
            "text/plain": [
              "0        no\n",
              "1        no\n",
              "2       yes\n",
              "3        no\n",
              "4       yes\n",
              "       ... \n",
              "7038     no\n",
              "7039     no\n",
              "7040     no\n",
              "7041    yes\n",
              "7042     no\n",
              "Name: churn, Length: 7043, dtype: object"
            ]
          },
          "metadata": {},
          "execution_count": 19
        }
      ]
    },
    {
      "cell_type": "markdown",
      "source": [
        "* Have this churn variable which is yes or no machine learning for classification we are interested in not a yes, or no values we are interested in numbers\n",
        "* We need here is zero or one so one is churning positive example and zero is not a negative example so for that we can find all values that are yes"
      ],
      "metadata": {
        "id": "o4VFTqVq2hEU"
      }
    },
    {
      "cell_type": "code",
      "source": [
        "df.churn.head()"
      ],
      "metadata": {
        "id": "a1DJyeW02hM9",
        "colab": {
          "base_uri": "https://localhost:8080/"
        },
        "outputId": "bb4bbe9d-84b7-428e-aec2-707b2631cc4d"
      },
      "execution_count": 20,
      "outputs": [
        {
          "output_type": "execute_result",
          "data": {
            "text/plain": [
              "0     no\n",
              "1     no\n",
              "2    yes\n",
              "3     no\n",
              "4    yes\n",
              "Name: churn, dtype: object"
            ]
          },
          "metadata": {},
          "execution_count": 20
        }
      ]
    },
    {
      "cell_type": "code",
      "source": [
        "(df.churn == 'yes').head()"
      ],
      "metadata": {
        "colab": {
          "base_uri": "https://localhost:8080/"
        },
        "id": "m0n3kafI3V2Y",
        "outputId": "eb4cb748-16e0-43c6-d9cc-033589573ce7"
      },
      "execution_count": 21,
      "outputs": [
        {
          "output_type": "execute_result",
          "data": {
            "text/plain": [
              "0    False\n",
              "1    False\n",
              "2     True\n",
              "3    False\n",
              "4     True\n",
              "Name: churn, dtype: bool"
            ]
          },
          "metadata": {},
          "execution_count": 21
        }
      ]
    },
    {
      "cell_type": "markdown",
      "source": [
        "* First five, something is yes then it gets true, if something is no it gets false and now what we can do here can replace it to with a number"
      ],
      "metadata": {
        "id": "_r3oZUAJ3dKD"
      }
    },
    {
      "cell_type": "code",
      "source": [
        "(df.churn == 'yes').astype(int).head()"
      ],
      "metadata": {
        "id": "2lzp9CVI2iTL",
        "colab": {
          "base_uri": "https://localhost:8080/"
        },
        "outputId": "715f0824-1c7c-45e5-fa5d-a440f5254453"
      },
      "execution_count": 22,
      "outputs": [
        {
          "output_type": "execute_result",
          "data": {
            "text/plain": [
              "0    0\n",
              "1    0\n",
              "2    1\n",
              "3    0\n",
              "4    1\n",
              "Name: churn, dtype: int64"
            ]
          },
          "metadata": {},
          "execution_count": 22
        }
      ]
    },
    {
      "cell_type": "markdown",
      "source": [
        "* So this is now replaced yes and no with zero and one because we know for yes it's one the customer returned and no customer didn't insurance it's no.\n",
        "* We need to write it back to churn"
      ],
      "metadata": {
        "id": "Of1DvWn94yuE"
      }
    },
    {
      "cell_type": "code",
      "source": [
        "df.churn = (df.churn == 'yes').astype(int)"
      ],
      "metadata": {
        "id": "4oV3k9bt5VXh"
      },
      "execution_count": 23,
      "outputs": []
    },
    {
      "cell_type": "markdown",
      "source": [
        "* Convert our churn variable into a binary column with just zeros and ones."
      ],
      "metadata": {
        "id": "vy4OmeGZ4qcf"
      }
    },
    {
      "cell_type": "markdown",
      "source": [
        "## **3.3 Setting up the validation framework** (video 3.3)\n",
        "\n",
        "* Perform the train/validation/test split with Scikit-Learn"
      ],
      "metadata": {
        "id": "kpct1mIK2vRg"
      }
    },
    {
      "cell_type": "markdown",
      "source": [
        "* Split into three parts train, validation, and test we already implemented this using NumPy and pandas\n",
        "* 60%, 20%, 20% distribution"
      ],
      "metadata": {
        "id": "rVLMiEFM52uc"
      }
    },
    {
      "cell_type": "code",
      "source": [
        "from sklearn.model_selection import train_test_split"
      ],
      "metadata": {
        "id": "FF9VO2T22h6U"
      },
      "execution_count": 24,
      "outputs": []
    },
    {
      "cell_type": "markdown",
      "source": [
        "* Execute this cell and you will see the does here left, so we are interested in specifying this test size parameter\n",
        "* so get our dataframe"
      ],
      "metadata": {
        "id": "ipiUSotP6UwQ"
      }
    },
    {
      "cell_type": "code",
      "source": [
        "df_full_train, df_test = train_test_split(df, test_size=0.2, random_state=1)\n",
        "\n"
      ],
      "metadata": {
        "id": "CrqwuZzk25-k"
      },
      "execution_count": 25,
      "outputs": []
    },
    {
      "cell_type": "markdown",
      "source": [
        "* Our test size is 20% and we need to fix the random seeds to make sure that the results are the results reproducible\n",
        "* Execute this code on your computer you get the same results\n",
        "* Split function, split the data into two parts training and testing\n",
        "* Test is 20% and 80% full train of the data now to we have three datasets train, validation, and test"
      ],
      "metadata": {
        "id": "gUjUfhwj7C6Z"
      }
    },
    {
      "cell_type": "code",
      "source": [
        "len(df_full_train),len(df_test)"
      ],
      "metadata": {
        "colab": {
          "base_uri": "https://localhost:8080/"
        },
        "id": "jvAGK2fh8wEe",
        "outputId": "a23eeaef-4c1f-4646-b318-c30f7c660e94"
      },
      "execution_count": 26,
      "outputs": [
        {
          "output_type": "execute_result",
          "data": {
            "text/plain": [
              "(5634, 1409)"
            ]
          },
          "metadata": {},
          "execution_count": 26
        }
      ]
    },
    {
      "cell_type": "markdown",
      "source": [
        "* These two datafame tests we can look at their sizes we have 1,409 records of test"
      ],
      "metadata": {
        "id": "J6rf-BMj7_ew"
      }
    },
    {
      "cell_type": "code",
      "source": [
        "df_train, df_val = train_test_split(df_full_train, test_size=0.25, random_state=1)"
      ],
      "metadata": {
        "id": "NnJ_Lhly8XyB"
      },
      "execution_count": 27,
      "outputs": []
    },
    {
      "cell_type": "code",
      "source": [
        "len(df_train), len(df_val), len(df_test)"
      ],
      "metadata": {
        "id": "FYB2_4h12-Rv",
        "colab": {
          "base_uri": "https://localhost:8080/"
        },
        "outputId": "049d99c7-1d15-42c6-d5b3-e333cc649472"
      },
      "execution_count": 28,
      "outputs": [
        {
          "output_type": "execute_result",
          "data": {
            "text/plain": [
              "(4225, 1409, 1409)"
            ]
          },
          "metadata": {},
          "execution_count": 28
        }
      ]
    },
    {
      "cell_type": "markdown",
      "source": [
        "* Split this full train once again, train and validation\n",
        "    Train 60%  validation 20%\n",
        "* 25% of the full train dataset\n",
        "* We can see that test and validation do have the same size and the training dataset is four thousand two hundred twenty-five rows"
      ],
      "metadata": {
        "id": "PIkuF1OW88uE"
      }
    },
    {
      "cell_type": "code",
      "source": [
        "#df_train"
      ],
      "metadata": {
        "colab": {
          "base_uri": "https://localhost:8080/",
          "height": 592
        },
        "id": "1bZth_h79p5n",
        "outputId": "19368db5-524b-441e-fd1a-b1100c8a98e0"
      },
      "execution_count": null,
      "outputs": [
        {
          "output_type": "execute_result",
          "data": {
            "text/plain": [
              "      customerid  gender  seniorcitizen partner dependents  tenure  \\\n",
              "330   8015-ihcgw  female              0     yes        yes      72   \n",
              "4478  1960-uycnn    male              0      no         no      10   \n",
              "3576  9250-wypll  female              0      no         no       5   \n",
              "32    6786-obwqr  female              0     yes        yes       5   \n",
              "1438  1328-euzhc  female              0     yes         no      18   \n",
              "...          ...     ...            ...     ...        ...     ...   \n",
              "905   1309-xgfsn    male              1     yes        yes      52   \n",
              "5192  4819-hjpiw    male              0      no         no      18   \n",
              "3980  3703-vavcl    male              0     yes        yes       2   \n",
              "235   3812-lrzir  female              0     yes        yes      27   \n",
              "5157  1704-nrwye  female              1      no         no       9   \n",
              "\n",
              "     phoneservice     multiplelines internetservice       onlinesecurity  ...  \\\n",
              "330           yes               yes     fiber_optic                  yes  ...   \n",
              "4478          yes               yes     fiber_optic                   no  ...   \n",
              "3576          yes               yes     fiber_optic                   no  ...   \n",
              "32            yes                no     fiber_optic                   no  ...   \n",
              "1438          yes                no              no  no_internet_service  ...   \n",
              "...           ...               ...             ...                  ...  ...   \n",
              "905           yes               yes             dsl                   no  ...   \n",
              "5192           no  no_phone_service             dsl                   no  ...   \n",
              "3980          yes                no     fiber_optic                   no  ...   \n",
              "235           yes               yes              no  no_internet_service  ...   \n",
              "5157          yes                no     fiber_optic                   no  ...   \n",
              "\n",
              "         deviceprotection          techsupport          streamingtv  \\\n",
              "330                   yes                  yes                  yes   \n",
              "4478                  yes                   no                   no   \n",
              "3576                   no                   no                   no   \n",
              "32                     no                   no                  yes   \n",
              "1438  no_internet_service  no_internet_service  no_internet_service   \n",
              "...                   ...                  ...                  ...   \n",
              "905                   yes                   no                  yes   \n",
              "5192                   no                   no                   no   \n",
              "3980                  yes                  yes                   no   \n",
              "235   no_internet_service  no_internet_service  no_internet_service   \n",
              "5157                   no                   no                  yes   \n",
              "\n",
              "          streamingmovies        contract paperlessbilling  \\\n",
              "330                   yes        two_year              yes   \n",
              "4478                  yes  month-to-month              yes   \n",
              "3576                   no  month-to-month               no   \n",
              "32                     no  month-to-month              yes   \n",
              "1438  no_internet_service        two_year               no   \n",
              "...                   ...             ...              ...   \n",
              "905                   yes        one_year              yes   \n",
              "5192                   no  month-to-month               no   \n",
              "3980                  yes  month-to-month               no   \n",
              "235   no_internet_service        two_year               no   \n",
              "5157                   no  month-to-month              yes   \n",
              "\n",
              "                paymentmethod monthlycharges  totalcharges  churn  \n",
              "330          electronic_check         115.50       8425.15      0  \n",
              "4478         electronic_check          95.25       1021.55      0  \n",
              "3576         electronic_check          75.55        413.65      0  \n",
              "32           electronic_check          80.85        356.10      0  \n",
              "1438             mailed_check          20.10        370.50      0  \n",
              "...                       ...            ...           ...    ...  \n",
              "905          electronic_check          80.85       4079.55      0  \n",
              "5192             mailed_check          25.15        476.80      0  \n",
              "3980  credit_card_(automatic)          90.00        190.05      0  \n",
              "235          electronic_check          24.50        761.95      0  \n",
              "5157         electronic_check          80.85        751.65      0  \n",
              "\n",
              "[4225 rows x 21 columns]"
            ],
            "text/html": [
              "\n",
              "  <div id=\"df-3340701b-56d2-4381-b7a6-891c3349f546\">\n",
              "    <div class=\"colab-df-container\">\n",
              "      <div>\n",
              "<style scoped>\n",
              "    .dataframe tbody tr th:only-of-type {\n",
              "        vertical-align: middle;\n",
              "    }\n",
              "\n",
              "    .dataframe tbody tr th {\n",
              "        vertical-align: top;\n",
              "    }\n",
              "\n",
              "    .dataframe thead th {\n",
              "        text-align: right;\n",
              "    }\n",
              "</style>\n",
              "<table border=\"1\" class=\"dataframe\">\n",
              "  <thead>\n",
              "    <tr style=\"text-align: right;\">\n",
              "      <th></th>\n",
              "      <th>customerid</th>\n",
              "      <th>gender</th>\n",
              "      <th>seniorcitizen</th>\n",
              "      <th>partner</th>\n",
              "      <th>dependents</th>\n",
              "      <th>tenure</th>\n",
              "      <th>phoneservice</th>\n",
              "      <th>multiplelines</th>\n",
              "      <th>internetservice</th>\n",
              "      <th>onlinesecurity</th>\n",
              "      <th>...</th>\n",
              "      <th>deviceprotection</th>\n",
              "      <th>techsupport</th>\n",
              "      <th>streamingtv</th>\n",
              "      <th>streamingmovies</th>\n",
              "      <th>contract</th>\n",
              "      <th>paperlessbilling</th>\n",
              "      <th>paymentmethod</th>\n",
              "      <th>monthlycharges</th>\n",
              "      <th>totalcharges</th>\n",
              "      <th>churn</th>\n",
              "    </tr>\n",
              "  </thead>\n",
              "  <tbody>\n",
              "    <tr>\n",
              "      <th>330</th>\n",
              "      <td>8015-ihcgw</td>\n",
              "      <td>female</td>\n",
              "      <td>0</td>\n",
              "      <td>yes</td>\n",
              "      <td>yes</td>\n",
              "      <td>72</td>\n",
              "      <td>yes</td>\n",
              "      <td>yes</td>\n",
              "      <td>fiber_optic</td>\n",
              "      <td>yes</td>\n",
              "      <td>...</td>\n",
              "      <td>yes</td>\n",
              "      <td>yes</td>\n",
              "      <td>yes</td>\n",
              "      <td>yes</td>\n",
              "      <td>two_year</td>\n",
              "      <td>yes</td>\n",
              "      <td>electronic_check</td>\n",
              "      <td>115.50</td>\n",
              "      <td>8425.15</td>\n",
              "      <td>0</td>\n",
              "    </tr>\n",
              "    <tr>\n",
              "      <th>4478</th>\n",
              "      <td>1960-uycnn</td>\n",
              "      <td>male</td>\n",
              "      <td>0</td>\n",
              "      <td>no</td>\n",
              "      <td>no</td>\n",
              "      <td>10</td>\n",
              "      <td>yes</td>\n",
              "      <td>yes</td>\n",
              "      <td>fiber_optic</td>\n",
              "      <td>no</td>\n",
              "      <td>...</td>\n",
              "      <td>yes</td>\n",
              "      <td>no</td>\n",
              "      <td>no</td>\n",
              "      <td>yes</td>\n",
              "      <td>month-to-month</td>\n",
              "      <td>yes</td>\n",
              "      <td>electronic_check</td>\n",
              "      <td>95.25</td>\n",
              "      <td>1021.55</td>\n",
              "      <td>0</td>\n",
              "    </tr>\n",
              "    <tr>\n",
              "      <th>3576</th>\n",
              "      <td>9250-wypll</td>\n",
              "      <td>female</td>\n",
              "      <td>0</td>\n",
              "      <td>no</td>\n",
              "      <td>no</td>\n",
              "      <td>5</td>\n",
              "      <td>yes</td>\n",
              "      <td>yes</td>\n",
              "      <td>fiber_optic</td>\n",
              "      <td>no</td>\n",
              "      <td>...</td>\n",
              "      <td>no</td>\n",
              "      <td>no</td>\n",
              "      <td>no</td>\n",
              "      <td>no</td>\n",
              "      <td>month-to-month</td>\n",
              "      <td>no</td>\n",
              "      <td>electronic_check</td>\n",
              "      <td>75.55</td>\n",
              "      <td>413.65</td>\n",
              "      <td>0</td>\n",
              "    </tr>\n",
              "    <tr>\n",
              "      <th>32</th>\n",
              "      <td>6786-obwqr</td>\n",
              "      <td>female</td>\n",
              "      <td>0</td>\n",
              "      <td>yes</td>\n",
              "      <td>yes</td>\n",
              "      <td>5</td>\n",
              "      <td>yes</td>\n",
              "      <td>no</td>\n",
              "      <td>fiber_optic</td>\n",
              "      <td>no</td>\n",
              "      <td>...</td>\n",
              "      <td>no</td>\n",
              "      <td>no</td>\n",
              "      <td>yes</td>\n",
              "      <td>no</td>\n",
              "      <td>month-to-month</td>\n",
              "      <td>yes</td>\n",
              "      <td>electronic_check</td>\n",
              "      <td>80.85</td>\n",
              "      <td>356.10</td>\n",
              "      <td>0</td>\n",
              "    </tr>\n",
              "    <tr>\n",
              "      <th>1438</th>\n",
              "      <td>1328-euzhc</td>\n",
              "      <td>female</td>\n",
              "      <td>0</td>\n",
              "      <td>yes</td>\n",
              "      <td>no</td>\n",
              "      <td>18</td>\n",
              "      <td>yes</td>\n",
              "      <td>no</td>\n",
              "      <td>no</td>\n",
              "      <td>no_internet_service</td>\n",
              "      <td>...</td>\n",
              "      <td>no_internet_service</td>\n",
              "      <td>no_internet_service</td>\n",
              "      <td>no_internet_service</td>\n",
              "      <td>no_internet_service</td>\n",
              "      <td>two_year</td>\n",
              "      <td>no</td>\n",
              "      <td>mailed_check</td>\n",
              "      <td>20.10</td>\n",
              "      <td>370.50</td>\n",
              "      <td>0</td>\n",
              "    </tr>\n",
              "    <tr>\n",
              "      <th>...</th>\n",
              "      <td>...</td>\n",
              "      <td>...</td>\n",
              "      <td>...</td>\n",
              "      <td>...</td>\n",
              "      <td>...</td>\n",
              "      <td>...</td>\n",
              "      <td>...</td>\n",
              "      <td>...</td>\n",
              "      <td>...</td>\n",
              "      <td>...</td>\n",
              "      <td>...</td>\n",
              "      <td>...</td>\n",
              "      <td>...</td>\n",
              "      <td>...</td>\n",
              "      <td>...</td>\n",
              "      <td>...</td>\n",
              "      <td>...</td>\n",
              "      <td>...</td>\n",
              "      <td>...</td>\n",
              "      <td>...</td>\n",
              "      <td>...</td>\n",
              "    </tr>\n",
              "    <tr>\n",
              "      <th>905</th>\n",
              "      <td>1309-xgfsn</td>\n",
              "      <td>male</td>\n",
              "      <td>1</td>\n",
              "      <td>yes</td>\n",
              "      <td>yes</td>\n",
              "      <td>52</td>\n",
              "      <td>yes</td>\n",
              "      <td>yes</td>\n",
              "      <td>dsl</td>\n",
              "      <td>no</td>\n",
              "      <td>...</td>\n",
              "      <td>yes</td>\n",
              "      <td>no</td>\n",
              "      <td>yes</td>\n",
              "      <td>yes</td>\n",
              "      <td>one_year</td>\n",
              "      <td>yes</td>\n",
              "      <td>electronic_check</td>\n",
              "      <td>80.85</td>\n",
              "      <td>4079.55</td>\n",
              "      <td>0</td>\n",
              "    </tr>\n",
              "    <tr>\n",
              "      <th>5192</th>\n",
              "      <td>4819-hjpiw</td>\n",
              "      <td>male</td>\n",
              "      <td>0</td>\n",
              "      <td>no</td>\n",
              "      <td>no</td>\n",
              "      <td>18</td>\n",
              "      <td>no</td>\n",
              "      <td>no_phone_service</td>\n",
              "      <td>dsl</td>\n",
              "      <td>no</td>\n",
              "      <td>...</td>\n",
              "      <td>no</td>\n",
              "      <td>no</td>\n",
              "      <td>no</td>\n",
              "      <td>no</td>\n",
              "      <td>month-to-month</td>\n",
              "      <td>no</td>\n",
              "      <td>mailed_check</td>\n",
              "      <td>25.15</td>\n",
              "      <td>476.80</td>\n",
              "      <td>0</td>\n",
              "    </tr>\n",
              "    <tr>\n",
              "      <th>3980</th>\n",
              "      <td>3703-vavcl</td>\n",
              "      <td>male</td>\n",
              "      <td>0</td>\n",
              "      <td>yes</td>\n",
              "      <td>yes</td>\n",
              "      <td>2</td>\n",
              "      <td>yes</td>\n",
              "      <td>no</td>\n",
              "      <td>fiber_optic</td>\n",
              "      <td>no</td>\n",
              "      <td>...</td>\n",
              "      <td>yes</td>\n",
              "      <td>yes</td>\n",
              "      <td>no</td>\n",
              "      <td>yes</td>\n",
              "      <td>month-to-month</td>\n",
              "      <td>no</td>\n",
              "      <td>credit_card_(automatic)</td>\n",
              "      <td>90.00</td>\n",
              "      <td>190.05</td>\n",
              "      <td>0</td>\n",
              "    </tr>\n",
              "    <tr>\n",
              "      <th>235</th>\n",
              "      <td>3812-lrzir</td>\n",
              "      <td>female</td>\n",
              "      <td>0</td>\n",
              "      <td>yes</td>\n",
              "      <td>yes</td>\n",
              "      <td>27</td>\n",
              "      <td>yes</td>\n",
              "      <td>yes</td>\n",
              "      <td>no</td>\n",
              "      <td>no_internet_service</td>\n",
              "      <td>...</td>\n",
              "      <td>no_internet_service</td>\n",
              "      <td>no_internet_service</td>\n",
              "      <td>no_internet_service</td>\n",
              "      <td>no_internet_service</td>\n",
              "      <td>two_year</td>\n",
              "      <td>no</td>\n",
              "      <td>electronic_check</td>\n",
              "      <td>24.50</td>\n",
              "      <td>761.95</td>\n",
              "      <td>0</td>\n",
              "    </tr>\n",
              "    <tr>\n",
              "      <th>5157</th>\n",
              "      <td>1704-nrwye</td>\n",
              "      <td>female</td>\n",
              "      <td>1</td>\n",
              "      <td>no</td>\n",
              "      <td>no</td>\n",
              "      <td>9</td>\n",
              "      <td>yes</td>\n",
              "      <td>no</td>\n",
              "      <td>fiber_optic</td>\n",
              "      <td>no</td>\n",
              "      <td>...</td>\n",
              "      <td>no</td>\n",
              "      <td>no</td>\n",
              "      <td>yes</td>\n",
              "      <td>no</td>\n",
              "      <td>month-to-month</td>\n",
              "      <td>yes</td>\n",
              "      <td>electronic_check</td>\n",
              "      <td>80.85</td>\n",
              "      <td>751.65</td>\n",
              "      <td>0</td>\n",
              "    </tr>\n",
              "  </tbody>\n",
              "</table>\n",
              "<p>4225 rows × 21 columns</p>\n",
              "</div>\n",
              "      <button class=\"colab-df-convert\" onclick=\"convertToInteractive('df-3340701b-56d2-4381-b7a6-891c3349f546')\"\n",
              "              title=\"Convert this dataframe to an interactive table.\"\n",
              "              style=\"display:none;\">\n",
              "        \n",
              "  <svg xmlns=\"http://www.w3.org/2000/svg\" height=\"24px\"viewBox=\"0 0 24 24\"\n",
              "       width=\"24px\">\n",
              "    <path d=\"M0 0h24v24H0V0z\" fill=\"none\"/>\n",
              "    <path d=\"M18.56 5.44l.94 2.06.94-2.06 2.06-.94-2.06-.94-.94-2.06-.94 2.06-2.06.94zm-11 1L8.5 8.5l.94-2.06 2.06-.94-2.06-.94L8.5 2.5l-.94 2.06-2.06.94zm10 10l.94 2.06.94-2.06 2.06-.94-2.06-.94-.94-2.06-.94 2.06-2.06.94z\"/><path d=\"M17.41 7.96l-1.37-1.37c-.4-.4-.92-.59-1.43-.59-.52 0-1.04.2-1.43.59L10.3 9.45l-7.72 7.72c-.78.78-.78 2.05 0 2.83L4 21.41c.39.39.9.59 1.41.59.51 0 1.02-.2 1.41-.59l7.78-7.78 2.81-2.81c.8-.78.8-2.07 0-2.86zM5.41 20L4 18.59l7.72-7.72 1.47 1.35L5.41 20z\"/>\n",
              "  </svg>\n",
              "      </button>\n",
              "      \n",
              "  <style>\n",
              "    .colab-df-container {\n",
              "      display:flex;\n",
              "      flex-wrap:wrap;\n",
              "      gap: 12px;\n",
              "    }\n",
              "\n",
              "    .colab-df-convert {\n",
              "      background-color: #E8F0FE;\n",
              "      border: none;\n",
              "      border-radius: 50%;\n",
              "      cursor: pointer;\n",
              "      display: none;\n",
              "      fill: #1967D2;\n",
              "      height: 32px;\n",
              "      padding: 0 0 0 0;\n",
              "      width: 32px;\n",
              "    }\n",
              "\n",
              "    .colab-df-convert:hover {\n",
              "      background-color: #E2EBFA;\n",
              "      box-shadow: 0px 1px 2px rgba(60, 64, 67, 0.3), 0px 1px 3px 1px rgba(60, 64, 67, 0.15);\n",
              "      fill: #174EA6;\n",
              "    }\n",
              "\n",
              "    [theme=dark] .colab-df-convert {\n",
              "      background-color: #3B4455;\n",
              "      fill: #D2E3FC;\n",
              "    }\n",
              "\n",
              "    [theme=dark] .colab-df-convert:hover {\n",
              "      background-color: #434B5C;\n",
              "      box-shadow: 0px 1px 3px 1px rgba(0, 0, 0, 0.15);\n",
              "      filter: drop-shadow(0px 1px 2px rgba(0, 0, 0, 0.3));\n",
              "      fill: #FFFFFF;\n",
              "    }\n",
              "  </style>\n",
              "\n",
              "      <script>\n",
              "        const buttonEl =\n",
              "          document.querySelector('#df-3340701b-56d2-4381-b7a6-891c3349f546 button.colab-df-convert');\n",
              "        buttonEl.style.display =\n",
              "          google.colab.kernel.accessAllowed ? 'block' : 'none';\n",
              "\n",
              "        async function convertToInteractive(key) {\n",
              "          const element = document.querySelector('#df-3340701b-56d2-4381-b7a6-891c3349f546');\n",
              "          const dataTable =\n",
              "            await google.colab.kernel.invokeFunction('convertToInteractive',\n",
              "                                                     [key], {});\n",
              "          if (!dataTable) return;\n",
              "\n",
              "          const docLinkHtml = 'Like what you see? Visit the ' +\n",
              "            '<a target=\"_blank\" href=https://colab.research.google.com/notebooks/data_table.ipynb>data table notebook</a>'\n",
              "            + ' to learn more about interactive tables.';\n",
              "          element.innerHTML = '';\n",
              "          dataTable['output_type'] = 'display_data';\n",
              "          await google.colab.output.renderOutput(dataTable, element);\n",
              "          const docLink = document.createElement('div');\n",
              "          docLink.innerHTML = docLinkHtml;\n",
              "          element.appendChild(docLink);\n",
              "        }\n",
              "      </script>\n",
              "    </div>\n",
              "  </div>\n",
              "  "
            ]
          },
          "metadata": {},
          "execution_count": 265
        }
      ]
    },
    {
      "cell_type": "code",
      "source": [
        "df_train = df_train.reset_index(drop=True)\n",
        "df_val = df_val.reset_index(drop=True)\n",
        "df_test = df_test.reset_index(drop=True)"
      ],
      "metadata": {
        "id": "weSkkqIZ3EAL"
      },
      "execution_count": 29,
      "outputs": []
    },
    {
      "cell_type": "code",
      "source": [
        "y_train = df_train.churn.values\n",
        "y_val = df_val.churn.values\n",
        "y_test = df_test.churn.values\n"
      ],
      "metadata": {
        "id": "_xNquSJ33EnX"
      },
      "execution_count": 30,
      "outputs": []
    },
    {
      "cell_type": "code",
      "source": [
        "del df_train['churn']\n",
        "del df_val['churn']\n",
        "del df_test['churn']"
      ],
      "metadata": {
        "id": "Qqzro6Dm3OTF"
      },
      "execution_count": 31,
      "outputs": []
    },
    {
      "cell_type": "markdown",
      "source": [
        "* We need to get our y variable \n",
        "* to avoid accidentally using this variable"
      ],
      "metadata": {
        "id": "oI8OlVrN97cU"
      }
    },
    {
      "cell_type": "markdown",
      "source": [
        "## **3.4 EDA** (video 3.4) \n",
        "\n",
        "* Check missing values\n",
        "* Look at the target variable (churn)\n",
        "* Look at numerical and categorical variables"
      ],
      "metadata": {
        "id": "WH3QFAFx3X0X"
      }
    },
    {
      "cell_type": "markdown",
      "source": [
        "### **Functions and methods:**\n",
        "\n",
        "* df.isnull().sum() - retunrs the number of null values in the dataframe.\n",
        "* df.x.value_counts() returns the number of values for each category in x series. The normalize=True argument retrieves the percentage of each category. In this project, the mean of churn is equal to the churn rate obtained with the value_counts method.\n",
        "* round(x, y) - round an x number with y decimal places\n",
        "* df[x].nunique() - returns the number of unique values in x series\n"
      ],
      "metadata": {
        "id": "k8HPJP0Gy0J2"
      }
    },
    {
      "cell_type": "code",
      "source": [
        "df_full_train"
      ],
      "metadata": {
        "colab": {
          "base_uri": "https://localhost:8080/",
          "height": 540
        },
        "id": "21xN8Oev-hjY",
        "outputId": "fdf46769-cb99-4208-8fe5-dd92ef6d55b2"
      },
      "execution_count": 32,
      "outputs": [
        {
          "output_type": "execute_result",
          "data": {
            "text/plain": [
              "      customerid  gender  seniorcitizen partner dependents  tenure  \\\n",
              "1814  5442-pptjy    male              0     yes        yes      12   \n",
              "5946  6261-rcvns  female              0      no         no      42   \n",
              "3881  2176-osjuv    male              0     yes         no      71   \n",
              "2389  6161-erdgd    male              0     yes        yes      71   \n",
              "3676  2364-ufrom    male              0      no         no      30   \n",
              "...          ...     ...            ...     ...        ...     ...   \n",
              "905   0781-lkxbr    male              1      no         no       9   \n",
              "5192  3507-gasnp    male              0      no        yes      60   \n",
              "3980  8868-wozgu    male              0      no         no      28   \n",
              "235   1251-krreg    male              0      no         no       2   \n",
              "5157  5840-nvdcg  female              0     yes        yes      16   \n",
              "\n",
              "     phoneservice multiplelines internetservice       onlinesecurity  ...  \\\n",
              "1814          yes            no              no  no_internet_service  ...   \n",
              "5946          yes            no             dsl                  yes  ...   \n",
              "3881          yes           yes             dsl                  yes  ...   \n",
              "2389          yes           yes             dsl                  yes  ...   \n",
              "3676          yes            no             dsl                  yes  ...   \n",
              "...           ...           ...             ...                  ...  ...   \n",
              "905           yes           yes     fiber_optic                   no  ...   \n",
              "5192          yes            no              no  no_internet_service  ...   \n",
              "3980          yes           yes     fiber_optic                   no  ...   \n",
              "235           yes           yes             dsl                   no  ...   \n",
              "5157          yes            no             dsl                  yes  ...   \n",
              "\n",
              "         deviceprotection          techsupport          streamingtv  \\\n",
              "1814  no_internet_service  no_internet_service  no_internet_service   \n",
              "5946                  yes                  yes                   no   \n",
              "3881                   no                  yes                   no   \n",
              "2389                  yes                  yes                  yes   \n",
              "3676                   no                  yes                  yes   \n",
              "...                   ...                  ...                  ...   \n",
              "905                   yes                   no                  yes   \n",
              "5192  no_internet_service  no_internet_service  no_internet_service   \n",
              "3980                  yes                   no                  yes   \n",
              "235                    no                   no                   no   \n",
              "5157                   no                  yes                   no   \n",
              "\n",
              "          streamingmovies        contract paperlessbilling  \\\n",
              "1814  no_internet_service        two_year               no   \n",
              "5946                  yes        one_year               no   \n",
              "3881                   no        two_year               no   \n",
              "2389                  yes        one_year               no   \n",
              "3676                   no        one_year               no   \n",
              "...                   ...             ...              ...   \n",
              "905                   yes  month-to-month              yes   \n",
              "5192  no_internet_service        two_year               no   \n",
              "3980                  yes  month-to-month              yes   \n",
              "235                    no  month-to-month              yes   \n",
              "5157                  yes        two_year               no   \n",
              "\n",
              "                  paymentmethod monthlycharges  totalcharges  churn  \n",
              "1814               mailed_check          19.70        258.35      0  \n",
              "5946    credit_card_(automatic)          73.90       3160.55      1  \n",
              "3881  bank_transfer_(automatic)          65.15       4681.75      0  \n",
              "2389           electronic_check          85.45       6300.85      0  \n",
              "3676           electronic_check          70.40       2044.75      0  \n",
              "...                         ...            ...           ...    ...  \n",
              "905            electronic_check         100.50        918.60      1  \n",
              "5192               mailed_check          19.95       1189.90      0  \n",
              "3980           electronic_check         105.70       2979.50      1  \n",
              "235                mailed_check          54.40        114.10      1  \n",
              "5157  bank_transfer_(automatic)          68.25       1114.85      0  \n",
              "\n",
              "[5634 rows x 21 columns]"
            ],
            "text/html": [
              "\n",
              "  <div id=\"df-eb19957f-50de-4130-9511-7e9868447b5c\">\n",
              "    <div class=\"colab-df-container\">\n",
              "      <div>\n",
              "<style scoped>\n",
              "    .dataframe tbody tr th:only-of-type {\n",
              "        vertical-align: middle;\n",
              "    }\n",
              "\n",
              "    .dataframe tbody tr th {\n",
              "        vertical-align: top;\n",
              "    }\n",
              "\n",
              "    .dataframe thead th {\n",
              "        text-align: right;\n",
              "    }\n",
              "</style>\n",
              "<table border=\"1\" class=\"dataframe\">\n",
              "  <thead>\n",
              "    <tr style=\"text-align: right;\">\n",
              "      <th></th>\n",
              "      <th>customerid</th>\n",
              "      <th>gender</th>\n",
              "      <th>seniorcitizen</th>\n",
              "      <th>partner</th>\n",
              "      <th>dependents</th>\n",
              "      <th>tenure</th>\n",
              "      <th>phoneservice</th>\n",
              "      <th>multiplelines</th>\n",
              "      <th>internetservice</th>\n",
              "      <th>onlinesecurity</th>\n",
              "      <th>...</th>\n",
              "      <th>deviceprotection</th>\n",
              "      <th>techsupport</th>\n",
              "      <th>streamingtv</th>\n",
              "      <th>streamingmovies</th>\n",
              "      <th>contract</th>\n",
              "      <th>paperlessbilling</th>\n",
              "      <th>paymentmethod</th>\n",
              "      <th>monthlycharges</th>\n",
              "      <th>totalcharges</th>\n",
              "      <th>churn</th>\n",
              "    </tr>\n",
              "  </thead>\n",
              "  <tbody>\n",
              "    <tr>\n",
              "      <th>1814</th>\n",
              "      <td>5442-pptjy</td>\n",
              "      <td>male</td>\n",
              "      <td>0</td>\n",
              "      <td>yes</td>\n",
              "      <td>yes</td>\n",
              "      <td>12</td>\n",
              "      <td>yes</td>\n",
              "      <td>no</td>\n",
              "      <td>no</td>\n",
              "      <td>no_internet_service</td>\n",
              "      <td>...</td>\n",
              "      <td>no_internet_service</td>\n",
              "      <td>no_internet_service</td>\n",
              "      <td>no_internet_service</td>\n",
              "      <td>no_internet_service</td>\n",
              "      <td>two_year</td>\n",
              "      <td>no</td>\n",
              "      <td>mailed_check</td>\n",
              "      <td>19.70</td>\n",
              "      <td>258.35</td>\n",
              "      <td>0</td>\n",
              "    </tr>\n",
              "    <tr>\n",
              "      <th>5946</th>\n",
              "      <td>6261-rcvns</td>\n",
              "      <td>female</td>\n",
              "      <td>0</td>\n",
              "      <td>no</td>\n",
              "      <td>no</td>\n",
              "      <td>42</td>\n",
              "      <td>yes</td>\n",
              "      <td>no</td>\n",
              "      <td>dsl</td>\n",
              "      <td>yes</td>\n",
              "      <td>...</td>\n",
              "      <td>yes</td>\n",
              "      <td>yes</td>\n",
              "      <td>no</td>\n",
              "      <td>yes</td>\n",
              "      <td>one_year</td>\n",
              "      <td>no</td>\n",
              "      <td>credit_card_(automatic)</td>\n",
              "      <td>73.90</td>\n",
              "      <td>3160.55</td>\n",
              "      <td>1</td>\n",
              "    </tr>\n",
              "    <tr>\n",
              "      <th>3881</th>\n",
              "      <td>2176-osjuv</td>\n",
              "      <td>male</td>\n",
              "      <td>0</td>\n",
              "      <td>yes</td>\n",
              "      <td>no</td>\n",
              "      <td>71</td>\n",
              "      <td>yes</td>\n",
              "      <td>yes</td>\n",
              "      <td>dsl</td>\n",
              "      <td>yes</td>\n",
              "      <td>...</td>\n",
              "      <td>no</td>\n",
              "      <td>yes</td>\n",
              "      <td>no</td>\n",
              "      <td>no</td>\n",
              "      <td>two_year</td>\n",
              "      <td>no</td>\n",
              "      <td>bank_transfer_(automatic)</td>\n",
              "      <td>65.15</td>\n",
              "      <td>4681.75</td>\n",
              "      <td>0</td>\n",
              "    </tr>\n",
              "    <tr>\n",
              "      <th>2389</th>\n",
              "      <td>6161-erdgd</td>\n",
              "      <td>male</td>\n",
              "      <td>0</td>\n",
              "      <td>yes</td>\n",
              "      <td>yes</td>\n",
              "      <td>71</td>\n",
              "      <td>yes</td>\n",
              "      <td>yes</td>\n",
              "      <td>dsl</td>\n",
              "      <td>yes</td>\n",
              "      <td>...</td>\n",
              "      <td>yes</td>\n",
              "      <td>yes</td>\n",
              "      <td>yes</td>\n",
              "      <td>yes</td>\n",
              "      <td>one_year</td>\n",
              "      <td>no</td>\n",
              "      <td>electronic_check</td>\n",
              "      <td>85.45</td>\n",
              "      <td>6300.85</td>\n",
              "      <td>0</td>\n",
              "    </tr>\n",
              "    <tr>\n",
              "      <th>3676</th>\n",
              "      <td>2364-ufrom</td>\n",
              "      <td>male</td>\n",
              "      <td>0</td>\n",
              "      <td>no</td>\n",
              "      <td>no</td>\n",
              "      <td>30</td>\n",
              "      <td>yes</td>\n",
              "      <td>no</td>\n",
              "      <td>dsl</td>\n",
              "      <td>yes</td>\n",
              "      <td>...</td>\n",
              "      <td>no</td>\n",
              "      <td>yes</td>\n",
              "      <td>yes</td>\n",
              "      <td>no</td>\n",
              "      <td>one_year</td>\n",
              "      <td>no</td>\n",
              "      <td>electronic_check</td>\n",
              "      <td>70.40</td>\n",
              "      <td>2044.75</td>\n",
              "      <td>0</td>\n",
              "    </tr>\n",
              "    <tr>\n",
              "      <th>...</th>\n",
              "      <td>...</td>\n",
              "      <td>...</td>\n",
              "      <td>...</td>\n",
              "      <td>...</td>\n",
              "      <td>...</td>\n",
              "      <td>...</td>\n",
              "      <td>...</td>\n",
              "      <td>...</td>\n",
              "      <td>...</td>\n",
              "      <td>...</td>\n",
              "      <td>...</td>\n",
              "      <td>...</td>\n",
              "      <td>...</td>\n",
              "      <td>...</td>\n",
              "      <td>...</td>\n",
              "      <td>...</td>\n",
              "      <td>...</td>\n",
              "      <td>...</td>\n",
              "      <td>...</td>\n",
              "      <td>...</td>\n",
              "      <td>...</td>\n",
              "    </tr>\n",
              "    <tr>\n",
              "      <th>905</th>\n",
              "      <td>0781-lkxbr</td>\n",
              "      <td>male</td>\n",
              "      <td>1</td>\n",
              "      <td>no</td>\n",
              "      <td>no</td>\n",
              "      <td>9</td>\n",
              "      <td>yes</td>\n",
              "      <td>yes</td>\n",
              "      <td>fiber_optic</td>\n",
              "      <td>no</td>\n",
              "      <td>...</td>\n",
              "      <td>yes</td>\n",
              "      <td>no</td>\n",
              "      <td>yes</td>\n",
              "      <td>yes</td>\n",
              "      <td>month-to-month</td>\n",
              "      <td>yes</td>\n",
              "      <td>electronic_check</td>\n",
              "      <td>100.50</td>\n",
              "      <td>918.60</td>\n",
              "      <td>1</td>\n",
              "    </tr>\n",
              "    <tr>\n",
              "      <th>5192</th>\n",
              "      <td>3507-gasnp</td>\n",
              "      <td>male</td>\n",
              "      <td>0</td>\n",
              "      <td>no</td>\n",
              "      <td>yes</td>\n",
              "      <td>60</td>\n",
              "      <td>yes</td>\n",
              "      <td>no</td>\n",
              "      <td>no</td>\n",
              "      <td>no_internet_service</td>\n",
              "      <td>...</td>\n",
              "      <td>no_internet_service</td>\n",
              "      <td>no_internet_service</td>\n",
              "      <td>no_internet_service</td>\n",
              "      <td>no_internet_service</td>\n",
              "      <td>two_year</td>\n",
              "      <td>no</td>\n",
              "      <td>mailed_check</td>\n",
              "      <td>19.95</td>\n",
              "      <td>1189.90</td>\n",
              "      <td>0</td>\n",
              "    </tr>\n",
              "    <tr>\n",
              "      <th>3980</th>\n",
              "      <td>8868-wozgu</td>\n",
              "      <td>male</td>\n",
              "      <td>0</td>\n",
              "      <td>no</td>\n",
              "      <td>no</td>\n",
              "      <td>28</td>\n",
              "      <td>yes</td>\n",
              "      <td>yes</td>\n",
              "      <td>fiber_optic</td>\n",
              "      <td>no</td>\n",
              "      <td>...</td>\n",
              "      <td>yes</td>\n",
              "      <td>no</td>\n",
              "      <td>yes</td>\n",
              "      <td>yes</td>\n",
              "      <td>month-to-month</td>\n",
              "      <td>yes</td>\n",
              "      <td>electronic_check</td>\n",
              "      <td>105.70</td>\n",
              "      <td>2979.50</td>\n",
              "      <td>1</td>\n",
              "    </tr>\n",
              "    <tr>\n",
              "      <th>235</th>\n",
              "      <td>1251-krreg</td>\n",
              "      <td>male</td>\n",
              "      <td>0</td>\n",
              "      <td>no</td>\n",
              "      <td>no</td>\n",
              "      <td>2</td>\n",
              "      <td>yes</td>\n",
              "      <td>yes</td>\n",
              "      <td>dsl</td>\n",
              "      <td>no</td>\n",
              "      <td>...</td>\n",
              "      <td>no</td>\n",
              "      <td>no</td>\n",
              "      <td>no</td>\n",
              "      <td>no</td>\n",
              "      <td>month-to-month</td>\n",
              "      <td>yes</td>\n",
              "      <td>mailed_check</td>\n",
              "      <td>54.40</td>\n",
              "      <td>114.10</td>\n",
              "      <td>1</td>\n",
              "    </tr>\n",
              "    <tr>\n",
              "      <th>5157</th>\n",
              "      <td>5840-nvdcg</td>\n",
              "      <td>female</td>\n",
              "      <td>0</td>\n",
              "      <td>yes</td>\n",
              "      <td>yes</td>\n",
              "      <td>16</td>\n",
              "      <td>yes</td>\n",
              "      <td>no</td>\n",
              "      <td>dsl</td>\n",
              "      <td>yes</td>\n",
              "      <td>...</td>\n",
              "      <td>no</td>\n",
              "      <td>yes</td>\n",
              "      <td>no</td>\n",
              "      <td>yes</td>\n",
              "      <td>two_year</td>\n",
              "      <td>no</td>\n",
              "      <td>bank_transfer_(automatic)</td>\n",
              "      <td>68.25</td>\n",
              "      <td>1114.85</td>\n",
              "      <td>0</td>\n",
              "    </tr>\n",
              "  </tbody>\n",
              "</table>\n",
              "<p>5634 rows × 21 columns</p>\n",
              "</div>\n",
              "      <button class=\"colab-df-convert\" onclick=\"convertToInteractive('df-eb19957f-50de-4130-9511-7e9868447b5c')\"\n",
              "              title=\"Convert this dataframe to an interactive table.\"\n",
              "              style=\"display:none;\">\n",
              "        \n",
              "  <svg xmlns=\"http://www.w3.org/2000/svg\" height=\"24px\"viewBox=\"0 0 24 24\"\n",
              "       width=\"24px\">\n",
              "    <path d=\"M0 0h24v24H0V0z\" fill=\"none\"/>\n",
              "    <path d=\"M18.56 5.44l.94 2.06.94-2.06 2.06-.94-2.06-.94-.94-2.06-.94 2.06-2.06.94zm-11 1L8.5 8.5l.94-2.06 2.06-.94-2.06-.94L8.5 2.5l-.94 2.06-2.06.94zm10 10l.94 2.06.94-2.06 2.06-.94-2.06-.94-.94-2.06-.94 2.06-2.06.94z\"/><path d=\"M17.41 7.96l-1.37-1.37c-.4-.4-.92-.59-1.43-.59-.52 0-1.04.2-1.43.59L10.3 9.45l-7.72 7.72c-.78.78-.78 2.05 0 2.83L4 21.41c.39.39.9.59 1.41.59.51 0 1.02-.2 1.41-.59l7.78-7.78 2.81-2.81c.8-.78.8-2.07 0-2.86zM5.41 20L4 18.59l7.72-7.72 1.47 1.35L5.41 20z\"/>\n",
              "  </svg>\n",
              "      </button>\n",
              "      \n",
              "  <style>\n",
              "    .colab-df-container {\n",
              "      display:flex;\n",
              "      flex-wrap:wrap;\n",
              "      gap: 12px;\n",
              "    }\n",
              "\n",
              "    .colab-df-convert {\n",
              "      background-color: #E8F0FE;\n",
              "      border: none;\n",
              "      border-radius: 50%;\n",
              "      cursor: pointer;\n",
              "      display: none;\n",
              "      fill: #1967D2;\n",
              "      height: 32px;\n",
              "      padding: 0 0 0 0;\n",
              "      width: 32px;\n",
              "    }\n",
              "\n",
              "    .colab-df-convert:hover {\n",
              "      background-color: #E2EBFA;\n",
              "      box-shadow: 0px 1px 2px rgba(60, 64, 67, 0.3), 0px 1px 3px 1px rgba(60, 64, 67, 0.15);\n",
              "      fill: #174EA6;\n",
              "    }\n",
              "\n",
              "    [theme=dark] .colab-df-convert {\n",
              "      background-color: #3B4455;\n",
              "      fill: #D2E3FC;\n",
              "    }\n",
              "\n",
              "    [theme=dark] .colab-df-convert:hover {\n",
              "      background-color: #434B5C;\n",
              "      box-shadow: 0px 1px 3px 1px rgba(0, 0, 0, 0.15);\n",
              "      filter: drop-shadow(0px 1px 2px rgba(0, 0, 0, 0.3));\n",
              "      fill: #FFFFFF;\n",
              "    }\n",
              "  </style>\n",
              "\n",
              "      <script>\n",
              "        const buttonEl =\n",
              "          document.querySelector('#df-eb19957f-50de-4130-9511-7e9868447b5c button.colab-df-convert');\n",
              "        buttonEl.style.display =\n",
              "          google.colab.kernel.accessAllowed ? 'block' : 'none';\n",
              "\n",
              "        async function convertToInteractive(key) {\n",
              "          const element = document.querySelector('#df-eb19957f-50de-4130-9511-7e9868447b5c');\n",
              "          const dataTable =\n",
              "            await google.colab.kernel.invokeFunction('convertToInteractive',\n",
              "                                                     [key], {});\n",
              "          if (!dataTable) return;\n",
              "\n",
              "          const docLinkHtml = 'Like what you see? Visit the ' +\n",
              "            '<a target=\"_blank\" href=https://colab.research.google.com/notebooks/data_table.ipynb>data table notebook</a>'\n",
              "            + ' to learn more about interactive tables.';\n",
              "          element.innerHTML = '';\n",
              "          dataTable['output_type'] = 'display_data';\n",
              "          await google.colab.output.renderOutput(dataTable, element);\n",
              "          const docLink = document.createElement('div');\n",
              "          docLink.innerHTML = docLinkHtml;\n",
              "          element.appendChild(docLink);\n",
              "        }\n",
              "      </script>\n",
              "    </div>\n",
              "  </div>\n",
              "  "
            ]
          },
          "metadata": {},
          "execution_count": 32
        }
      ]
    },
    {
      "cell_type": "markdown",
      "source": [
        "* We actually still have the old indices"
      ],
      "metadata": {
        "id": "maPbBTFx-qGW"
      }
    },
    {
      "cell_type": "code",
      "source": [
        "df_full_train = df_full_train.reset_index(drop=True)"
      ],
      "metadata": {
        "id": "qy3P5hwo3UUU"
      },
      "execution_count": 33,
      "outputs": []
    },
    {
      "cell_type": "code",
      "source": [
        "df_full_train"
      ],
      "metadata": {
        "colab": {
          "base_uri": "https://localhost:8080/",
          "height": 540
        },
        "id": "lj-X6TFqask2",
        "outputId": "0de24c4a-e02f-44ef-90d3-41e2e92ed7f2"
      },
      "execution_count": 34,
      "outputs": [
        {
          "output_type": "execute_result",
          "data": {
            "text/plain": [
              "      customerid  gender  seniorcitizen partner dependents  tenure  \\\n",
              "0     5442-pptjy    male              0     yes        yes      12   \n",
              "1     6261-rcvns  female              0      no         no      42   \n",
              "2     2176-osjuv    male              0     yes         no      71   \n",
              "3     6161-erdgd    male              0     yes        yes      71   \n",
              "4     2364-ufrom    male              0      no         no      30   \n",
              "...          ...     ...            ...     ...        ...     ...   \n",
              "5629  0781-lkxbr    male              1      no         no       9   \n",
              "5630  3507-gasnp    male              0      no        yes      60   \n",
              "5631  8868-wozgu    male              0      no         no      28   \n",
              "5632  1251-krreg    male              0      no         no       2   \n",
              "5633  5840-nvdcg  female              0     yes        yes      16   \n",
              "\n",
              "     phoneservice multiplelines internetservice       onlinesecurity  ...  \\\n",
              "0             yes            no              no  no_internet_service  ...   \n",
              "1             yes            no             dsl                  yes  ...   \n",
              "2             yes           yes             dsl                  yes  ...   \n",
              "3             yes           yes             dsl                  yes  ...   \n",
              "4             yes            no             dsl                  yes  ...   \n",
              "...           ...           ...             ...                  ...  ...   \n",
              "5629          yes           yes     fiber_optic                   no  ...   \n",
              "5630          yes            no              no  no_internet_service  ...   \n",
              "5631          yes           yes     fiber_optic                   no  ...   \n",
              "5632          yes           yes             dsl                   no  ...   \n",
              "5633          yes            no             dsl                  yes  ...   \n",
              "\n",
              "         deviceprotection          techsupport          streamingtv  \\\n",
              "0     no_internet_service  no_internet_service  no_internet_service   \n",
              "1                     yes                  yes                   no   \n",
              "2                      no                  yes                   no   \n",
              "3                     yes                  yes                  yes   \n",
              "4                      no                  yes                  yes   \n",
              "...                   ...                  ...                  ...   \n",
              "5629                  yes                   no                  yes   \n",
              "5630  no_internet_service  no_internet_service  no_internet_service   \n",
              "5631                  yes                   no                  yes   \n",
              "5632                   no                   no                   no   \n",
              "5633                   no                  yes                   no   \n",
              "\n",
              "          streamingmovies        contract paperlessbilling  \\\n",
              "0     no_internet_service        two_year               no   \n",
              "1                     yes        one_year               no   \n",
              "2                      no        two_year               no   \n",
              "3                     yes        one_year               no   \n",
              "4                      no        one_year               no   \n",
              "...                   ...             ...              ...   \n",
              "5629                  yes  month-to-month              yes   \n",
              "5630  no_internet_service        two_year               no   \n",
              "5631                  yes  month-to-month              yes   \n",
              "5632                   no  month-to-month              yes   \n",
              "5633                  yes        two_year               no   \n",
              "\n",
              "                  paymentmethod monthlycharges  totalcharges  churn  \n",
              "0                  mailed_check          19.70        258.35      0  \n",
              "1       credit_card_(automatic)          73.90       3160.55      1  \n",
              "2     bank_transfer_(automatic)          65.15       4681.75      0  \n",
              "3              electronic_check          85.45       6300.85      0  \n",
              "4              electronic_check          70.40       2044.75      0  \n",
              "...                         ...            ...           ...    ...  \n",
              "5629           electronic_check         100.50        918.60      1  \n",
              "5630               mailed_check          19.95       1189.90      0  \n",
              "5631           electronic_check         105.70       2979.50      1  \n",
              "5632               mailed_check          54.40        114.10      1  \n",
              "5633  bank_transfer_(automatic)          68.25       1114.85      0  \n",
              "\n",
              "[5634 rows x 21 columns]"
            ],
            "text/html": [
              "\n",
              "  <div id=\"df-ce6f9b9e-98b7-49f2-8d26-c3e3e8292ea2\">\n",
              "    <div class=\"colab-df-container\">\n",
              "      <div>\n",
              "<style scoped>\n",
              "    .dataframe tbody tr th:only-of-type {\n",
              "        vertical-align: middle;\n",
              "    }\n",
              "\n",
              "    .dataframe tbody tr th {\n",
              "        vertical-align: top;\n",
              "    }\n",
              "\n",
              "    .dataframe thead th {\n",
              "        text-align: right;\n",
              "    }\n",
              "</style>\n",
              "<table border=\"1\" class=\"dataframe\">\n",
              "  <thead>\n",
              "    <tr style=\"text-align: right;\">\n",
              "      <th></th>\n",
              "      <th>customerid</th>\n",
              "      <th>gender</th>\n",
              "      <th>seniorcitizen</th>\n",
              "      <th>partner</th>\n",
              "      <th>dependents</th>\n",
              "      <th>tenure</th>\n",
              "      <th>phoneservice</th>\n",
              "      <th>multiplelines</th>\n",
              "      <th>internetservice</th>\n",
              "      <th>onlinesecurity</th>\n",
              "      <th>...</th>\n",
              "      <th>deviceprotection</th>\n",
              "      <th>techsupport</th>\n",
              "      <th>streamingtv</th>\n",
              "      <th>streamingmovies</th>\n",
              "      <th>contract</th>\n",
              "      <th>paperlessbilling</th>\n",
              "      <th>paymentmethod</th>\n",
              "      <th>monthlycharges</th>\n",
              "      <th>totalcharges</th>\n",
              "      <th>churn</th>\n",
              "    </tr>\n",
              "  </thead>\n",
              "  <tbody>\n",
              "    <tr>\n",
              "      <th>0</th>\n",
              "      <td>5442-pptjy</td>\n",
              "      <td>male</td>\n",
              "      <td>0</td>\n",
              "      <td>yes</td>\n",
              "      <td>yes</td>\n",
              "      <td>12</td>\n",
              "      <td>yes</td>\n",
              "      <td>no</td>\n",
              "      <td>no</td>\n",
              "      <td>no_internet_service</td>\n",
              "      <td>...</td>\n",
              "      <td>no_internet_service</td>\n",
              "      <td>no_internet_service</td>\n",
              "      <td>no_internet_service</td>\n",
              "      <td>no_internet_service</td>\n",
              "      <td>two_year</td>\n",
              "      <td>no</td>\n",
              "      <td>mailed_check</td>\n",
              "      <td>19.70</td>\n",
              "      <td>258.35</td>\n",
              "      <td>0</td>\n",
              "    </tr>\n",
              "    <tr>\n",
              "      <th>1</th>\n",
              "      <td>6261-rcvns</td>\n",
              "      <td>female</td>\n",
              "      <td>0</td>\n",
              "      <td>no</td>\n",
              "      <td>no</td>\n",
              "      <td>42</td>\n",
              "      <td>yes</td>\n",
              "      <td>no</td>\n",
              "      <td>dsl</td>\n",
              "      <td>yes</td>\n",
              "      <td>...</td>\n",
              "      <td>yes</td>\n",
              "      <td>yes</td>\n",
              "      <td>no</td>\n",
              "      <td>yes</td>\n",
              "      <td>one_year</td>\n",
              "      <td>no</td>\n",
              "      <td>credit_card_(automatic)</td>\n",
              "      <td>73.90</td>\n",
              "      <td>3160.55</td>\n",
              "      <td>1</td>\n",
              "    </tr>\n",
              "    <tr>\n",
              "      <th>2</th>\n",
              "      <td>2176-osjuv</td>\n",
              "      <td>male</td>\n",
              "      <td>0</td>\n",
              "      <td>yes</td>\n",
              "      <td>no</td>\n",
              "      <td>71</td>\n",
              "      <td>yes</td>\n",
              "      <td>yes</td>\n",
              "      <td>dsl</td>\n",
              "      <td>yes</td>\n",
              "      <td>...</td>\n",
              "      <td>no</td>\n",
              "      <td>yes</td>\n",
              "      <td>no</td>\n",
              "      <td>no</td>\n",
              "      <td>two_year</td>\n",
              "      <td>no</td>\n",
              "      <td>bank_transfer_(automatic)</td>\n",
              "      <td>65.15</td>\n",
              "      <td>4681.75</td>\n",
              "      <td>0</td>\n",
              "    </tr>\n",
              "    <tr>\n",
              "      <th>3</th>\n",
              "      <td>6161-erdgd</td>\n",
              "      <td>male</td>\n",
              "      <td>0</td>\n",
              "      <td>yes</td>\n",
              "      <td>yes</td>\n",
              "      <td>71</td>\n",
              "      <td>yes</td>\n",
              "      <td>yes</td>\n",
              "      <td>dsl</td>\n",
              "      <td>yes</td>\n",
              "      <td>...</td>\n",
              "      <td>yes</td>\n",
              "      <td>yes</td>\n",
              "      <td>yes</td>\n",
              "      <td>yes</td>\n",
              "      <td>one_year</td>\n",
              "      <td>no</td>\n",
              "      <td>electronic_check</td>\n",
              "      <td>85.45</td>\n",
              "      <td>6300.85</td>\n",
              "      <td>0</td>\n",
              "    </tr>\n",
              "    <tr>\n",
              "      <th>4</th>\n",
              "      <td>2364-ufrom</td>\n",
              "      <td>male</td>\n",
              "      <td>0</td>\n",
              "      <td>no</td>\n",
              "      <td>no</td>\n",
              "      <td>30</td>\n",
              "      <td>yes</td>\n",
              "      <td>no</td>\n",
              "      <td>dsl</td>\n",
              "      <td>yes</td>\n",
              "      <td>...</td>\n",
              "      <td>no</td>\n",
              "      <td>yes</td>\n",
              "      <td>yes</td>\n",
              "      <td>no</td>\n",
              "      <td>one_year</td>\n",
              "      <td>no</td>\n",
              "      <td>electronic_check</td>\n",
              "      <td>70.40</td>\n",
              "      <td>2044.75</td>\n",
              "      <td>0</td>\n",
              "    </tr>\n",
              "    <tr>\n",
              "      <th>...</th>\n",
              "      <td>...</td>\n",
              "      <td>...</td>\n",
              "      <td>...</td>\n",
              "      <td>...</td>\n",
              "      <td>...</td>\n",
              "      <td>...</td>\n",
              "      <td>...</td>\n",
              "      <td>...</td>\n",
              "      <td>...</td>\n",
              "      <td>...</td>\n",
              "      <td>...</td>\n",
              "      <td>...</td>\n",
              "      <td>...</td>\n",
              "      <td>...</td>\n",
              "      <td>...</td>\n",
              "      <td>...</td>\n",
              "      <td>...</td>\n",
              "      <td>...</td>\n",
              "      <td>...</td>\n",
              "      <td>...</td>\n",
              "      <td>...</td>\n",
              "    </tr>\n",
              "    <tr>\n",
              "      <th>5629</th>\n",
              "      <td>0781-lkxbr</td>\n",
              "      <td>male</td>\n",
              "      <td>1</td>\n",
              "      <td>no</td>\n",
              "      <td>no</td>\n",
              "      <td>9</td>\n",
              "      <td>yes</td>\n",
              "      <td>yes</td>\n",
              "      <td>fiber_optic</td>\n",
              "      <td>no</td>\n",
              "      <td>...</td>\n",
              "      <td>yes</td>\n",
              "      <td>no</td>\n",
              "      <td>yes</td>\n",
              "      <td>yes</td>\n",
              "      <td>month-to-month</td>\n",
              "      <td>yes</td>\n",
              "      <td>electronic_check</td>\n",
              "      <td>100.50</td>\n",
              "      <td>918.60</td>\n",
              "      <td>1</td>\n",
              "    </tr>\n",
              "    <tr>\n",
              "      <th>5630</th>\n",
              "      <td>3507-gasnp</td>\n",
              "      <td>male</td>\n",
              "      <td>0</td>\n",
              "      <td>no</td>\n",
              "      <td>yes</td>\n",
              "      <td>60</td>\n",
              "      <td>yes</td>\n",
              "      <td>no</td>\n",
              "      <td>no</td>\n",
              "      <td>no_internet_service</td>\n",
              "      <td>...</td>\n",
              "      <td>no_internet_service</td>\n",
              "      <td>no_internet_service</td>\n",
              "      <td>no_internet_service</td>\n",
              "      <td>no_internet_service</td>\n",
              "      <td>two_year</td>\n",
              "      <td>no</td>\n",
              "      <td>mailed_check</td>\n",
              "      <td>19.95</td>\n",
              "      <td>1189.90</td>\n",
              "      <td>0</td>\n",
              "    </tr>\n",
              "    <tr>\n",
              "      <th>5631</th>\n",
              "      <td>8868-wozgu</td>\n",
              "      <td>male</td>\n",
              "      <td>0</td>\n",
              "      <td>no</td>\n",
              "      <td>no</td>\n",
              "      <td>28</td>\n",
              "      <td>yes</td>\n",
              "      <td>yes</td>\n",
              "      <td>fiber_optic</td>\n",
              "      <td>no</td>\n",
              "      <td>...</td>\n",
              "      <td>yes</td>\n",
              "      <td>no</td>\n",
              "      <td>yes</td>\n",
              "      <td>yes</td>\n",
              "      <td>month-to-month</td>\n",
              "      <td>yes</td>\n",
              "      <td>electronic_check</td>\n",
              "      <td>105.70</td>\n",
              "      <td>2979.50</td>\n",
              "      <td>1</td>\n",
              "    </tr>\n",
              "    <tr>\n",
              "      <th>5632</th>\n",
              "      <td>1251-krreg</td>\n",
              "      <td>male</td>\n",
              "      <td>0</td>\n",
              "      <td>no</td>\n",
              "      <td>no</td>\n",
              "      <td>2</td>\n",
              "      <td>yes</td>\n",
              "      <td>yes</td>\n",
              "      <td>dsl</td>\n",
              "      <td>no</td>\n",
              "      <td>...</td>\n",
              "      <td>no</td>\n",
              "      <td>no</td>\n",
              "      <td>no</td>\n",
              "      <td>no</td>\n",
              "      <td>month-to-month</td>\n",
              "      <td>yes</td>\n",
              "      <td>mailed_check</td>\n",
              "      <td>54.40</td>\n",
              "      <td>114.10</td>\n",
              "      <td>1</td>\n",
              "    </tr>\n",
              "    <tr>\n",
              "      <th>5633</th>\n",
              "      <td>5840-nvdcg</td>\n",
              "      <td>female</td>\n",
              "      <td>0</td>\n",
              "      <td>yes</td>\n",
              "      <td>yes</td>\n",
              "      <td>16</td>\n",
              "      <td>yes</td>\n",
              "      <td>no</td>\n",
              "      <td>dsl</td>\n",
              "      <td>yes</td>\n",
              "      <td>...</td>\n",
              "      <td>no</td>\n",
              "      <td>yes</td>\n",
              "      <td>no</td>\n",
              "      <td>yes</td>\n",
              "      <td>two_year</td>\n",
              "      <td>no</td>\n",
              "      <td>bank_transfer_(automatic)</td>\n",
              "      <td>68.25</td>\n",
              "      <td>1114.85</td>\n",
              "      <td>0</td>\n",
              "    </tr>\n",
              "  </tbody>\n",
              "</table>\n",
              "<p>5634 rows × 21 columns</p>\n",
              "</div>\n",
              "      <button class=\"colab-df-convert\" onclick=\"convertToInteractive('df-ce6f9b9e-98b7-49f2-8d26-c3e3e8292ea2')\"\n",
              "              title=\"Convert this dataframe to an interactive table.\"\n",
              "              style=\"display:none;\">\n",
              "        \n",
              "  <svg xmlns=\"http://www.w3.org/2000/svg\" height=\"24px\"viewBox=\"0 0 24 24\"\n",
              "       width=\"24px\">\n",
              "    <path d=\"M0 0h24v24H0V0z\" fill=\"none\"/>\n",
              "    <path d=\"M18.56 5.44l.94 2.06.94-2.06 2.06-.94-2.06-.94-.94-2.06-.94 2.06-2.06.94zm-11 1L8.5 8.5l.94-2.06 2.06-.94-2.06-.94L8.5 2.5l-.94 2.06-2.06.94zm10 10l.94 2.06.94-2.06 2.06-.94-2.06-.94-.94-2.06-.94 2.06-2.06.94z\"/><path d=\"M17.41 7.96l-1.37-1.37c-.4-.4-.92-.59-1.43-.59-.52 0-1.04.2-1.43.59L10.3 9.45l-7.72 7.72c-.78.78-.78 2.05 0 2.83L4 21.41c.39.39.9.59 1.41.59.51 0 1.02-.2 1.41-.59l7.78-7.78 2.81-2.81c.8-.78.8-2.07 0-2.86zM5.41 20L4 18.59l7.72-7.72 1.47 1.35L5.41 20z\"/>\n",
              "  </svg>\n",
              "      </button>\n",
              "      \n",
              "  <style>\n",
              "    .colab-df-container {\n",
              "      display:flex;\n",
              "      flex-wrap:wrap;\n",
              "      gap: 12px;\n",
              "    }\n",
              "\n",
              "    .colab-df-convert {\n",
              "      background-color: #E8F0FE;\n",
              "      border: none;\n",
              "      border-radius: 50%;\n",
              "      cursor: pointer;\n",
              "      display: none;\n",
              "      fill: #1967D2;\n",
              "      height: 32px;\n",
              "      padding: 0 0 0 0;\n",
              "      width: 32px;\n",
              "    }\n",
              "\n",
              "    .colab-df-convert:hover {\n",
              "      background-color: #E2EBFA;\n",
              "      box-shadow: 0px 1px 2px rgba(60, 64, 67, 0.3), 0px 1px 3px 1px rgba(60, 64, 67, 0.15);\n",
              "      fill: #174EA6;\n",
              "    }\n",
              "\n",
              "    [theme=dark] .colab-df-convert {\n",
              "      background-color: #3B4455;\n",
              "      fill: #D2E3FC;\n",
              "    }\n",
              "\n",
              "    [theme=dark] .colab-df-convert:hover {\n",
              "      background-color: #434B5C;\n",
              "      box-shadow: 0px 1px 3px 1px rgba(0, 0, 0, 0.15);\n",
              "      filter: drop-shadow(0px 1px 2px rgba(0, 0, 0, 0.3));\n",
              "      fill: #FFFFFF;\n",
              "    }\n",
              "  </style>\n",
              "\n",
              "      <script>\n",
              "        const buttonEl =\n",
              "          document.querySelector('#df-ce6f9b9e-98b7-49f2-8d26-c3e3e8292ea2 button.colab-df-convert');\n",
              "        buttonEl.style.display =\n",
              "          google.colab.kernel.accessAllowed ? 'block' : 'none';\n",
              "\n",
              "        async function convertToInteractive(key) {\n",
              "          const element = document.querySelector('#df-ce6f9b9e-98b7-49f2-8d26-c3e3e8292ea2');\n",
              "          const dataTable =\n",
              "            await google.colab.kernel.invokeFunction('convertToInteractive',\n",
              "                                                     [key], {});\n",
              "          if (!dataTable) return;\n",
              "\n",
              "          const docLinkHtml = 'Like what you see? Visit the ' +\n",
              "            '<a target=\"_blank\" href=https://colab.research.google.com/notebooks/data_table.ipynb>data table notebook</a>'\n",
              "            + ' to learn more about interactive tables.';\n",
              "          element.innerHTML = '';\n",
              "          dataTable['output_type'] = 'display_data';\n",
              "          await google.colab.output.renderOutput(dataTable, element);\n",
              "          const docLink = document.createElement('div');\n",
              "          docLink.innerHTML = docLinkHtml;\n",
              "          element.appendChild(docLink);\n",
              "        }\n",
              "      </script>\n",
              "    </div>\n",
              "  </div>\n",
              "  "
            ]
          },
          "metadata": {},
          "execution_count": 34
        }
      ]
    },
    {
      "cell_type": "code",
      "source": [
        "df_full_train.isnull().sum()"
      ],
      "metadata": {
        "id": "zrgw5jAI3mHC",
        "colab": {
          "base_uri": "https://localhost:8080/"
        },
        "outputId": "a6476b04-9c06-4a2a-daa7-e22f8cd52cee"
      },
      "execution_count": 35,
      "outputs": [
        {
          "output_type": "execute_result",
          "data": {
            "text/plain": [
              "customerid          0\n",
              "gender              0\n",
              "seniorcitizen       0\n",
              "partner             0\n",
              "dependents          0\n",
              "tenure              0\n",
              "phoneservice        0\n",
              "multiplelines       0\n",
              "internetservice     0\n",
              "onlinesecurity      0\n",
              "onlinebackup        0\n",
              "deviceprotection    0\n",
              "techsupport         0\n",
              "streamingtv         0\n",
              "streamingmovies     0\n",
              "contract            0\n",
              "paperlessbilling    0\n",
              "paymentmethod       0\n",
              "monthlycharges      0\n",
              "totalcharges        0\n",
              "churn               0\n",
              "dtype: int64"
            ]
          },
          "metadata": {},
          "execution_count": 35
        }
      ]
    },
    {
      "cell_type": "markdown",
      "source": [
        "* We want to do a bit of exploration/look for missing values, so we don't have any missing values\n",
        "* The total charges are already fixed the missing value"
      ],
      "metadata": {
        "id": "4I-AWJRB-0LE"
      }
    },
    {
      "cell_type": "code",
      "source": [
        "df_full_train.churn.value_counts()"
      ],
      "metadata": {
        "colab": {
          "base_uri": "https://localhost:8080/"
        },
        "id": "Akevyv0__SE6",
        "outputId": "62d751a8-b40f-446f-96e8-5eda24434dde"
      },
      "execution_count": 36,
      "outputs": [
        {
          "output_type": "execute_result",
          "data": {
            "text/plain": [
              "0    4113\n",
              "1    1521\n",
              "Name: churn, dtype: int64"
            ]
          },
          "metadata": {},
          "execution_count": 36
        }
      ]
    },
    {
      "cell_type": "markdown",
      "source": [
        "* Now we will look at the target variable term\n",
        "* We look for distribution of this variable like how many users are churning user how many are non-churning for that using the value counts function\n",
        "* We look at each value it looks how many times this value occurs so for value number zero occurs four thousand something times and value number one occurs one thousand five hundred something times, that we can already see the number of churned users is like three times less approximately the number of non-churn users"
      ],
      "metadata": {
        "id": "r9-9A6jK_f50"
      }
    },
    {
      "cell_type": "code",
      "source": [
        "df_full_train.churn.value_counts(normalize=True)"
      ],
      "metadata": {
        "id": "Xe1DW4US3q6l",
        "colab": {
          "base_uri": "https://localhost:8080/"
        },
        "outputId": "b960a702-17ca-4ebb-eb2b-c90428cb7af0"
      },
      "execution_count": 37,
      "outputs": [
        {
          "output_type": "execute_result",
          "data": {
            "text/plain": [
              "0    0.730032\n",
              "1    0.269968\n",
              "Name: churn, dtype: float64"
            ]
          },
          "metadata": {},
          "execution_count": 37
        }
      ]
    },
    {
      "cell_type": "markdown",
      "source": [
        "* We can look at the percentage using these normalized true keywords divides by the number we have by the total count of elements in this series so we see that 26% of users are churning users, the thing here is called churn rate, 26%, 27% our global churn rate actually we don't need to use these value to calculate it."
      ],
      "metadata": {
        "id": "7ED5ecGaB-3T"
      }
    },
    {
      "cell_type": "code",
      "source": [
        "df_full_train.churn.mean()"
      ],
      "metadata": {
        "id": "gx6QoV0e3y9a",
        "colab": {
          "base_uri": "https://localhost:8080/"
        },
        "outputId": "fa4efc48-d519-439e-e43b-656f7713f7dd"
      },
      "execution_count": 38,
      "outputs": [
        {
          "output_type": "execute_result",
          "data": {
            "text/plain": [
              "0.26996805111821087"
            ]
          },
          "metadata": {},
          "execution_count": 38
        }
      ]
    },
    {
      "cell_type": "markdown",
      "source": [
        "* Simple compute the mean of the churn column mean and it gives us the same churn rate\n",
        "\n",
        "![image.png](data:image/png;base64,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)\n",
        "\n"
      ],
      "metadata": {
        "id": "QVH0omXdDB6n"
      }
    },
    {
      "cell_type": "markdown",
      "source": [
        "* formula for computing means is the sum over all values divided by n where n is number total number of observations since this thing can only take values from zero or not one (0,1), so this sums \n",
        "\n",
        "![image.png](data:image/png;base64,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)\n",
        "\n",
        "the  number of ones and this formula is number of ones divided by n equal to churn rate or a fraction of once in our dataset"
      ],
      "metadata": {
        "id": "H9wnQR4NDP-h"
      }
    },
    {
      "cell_type": "code",
      "source": [
        "global_churn_rate = df_full_train.churn.mean()\n",
        "global_churn_rate"
      ],
      "metadata": {
        "colab": {
          "base_uri": "https://localhost:8080/"
        },
        "id": "dVPwpIWUEFCQ",
        "outputId": "1bfafd54-3062-4491-a812-69cfe2dc3e8f"
      },
      "execution_count": 39,
      "outputs": [
        {
          "output_type": "execute_result",
          "data": {
            "text/plain": [
              "0.26996805111821087"
            ]
          },
          "metadata": {},
          "execution_count": 39
        }
      ]
    },
    {
      "cell_type": "markdown",
      "source": [
        "* The global_churn rate dataset which is approximately 27% if round it "
      ],
      "metadata": {
        "id": "yFi5RXuXEVUI"
      }
    },
    {
      "cell_type": "code",
      "source": [
        "global_churn_rate = df_full_train.churn.mean()\n",
        "round(global_churn_rate,2)\n",
        "global_churn_rate"
      ],
      "metadata": {
        "colab": {
          "base_uri": "https://localhost:8080/"
        },
        "id": "6mqu6FRhzxco",
        "outputId": "a377cfe8-451b-4ffb-c6b9-d616db56e627"
      },
      "execution_count": 40,
      "outputs": [
        {
          "output_type": "execute_result",
          "data": {
            "text/plain": [
              "0.26996805111821087"
            ]
          },
          "metadata": {},
          "execution_count": 40
        }
      ]
    },
    {
      "cell_type": "markdown",
      "source": [
        "* 27% are our users are churning"
      ],
      "metadata": {
        "id": "zEsEbU0s1GfJ"
      }
    },
    {
      "cell_type": "code",
      "source": [
        "df_full_train.dtypes"
      ],
      "metadata": {
        "colab": {
          "base_uri": "https://localhost:8080/"
        },
        "id": "ksDwWdGd1RaS",
        "outputId": "002eb793-620e-4cc4-ede3-1eaa459cda3e"
      },
      "execution_count": 41,
      "outputs": [
        {
          "output_type": "execute_result",
          "data": {
            "text/plain": [
              "customerid           object\n",
              "gender               object\n",
              "seniorcitizen         int64\n",
              "partner              object\n",
              "dependents           object\n",
              "tenure                int64\n",
              "phoneservice         object\n",
              "multiplelines        object\n",
              "internetservice      object\n",
              "onlinesecurity       object\n",
              "onlinebackup         object\n",
              "deviceprotection     object\n",
              "techsupport          object\n",
              "streamingtv          object\n",
              "streamingmovies      object\n",
              "contract             object\n",
              "paperlessbilling     object\n",
              "paymentmethod        object\n",
              "monthlycharges      float64\n",
              "totalcharges        float64\n",
              "churn                 int64\n",
              "dtype: object"
            ]
          },
          "metadata": {},
          "execution_count": 41
        }
      ]
    },
    {
      "cell_type": "markdown",
      "source": [
        "* How our target variable looks like/ look for other variable categorical variable and the numerical variables\n",
        "* We are interested in tenure, monthly charges, total charges\n",
        "* Create a list call numeric variables are tenure, monthly charges, and total charges"
      ],
      "metadata": {
        "id": "RnDUYTrw1bUZ"
      }
    },
    {
      "cell_type": "code",
      "source": [
        "numerical = ['tenure', 'monthlycharges', 'totalcharges']"
      ],
      "metadata": {
        "id": "bZYc861534Ye"
      },
      "execution_count": 42,
      "outputs": []
    },
    {
      "cell_type": "code",
      "source": [
        "df_full_train.columns"
      ],
      "metadata": {
        "colab": {
          "base_uri": "https://localhost:8080/"
        },
        "id": "nk-vo_4_07If",
        "outputId": "863e56bb-43f6-43a2-a30d-3cb390e1ac8a"
      },
      "execution_count": 43,
      "outputs": [
        {
          "output_type": "execute_result",
          "data": {
            "text/plain": [
              "Index(['customerid', 'gender', 'seniorcitizen', 'partner', 'dependents',\n",
              "       'tenure', 'phoneservice', 'multiplelines', 'internetservice',\n",
              "       'onlinesecurity', 'onlinebackup', 'deviceprotection', 'techsupport',\n",
              "       'streamingtv', 'streamingmovies', 'contract', 'paperlessbilling',\n",
              "       'paymentmethod', 'monthlycharges', 'totalcharges', 'churn'],\n",
              "      dtype='object')"
            ]
          },
          "metadata": {},
          "execution_count": 43
        }
      ]
    },
    {
      "cell_type": "markdown",
      "source": [
        "* just copy and paste the categorical variable then just remove the numerical variable on it"
      ],
      "metadata": {
        "id": "-PItLRXO2eg4"
      }
    },
    {
      "cell_type": "code",
      "source": [
        "categorical = [\n",
        "    'gender',\n",
        "    'seniorcitizen',\n",
        "    'partner',\n",
        "    'dependents',\n",
        "    'phoneservice',\n",
        "    'multiplelines',\n",
        "    'internetservice',\n",
        "    'onlinesecurity',\n",
        "    'onlinebackup',\n",
        "    'deviceprotection',\n",
        "    'techsupport',\n",
        "    'streamingtv',\n",
        "    'streamingmovies',\n",
        "    'contract',\n",
        "    'paperlessbilling',\n",
        "    'paymentmethod',\n",
        "]"
      ],
      "metadata": {
        "id": "L0AFdbKb39Fr"
      },
      "execution_count": 44,
      "outputs": []
    },
    {
      "cell_type": "markdown",
      "source": [
        "* Now we have our list of categorical variables"
      ],
      "metadata": {
        "id": "DM_5ltQn1hKj"
      }
    },
    {
      "cell_type": "code",
      "source": [
        "df_full_train[categorical]"
      ],
      "metadata": {
        "colab": {
          "base_uri": "https://localhost:8080/",
          "height": 540
        },
        "id": "gw6XGJWP1-ve",
        "outputId": "2da93c60-841b-4a8e-dfd6-ddcbfa5fd33b"
      },
      "execution_count": 45,
      "outputs": [
        {
          "output_type": "execute_result",
          "data": {
            "text/plain": [
              "      gender  seniorcitizen partner dependents phoneservice multiplelines  \\\n",
              "0       male              0     yes        yes          yes            no   \n",
              "1     female              0      no         no          yes            no   \n",
              "2       male              0     yes         no          yes           yes   \n",
              "3       male              0     yes        yes          yes           yes   \n",
              "4       male              0      no         no          yes            no   \n",
              "...      ...            ...     ...        ...          ...           ...   \n",
              "5629    male              1      no         no          yes           yes   \n",
              "5630    male              0      no        yes          yes            no   \n",
              "5631    male              0      no         no          yes           yes   \n",
              "5632    male              0      no         no          yes           yes   \n",
              "5633  female              0     yes        yes          yes            no   \n",
              "\n",
              "     internetservice       onlinesecurity         onlinebackup  \\\n",
              "0                 no  no_internet_service  no_internet_service   \n",
              "1                dsl                  yes                  yes   \n",
              "2                dsl                  yes                  yes   \n",
              "3                dsl                  yes                   no   \n",
              "4                dsl                  yes                  yes   \n",
              "...              ...                  ...                  ...   \n",
              "5629     fiber_optic                   no                   no   \n",
              "5630              no  no_internet_service  no_internet_service   \n",
              "5631     fiber_optic                   no                  yes   \n",
              "5632             dsl                   no                  yes   \n",
              "5633             dsl                  yes                  yes   \n",
              "\n",
              "         deviceprotection          techsupport          streamingtv  \\\n",
              "0     no_internet_service  no_internet_service  no_internet_service   \n",
              "1                     yes                  yes                   no   \n",
              "2                      no                  yes                   no   \n",
              "3                     yes                  yes                  yes   \n",
              "4                      no                  yes                  yes   \n",
              "...                   ...                  ...                  ...   \n",
              "5629                  yes                   no                  yes   \n",
              "5630  no_internet_service  no_internet_service  no_internet_service   \n",
              "5631                  yes                   no                  yes   \n",
              "5632                   no                   no                   no   \n",
              "5633                   no                  yes                   no   \n",
              "\n",
              "          streamingmovies        contract paperlessbilling  \\\n",
              "0     no_internet_service        two_year               no   \n",
              "1                     yes        one_year               no   \n",
              "2                      no        two_year               no   \n",
              "3                     yes        one_year               no   \n",
              "4                      no        one_year               no   \n",
              "...                   ...             ...              ...   \n",
              "5629                  yes  month-to-month              yes   \n",
              "5630  no_internet_service        two_year               no   \n",
              "5631                  yes  month-to-month              yes   \n",
              "5632                   no  month-to-month              yes   \n",
              "5633                  yes        two_year               no   \n",
              "\n",
              "                  paymentmethod  \n",
              "0                  mailed_check  \n",
              "1       credit_card_(automatic)  \n",
              "2     bank_transfer_(automatic)  \n",
              "3              electronic_check  \n",
              "4              electronic_check  \n",
              "...                         ...  \n",
              "5629           electronic_check  \n",
              "5630               mailed_check  \n",
              "5631           electronic_check  \n",
              "5632               mailed_check  \n",
              "5633  bank_transfer_(automatic)  \n",
              "\n",
              "[5634 rows x 16 columns]"
            ],
            "text/html": [
              "\n",
              "  <div id=\"df-08991456-3d3a-468d-a914-e903968010c2\">\n",
              "    <div class=\"colab-df-container\">\n",
              "      <div>\n",
              "<style scoped>\n",
              "    .dataframe tbody tr th:only-of-type {\n",
              "        vertical-align: middle;\n",
              "    }\n",
              "\n",
              "    .dataframe tbody tr th {\n",
              "        vertical-align: top;\n",
              "    }\n",
              "\n",
              "    .dataframe thead th {\n",
              "        text-align: right;\n",
              "    }\n",
              "</style>\n",
              "<table border=\"1\" class=\"dataframe\">\n",
              "  <thead>\n",
              "    <tr style=\"text-align: right;\">\n",
              "      <th></th>\n",
              "      <th>gender</th>\n",
              "      <th>seniorcitizen</th>\n",
              "      <th>partner</th>\n",
              "      <th>dependents</th>\n",
              "      <th>phoneservice</th>\n",
              "      <th>multiplelines</th>\n",
              "      <th>internetservice</th>\n",
              "      <th>onlinesecurity</th>\n",
              "      <th>onlinebackup</th>\n",
              "      <th>deviceprotection</th>\n",
              "      <th>techsupport</th>\n",
              "      <th>streamingtv</th>\n",
              "      <th>streamingmovies</th>\n",
              "      <th>contract</th>\n",
              "      <th>paperlessbilling</th>\n",
              "      <th>paymentmethod</th>\n",
              "    </tr>\n",
              "  </thead>\n",
              "  <tbody>\n",
              "    <tr>\n",
              "      <th>0</th>\n",
              "      <td>male</td>\n",
              "      <td>0</td>\n",
              "      <td>yes</td>\n",
              "      <td>yes</td>\n",
              "      <td>yes</td>\n",
              "      <td>no</td>\n",
              "      <td>no</td>\n",
              "      <td>no_internet_service</td>\n",
              "      <td>no_internet_service</td>\n",
              "      <td>no_internet_service</td>\n",
              "      <td>no_internet_service</td>\n",
              "      <td>no_internet_service</td>\n",
              "      <td>no_internet_service</td>\n",
              "      <td>two_year</td>\n",
              "      <td>no</td>\n",
              "      <td>mailed_check</td>\n",
              "    </tr>\n",
              "    <tr>\n",
              "      <th>1</th>\n",
              "      <td>female</td>\n",
              "      <td>0</td>\n",
              "      <td>no</td>\n",
              "      <td>no</td>\n",
              "      <td>yes</td>\n",
              "      <td>no</td>\n",
              "      <td>dsl</td>\n",
              "      <td>yes</td>\n",
              "      <td>yes</td>\n",
              "      <td>yes</td>\n",
              "      <td>yes</td>\n",
              "      <td>no</td>\n",
              "      <td>yes</td>\n",
              "      <td>one_year</td>\n",
              "      <td>no</td>\n",
              "      <td>credit_card_(automatic)</td>\n",
              "    </tr>\n",
              "    <tr>\n",
              "      <th>2</th>\n",
              "      <td>male</td>\n",
              "      <td>0</td>\n",
              "      <td>yes</td>\n",
              "      <td>no</td>\n",
              "      <td>yes</td>\n",
              "      <td>yes</td>\n",
              "      <td>dsl</td>\n",
              "      <td>yes</td>\n",
              "      <td>yes</td>\n",
              "      <td>no</td>\n",
              "      <td>yes</td>\n",
              "      <td>no</td>\n",
              "      <td>no</td>\n",
              "      <td>two_year</td>\n",
              "      <td>no</td>\n",
              "      <td>bank_transfer_(automatic)</td>\n",
              "    </tr>\n",
              "    <tr>\n",
              "      <th>3</th>\n",
              "      <td>male</td>\n",
              "      <td>0</td>\n",
              "      <td>yes</td>\n",
              "      <td>yes</td>\n",
              "      <td>yes</td>\n",
              "      <td>yes</td>\n",
              "      <td>dsl</td>\n",
              "      <td>yes</td>\n",
              "      <td>no</td>\n",
              "      <td>yes</td>\n",
              "      <td>yes</td>\n",
              "      <td>yes</td>\n",
              "      <td>yes</td>\n",
              "      <td>one_year</td>\n",
              "      <td>no</td>\n",
              "      <td>electronic_check</td>\n",
              "    </tr>\n",
              "    <tr>\n",
              "      <th>4</th>\n",
              "      <td>male</td>\n",
              "      <td>0</td>\n",
              "      <td>no</td>\n",
              "      <td>no</td>\n",
              "      <td>yes</td>\n",
              "      <td>no</td>\n",
              "      <td>dsl</td>\n",
              "      <td>yes</td>\n",
              "      <td>yes</td>\n",
              "      <td>no</td>\n",
              "      <td>yes</td>\n",
              "      <td>yes</td>\n",
              "      <td>no</td>\n",
              "      <td>one_year</td>\n",
              "      <td>no</td>\n",
              "      <td>electronic_check</td>\n",
              "    </tr>\n",
              "    <tr>\n",
              "      <th>...</th>\n",
              "      <td>...</td>\n",
              "      <td>...</td>\n",
              "      <td>...</td>\n",
              "      <td>...</td>\n",
              "      <td>...</td>\n",
              "      <td>...</td>\n",
              "      <td>...</td>\n",
              "      <td>...</td>\n",
              "      <td>...</td>\n",
              "      <td>...</td>\n",
              "      <td>...</td>\n",
              "      <td>...</td>\n",
              "      <td>...</td>\n",
              "      <td>...</td>\n",
              "      <td>...</td>\n",
              "      <td>...</td>\n",
              "    </tr>\n",
              "    <tr>\n",
              "      <th>5629</th>\n",
              "      <td>male</td>\n",
              "      <td>1</td>\n",
              "      <td>no</td>\n",
              "      <td>no</td>\n",
              "      <td>yes</td>\n",
              "      <td>yes</td>\n",
              "      <td>fiber_optic</td>\n",
              "      <td>no</td>\n",
              "      <td>no</td>\n",
              "      <td>yes</td>\n",
              "      <td>no</td>\n",
              "      <td>yes</td>\n",
              "      <td>yes</td>\n",
              "      <td>month-to-month</td>\n",
              "      <td>yes</td>\n",
              "      <td>electronic_check</td>\n",
              "    </tr>\n",
              "    <tr>\n",
              "      <th>5630</th>\n",
              "      <td>male</td>\n",
              "      <td>0</td>\n",
              "      <td>no</td>\n",
              "      <td>yes</td>\n",
              "      <td>yes</td>\n",
              "      <td>no</td>\n",
              "      <td>no</td>\n",
              "      <td>no_internet_service</td>\n",
              "      <td>no_internet_service</td>\n",
              "      <td>no_internet_service</td>\n",
              "      <td>no_internet_service</td>\n",
              "      <td>no_internet_service</td>\n",
              "      <td>no_internet_service</td>\n",
              "      <td>two_year</td>\n",
              "      <td>no</td>\n",
              "      <td>mailed_check</td>\n",
              "    </tr>\n",
              "    <tr>\n",
              "      <th>5631</th>\n",
              "      <td>male</td>\n",
              "      <td>0</td>\n",
              "      <td>no</td>\n",
              "      <td>no</td>\n",
              "      <td>yes</td>\n",
              "      <td>yes</td>\n",
              "      <td>fiber_optic</td>\n",
              "      <td>no</td>\n",
              "      <td>yes</td>\n",
              "      <td>yes</td>\n",
              "      <td>no</td>\n",
              "      <td>yes</td>\n",
              "      <td>yes</td>\n",
              "      <td>month-to-month</td>\n",
              "      <td>yes</td>\n",
              "      <td>electronic_check</td>\n",
              "    </tr>\n",
              "    <tr>\n",
              "      <th>5632</th>\n",
              "      <td>male</td>\n",
              "      <td>0</td>\n",
              "      <td>no</td>\n",
              "      <td>no</td>\n",
              "      <td>yes</td>\n",
              "      <td>yes</td>\n",
              "      <td>dsl</td>\n",
              "      <td>no</td>\n",
              "      <td>yes</td>\n",
              "      <td>no</td>\n",
              "      <td>no</td>\n",
              "      <td>no</td>\n",
              "      <td>no</td>\n",
              "      <td>month-to-month</td>\n",
              "      <td>yes</td>\n",
              "      <td>mailed_check</td>\n",
              "    </tr>\n",
              "    <tr>\n",
              "      <th>5633</th>\n",
              "      <td>female</td>\n",
              "      <td>0</td>\n",
              "      <td>yes</td>\n",
              "      <td>yes</td>\n",
              "      <td>yes</td>\n",
              "      <td>no</td>\n",
              "      <td>dsl</td>\n",
              "      <td>yes</td>\n",
              "      <td>yes</td>\n",
              "      <td>no</td>\n",
              "      <td>yes</td>\n",
              "      <td>no</td>\n",
              "      <td>yes</td>\n",
              "      <td>two_year</td>\n",
              "      <td>no</td>\n",
              "      <td>bank_transfer_(automatic)</td>\n",
              "    </tr>\n",
              "  </tbody>\n",
              "</table>\n",
              "<p>5634 rows × 16 columns</p>\n",
              "</div>\n",
              "      <button class=\"colab-df-convert\" onclick=\"convertToInteractive('df-08991456-3d3a-468d-a914-e903968010c2')\"\n",
              "              title=\"Convert this dataframe to an interactive table.\"\n",
              "              style=\"display:none;\">\n",
              "        \n",
              "  <svg xmlns=\"http://www.w3.org/2000/svg\" height=\"24px\"viewBox=\"0 0 24 24\"\n",
              "       width=\"24px\">\n",
              "    <path d=\"M0 0h24v24H0V0z\" fill=\"none\"/>\n",
              "    <path d=\"M18.56 5.44l.94 2.06.94-2.06 2.06-.94-2.06-.94-.94-2.06-.94 2.06-2.06.94zm-11 1L8.5 8.5l.94-2.06 2.06-.94-2.06-.94L8.5 2.5l-.94 2.06-2.06.94zm10 10l.94 2.06.94-2.06 2.06-.94-2.06-.94-.94-2.06-.94 2.06-2.06.94z\"/><path d=\"M17.41 7.96l-1.37-1.37c-.4-.4-.92-.59-1.43-.59-.52 0-1.04.2-1.43.59L10.3 9.45l-7.72 7.72c-.78.78-.78 2.05 0 2.83L4 21.41c.39.39.9.59 1.41.59.51 0 1.02-.2 1.41-.59l7.78-7.78 2.81-2.81c.8-.78.8-2.07 0-2.86zM5.41 20L4 18.59l7.72-7.72 1.47 1.35L5.41 20z\"/>\n",
              "  </svg>\n",
              "      </button>\n",
              "      \n",
              "  <style>\n",
              "    .colab-df-container {\n",
              "      display:flex;\n",
              "      flex-wrap:wrap;\n",
              "      gap: 12px;\n",
              "    }\n",
              "\n",
              "    .colab-df-convert {\n",
              "      background-color: #E8F0FE;\n",
              "      border: none;\n",
              "      border-radius: 50%;\n",
              "      cursor: pointer;\n",
              "      display: none;\n",
              "      fill: #1967D2;\n",
              "      height: 32px;\n",
              "      padding: 0 0 0 0;\n",
              "      width: 32px;\n",
              "    }\n",
              "\n",
              "    .colab-df-convert:hover {\n",
              "      background-color: #E2EBFA;\n",
              "      box-shadow: 0px 1px 2px rgba(60, 64, 67, 0.3), 0px 1px 3px 1px rgba(60, 64, 67, 0.15);\n",
              "      fill: #174EA6;\n",
              "    }\n",
              "\n",
              "    [theme=dark] .colab-df-convert {\n",
              "      background-color: #3B4455;\n",
              "      fill: #D2E3FC;\n",
              "    }\n",
              "\n",
              "    [theme=dark] .colab-df-convert:hover {\n",
              "      background-color: #434B5C;\n",
              "      box-shadow: 0px 1px 3px 1px rgba(0, 0, 0, 0.15);\n",
              "      filter: drop-shadow(0px 1px 2px rgba(0, 0, 0, 0.3));\n",
              "      fill: #FFFFFF;\n",
              "    }\n",
              "  </style>\n",
              "\n",
              "      <script>\n",
              "        const buttonEl =\n",
              "          document.querySelector('#df-08991456-3d3a-468d-a914-e903968010c2 button.colab-df-convert');\n",
              "        buttonEl.style.display =\n",
              "          google.colab.kernel.accessAllowed ? 'block' : 'none';\n",
              "\n",
              "        async function convertToInteractive(key) {\n",
              "          const element = document.querySelector('#df-08991456-3d3a-468d-a914-e903968010c2');\n",
              "          const dataTable =\n",
              "            await google.colab.kernel.invokeFunction('convertToInteractive',\n",
              "                                                     [key], {});\n",
              "          if (!dataTable) return;\n",
              "\n",
              "          const docLinkHtml = 'Like what you see? Visit the ' +\n",
              "            '<a target=\"_blank\" href=https://colab.research.google.com/notebooks/data_table.ipynb>data table notebook</a>'\n",
              "            + ' to learn more about interactive tables.';\n",
              "          element.innerHTML = '';\n",
              "          dataTable['output_type'] = 'display_data';\n",
              "          await google.colab.output.renderOutput(dataTable, element);\n",
              "          const docLink = document.createElement('div');\n",
              "          docLink.innerHTML = docLinkHtml;\n",
              "          element.appendChild(docLink);\n",
              "        }\n",
              "      </script>\n",
              "    </div>\n",
              "  </div>\n",
              "  "
            ]
          },
          "metadata": {},
          "execution_count": 45
        }
      ]
    },
    {
      "cell_type": "code",
      "source": [
        "df_full_train[categorical].nunique()"
      ],
      "metadata": {
        "id": "wgKN6lN74Drv",
        "colab": {
          "base_uri": "https://localhost:8080/"
        },
        "outputId": "faa1e740-ade8-4e25-fa29-c875c033f897"
      },
      "execution_count": 46,
      "outputs": [
        {
          "output_type": "execute_result",
          "data": {
            "text/plain": [
              "gender              2\n",
              "seniorcitizen       2\n",
              "partner             2\n",
              "dependents          2\n",
              "phoneservice        2\n",
              "multiplelines       3\n",
              "internetservice     3\n",
              "onlinesecurity      3\n",
              "onlinebackup        3\n",
              "deviceprotection    3\n",
              "techsupport         3\n",
              "streamingtv         3\n",
              "streamingmovies     3\n",
              "contract            3\n",
              "paperlessbilling    2\n",
              "paymentmethod       4\n",
              "dtype: int64"
            ]
          },
          "metadata": {},
          "execution_count": 46
        }
      ]
    },
    {
      "cell_type": "markdown",
      "source": [
        "* This is where we select a subset from the dataframe all the categorical variables and then there is a function called **nunique** which will calculate the number of unique values for each column, most of them are binary"
      ],
      "metadata": {
        "id": "FZiQRXWh2uJC"
      }
    },
    {
      "cell_type": "markdown",
      "source": [
        "## **3.5 Feature importance: Churn rate and risk ratio**(video 3.5)\n",
        "\n",
        "Feature importance analysis (part of EDA) - identifying which features affect our target variable\n",
        "\n",
        "* Churn rate\n",
        "* Risk ratio\n",
        "* Mutual information - later"
      ],
      "metadata": {
        "id": "2Z0UFXBW4Lms"
      }
    },
    {
      "cell_type": "markdown",
      "source": [
        "### Functions and methods:\n",
        "\n",
        "* df.groupby('x').y.agg([mean()]) - returns a datframe with mean of y series grouped by x series\n",
        "* display(x) displays an output in the cell of a jupyter notebook.\n"
      ],
      "metadata": {
        "id": "bJx7zjd4fWDr"
      }
    },
    {
      "cell_type": "markdown",
      "source": [
        "### **Churn rate**\n",
        "\n",
        "**Churn rate:** Difference between mean of the target variable and mean of categories for a feature. If this difference is greater than 0, it means that the category is less likely to churn, and if the difference is lower than 0, the group is more likely to churn. The larger differences are indicators that a variable is more important than others."
      ],
      "metadata": {
        "id": "w5IFMAxN4bS7"
      }
    },
    {
      "cell_type": "code",
      "source": [
        "df_full_train.head()"
      ],
      "metadata": {
        "id": "uoHbbuwM4Xry",
        "colab": {
          "base_uri": "https://localhost:8080/",
          "height": 300
        },
        "outputId": "9511ff49-5c3e-494d-8810-2eaad666738c"
      },
      "execution_count": 47,
      "outputs": [
        {
          "output_type": "execute_result",
          "data": {
            "text/plain": [
              "   customerid  gender  seniorcitizen partner dependents  tenure phoneservice  \\\n",
              "0  5442-pptjy    male              0     yes        yes      12          yes   \n",
              "1  6261-rcvns  female              0      no         no      42          yes   \n",
              "2  2176-osjuv    male              0     yes         no      71          yes   \n",
              "3  6161-erdgd    male              0     yes        yes      71          yes   \n",
              "4  2364-ufrom    male              0      no         no      30          yes   \n",
              "\n",
              "  multiplelines internetservice       onlinesecurity  ...  \\\n",
              "0            no              no  no_internet_service  ...   \n",
              "1            no             dsl                  yes  ...   \n",
              "2           yes             dsl                  yes  ...   \n",
              "3           yes             dsl                  yes  ...   \n",
              "4            no             dsl                  yes  ...   \n",
              "\n",
              "      deviceprotection          techsupport          streamingtv  \\\n",
              "0  no_internet_service  no_internet_service  no_internet_service   \n",
              "1                  yes                  yes                   no   \n",
              "2                   no                  yes                   no   \n",
              "3                  yes                  yes                  yes   \n",
              "4                   no                  yes                  yes   \n",
              "\n",
              "       streamingmovies  contract paperlessbilling              paymentmethod  \\\n",
              "0  no_internet_service  two_year               no               mailed_check   \n",
              "1                  yes  one_year               no    credit_card_(automatic)   \n",
              "2                   no  two_year               no  bank_transfer_(automatic)   \n",
              "3                  yes  one_year               no           electronic_check   \n",
              "4                   no  one_year               no           electronic_check   \n",
              "\n",
              "  monthlycharges  totalcharges  churn  \n",
              "0          19.70        258.35      0  \n",
              "1          73.90       3160.55      1  \n",
              "2          65.15       4681.75      0  \n",
              "3          85.45       6300.85      0  \n",
              "4          70.40       2044.75      0  \n",
              "\n",
              "[5 rows x 21 columns]"
            ],
            "text/html": [
              "\n",
              "  <div id=\"df-53366add-5b6a-441c-9658-00f041b6aca4\">\n",
              "    <div class=\"colab-df-container\">\n",
              "      <div>\n",
              "<style scoped>\n",
              "    .dataframe tbody tr th:only-of-type {\n",
              "        vertical-align: middle;\n",
              "    }\n",
              "\n",
              "    .dataframe tbody tr th {\n",
              "        vertical-align: top;\n",
              "    }\n",
              "\n",
              "    .dataframe thead th {\n",
              "        text-align: right;\n",
              "    }\n",
              "</style>\n",
              "<table border=\"1\" class=\"dataframe\">\n",
              "  <thead>\n",
              "    <tr style=\"text-align: right;\">\n",
              "      <th></th>\n",
              "      <th>customerid</th>\n",
              "      <th>gender</th>\n",
              "      <th>seniorcitizen</th>\n",
              "      <th>partner</th>\n",
              "      <th>dependents</th>\n",
              "      <th>tenure</th>\n",
              "      <th>phoneservice</th>\n",
              "      <th>multiplelines</th>\n",
              "      <th>internetservice</th>\n",
              "      <th>onlinesecurity</th>\n",
              "      <th>...</th>\n",
              "      <th>deviceprotection</th>\n",
              "      <th>techsupport</th>\n",
              "      <th>streamingtv</th>\n",
              "      <th>streamingmovies</th>\n",
              "      <th>contract</th>\n",
              "      <th>paperlessbilling</th>\n",
              "      <th>paymentmethod</th>\n",
              "      <th>monthlycharges</th>\n",
              "      <th>totalcharges</th>\n",
              "      <th>churn</th>\n",
              "    </tr>\n",
              "  </thead>\n",
              "  <tbody>\n",
              "    <tr>\n",
              "      <th>0</th>\n",
              "      <td>5442-pptjy</td>\n",
              "      <td>male</td>\n",
              "      <td>0</td>\n",
              "      <td>yes</td>\n",
              "      <td>yes</td>\n",
              "      <td>12</td>\n",
              "      <td>yes</td>\n",
              "      <td>no</td>\n",
              "      <td>no</td>\n",
              "      <td>no_internet_service</td>\n",
              "      <td>...</td>\n",
              "      <td>no_internet_service</td>\n",
              "      <td>no_internet_service</td>\n",
              "      <td>no_internet_service</td>\n",
              "      <td>no_internet_service</td>\n",
              "      <td>two_year</td>\n",
              "      <td>no</td>\n",
              "      <td>mailed_check</td>\n",
              "      <td>19.70</td>\n",
              "      <td>258.35</td>\n",
              "      <td>0</td>\n",
              "    </tr>\n",
              "    <tr>\n",
              "      <th>1</th>\n",
              "      <td>6261-rcvns</td>\n",
              "      <td>female</td>\n",
              "      <td>0</td>\n",
              "      <td>no</td>\n",
              "      <td>no</td>\n",
              "      <td>42</td>\n",
              "      <td>yes</td>\n",
              "      <td>no</td>\n",
              "      <td>dsl</td>\n",
              "      <td>yes</td>\n",
              "      <td>...</td>\n",
              "      <td>yes</td>\n",
              "      <td>yes</td>\n",
              "      <td>no</td>\n",
              "      <td>yes</td>\n",
              "      <td>one_year</td>\n",
              "      <td>no</td>\n",
              "      <td>credit_card_(automatic)</td>\n",
              "      <td>73.90</td>\n",
              "      <td>3160.55</td>\n",
              "      <td>1</td>\n",
              "    </tr>\n",
              "    <tr>\n",
              "      <th>2</th>\n",
              "      <td>2176-osjuv</td>\n",
              "      <td>male</td>\n",
              "      <td>0</td>\n",
              "      <td>yes</td>\n",
              "      <td>no</td>\n",
              "      <td>71</td>\n",
              "      <td>yes</td>\n",
              "      <td>yes</td>\n",
              "      <td>dsl</td>\n",
              "      <td>yes</td>\n",
              "      <td>...</td>\n",
              "      <td>no</td>\n",
              "      <td>yes</td>\n",
              "      <td>no</td>\n",
              "      <td>no</td>\n",
              "      <td>two_year</td>\n",
              "      <td>no</td>\n",
              "      <td>bank_transfer_(automatic)</td>\n",
              "      <td>65.15</td>\n",
              "      <td>4681.75</td>\n",
              "      <td>0</td>\n",
              "    </tr>\n",
              "    <tr>\n",
              "      <th>3</th>\n",
              "      <td>6161-erdgd</td>\n",
              "      <td>male</td>\n",
              "      <td>0</td>\n",
              "      <td>yes</td>\n",
              "      <td>yes</td>\n",
              "      <td>71</td>\n",
              "      <td>yes</td>\n",
              "      <td>yes</td>\n",
              "      <td>dsl</td>\n",
              "      <td>yes</td>\n",
              "      <td>...</td>\n",
              "      <td>yes</td>\n",
              "      <td>yes</td>\n",
              "      <td>yes</td>\n",
              "      <td>yes</td>\n",
              "      <td>one_year</td>\n",
              "      <td>no</td>\n",
              "      <td>electronic_check</td>\n",
              "      <td>85.45</td>\n",
              "      <td>6300.85</td>\n",
              "      <td>0</td>\n",
              "    </tr>\n",
              "    <tr>\n",
              "      <th>4</th>\n",
              "      <td>2364-ufrom</td>\n",
              "      <td>male</td>\n",
              "      <td>0</td>\n",
              "      <td>no</td>\n",
              "      <td>no</td>\n",
              "      <td>30</td>\n",
              "      <td>yes</td>\n",
              "      <td>no</td>\n",
              "      <td>dsl</td>\n",
              "      <td>yes</td>\n",
              "      <td>...</td>\n",
              "      <td>no</td>\n",
              "      <td>yes</td>\n",
              "      <td>yes</td>\n",
              "      <td>no</td>\n",
              "      <td>one_year</td>\n",
              "      <td>no</td>\n",
              "      <td>electronic_check</td>\n",
              "      <td>70.40</td>\n",
              "      <td>2044.75</td>\n",
              "      <td>0</td>\n",
              "    </tr>\n",
              "  </tbody>\n",
              "</table>\n",
              "<p>5 rows × 21 columns</p>\n",
              "</div>\n",
              "      <button class=\"colab-df-convert\" onclick=\"convertToInteractive('df-53366add-5b6a-441c-9658-00f041b6aca4')\"\n",
              "              title=\"Convert this dataframe to an interactive table.\"\n",
              "              style=\"display:none;\">\n",
              "        \n",
              "  <svg xmlns=\"http://www.w3.org/2000/svg\" height=\"24px\"viewBox=\"0 0 24 24\"\n",
              "       width=\"24px\">\n",
              "    <path d=\"M0 0h24v24H0V0z\" fill=\"none\"/>\n",
              "    <path d=\"M18.56 5.44l.94 2.06.94-2.06 2.06-.94-2.06-.94-.94-2.06-.94 2.06-2.06.94zm-11 1L8.5 8.5l.94-2.06 2.06-.94-2.06-.94L8.5 2.5l-.94 2.06-2.06.94zm10 10l.94 2.06.94-2.06 2.06-.94-2.06-.94-.94-2.06-.94 2.06-2.06.94z\"/><path d=\"M17.41 7.96l-1.37-1.37c-.4-.4-.92-.59-1.43-.59-.52 0-1.04.2-1.43.59L10.3 9.45l-7.72 7.72c-.78.78-.78 2.05 0 2.83L4 21.41c.39.39.9.59 1.41.59.51 0 1.02-.2 1.41-.59l7.78-7.78 2.81-2.81c.8-.78.8-2.07 0-2.86zM5.41 20L4 18.59l7.72-7.72 1.47 1.35L5.41 20z\"/>\n",
              "  </svg>\n",
              "      </button>\n",
              "      \n",
              "  <style>\n",
              "    .colab-df-container {\n",
              "      display:flex;\n",
              "      flex-wrap:wrap;\n",
              "      gap: 12px;\n",
              "    }\n",
              "\n",
              "    .colab-df-convert {\n",
              "      background-color: #E8F0FE;\n",
              "      border: none;\n",
              "      border-radius: 50%;\n",
              "      cursor: pointer;\n",
              "      display: none;\n",
              "      fill: #1967D2;\n",
              "      height: 32px;\n",
              "      padding: 0 0 0 0;\n",
              "      width: 32px;\n",
              "    }\n",
              "\n",
              "    .colab-df-convert:hover {\n",
              "      background-color: #E2EBFA;\n",
              "      box-shadow: 0px 1px 2px rgba(60, 64, 67, 0.3), 0px 1px 3px 1px rgba(60, 64, 67, 0.15);\n",
              "      fill: #174EA6;\n",
              "    }\n",
              "\n",
              "    [theme=dark] .colab-df-convert {\n",
              "      background-color: #3B4455;\n",
              "      fill: #D2E3FC;\n",
              "    }\n",
              "\n",
              "    [theme=dark] .colab-df-convert:hover {\n",
              "      background-color: #434B5C;\n",
              "      box-shadow: 0px 1px 3px 1px rgba(0, 0, 0, 0.15);\n",
              "      filter: drop-shadow(0px 1px 2px rgba(0, 0, 0, 0.3));\n",
              "      fill: #FFFFFF;\n",
              "    }\n",
              "  </style>\n",
              "\n",
              "      <script>\n",
              "        const buttonEl =\n",
              "          document.querySelector('#df-53366add-5b6a-441c-9658-00f041b6aca4 button.colab-df-convert');\n",
              "        buttonEl.style.display =\n",
              "          google.colab.kernel.accessAllowed ? 'block' : 'none';\n",
              "\n",
              "        async function convertToInteractive(key) {\n",
              "          const element = document.querySelector('#df-53366add-5b6a-441c-9658-00f041b6aca4');\n",
              "          const dataTable =\n",
              "            await google.colab.kernel.invokeFunction('convertToInteractive',\n",
              "                                                     [key], {});\n",
              "          if (!dataTable) return;\n",
              "\n",
              "          const docLinkHtml = 'Like what you see? Visit the ' +\n",
              "            '<a target=\"_blank\" href=https://colab.research.google.com/notebooks/data_table.ipynb>data table notebook</a>'\n",
              "            + ' to learn more about interactive tables.';\n",
              "          element.innerHTML = '';\n",
              "          dataTable['output_type'] = 'display_data';\n",
              "          await google.colab.output.renderOutput(dataTable, element);\n",
              "          const docLink = document.createElement('div');\n",
              "          docLink.innerHTML = docLinkHtml;\n",
              "          element.appendChild(docLink);\n",
              "        }\n",
              "      </script>\n",
              "    </div>\n",
              "  </div>\n",
              "  "
            ]
          },
          "metadata": {},
          "execution_count": 47
        }
      ]
    },
    {
      "cell_type": "code",
      "source": [
        "df_full_train[df_full_train.gender == 'female']"
      ],
      "metadata": {
        "colab": {
          "base_uri": "https://localhost:8080/",
          "height": 574
        },
        "id": "GOz3vlDe3ocQ",
        "outputId": "f033018a-3a3c-46e2-b170-575f98495a68"
      },
      "execution_count": 48,
      "outputs": [
        {
          "output_type": "execute_result",
          "data": {
            "text/plain": [
              "      customerid  gender  seniorcitizen partner dependents  tenure  \\\n",
              "1     6261-rcvns  female              0      no         no      42   \n",
              "5     4765-oxppd  female              0     yes        yes       9   \n",
              "9     1732-vhubq  female              1     yes        yes      47   \n",
              "11    7017-vfuly  female              0     yes         no       2   \n",
              "13    1374-dmzui  female              1      no         no       4   \n",
              "...          ...     ...            ...     ...        ...     ...   \n",
              "5618  8065-ykxkd  female              0      no         no      10   \n",
              "5619  5627-tvbpp  female              0      no        yes      35   \n",
              "5626  3262-eidhv  female              0     yes        yes      72   \n",
              "5627  7446-sfaoa  female              0     yes         no      37   \n",
              "5633  5840-nvdcg  female              0     yes        yes      16   \n",
              "\n",
              "     phoneservice multiplelines internetservice       onlinesecurity  ...  \\\n",
              "1             yes            no             dsl                  yes  ...   \n",
              "5             yes            no             dsl                  yes  ...   \n",
              "9             yes            no     fiber_optic                   no  ...   \n",
              "11            yes            no              no  no_internet_service  ...   \n",
              "13            yes           yes     fiber_optic                   no  ...   \n",
              "...           ...           ...             ...                  ...  ...   \n",
              "5618          yes           yes     fiber_optic                   no  ...   \n",
              "5619          yes            no              no  no_internet_service  ...   \n",
              "5626          yes           yes             dsl                  yes  ...   \n",
              "5627          yes            no              no  no_internet_service  ...   \n",
              "5633          yes            no             dsl                  yes  ...   \n",
              "\n",
              "         deviceprotection          techsupport          streamingtv  \\\n",
              "1                     yes                  yes                   no   \n",
              "5                     yes                  yes                   no   \n",
              "9                      no                   no                   no   \n",
              "11    no_internet_service  no_internet_service  no_internet_service   \n",
              "13                     no                   no                  yes   \n",
              "...                   ...                  ...                  ...   \n",
              "5618                   no                   no                   no   \n",
              "5619  no_internet_service  no_internet_service  no_internet_service   \n",
              "5626                  yes                  yes                  yes   \n",
              "5627  no_internet_service  no_internet_service  no_internet_service   \n",
              "5633                   no                  yes                   no   \n",
              "\n",
              "          streamingmovies        contract paperlessbilling  \\\n",
              "1                     yes        one_year               no   \n",
              "5                      no  month-to-month               no   \n",
              "9                      no  month-to-month               no   \n",
              "11    no_internet_service  month-to-month               no   \n",
              "13                    yes  month-to-month              yes   \n",
              "...                   ...             ...              ...   \n",
              "5618                   no  month-to-month              yes   \n",
              "5619  no_internet_service        one_year              yes   \n",
              "5626                  yes        two_year               no   \n",
              "5627  no_internet_service        one_year              yes   \n",
              "5633                  yes        two_year               no   \n",
              "\n",
              "                  paymentmethod monthlycharges  totalcharges  churn  \n",
              "1       credit_card_(automatic)          73.90       3160.55      1  \n",
              "5                  mailed_check          65.00        663.05      1  \n",
              "9     bank_transfer_(automatic)          70.55       3309.25      1  \n",
              "11    bank_transfer_(automatic)          20.10         43.15      0  \n",
              "13             electronic_check          94.30        424.45      1  \n",
              "...                         ...            ...           ...    ...  \n",
              "5618           electronic_check          74.75        799.65      1  \n",
              "5619    credit_card_(automatic)          20.10        644.50      0  \n",
              "5626    credit_card_(automatic)          84.70       5893.90      0  \n",
              "5627  bank_transfer_(automatic)          19.85        717.50      0  \n",
              "5633  bank_transfer_(automatic)          68.25       1114.85      0  \n",
              "\n",
              "[2796 rows x 21 columns]"
            ],
            "text/html": [
              "\n",
              "  <div id=\"df-f79345ce-8e36-4f7c-9b0a-3be85598b0d3\">\n",
              "    <div class=\"colab-df-container\">\n",
              "      <div>\n",
              "<style scoped>\n",
              "    .dataframe tbody tr th:only-of-type {\n",
              "        vertical-align: middle;\n",
              "    }\n",
              "\n",
              "    .dataframe tbody tr th {\n",
              "        vertical-align: top;\n",
              "    }\n",
              "\n",
              "    .dataframe thead th {\n",
              "        text-align: right;\n",
              "    }\n",
              "</style>\n",
              "<table border=\"1\" class=\"dataframe\">\n",
              "  <thead>\n",
              "    <tr style=\"text-align: right;\">\n",
              "      <th></th>\n",
              "      <th>customerid</th>\n",
              "      <th>gender</th>\n",
              "      <th>seniorcitizen</th>\n",
              "      <th>partner</th>\n",
              "      <th>dependents</th>\n",
              "      <th>tenure</th>\n",
              "      <th>phoneservice</th>\n",
              "      <th>multiplelines</th>\n",
              "      <th>internetservice</th>\n",
              "      <th>onlinesecurity</th>\n",
              "      <th>...</th>\n",
              "      <th>deviceprotection</th>\n",
              "      <th>techsupport</th>\n",
              "      <th>streamingtv</th>\n",
              "      <th>streamingmovies</th>\n",
              "      <th>contract</th>\n",
              "      <th>paperlessbilling</th>\n",
              "      <th>paymentmethod</th>\n",
              "      <th>monthlycharges</th>\n",
              "      <th>totalcharges</th>\n",
              "      <th>churn</th>\n",
              "    </tr>\n",
              "  </thead>\n",
              "  <tbody>\n",
              "    <tr>\n",
              "      <th>1</th>\n",
              "      <td>6261-rcvns</td>\n",
              "      <td>female</td>\n",
              "      <td>0</td>\n",
              "      <td>no</td>\n",
              "      <td>no</td>\n",
              "      <td>42</td>\n",
              "      <td>yes</td>\n",
              "      <td>no</td>\n",
              "      <td>dsl</td>\n",
              "      <td>yes</td>\n",
              "      <td>...</td>\n",
              "      <td>yes</td>\n",
              "      <td>yes</td>\n",
              "      <td>no</td>\n",
              "      <td>yes</td>\n",
              "      <td>one_year</td>\n",
              "      <td>no</td>\n",
              "      <td>credit_card_(automatic)</td>\n",
              "      <td>73.90</td>\n",
              "      <td>3160.55</td>\n",
              "      <td>1</td>\n",
              "    </tr>\n",
              "    <tr>\n",
              "      <th>5</th>\n",
              "      <td>4765-oxppd</td>\n",
              "      <td>female</td>\n",
              "      <td>0</td>\n",
              "      <td>yes</td>\n",
              "      <td>yes</td>\n",
              "      <td>9</td>\n",
              "      <td>yes</td>\n",
              "      <td>no</td>\n",
              "      <td>dsl</td>\n",
              "      <td>yes</td>\n",
              "      <td>...</td>\n",
              "      <td>yes</td>\n",
              "      <td>yes</td>\n",
              "      <td>no</td>\n",
              "      <td>no</td>\n",
              "      <td>month-to-month</td>\n",
              "      <td>no</td>\n",
              "      <td>mailed_check</td>\n",
              "      <td>65.00</td>\n",
              "      <td>663.05</td>\n",
              "      <td>1</td>\n",
              "    </tr>\n",
              "    <tr>\n",
              "      <th>9</th>\n",
              "      <td>1732-vhubq</td>\n",
              "      <td>female</td>\n",
              "      <td>1</td>\n",
              "      <td>yes</td>\n",
              "      <td>yes</td>\n",
              "      <td>47</td>\n",
              "      <td>yes</td>\n",
              "      <td>no</td>\n",
              "      <td>fiber_optic</td>\n",
              "      <td>no</td>\n",
              "      <td>...</td>\n",
              "      <td>no</td>\n",
              "      <td>no</td>\n",
              "      <td>no</td>\n",
              "      <td>no</td>\n",
              "      <td>month-to-month</td>\n",
              "      <td>no</td>\n",
              "      <td>bank_transfer_(automatic)</td>\n",
              "      <td>70.55</td>\n",
              "      <td>3309.25</td>\n",
              "      <td>1</td>\n",
              "    </tr>\n",
              "    <tr>\n",
              "      <th>11</th>\n",
              "      <td>7017-vfuly</td>\n",
              "      <td>female</td>\n",
              "      <td>0</td>\n",
              "      <td>yes</td>\n",
              "      <td>no</td>\n",
              "      <td>2</td>\n",
              "      <td>yes</td>\n",
              "      <td>no</td>\n",
              "      <td>no</td>\n",
              "      <td>no_internet_service</td>\n",
              "      <td>...</td>\n",
              "      <td>no_internet_service</td>\n",
              "      <td>no_internet_service</td>\n",
              "      <td>no_internet_service</td>\n",
              "      <td>no_internet_service</td>\n",
              "      <td>month-to-month</td>\n",
              "      <td>no</td>\n",
              "      <td>bank_transfer_(automatic)</td>\n",
              "      <td>20.10</td>\n",
              "      <td>43.15</td>\n",
              "      <td>0</td>\n",
              "    </tr>\n",
              "    <tr>\n",
              "      <th>13</th>\n",
              "      <td>1374-dmzui</td>\n",
              "      <td>female</td>\n",
              "      <td>1</td>\n",
              "      <td>no</td>\n",
              "      <td>no</td>\n",
              "      <td>4</td>\n",
              "      <td>yes</td>\n",
              "      <td>yes</td>\n",
              "      <td>fiber_optic</td>\n",
              "      <td>no</td>\n",
              "      <td>...</td>\n",
              "      <td>no</td>\n",
              "      <td>no</td>\n",
              "      <td>yes</td>\n",
              "      <td>yes</td>\n",
              "      <td>month-to-month</td>\n",
              "      <td>yes</td>\n",
              "      <td>electronic_check</td>\n",
              "      <td>94.30</td>\n",
              "      <td>424.45</td>\n",
              "      <td>1</td>\n",
              "    </tr>\n",
              "    <tr>\n",
              "      <th>...</th>\n",
              "      <td>...</td>\n",
              "      <td>...</td>\n",
              "      <td>...</td>\n",
              "      <td>...</td>\n",
              "      <td>...</td>\n",
              "      <td>...</td>\n",
              "      <td>...</td>\n",
              "      <td>...</td>\n",
              "      <td>...</td>\n",
              "      <td>...</td>\n",
              "      <td>...</td>\n",
              "      <td>...</td>\n",
              "      <td>...</td>\n",
              "      <td>...</td>\n",
              "      <td>...</td>\n",
              "      <td>...</td>\n",
              "      <td>...</td>\n",
              "      <td>...</td>\n",
              "      <td>...</td>\n",
              "      <td>...</td>\n",
              "      <td>...</td>\n",
              "    </tr>\n",
              "    <tr>\n",
              "      <th>5618</th>\n",
              "      <td>8065-ykxkd</td>\n",
              "      <td>female</td>\n",
              "      <td>0</td>\n",
              "      <td>no</td>\n",
              "      <td>no</td>\n",
              "      <td>10</td>\n",
              "      <td>yes</td>\n",
              "      <td>yes</td>\n",
              "      <td>fiber_optic</td>\n",
              "      <td>no</td>\n",
              "      <td>...</td>\n",
              "      <td>no</td>\n",
              "      <td>no</td>\n",
              "      <td>no</td>\n",
              "      <td>no</td>\n",
              "      <td>month-to-month</td>\n",
              "      <td>yes</td>\n",
              "      <td>electronic_check</td>\n",
              "      <td>74.75</td>\n",
              "      <td>799.65</td>\n",
              "      <td>1</td>\n",
              "    </tr>\n",
              "    <tr>\n",
              "      <th>5619</th>\n",
              "      <td>5627-tvbpp</td>\n",
              "      <td>female</td>\n",
              "      <td>0</td>\n",
              "      <td>no</td>\n",
              "      <td>yes</td>\n",
              "      <td>35</td>\n",
              "      <td>yes</td>\n",
              "      <td>no</td>\n",
              "      <td>no</td>\n",
              "      <td>no_internet_service</td>\n",
              "      <td>...</td>\n",
              "      <td>no_internet_service</td>\n",
              "      <td>no_internet_service</td>\n",
              "      <td>no_internet_service</td>\n",
              "      <td>no_internet_service</td>\n",
              "      <td>one_year</td>\n",
              "      <td>yes</td>\n",
              "      <td>credit_card_(automatic)</td>\n",
              "      <td>20.10</td>\n",
              "      <td>644.50</td>\n",
              "      <td>0</td>\n",
              "    </tr>\n",
              "    <tr>\n",
              "      <th>5626</th>\n",
              "      <td>3262-eidhv</td>\n",
              "      <td>female</td>\n",
              "      <td>0</td>\n",
              "      <td>yes</td>\n",
              "      <td>yes</td>\n",
              "      <td>72</td>\n",
              "      <td>yes</td>\n",
              "      <td>yes</td>\n",
              "      <td>dsl</td>\n",
              "      <td>yes</td>\n",
              "      <td>...</td>\n",
              "      <td>yes</td>\n",
              "      <td>yes</td>\n",
              "      <td>yes</td>\n",
              "      <td>yes</td>\n",
              "      <td>two_year</td>\n",
              "      <td>no</td>\n",
              "      <td>credit_card_(automatic)</td>\n",
              "      <td>84.70</td>\n",
              "      <td>5893.90</td>\n",
              "      <td>0</td>\n",
              "    </tr>\n",
              "    <tr>\n",
              "      <th>5627</th>\n",
              "      <td>7446-sfaoa</td>\n",
              "      <td>female</td>\n",
              "      <td>0</td>\n",
              "      <td>yes</td>\n",
              "      <td>no</td>\n",
              "      <td>37</td>\n",
              "      <td>yes</td>\n",
              "      <td>no</td>\n",
              "      <td>no</td>\n",
              "      <td>no_internet_service</td>\n",
              "      <td>...</td>\n",
              "      <td>no_internet_service</td>\n",
              "      <td>no_internet_service</td>\n",
              "      <td>no_internet_service</td>\n",
              "      <td>no_internet_service</td>\n",
              "      <td>one_year</td>\n",
              "      <td>yes</td>\n",
              "      <td>bank_transfer_(automatic)</td>\n",
              "      <td>19.85</td>\n",
              "      <td>717.50</td>\n",
              "      <td>0</td>\n",
              "    </tr>\n",
              "    <tr>\n",
              "      <th>5633</th>\n",
              "      <td>5840-nvdcg</td>\n",
              "      <td>female</td>\n",
              "      <td>0</td>\n",
              "      <td>yes</td>\n",
              "      <td>yes</td>\n",
              "      <td>16</td>\n",
              "      <td>yes</td>\n",
              "      <td>no</td>\n",
              "      <td>dsl</td>\n",
              "      <td>yes</td>\n",
              "      <td>...</td>\n",
              "      <td>no</td>\n",
              "      <td>yes</td>\n",
              "      <td>no</td>\n",
              "      <td>yes</td>\n",
              "      <td>two_year</td>\n",
              "      <td>no</td>\n",
              "      <td>bank_transfer_(automatic)</td>\n",
              "      <td>68.25</td>\n",
              "      <td>1114.85</td>\n",
              "      <td>0</td>\n",
              "    </tr>\n",
              "  </tbody>\n",
              "</table>\n",
              "<p>2796 rows × 21 columns</p>\n",
              "</div>\n",
              "      <button class=\"colab-df-convert\" onclick=\"convertToInteractive('df-f79345ce-8e36-4f7c-9b0a-3be85598b0d3')\"\n",
              "              title=\"Convert this dataframe to an interactive table.\"\n",
              "              style=\"display:none;\">\n",
              "        \n",
              "  <svg xmlns=\"http://www.w3.org/2000/svg\" height=\"24px\"viewBox=\"0 0 24 24\"\n",
              "       width=\"24px\">\n",
              "    <path d=\"M0 0h24v24H0V0z\" fill=\"none\"/>\n",
              "    <path d=\"M18.56 5.44l.94 2.06.94-2.06 2.06-.94-2.06-.94-.94-2.06-.94 2.06-2.06.94zm-11 1L8.5 8.5l.94-2.06 2.06-.94-2.06-.94L8.5 2.5l-.94 2.06-2.06.94zm10 10l.94 2.06.94-2.06 2.06-.94-2.06-.94-.94-2.06-.94 2.06-2.06.94z\"/><path d=\"M17.41 7.96l-1.37-1.37c-.4-.4-.92-.59-1.43-.59-.52 0-1.04.2-1.43.59L10.3 9.45l-7.72 7.72c-.78.78-.78 2.05 0 2.83L4 21.41c.39.39.9.59 1.41.59.51 0 1.02-.2 1.41-.59l7.78-7.78 2.81-2.81c.8-.78.8-2.07 0-2.86zM5.41 20L4 18.59l7.72-7.72 1.47 1.35L5.41 20z\"/>\n",
              "  </svg>\n",
              "      </button>\n",
              "      \n",
              "  <style>\n",
              "    .colab-df-container {\n",
              "      display:flex;\n",
              "      flex-wrap:wrap;\n",
              "      gap: 12px;\n",
              "    }\n",
              "\n",
              "    .colab-df-convert {\n",
              "      background-color: #E8F0FE;\n",
              "      border: none;\n",
              "      border-radius: 50%;\n",
              "      cursor: pointer;\n",
              "      display: none;\n",
              "      fill: #1967D2;\n",
              "      height: 32px;\n",
              "      padding: 0 0 0 0;\n",
              "      width: 32px;\n",
              "    }\n",
              "\n",
              "    .colab-df-convert:hover {\n",
              "      background-color: #E2EBFA;\n",
              "      box-shadow: 0px 1px 2px rgba(60, 64, 67, 0.3), 0px 1px 3px 1px rgba(60, 64, 67, 0.15);\n",
              "      fill: #174EA6;\n",
              "    }\n",
              "\n",
              "    [theme=dark] .colab-df-convert {\n",
              "      background-color: #3B4455;\n",
              "      fill: #D2E3FC;\n",
              "    }\n",
              "\n",
              "    [theme=dark] .colab-df-convert:hover {\n",
              "      background-color: #434B5C;\n",
              "      box-shadow: 0px 1px 3px 1px rgba(0, 0, 0, 0.15);\n",
              "      filter: drop-shadow(0px 1px 2px rgba(0, 0, 0, 0.3));\n",
              "      fill: #FFFFFF;\n",
              "    }\n",
              "  </style>\n",
              "\n",
              "      <script>\n",
              "        const buttonEl =\n",
              "          document.querySelector('#df-f79345ce-8e36-4f7c-9b0a-3be85598b0d3 button.colab-df-convert');\n",
              "        buttonEl.style.display =\n",
              "          google.colab.kernel.accessAllowed ? 'block' : 'none';\n",
              "\n",
              "        async function convertToInteractive(key) {\n",
              "          const element = document.querySelector('#df-f79345ce-8e36-4f7c-9b0a-3be85598b0d3');\n",
              "          const dataTable =\n",
              "            await google.colab.kernel.invokeFunction('convertToInteractive',\n",
              "                                                     [key], {});\n",
              "          if (!dataTable) return;\n",
              "\n",
              "          const docLinkHtml = 'Like what you see? Visit the ' +\n",
              "            '<a target=\"_blank\" href=https://colab.research.google.com/notebooks/data_table.ipynb>data table notebook</a>'\n",
              "            + ' to learn more about interactive tables.';\n",
              "          element.innerHTML = '';\n",
              "          dataTable['output_type'] = 'display_data';\n",
              "          await google.colab.output.renderOutput(dataTable, element);\n",
              "          const docLink = document.createElement('div');\n",
              "          docLink.innerHTML = docLinkHtml;\n",
              "          element.appendChild(docLink);\n",
              "        }\n",
              "      </script>\n",
              "    </div>\n",
              "  </div>\n",
              "  "
            ]
          },
          "metadata": {},
          "execution_count": 48
        }
      ]
    },
    {
      "cell_type": "markdown",
      "source": [
        "* We can look at the churn rate within each group example gender of all female customers this way we select a subset of customers"
      ],
      "metadata": {
        "id": "41SBJWHu329F"
      }
    },
    {
      "cell_type": "code",
      "source": [
        "churn_female = df_full_train[df_full_train.gender == 'female'].churn.mean()\n",
        "churn_female"
      ],
      "metadata": {
        "id": "LBhh8n1H4IOC",
        "colab": {
          "base_uri": "https://localhost:8080/"
        },
        "outputId": "f8668da8-f265-4bac-9276-cb5a8398b8ec"
      },
      "execution_count": 49,
      "outputs": [
        {
          "output_type": "execute_result",
          "data": {
            "text/plain": [
              "0.27682403433476394"
            ]
          },
          "metadata": {},
          "execution_count": 49
        }
      ]
    },
    {
      "cell_type": "code",
      "source": [
        "churn_male = df_full_train[df_full_train.gender == 'male'].churn.mean()\n",
        "churn_male\n"
      ],
      "metadata": {
        "id": "y9zJK6iQ4rck",
        "colab": {
          "base_uri": "https://localhost:8080/"
        },
        "outputId": "b6f14124-8851-4183-9478-2b3c1fedc792"
      },
      "execution_count": 50,
      "outputs": [
        {
          "output_type": "execute_result",
          "data": {
            "text/plain": [
              "0.2632135306553911"
            ]
          },
          "metadata": {},
          "execution_count": 50
        }
      ]
    },
    {
      "cell_type": "code",
      "source": [
        "global_churn = df_full_train.churn.mean()\n",
        "global_churn"
      ],
      "metadata": {
        "id": "NT6I5Zps4vd_",
        "colab": {
          "base_uri": "https://localhost:8080/"
        },
        "outputId": "07216a22-732c-4d60-ac99-0a70981ea552"
      },
      "execution_count": 51,
      "outputs": [
        {
          "output_type": "execute_result",
          "data": {
            "text/plain": [
              "0.26996805111821087"
            ]
          },
          "metadata": {},
          "execution_count": 51
        }
      ]
    },
    {
      "cell_type": "code",
      "source": [
        "df_full_train.partner.value_counts()"
      ],
      "metadata": {
        "id": "xeFNbgMU49mo",
        "colab": {
          "base_uri": "https://localhost:8080/"
        },
        "outputId": "23533aea-4bc7-42a2-e44a-2d3081170020"
      },
      "execution_count": 52,
      "outputs": [
        {
          "output_type": "execute_result",
          "data": {
            "text/plain": [
              "no     2932\n",
              "yes    2702\n",
              "Name: partner, dtype: int64"
            ]
          },
          "metadata": {},
          "execution_count": 52
        }
      ]
    },
    {
      "cell_type": "markdown",
      "source": [
        "* We can see what kind of values are there so we have customers who live with partners and customers who live wihtout partner\n",
        "* It's significantly less than the global rate"
      ],
      "metadata": {
        "id": "wciEWoqj6HPH"
      }
    },
    {
      "cell_type": "code",
      "source": [
        "churn_partner = df_full_train[df_full_train.partner == 'yes'].churn.mean()\n",
        "churn_partner"
      ],
      "metadata": {
        "id": "9pi-SLvO5Cx1",
        "colab": {
          "base_uri": "https://localhost:8080/"
        },
        "outputId": "76ea7944-1e81-4530-de33-d7249540c5cd"
      },
      "execution_count": 53,
      "outputs": [
        {
          "output_type": "execute_result",
          "data": {
            "text/plain": [
              "0.20503330866025166"
            ]
          },
          "metadata": {},
          "execution_count": 53
        }
      ]
    },
    {
      "cell_type": "code",
      "source": [
        "global_churn - churn_partner"
      ],
      "metadata": {
        "id": "ye4igxbw5HQw",
        "colab": {
          "base_uri": "https://localhost:8080/"
        },
        "outputId": "ca36d1c9-6fd5-41b7-e0f6-6fa364e97283"
      },
      "execution_count": 54,
      "outputs": [
        {
          "output_type": "execute_result",
          "data": {
            "text/plain": [
              "0.06493474245795922"
            ]
          },
          "metadata": {},
          "execution_count": 54
        }
      ]
    },
    {
      "cell_type": "markdown",
      "source": [
        "* Is  approximately five percent more for people and without partners than the global churn rate, we have something similar it's like six seven percent less than the global churn rate\n",
        "* We can see the difference between global churn and churn will people who have a partner and we see that the difference is six and a half percent"
      ],
      "metadata": {
        "id": "QoqImfTXgItc"
      }
    },
    {
      "cell_type": "code",
      "source": [
        "churn_no_partner = df_full_train[df_full_train.partner == 'no'].churn.mean()\n",
        "churn_no_partner"
      ],
      "metadata": {
        "id": "G7RucCx15Luq",
        "colab": {
          "base_uri": "https://localhost:8080/"
        },
        "outputId": "5721349e-2164-4aa0-fca2-a8c873270405"
      },
      "execution_count": 55,
      "outputs": [
        {
          "output_type": "execute_result",
          "data": {
            "text/plain": [
              "0.3298090040927694"
            ]
          },
          "metadata": {},
          "execution_count": 55
        }
      ]
    },
    {
      "cell_type": "code",
      "source": [
        "global_churn - churn_no_partner"
      ],
      "metadata": {
        "id": "dYar6CI95P2-",
        "colab": {
          "base_uri": "https://localhost:8080/"
        },
        "outputId": "eb64b8f5-2e5a-4dfd-9307-4e781b4ceccd"
      },
      "execution_count": 56,
      "outputs": [
        {
          "output_type": "execute_result",
          "data": {
            "text/plain": [
              "-0.05984095297455855"
            ]
          },
          "metadata": {},
          "execution_count": 56
        }
      ]
    },
    {
      "cell_type": "markdown",
      "source": [
        "* No partner we see that the difference is negative it's almost six percent so this kind of, gives us an intuition that for gender it doesn't matter customer is male or female churn rate is approximately the same"
      ],
      "metadata": {
        "id": "WXXJC--nhovi"
      }
    },
    {
      "cell_type": "code",
      "source": [
        "global_churn - churn_female"
      ],
      "metadata": {
        "id": "kY2f9bDa40NR",
        "colab": {
          "base_uri": "https://localhost:8080/"
        },
        "outputId": "c0c6df08-70aa-4c45-f9ba-68b20f64ee11"
      },
      "execution_count": 57,
      "outputs": [
        {
          "output_type": "execute_result",
          "data": {
            "text/plain": [
              "-0.006855983216553063"
            ]
          },
          "metadata": {},
          "execution_count": 57
        }
      ]
    },
    {
      "cell_type": "code",
      "source": [
        "global_churn - churn_male"
      ],
      "metadata": {
        "id": "FUlIrViu45OR",
        "colab": {
          "base_uri": "https://localhost:8080/"
        },
        "outputId": "50224cbd-b2dc-43c8-dcd5-11137395b74c"
      },
      "execution_count": 58,
      "outputs": [
        {
          "output_type": "execute_result",
          "data": {
            "text/plain": [
              "0.006754520462819769"
            ]
          },
          "metadata": {},
          "execution_count": 58
        }
      ]
    },
    {
      "cell_type": "markdown",
      "source": [
        "* The churn_female and churn_male is tiny"
      ],
      "metadata": {
        "id": "W1xBH2H7kikD"
      }
    },
    {
      "cell_type": "markdown",
      "source": [
        "### Feature Importance\n",
        "\n",
        "## Difference\n",
        "\n",
        "GLOBAL -  < 0 = More likely to churn    \n",
        " \n",
        "GROUP -  > 0 = Less likely to churn\n",
        "\n",
        "* Churn group it this difference is higher than zero it means that the global churn rate is greater than the group churn rate it means that this group is less likely to churn, on the other hand, if the difference is negative it means that group churn is higher than the global churn rate and it means that this group they are more likely to churn\n",
        "* The gender variable if it is positive and negative but is very tiny\n"
      ],
      "metadata": {
        "id": "QoVxnoZJjFSZ"
      }
    },
    {
      "cell_type": "markdown",
      "source": [
        "### **Risk ratio**\n",
        "\n",
        "**Risk ratio:** Ratio between mean of categories for a feature and mean of the target variable. If this ratio is greater than 1, the category is more likely to churn, and if the ratio is lower than 1, the category is less likely to churn. It expresses the feature importance in relative terms."
      ],
      "metadata": {
        "id": "G2LiHpux5XYA"
      }
    },
    {
      "cell_type": "code",
      "source": [
        "churn_no_partner / global_churn"
      ],
      "metadata": {
        "id": "uRM5CEQv5Uxc",
        "colab": {
          "base_uri": "https://localhost:8080/"
        },
        "outputId": "f7d727ea-b24b-4de5-f37c-6420c2134998"
      },
      "execution_count": 59,
      "outputs": [
        {
          "output_type": "execute_result",
          "data": {
            "text/plain": [
              "1.2216593879412643"
            ]
          },
          "metadata": {},
          "execution_count": 59
        }
      ]
    },
    {
      "cell_type": "code",
      "source": [
        "churn_partner / global_churn"
      ],
      "metadata": {
        "id": "fXDs2SqT5eYr",
        "colab": {
          "base_uri": "https://localhost:8080/"
        },
        "outputId": "155df2d0-8027-4285-d138-b84e34c06241"
      },
      "execution_count": 60,
      "outputs": [
        {
          "output_type": "execute_result",
          "data": {
            "text/plain": [
              "0.7594724924338315"
            ]
          },
          "metadata": {},
          "execution_count": 60
        }
      ]
    },
    {
      "cell_type": "markdown",
      "source": [
        "* Customer without partner calculate that we divide one by another, we can see that one higher and for people with a partner the churn rate is smaller than one\n",
        "* People without a partner seem more likely to charge this ratio is greater than one\n",
        "        \n",
        "* RISK = **GROUP > 1 more likely to churn** / **GLOBAL < 1 less likely to churn**\n",
        "* Another future importance metric is a risk ratio\n",
        "* Risk, in this case, is we divide the group churn rate we divide by the global churn rate and it is greater than one more likely to churn, it is less than one less likely to churn\n",
        "* These two thing differences in risk ratio they're very similar so they're kind of telling us the same information but they're telling us in a different way\n",
        "* They have the same risk ratio"
      ],
      "metadata": {
        "id": "WEoImZR1mIL4"
      }
    },
    {
      "cell_type": "markdown",
      "source": [
        "* The difference between this average churn rate and the global churn rate"
      ],
      "metadata": {
        "id": "LLsOcRtAEZgU"
      }
    },
    {
      "cell_type": "code",
      "source": [
        "\"\"\"SELECT\n",
        "    gender,\n",
        "    AVG(churn),\n",
        "    AVG(churn) - global_churn AS diff,\n",
        "    AVG(churn) / global_churn AS risk\n",
        "FROM\n",
        "    data\n",
        "GROUP BY\n",
        "    gender;\n",
        "\"\"\""
      ],
      "metadata": {
        "id": "p63ZDM9d5inO"
      },
      "execution_count": null,
      "outputs": []
    },
    {
      "cell_type": "code",
      "source": [
        "df_full_train.groupby('gender').churn.mean()"
      ],
      "metadata": {
        "colab": {
          "base_uri": "https://localhost:8080/"
        },
        "id": "HPTn7sWCrS8n",
        "outputId": "e473b840-7ce3-44b4-c98a-63275dbf5f07"
      },
      "execution_count": 61,
      "outputs": [
        {
          "output_type": "execute_result",
          "data": {
            "text/plain": [
              "gender\n",
              "female    0.276824\n",
              "male      0.263214\n",
              "Name: churn, dtype: float64"
            ]
          },
          "metadata": {},
          "execution_count": 61
        }
      ]
    },
    {
      "cell_type": "markdown",
      "source": [
        "* let's calculate this kind of risk and take this SQL query and translate it into pandas\n",
        "* We want to calculate the average churn"
      ],
      "metadata": {
        "id": "gJEg4EMmrkTp"
      }
    },
    {
      "cell_type": "code",
      "source": [
        "df_full_train.groupby('gender').churn.agg(['mean'])"
      ],
      "metadata": {
        "colab": {
          "base_uri": "https://localhost:8080/",
          "height": 143
        },
        "id": "UQBHruCKri5P",
        "outputId": "15962482-0b77-4731-9026-f1cc8d8f2dc8"
      },
      "execution_count": 62,
      "outputs": [
        {
          "output_type": "execute_result",
          "data": {
            "text/plain": [
              "            mean\n",
              "gender          \n",
              "female  0.276824\n",
              "male    0.263214"
            ],
            "text/html": [
              "\n",
              "  <div id=\"df-25a523db-a3f9-43b4-8580-f67ef3ffd200\">\n",
              "    <div class=\"colab-df-container\">\n",
              "      <div>\n",
              "<style scoped>\n",
              "    .dataframe tbody tr th:only-of-type {\n",
              "        vertical-align: middle;\n",
              "    }\n",
              "\n",
              "    .dataframe tbody tr th {\n",
              "        vertical-align: top;\n",
              "    }\n",
              "\n",
              "    .dataframe thead th {\n",
              "        text-align: right;\n",
              "    }\n",
              "</style>\n",
              "<table border=\"1\" class=\"dataframe\">\n",
              "  <thead>\n",
              "    <tr style=\"text-align: right;\">\n",
              "      <th></th>\n",
              "      <th>mean</th>\n",
              "    </tr>\n",
              "    <tr>\n",
              "      <th>gender</th>\n",
              "      <th></th>\n",
              "    </tr>\n",
              "  </thead>\n",
              "  <tbody>\n",
              "    <tr>\n",
              "      <th>female</th>\n",
              "      <td>0.276824</td>\n",
              "    </tr>\n",
              "    <tr>\n",
              "      <th>male</th>\n",
              "      <td>0.263214</td>\n",
              "    </tr>\n",
              "  </tbody>\n",
              "</table>\n",
              "</div>\n",
              "      <button class=\"colab-df-convert\" onclick=\"convertToInteractive('df-25a523db-a3f9-43b4-8580-f67ef3ffd200')\"\n",
              "              title=\"Convert this dataframe to an interactive table.\"\n",
              "              style=\"display:none;\">\n",
              "        \n",
              "  <svg xmlns=\"http://www.w3.org/2000/svg\" height=\"24px\"viewBox=\"0 0 24 24\"\n",
              "       width=\"24px\">\n",
              "    <path d=\"M0 0h24v24H0V0z\" fill=\"none\"/>\n",
              "    <path d=\"M18.56 5.44l.94 2.06.94-2.06 2.06-.94-2.06-.94-.94-2.06-.94 2.06-2.06.94zm-11 1L8.5 8.5l.94-2.06 2.06-.94-2.06-.94L8.5 2.5l-.94 2.06-2.06.94zm10 10l.94 2.06.94-2.06 2.06-.94-2.06-.94-.94-2.06-.94 2.06-2.06.94z\"/><path d=\"M17.41 7.96l-1.37-1.37c-.4-.4-.92-.59-1.43-.59-.52 0-1.04.2-1.43.59L10.3 9.45l-7.72 7.72c-.78.78-.78 2.05 0 2.83L4 21.41c.39.39.9.59 1.41.59.51 0 1.02-.2 1.41-.59l7.78-7.78 2.81-2.81c.8-.78.8-2.07 0-2.86zM5.41 20L4 18.59l7.72-7.72 1.47 1.35L5.41 20z\"/>\n",
              "  </svg>\n",
              "      </button>\n",
              "      \n",
              "  <style>\n",
              "    .colab-df-container {\n",
              "      display:flex;\n",
              "      flex-wrap:wrap;\n",
              "      gap: 12px;\n",
              "    }\n",
              "\n",
              "    .colab-df-convert {\n",
              "      background-color: #E8F0FE;\n",
              "      border: none;\n",
              "      border-radius: 50%;\n",
              "      cursor: pointer;\n",
              "      display: none;\n",
              "      fill: #1967D2;\n",
              "      height: 32px;\n",
              "      padding: 0 0 0 0;\n",
              "      width: 32px;\n",
              "    }\n",
              "\n",
              "    .colab-df-convert:hover {\n",
              "      background-color: #E2EBFA;\n",
              "      box-shadow: 0px 1px 2px rgba(60, 64, 67, 0.3), 0px 1px 3px 1px rgba(60, 64, 67, 0.15);\n",
              "      fill: #174EA6;\n",
              "    }\n",
              "\n",
              "    [theme=dark] .colab-df-convert {\n",
              "      background-color: #3B4455;\n",
              "      fill: #D2E3FC;\n",
              "    }\n",
              "\n",
              "    [theme=dark] .colab-df-convert:hover {\n",
              "      background-color: #434B5C;\n",
              "      box-shadow: 0px 1px 3px 1px rgba(0, 0, 0, 0.15);\n",
              "      filter: drop-shadow(0px 1px 2px rgba(0, 0, 0, 0.3));\n",
              "      fill: #FFFFFF;\n",
              "    }\n",
              "  </style>\n",
              "\n",
              "      <script>\n",
              "        const buttonEl =\n",
              "          document.querySelector('#df-25a523db-a3f9-43b4-8580-f67ef3ffd200 button.colab-df-convert');\n",
              "        buttonEl.style.display =\n",
              "          google.colab.kernel.accessAllowed ? 'block' : 'none';\n",
              "\n",
              "        async function convertToInteractive(key) {\n",
              "          const element = document.querySelector('#df-25a523db-a3f9-43b4-8580-f67ef3ffd200');\n",
              "          const dataTable =\n",
              "            await google.colab.kernel.invokeFunction('convertToInteractive',\n",
              "                                                     [key], {});\n",
              "          if (!dataTable) return;\n",
              "\n",
              "          const docLinkHtml = 'Like what you see? Visit the ' +\n",
              "            '<a target=\"_blank\" href=https://colab.research.google.com/notebooks/data_table.ipynb>data table notebook</a>'\n",
              "            + ' to learn more about interactive tables.';\n",
              "          element.innerHTML = '';\n",
              "          dataTable['output_type'] = 'display_data';\n",
              "          await google.colab.output.renderOutput(dataTable, element);\n",
              "          const docLink = document.createElement('div');\n",
              "          docLink.innerHTML = docLinkHtml;\n",
              "          element.appendChild(docLink);\n",
              "        }\n",
              "      </script>\n",
              "    </div>\n",
              "  </div>\n",
              "  "
            ]
          },
          "metadata": {},
          "execution_count": 62
        }
      ]
    },
    {
      "cell_type": "markdown",
      "source": [
        "* It takes a different aggregation that we can perform here, we can also add count, we have different values for this variable gender there, so we can see that it's approximately the same for females and males"
      ],
      "metadata": {
        "id": "Y4KSTB47sbo0"
      }
    },
    {
      "cell_type": "code",
      "source": [
        "df_full_train.groupby('gender').churn.agg(['mean','count'])"
      ],
      "metadata": {
        "colab": {
          "base_uri": "https://localhost:8080/",
          "height": 143
        },
        "id": "g6L22ovks7nd",
        "outputId": "f98e376c-b6d1-4054-fa6d-18fa92ae55dc"
      },
      "execution_count": 63,
      "outputs": [
        {
          "output_type": "execute_result",
          "data": {
            "text/plain": [
              "            mean  count\n",
              "gender                 \n",
              "female  0.276824   2796\n",
              "male    0.263214   2838"
            ],
            "text/html": [
              "\n",
              "  <div id=\"df-ef6733b4-e586-4fc7-b884-b0d79e8507f1\">\n",
              "    <div class=\"colab-df-container\">\n",
              "      <div>\n",
              "<style scoped>\n",
              "    .dataframe tbody tr th:only-of-type {\n",
              "        vertical-align: middle;\n",
              "    }\n",
              "\n",
              "    .dataframe tbody tr th {\n",
              "        vertical-align: top;\n",
              "    }\n",
              "\n",
              "    .dataframe thead th {\n",
              "        text-align: right;\n",
              "    }\n",
              "</style>\n",
              "<table border=\"1\" class=\"dataframe\">\n",
              "  <thead>\n",
              "    <tr style=\"text-align: right;\">\n",
              "      <th></th>\n",
              "      <th>mean</th>\n",
              "      <th>count</th>\n",
              "    </tr>\n",
              "    <tr>\n",
              "      <th>gender</th>\n",
              "      <th></th>\n",
              "      <th></th>\n",
              "    </tr>\n",
              "  </thead>\n",
              "  <tbody>\n",
              "    <tr>\n",
              "      <th>female</th>\n",
              "      <td>0.276824</td>\n",
              "      <td>2796</td>\n",
              "    </tr>\n",
              "    <tr>\n",
              "      <th>male</th>\n",
              "      <td>0.263214</td>\n",
              "      <td>2838</td>\n",
              "    </tr>\n",
              "  </tbody>\n",
              "</table>\n",
              "</div>\n",
              "      <button class=\"colab-df-convert\" onclick=\"convertToInteractive('df-ef6733b4-e586-4fc7-b884-b0d79e8507f1')\"\n",
              "              title=\"Convert this dataframe to an interactive table.\"\n",
              "              style=\"display:none;\">\n",
              "        \n",
              "  <svg xmlns=\"http://www.w3.org/2000/svg\" height=\"24px\"viewBox=\"0 0 24 24\"\n",
              "       width=\"24px\">\n",
              "    <path d=\"M0 0h24v24H0V0z\" fill=\"none\"/>\n",
              "    <path d=\"M18.56 5.44l.94 2.06.94-2.06 2.06-.94-2.06-.94-.94-2.06-.94 2.06-2.06.94zm-11 1L8.5 8.5l.94-2.06 2.06-.94-2.06-.94L8.5 2.5l-.94 2.06-2.06.94zm10 10l.94 2.06.94-2.06 2.06-.94-2.06-.94-.94-2.06-.94 2.06-2.06.94z\"/><path d=\"M17.41 7.96l-1.37-1.37c-.4-.4-.92-.59-1.43-.59-.52 0-1.04.2-1.43.59L10.3 9.45l-7.72 7.72c-.78.78-.78 2.05 0 2.83L4 21.41c.39.39.9.59 1.41.59.51 0 1.02-.2 1.41-.59l7.78-7.78 2.81-2.81c.8-.78.8-2.07 0-2.86zM5.41 20L4 18.59l7.72-7.72 1.47 1.35L5.41 20z\"/>\n",
              "  </svg>\n",
              "      </button>\n",
              "      \n",
              "  <style>\n",
              "    .colab-df-container {\n",
              "      display:flex;\n",
              "      flex-wrap:wrap;\n",
              "      gap: 12px;\n",
              "    }\n",
              "\n",
              "    .colab-df-convert {\n",
              "      background-color: #E8F0FE;\n",
              "      border: none;\n",
              "      border-radius: 50%;\n",
              "      cursor: pointer;\n",
              "      display: none;\n",
              "      fill: #1967D2;\n",
              "      height: 32px;\n",
              "      padding: 0 0 0 0;\n",
              "      width: 32px;\n",
              "    }\n",
              "\n",
              "    .colab-df-convert:hover {\n",
              "      background-color: #E2EBFA;\n",
              "      box-shadow: 0px 1px 2px rgba(60, 64, 67, 0.3), 0px 1px 3px 1px rgba(60, 64, 67, 0.15);\n",
              "      fill: #174EA6;\n",
              "    }\n",
              "\n",
              "    [theme=dark] .colab-df-convert {\n",
              "      background-color: #3B4455;\n",
              "      fill: #D2E3FC;\n",
              "    }\n",
              "\n",
              "    [theme=dark] .colab-df-convert:hover {\n",
              "      background-color: #434B5C;\n",
              "      box-shadow: 0px 1px 3px 1px rgba(0, 0, 0, 0.15);\n",
              "      filter: drop-shadow(0px 1px 2px rgba(0, 0, 0, 0.3));\n",
              "      fill: #FFFFFF;\n",
              "    }\n",
              "  </style>\n",
              "\n",
              "      <script>\n",
              "        const buttonEl =\n",
              "          document.querySelector('#df-ef6733b4-e586-4fc7-b884-b0d79e8507f1 button.colab-df-convert');\n",
              "        buttonEl.style.display =\n",
              "          google.colab.kernel.accessAllowed ? 'block' : 'none';\n",
              "\n",
              "        async function convertToInteractive(key) {\n",
              "          const element = document.querySelector('#df-ef6733b4-e586-4fc7-b884-b0d79e8507f1');\n",
              "          const dataTable =\n",
              "            await google.colab.kernel.invokeFunction('convertToInteractive',\n",
              "                                                     [key], {});\n",
              "          if (!dataTable) return;\n",
              "\n",
              "          const docLinkHtml = 'Like what you see? Visit the ' +\n",
              "            '<a target=\"_blank\" href=https://colab.research.google.com/notebooks/data_table.ipynb>data table notebook</a>'\n",
              "            + ' to learn more about interactive tables.';\n",
              "          element.innerHTML = '';\n",
              "          dataTable['output_type'] = 'display_data';\n",
              "          await google.colab.output.renderOutput(dataTable, element);\n",
              "          const docLink = document.createElement('div');\n",
              "          docLink.innerHTML = docLinkHtml;\n",
              "          element.appendChild(docLink);\n",
              "        }\n",
              "      </script>\n",
              "    </div>\n",
              "  </div>\n",
              "  "
            ]
          },
          "metadata": {},
          "execution_count": 63
        }
      ]
    },
    {
      "cell_type": "markdown",
      "source": [
        "* We can also add count, we have different values for this variable gender there, so we can see that it's approximately the same for females and males"
      ],
      "metadata": {
        "id": "ivNs4aRYs9SY"
      }
    },
    {
      "cell_type": "code",
      "source": [
        "df_group = df_full_train.groupby('gender').churn.agg(['mean','count'])\n",
        "df_group['diff'] =df_group['mean'] - global_churn\n",
        "df_group['risk'] =df_group['mean'] / global_churn\n",
        "df_group"
      ],
      "metadata": {
        "colab": {
          "base_uri": "https://localhost:8080/",
          "height": 143
        },
        "id": "od_m6f-etda6",
        "outputId": "650e8d7c-b50c-4f4a-ade8-c69888b83824"
      },
      "execution_count": 64,
      "outputs": [
        {
          "output_type": "execute_result",
          "data": {
            "text/plain": [
              "            mean  count      diff      risk\n",
              "gender                                     \n",
              "female  0.276824   2796  0.006856  1.025396\n",
              "male    0.263214   2838 -0.006755  0.974980"
            ],
            "text/html": [
              "\n",
              "  <div id=\"df-39412750-fe5c-4437-ba8c-fcb64a75fc16\">\n",
              "    <div class=\"colab-df-container\">\n",
              "      <div>\n",
              "<style scoped>\n",
              "    .dataframe tbody tr th:only-of-type {\n",
              "        vertical-align: middle;\n",
              "    }\n",
              "\n",
              "    .dataframe tbody tr th {\n",
              "        vertical-align: top;\n",
              "    }\n",
              "\n",
              "    .dataframe thead th {\n",
              "        text-align: right;\n",
              "    }\n",
              "</style>\n",
              "<table border=\"1\" class=\"dataframe\">\n",
              "  <thead>\n",
              "    <tr style=\"text-align: right;\">\n",
              "      <th></th>\n",
              "      <th>mean</th>\n",
              "      <th>count</th>\n",
              "      <th>diff</th>\n",
              "      <th>risk</th>\n",
              "    </tr>\n",
              "    <tr>\n",
              "      <th>gender</th>\n",
              "      <th></th>\n",
              "      <th></th>\n",
              "      <th></th>\n",
              "      <th></th>\n",
              "    </tr>\n",
              "  </thead>\n",
              "  <tbody>\n",
              "    <tr>\n",
              "      <th>female</th>\n",
              "      <td>0.276824</td>\n",
              "      <td>2796</td>\n",
              "      <td>0.006856</td>\n",
              "      <td>1.025396</td>\n",
              "    </tr>\n",
              "    <tr>\n",
              "      <th>male</th>\n",
              "      <td>0.263214</td>\n",
              "      <td>2838</td>\n",
              "      <td>-0.006755</td>\n",
              "      <td>0.974980</td>\n",
              "    </tr>\n",
              "  </tbody>\n",
              "</table>\n",
              "</div>\n",
              "      <button class=\"colab-df-convert\" onclick=\"convertToInteractive('df-39412750-fe5c-4437-ba8c-fcb64a75fc16')\"\n",
              "              title=\"Convert this dataframe to an interactive table.\"\n",
              "              style=\"display:none;\">\n",
              "        \n",
              "  <svg xmlns=\"http://www.w3.org/2000/svg\" height=\"24px\"viewBox=\"0 0 24 24\"\n",
              "       width=\"24px\">\n",
              "    <path d=\"M0 0h24v24H0V0z\" fill=\"none\"/>\n",
              "    <path d=\"M18.56 5.44l.94 2.06.94-2.06 2.06-.94-2.06-.94-.94-2.06-.94 2.06-2.06.94zm-11 1L8.5 8.5l.94-2.06 2.06-.94-2.06-.94L8.5 2.5l-.94 2.06-2.06.94zm10 10l.94 2.06.94-2.06 2.06-.94-2.06-.94-.94-2.06-.94 2.06-2.06.94z\"/><path d=\"M17.41 7.96l-1.37-1.37c-.4-.4-.92-.59-1.43-.59-.52 0-1.04.2-1.43.59L10.3 9.45l-7.72 7.72c-.78.78-.78 2.05 0 2.83L4 21.41c.39.39.9.59 1.41.59.51 0 1.02-.2 1.41-.59l7.78-7.78 2.81-2.81c.8-.78.8-2.07 0-2.86zM5.41 20L4 18.59l7.72-7.72 1.47 1.35L5.41 20z\"/>\n",
              "  </svg>\n",
              "      </button>\n",
              "      \n",
              "  <style>\n",
              "    .colab-df-container {\n",
              "      display:flex;\n",
              "      flex-wrap:wrap;\n",
              "      gap: 12px;\n",
              "    }\n",
              "\n",
              "    .colab-df-convert {\n",
              "      background-color: #E8F0FE;\n",
              "      border: none;\n",
              "      border-radius: 50%;\n",
              "      cursor: pointer;\n",
              "      display: none;\n",
              "      fill: #1967D2;\n",
              "      height: 32px;\n",
              "      padding: 0 0 0 0;\n",
              "      width: 32px;\n",
              "    }\n",
              "\n",
              "    .colab-df-convert:hover {\n",
              "      background-color: #E2EBFA;\n",
              "      box-shadow: 0px 1px 2px rgba(60, 64, 67, 0.3), 0px 1px 3px 1px rgba(60, 64, 67, 0.15);\n",
              "      fill: #174EA6;\n",
              "    }\n",
              "\n",
              "    [theme=dark] .colab-df-convert {\n",
              "      background-color: #3B4455;\n",
              "      fill: #D2E3FC;\n",
              "    }\n",
              "\n",
              "    [theme=dark] .colab-df-convert:hover {\n",
              "      background-color: #434B5C;\n",
              "      box-shadow: 0px 1px 3px 1px rgba(0, 0, 0, 0.15);\n",
              "      filter: drop-shadow(0px 1px 2px rgba(0, 0, 0, 0.3));\n",
              "      fill: #FFFFFF;\n",
              "    }\n",
              "  </style>\n",
              "\n",
              "      <script>\n",
              "        const buttonEl =\n",
              "          document.querySelector('#df-39412750-fe5c-4437-ba8c-fcb64a75fc16 button.colab-df-convert');\n",
              "        buttonEl.style.display =\n",
              "          google.colab.kernel.accessAllowed ? 'block' : 'none';\n",
              "\n",
              "        async function convertToInteractive(key) {\n",
              "          const element = document.querySelector('#df-39412750-fe5c-4437-ba8c-fcb64a75fc16');\n",
              "          const dataTable =\n",
              "            await google.colab.kernel.invokeFunction('convertToInteractive',\n",
              "                                                     [key], {});\n",
              "          if (!dataTable) return;\n",
              "\n",
              "          const docLinkHtml = 'Like what you see? Visit the ' +\n",
              "            '<a target=\"_blank\" href=https://colab.research.google.com/notebooks/data_table.ipynb>data table notebook</a>'\n",
              "            + ' to learn more about interactive tables.';\n",
              "          element.innerHTML = '';\n",
              "          dataTable['output_type'] = 'display_data';\n",
              "          await google.colab.output.renderOutput(dataTable, element);\n",
              "          const docLink = document.createElement('div');\n",
              "          docLink.innerHTML = docLinkHtml;\n",
              "          element.appendChild(docLink);\n",
              "        }\n",
              "      </script>\n",
              "    </div>\n",
              "  </div>\n",
              "  "
            ]
          },
          "metadata": {},
          "execution_count": 64
        }
      ]
    },
    {
      "cell_type": "code",
      "source": [
        "from IPython.display import display"
      ],
      "metadata": {
        "id": "Ey8kmgM26Dhc"
      },
      "execution_count": 65,
      "outputs": []
    },
    {
      "cell_type": "code",
      "source": [
        "for c in categorical:\n",
        "    print(c)\n",
        "    df_group = df_full_train.groupby(c).churn.agg(['mean', 'count'])\n",
        "    df_group['diff'] = df_group['mean'] - global_churn\n",
        "    df_group['risk'] = df_group['mean'] / global_churn\n",
        "    display(df_group)\n",
        "    print()\n",
        "    print()"
      ],
      "metadata": {
        "id": "7o5LV_MO6JvR",
        "colab": {
          "base_uri": "https://localhost:8080/",
          "height": 1000
        },
        "outputId": "48689755-b5f7-4fd6-c8bb-d7ea59fe608a"
      },
      "execution_count": 66,
      "outputs": [
        {
          "output_type": "stream",
          "name": "stdout",
          "text": [
            "gender\n"
          ]
        },
        {
          "output_type": "display_data",
          "data": {
            "text/plain": [
              "            mean  count      diff      risk\n",
              "gender                                     \n",
              "female  0.276824   2796  0.006856  1.025396\n",
              "male    0.263214   2838 -0.006755  0.974980"
            ],
            "text/html": [
              "\n",
              "  <div id=\"df-a51be322-105c-410d-b3be-32e0c11f55c2\">\n",
              "    <div class=\"colab-df-container\">\n",
              "      <div>\n",
              "<style scoped>\n",
              "    .dataframe tbody tr th:only-of-type {\n",
              "        vertical-align: middle;\n",
              "    }\n",
              "\n",
              "    .dataframe tbody tr th {\n",
              "        vertical-align: top;\n",
              "    }\n",
              "\n",
              "    .dataframe thead th {\n",
              "        text-align: right;\n",
              "    }\n",
              "</style>\n",
              "<table border=\"1\" class=\"dataframe\">\n",
              "  <thead>\n",
              "    <tr style=\"text-align: right;\">\n",
              "      <th></th>\n",
              "      <th>mean</th>\n",
              "      <th>count</th>\n",
              "      <th>diff</th>\n",
              "      <th>risk</th>\n",
              "    </tr>\n",
              "    <tr>\n",
              "      <th>gender</th>\n",
              "      <th></th>\n",
              "      <th></th>\n",
              "      <th></th>\n",
              "      <th></th>\n",
              "    </tr>\n",
              "  </thead>\n",
              "  <tbody>\n",
              "    <tr>\n",
              "      <th>female</th>\n",
              "      <td>0.276824</td>\n",
              "      <td>2796</td>\n",
              "      <td>0.006856</td>\n",
              "      <td>1.025396</td>\n",
              "    </tr>\n",
              "    <tr>\n",
              "      <th>male</th>\n",
              "      <td>0.263214</td>\n",
              "      <td>2838</td>\n",
              "      <td>-0.006755</td>\n",
              "      <td>0.974980</td>\n",
              "    </tr>\n",
              "  </tbody>\n",
              "</table>\n",
              "</div>\n",
              "      <button class=\"colab-df-convert\" onclick=\"convertToInteractive('df-a51be322-105c-410d-b3be-32e0c11f55c2')\"\n",
              "              title=\"Convert this dataframe to an interactive table.\"\n",
              "              style=\"display:none;\">\n",
              "        \n",
              "  <svg xmlns=\"http://www.w3.org/2000/svg\" height=\"24px\"viewBox=\"0 0 24 24\"\n",
              "       width=\"24px\">\n",
              "    <path d=\"M0 0h24v24H0V0z\" fill=\"none\"/>\n",
              "    <path d=\"M18.56 5.44l.94 2.06.94-2.06 2.06-.94-2.06-.94-.94-2.06-.94 2.06-2.06.94zm-11 1L8.5 8.5l.94-2.06 2.06-.94-2.06-.94L8.5 2.5l-.94 2.06-2.06.94zm10 10l.94 2.06.94-2.06 2.06-.94-2.06-.94-.94-2.06-.94 2.06-2.06.94z\"/><path d=\"M17.41 7.96l-1.37-1.37c-.4-.4-.92-.59-1.43-.59-.52 0-1.04.2-1.43.59L10.3 9.45l-7.72 7.72c-.78.78-.78 2.05 0 2.83L4 21.41c.39.39.9.59 1.41.59.51 0 1.02-.2 1.41-.59l7.78-7.78 2.81-2.81c.8-.78.8-2.07 0-2.86zM5.41 20L4 18.59l7.72-7.72 1.47 1.35L5.41 20z\"/>\n",
              "  </svg>\n",
              "      </button>\n",
              "      \n",
              "  <style>\n",
              "    .colab-df-container {\n",
              "      display:flex;\n",
              "      flex-wrap:wrap;\n",
              "      gap: 12px;\n",
              "    }\n",
              "\n",
              "    .colab-df-convert {\n",
              "      background-color: #E8F0FE;\n",
              "      border: none;\n",
              "      border-radius: 50%;\n",
              "      cursor: pointer;\n",
              "      display: none;\n",
              "      fill: #1967D2;\n",
              "      height: 32px;\n",
              "      padding: 0 0 0 0;\n",
              "      width: 32px;\n",
              "    }\n",
              "\n",
              "    .colab-df-convert:hover {\n",
              "      background-color: #E2EBFA;\n",
              "      box-shadow: 0px 1px 2px rgba(60, 64, 67, 0.3), 0px 1px 3px 1px rgba(60, 64, 67, 0.15);\n",
              "      fill: #174EA6;\n",
              "    }\n",
              "\n",
              "    [theme=dark] .colab-df-convert {\n",
              "      background-color: #3B4455;\n",
              "      fill: #D2E3FC;\n",
              "    }\n",
              "\n",
              "    [theme=dark] .colab-df-convert:hover {\n",
              "      background-color: #434B5C;\n",
              "      box-shadow: 0px 1px 3px 1px rgba(0, 0, 0, 0.15);\n",
              "      filter: drop-shadow(0px 1px 2px rgba(0, 0, 0, 0.3));\n",
              "      fill: #FFFFFF;\n",
              "    }\n",
              "  </style>\n",
              "\n",
              "      <script>\n",
              "        const buttonEl =\n",
              "          document.querySelector('#df-a51be322-105c-410d-b3be-32e0c11f55c2 button.colab-df-convert');\n",
              "        buttonEl.style.display =\n",
              "          google.colab.kernel.accessAllowed ? 'block' : 'none';\n",
              "\n",
              "        async function convertToInteractive(key) {\n",
              "          const element = document.querySelector('#df-a51be322-105c-410d-b3be-32e0c11f55c2');\n",
              "          const dataTable =\n",
              "            await google.colab.kernel.invokeFunction('convertToInteractive',\n",
              "                                                     [key], {});\n",
              "          if (!dataTable) return;\n",
              "\n",
              "          const docLinkHtml = 'Like what you see? Visit the ' +\n",
              "            '<a target=\"_blank\" href=https://colab.research.google.com/notebooks/data_table.ipynb>data table notebook</a>'\n",
              "            + ' to learn more about interactive tables.';\n",
              "          element.innerHTML = '';\n",
              "          dataTable['output_type'] = 'display_data';\n",
              "          await google.colab.output.renderOutput(dataTable, element);\n",
              "          const docLink = document.createElement('div');\n",
              "          docLink.innerHTML = docLinkHtml;\n",
              "          element.appendChild(docLink);\n",
              "        }\n",
              "      </script>\n",
              "    </div>\n",
              "  </div>\n",
              "  "
            ]
          },
          "metadata": {}
        },
        {
          "output_type": "stream",
          "name": "stdout",
          "text": [
            "\n",
            "\n",
            "seniorcitizen\n"
          ]
        },
        {
          "output_type": "display_data",
          "data": {
            "text/plain": [
              "                   mean  count      diff      risk\n",
              "seniorcitizen                                     \n",
              "0              0.242270   4722 -0.027698  0.897403\n",
              "1              0.413377    912  0.143409  1.531208"
            ],
            "text/html": [
              "\n",
              "  <div id=\"df-fd131ac1-7807-4e1c-b880-171054ed630d\">\n",
              "    <div class=\"colab-df-container\">\n",
              "      <div>\n",
              "<style scoped>\n",
              "    .dataframe tbody tr th:only-of-type {\n",
              "        vertical-align: middle;\n",
              "    }\n",
              "\n",
              "    .dataframe tbody tr th {\n",
              "        vertical-align: top;\n",
              "    }\n",
              "\n",
              "    .dataframe thead th {\n",
              "        text-align: right;\n",
              "    }\n",
              "</style>\n",
              "<table border=\"1\" class=\"dataframe\">\n",
              "  <thead>\n",
              "    <tr style=\"text-align: right;\">\n",
              "      <th></th>\n",
              "      <th>mean</th>\n",
              "      <th>count</th>\n",
              "      <th>diff</th>\n",
              "      <th>risk</th>\n",
              "    </tr>\n",
              "    <tr>\n",
              "      <th>seniorcitizen</th>\n",
              "      <th></th>\n",
              "      <th></th>\n",
              "      <th></th>\n",
              "      <th></th>\n",
              "    </tr>\n",
              "  </thead>\n",
              "  <tbody>\n",
              "    <tr>\n",
              "      <th>0</th>\n",
              "      <td>0.242270</td>\n",
              "      <td>4722</td>\n",
              "      <td>-0.027698</td>\n",
              "      <td>0.897403</td>\n",
              "    </tr>\n",
              "    <tr>\n",
              "      <th>1</th>\n",
              "      <td>0.413377</td>\n",
              "      <td>912</td>\n",
              "      <td>0.143409</td>\n",
              "      <td>1.531208</td>\n",
              "    </tr>\n",
              "  </tbody>\n",
              "</table>\n",
              "</div>\n",
              "      <button class=\"colab-df-convert\" onclick=\"convertToInteractive('df-fd131ac1-7807-4e1c-b880-171054ed630d')\"\n",
              "              title=\"Convert this dataframe to an interactive table.\"\n",
              "              style=\"display:none;\">\n",
              "        \n",
              "  <svg xmlns=\"http://www.w3.org/2000/svg\" height=\"24px\"viewBox=\"0 0 24 24\"\n",
              "       width=\"24px\">\n",
              "    <path d=\"M0 0h24v24H0V0z\" fill=\"none\"/>\n",
              "    <path d=\"M18.56 5.44l.94 2.06.94-2.06 2.06-.94-2.06-.94-.94-2.06-.94 2.06-2.06.94zm-11 1L8.5 8.5l.94-2.06 2.06-.94-2.06-.94L8.5 2.5l-.94 2.06-2.06.94zm10 10l.94 2.06.94-2.06 2.06-.94-2.06-.94-.94-2.06-.94 2.06-2.06.94z\"/><path d=\"M17.41 7.96l-1.37-1.37c-.4-.4-.92-.59-1.43-.59-.52 0-1.04.2-1.43.59L10.3 9.45l-7.72 7.72c-.78.78-.78 2.05 0 2.83L4 21.41c.39.39.9.59 1.41.59.51 0 1.02-.2 1.41-.59l7.78-7.78 2.81-2.81c.8-.78.8-2.07 0-2.86zM5.41 20L4 18.59l7.72-7.72 1.47 1.35L5.41 20z\"/>\n",
              "  </svg>\n",
              "      </button>\n",
              "      \n",
              "  <style>\n",
              "    .colab-df-container {\n",
              "      display:flex;\n",
              "      flex-wrap:wrap;\n",
              "      gap: 12px;\n",
              "    }\n",
              "\n",
              "    .colab-df-convert {\n",
              "      background-color: #E8F0FE;\n",
              "      border: none;\n",
              "      border-radius: 50%;\n",
              "      cursor: pointer;\n",
              "      display: none;\n",
              "      fill: #1967D2;\n",
              "      height: 32px;\n",
              "      padding: 0 0 0 0;\n",
              "      width: 32px;\n",
              "    }\n",
              "\n",
              "    .colab-df-convert:hover {\n",
              "      background-color: #E2EBFA;\n",
              "      box-shadow: 0px 1px 2px rgba(60, 64, 67, 0.3), 0px 1px 3px 1px rgba(60, 64, 67, 0.15);\n",
              "      fill: #174EA6;\n",
              "    }\n",
              "\n",
              "    [theme=dark] .colab-df-convert {\n",
              "      background-color: #3B4455;\n",
              "      fill: #D2E3FC;\n",
              "    }\n",
              "\n",
              "    [theme=dark] .colab-df-convert:hover {\n",
              "      background-color: #434B5C;\n",
              "      box-shadow: 0px 1px 3px 1px rgba(0, 0, 0, 0.15);\n",
              "      filter: drop-shadow(0px 1px 2px rgba(0, 0, 0, 0.3));\n",
              "      fill: #FFFFFF;\n",
              "    }\n",
              "  </style>\n",
              "\n",
              "      <script>\n",
              "        const buttonEl =\n",
              "          document.querySelector('#df-fd131ac1-7807-4e1c-b880-171054ed630d button.colab-df-convert');\n",
              "        buttonEl.style.display =\n",
              "          google.colab.kernel.accessAllowed ? 'block' : 'none';\n",
              "\n",
              "        async function convertToInteractive(key) {\n",
              "          const element = document.querySelector('#df-fd131ac1-7807-4e1c-b880-171054ed630d');\n",
              "          const dataTable =\n",
              "            await google.colab.kernel.invokeFunction('convertToInteractive',\n",
              "                                                     [key], {});\n",
              "          if (!dataTable) return;\n",
              "\n",
              "          const docLinkHtml = 'Like what you see? Visit the ' +\n",
              "            '<a target=\"_blank\" href=https://colab.research.google.com/notebooks/data_table.ipynb>data table notebook</a>'\n",
              "            + ' to learn more about interactive tables.';\n",
              "          element.innerHTML = '';\n",
              "          dataTable['output_type'] = 'display_data';\n",
              "          await google.colab.output.renderOutput(dataTable, element);\n",
              "          const docLink = document.createElement('div');\n",
              "          docLink.innerHTML = docLinkHtml;\n",
              "          element.appendChild(docLink);\n",
              "        }\n",
              "      </script>\n",
              "    </div>\n",
              "  </div>\n",
              "  "
            ]
          },
          "metadata": {}
        },
        {
          "output_type": "stream",
          "name": "stdout",
          "text": [
            "\n",
            "\n",
            "partner\n"
          ]
        },
        {
          "output_type": "display_data",
          "data": {
            "text/plain": [
              "             mean  count      diff      risk\n",
              "partner                                     \n",
              "no       0.329809   2932  0.059841  1.221659\n",
              "yes      0.205033   2702 -0.064935  0.759472"
            ],
            "text/html": [
              "\n",
              "  <div id=\"df-4d51cbe0-a58d-4bf8-9cc8-0c2b9b6854f4\">\n",
              "    <div class=\"colab-df-container\">\n",
              "      <div>\n",
              "<style scoped>\n",
              "    .dataframe tbody tr th:only-of-type {\n",
              "        vertical-align: middle;\n",
              "    }\n",
              "\n",
              "    .dataframe tbody tr th {\n",
              "        vertical-align: top;\n",
              "    }\n",
              "\n",
              "    .dataframe thead th {\n",
              "        text-align: right;\n",
              "    }\n",
              "</style>\n",
              "<table border=\"1\" class=\"dataframe\">\n",
              "  <thead>\n",
              "    <tr style=\"text-align: right;\">\n",
              "      <th></th>\n",
              "      <th>mean</th>\n",
              "      <th>count</th>\n",
              "      <th>diff</th>\n",
              "      <th>risk</th>\n",
              "    </tr>\n",
              "    <tr>\n",
              "      <th>partner</th>\n",
              "      <th></th>\n",
              "      <th></th>\n",
              "      <th></th>\n",
              "      <th></th>\n",
              "    </tr>\n",
              "  </thead>\n",
              "  <tbody>\n",
              "    <tr>\n",
              "      <th>no</th>\n",
              "      <td>0.329809</td>\n",
              "      <td>2932</td>\n",
              "      <td>0.059841</td>\n",
              "      <td>1.221659</td>\n",
              "    </tr>\n",
              "    <tr>\n",
              "      <th>yes</th>\n",
              "      <td>0.205033</td>\n",
              "      <td>2702</td>\n",
              "      <td>-0.064935</td>\n",
              "      <td>0.759472</td>\n",
              "    </tr>\n",
              "  </tbody>\n",
              "</table>\n",
              "</div>\n",
              "      <button class=\"colab-df-convert\" onclick=\"convertToInteractive('df-4d51cbe0-a58d-4bf8-9cc8-0c2b9b6854f4')\"\n",
              "              title=\"Convert this dataframe to an interactive table.\"\n",
              "              style=\"display:none;\">\n",
              "        \n",
              "  <svg xmlns=\"http://www.w3.org/2000/svg\" height=\"24px\"viewBox=\"0 0 24 24\"\n",
              "       width=\"24px\">\n",
              "    <path d=\"M0 0h24v24H0V0z\" fill=\"none\"/>\n",
              "    <path d=\"M18.56 5.44l.94 2.06.94-2.06 2.06-.94-2.06-.94-.94-2.06-.94 2.06-2.06.94zm-11 1L8.5 8.5l.94-2.06 2.06-.94-2.06-.94L8.5 2.5l-.94 2.06-2.06.94zm10 10l.94 2.06.94-2.06 2.06-.94-2.06-.94-.94-2.06-.94 2.06-2.06.94z\"/><path d=\"M17.41 7.96l-1.37-1.37c-.4-.4-.92-.59-1.43-.59-.52 0-1.04.2-1.43.59L10.3 9.45l-7.72 7.72c-.78.78-.78 2.05 0 2.83L4 21.41c.39.39.9.59 1.41.59.51 0 1.02-.2 1.41-.59l7.78-7.78 2.81-2.81c.8-.78.8-2.07 0-2.86zM5.41 20L4 18.59l7.72-7.72 1.47 1.35L5.41 20z\"/>\n",
              "  </svg>\n",
              "      </button>\n",
              "      \n",
              "  <style>\n",
              "    .colab-df-container {\n",
              "      display:flex;\n",
              "      flex-wrap:wrap;\n",
              "      gap: 12px;\n",
              "    }\n",
              "\n",
              "    .colab-df-convert {\n",
              "      background-color: #E8F0FE;\n",
              "      border: none;\n",
              "      border-radius: 50%;\n",
              "      cursor: pointer;\n",
              "      display: none;\n",
              "      fill: #1967D2;\n",
              "      height: 32px;\n",
              "      padding: 0 0 0 0;\n",
              "      width: 32px;\n",
              "    }\n",
              "\n",
              "    .colab-df-convert:hover {\n",
              "      background-color: #E2EBFA;\n",
              "      box-shadow: 0px 1px 2px rgba(60, 64, 67, 0.3), 0px 1px 3px 1px rgba(60, 64, 67, 0.15);\n",
              "      fill: #174EA6;\n",
              "    }\n",
              "\n",
              "    [theme=dark] .colab-df-convert {\n",
              "      background-color: #3B4455;\n",
              "      fill: #D2E3FC;\n",
              "    }\n",
              "\n",
              "    [theme=dark] .colab-df-convert:hover {\n",
              "      background-color: #434B5C;\n",
              "      box-shadow: 0px 1px 3px 1px rgba(0, 0, 0, 0.15);\n",
              "      filter: drop-shadow(0px 1px 2px rgba(0, 0, 0, 0.3));\n",
              "      fill: #FFFFFF;\n",
              "    }\n",
              "  </style>\n",
              "\n",
              "      <script>\n",
              "        const buttonEl =\n",
              "          document.querySelector('#df-4d51cbe0-a58d-4bf8-9cc8-0c2b9b6854f4 button.colab-df-convert');\n",
              "        buttonEl.style.display =\n",
              "          google.colab.kernel.accessAllowed ? 'block' : 'none';\n",
              "\n",
              "        async function convertToInteractive(key) {\n",
              "          const element = document.querySelector('#df-4d51cbe0-a58d-4bf8-9cc8-0c2b9b6854f4');\n",
              "          const dataTable =\n",
              "            await google.colab.kernel.invokeFunction('convertToInteractive',\n",
              "                                                     [key], {});\n",
              "          if (!dataTable) return;\n",
              "\n",
              "          const docLinkHtml = 'Like what you see? Visit the ' +\n",
              "            '<a target=\"_blank\" href=https://colab.research.google.com/notebooks/data_table.ipynb>data table notebook</a>'\n",
              "            + ' to learn more about interactive tables.';\n",
              "          element.innerHTML = '';\n",
              "          dataTable['output_type'] = 'display_data';\n",
              "          await google.colab.output.renderOutput(dataTable, element);\n",
              "          const docLink = document.createElement('div');\n",
              "          docLink.innerHTML = docLinkHtml;\n",
              "          element.appendChild(docLink);\n",
              "        }\n",
              "      </script>\n",
              "    </div>\n",
              "  </div>\n",
              "  "
            ]
          },
          "metadata": {}
        },
        {
          "output_type": "stream",
          "name": "stdout",
          "text": [
            "\n",
            "\n",
            "dependents\n"
          ]
        },
        {
          "output_type": "display_data",
          "data": {
            "text/plain": [
              "                mean  count      diff      risk\n",
              "dependents                                     \n",
              "no          0.313760   3968  0.043792  1.162212\n",
              "yes         0.165666   1666 -0.104302  0.613651"
            ],
            "text/html": [
              "\n",
              "  <div id=\"df-4686ffdd-ac3f-491a-a5f6-19d774b29e52\">\n",
              "    <div class=\"colab-df-container\">\n",
              "      <div>\n",
              "<style scoped>\n",
              "    .dataframe tbody tr th:only-of-type {\n",
              "        vertical-align: middle;\n",
              "    }\n",
              "\n",
              "    .dataframe tbody tr th {\n",
              "        vertical-align: top;\n",
              "    }\n",
              "\n",
              "    .dataframe thead th {\n",
              "        text-align: right;\n",
              "    }\n",
              "</style>\n",
              "<table border=\"1\" class=\"dataframe\">\n",
              "  <thead>\n",
              "    <tr style=\"text-align: right;\">\n",
              "      <th></th>\n",
              "      <th>mean</th>\n",
              "      <th>count</th>\n",
              "      <th>diff</th>\n",
              "      <th>risk</th>\n",
              "    </tr>\n",
              "    <tr>\n",
              "      <th>dependents</th>\n",
              "      <th></th>\n",
              "      <th></th>\n",
              "      <th></th>\n",
              "      <th></th>\n",
              "    </tr>\n",
              "  </thead>\n",
              "  <tbody>\n",
              "    <tr>\n",
              "      <th>no</th>\n",
              "      <td>0.313760</td>\n",
              "      <td>3968</td>\n",
              "      <td>0.043792</td>\n",
              "      <td>1.162212</td>\n",
              "    </tr>\n",
              "    <tr>\n",
              "      <th>yes</th>\n",
              "      <td>0.165666</td>\n",
              "      <td>1666</td>\n",
              "      <td>-0.104302</td>\n",
              "      <td>0.613651</td>\n",
              "    </tr>\n",
              "  </tbody>\n",
              "</table>\n",
              "</div>\n",
              "      <button class=\"colab-df-convert\" onclick=\"convertToInteractive('df-4686ffdd-ac3f-491a-a5f6-19d774b29e52')\"\n",
              "              title=\"Convert this dataframe to an interactive table.\"\n",
              "              style=\"display:none;\">\n",
              "        \n",
              "  <svg xmlns=\"http://www.w3.org/2000/svg\" height=\"24px\"viewBox=\"0 0 24 24\"\n",
              "       width=\"24px\">\n",
              "    <path d=\"M0 0h24v24H0V0z\" fill=\"none\"/>\n",
              "    <path d=\"M18.56 5.44l.94 2.06.94-2.06 2.06-.94-2.06-.94-.94-2.06-.94 2.06-2.06.94zm-11 1L8.5 8.5l.94-2.06 2.06-.94-2.06-.94L8.5 2.5l-.94 2.06-2.06.94zm10 10l.94 2.06.94-2.06 2.06-.94-2.06-.94-.94-2.06-.94 2.06-2.06.94z\"/><path d=\"M17.41 7.96l-1.37-1.37c-.4-.4-.92-.59-1.43-.59-.52 0-1.04.2-1.43.59L10.3 9.45l-7.72 7.72c-.78.78-.78 2.05 0 2.83L4 21.41c.39.39.9.59 1.41.59.51 0 1.02-.2 1.41-.59l7.78-7.78 2.81-2.81c.8-.78.8-2.07 0-2.86zM5.41 20L4 18.59l7.72-7.72 1.47 1.35L5.41 20z\"/>\n",
              "  </svg>\n",
              "      </button>\n",
              "      \n",
              "  <style>\n",
              "    .colab-df-container {\n",
              "      display:flex;\n",
              "      flex-wrap:wrap;\n",
              "      gap: 12px;\n",
              "    }\n",
              "\n",
              "    .colab-df-convert {\n",
              "      background-color: #E8F0FE;\n",
              "      border: none;\n",
              "      border-radius: 50%;\n",
              "      cursor: pointer;\n",
              "      display: none;\n",
              "      fill: #1967D2;\n",
              "      height: 32px;\n",
              "      padding: 0 0 0 0;\n",
              "      width: 32px;\n",
              "    }\n",
              "\n",
              "    .colab-df-convert:hover {\n",
              "      background-color: #E2EBFA;\n",
              "      box-shadow: 0px 1px 2px rgba(60, 64, 67, 0.3), 0px 1px 3px 1px rgba(60, 64, 67, 0.15);\n",
              "      fill: #174EA6;\n",
              "    }\n",
              "\n",
              "    [theme=dark] .colab-df-convert {\n",
              "      background-color: #3B4455;\n",
              "      fill: #D2E3FC;\n",
              "    }\n",
              "\n",
              "    [theme=dark] .colab-df-convert:hover {\n",
              "      background-color: #434B5C;\n",
              "      box-shadow: 0px 1px 3px 1px rgba(0, 0, 0, 0.15);\n",
              "      filter: drop-shadow(0px 1px 2px rgba(0, 0, 0, 0.3));\n",
              "      fill: #FFFFFF;\n",
              "    }\n",
              "  </style>\n",
              "\n",
              "      <script>\n",
              "        const buttonEl =\n",
              "          document.querySelector('#df-4686ffdd-ac3f-491a-a5f6-19d774b29e52 button.colab-df-convert');\n",
              "        buttonEl.style.display =\n",
              "          google.colab.kernel.accessAllowed ? 'block' : 'none';\n",
              "\n",
              "        async function convertToInteractive(key) {\n",
              "          const element = document.querySelector('#df-4686ffdd-ac3f-491a-a5f6-19d774b29e52');\n",
              "          const dataTable =\n",
              "            await google.colab.kernel.invokeFunction('convertToInteractive',\n",
              "                                                     [key], {});\n",
              "          if (!dataTable) return;\n",
              "\n",
              "          const docLinkHtml = 'Like what you see? Visit the ' +\n",
              "            '<a target=\"_blank\" href=https://colab.research.google.com/notebooks/data_table.ipynb>data table notebook</a>'\n",
              "            + ' to learn more about interactive tables.';\n",
              "          element.innerHTML = '';\n",
              "          dataTable['output_type'] = 'display_data';\n",
              "          await google.colab.output.renderOutput(dataTable, element);\n",
              "          const docLink = document.createElement('div');\n",
              "          docLink.innerHTML = docLinkHtml;\n",
              "          element.appendChild(docLink);\n",
              "        }\n",
              "      </script>\n",
              "    </div>\n",
              "  </div>\n",
              "  "
            ]
          },
          "metadata": {}
        },
        {
          "output_type": "stream",
          "name": "stdout",
          "text": [
            "\n",
            "\n",
            "phoneservice\n"
          ]
        },
        {
          "output_type": "display_data",
          "data": {
            "text/plain": [
              "                  mean  count      diff      risk\n",
              "phoneservice                                     \n",
              "no            0.241316    547 -0.028652  0.893870\n",
              "yes           0.273049   5087  0.003081  1.011412"
            ],
            "text/html": [
              "\n",
              "  <div id=\"df-7204cf79-41c8-44cc-8031-a25aa0ab7a38\">\n",
              "    <div class=\"colab-df-container\">\n",
              "      <div>\n",
              "<style scoped>\n",
              "    .dataframe tbody tr th:only-of-type {\n",
              "        vertical-align: middle;\n",
              "    }\n",
              "\n",
              "    .dataframe tbody tr th {\n",
              "        vertical-align: top;\n",
              "    }\n",
              "\n",
              "    .dataframe thead th {\n",
              "        text-align: right;\n",
              "    }\n",
              "</style>\n",
              "<table border=\"1\" class=\"dataframe\">\n",
              "  <thead>\n",
              "    <tr style=\"text-align: right;\">\n",
              "      <th></th>\n",
              "      <th>mean</th>\n",
              "      <th>count</th>\n",
              "      <th>diff</th>\n",
              "      <th>risk</th>\n",
              "    </tr>\n",
              "    <tr>\n",
              "      <th>phoneservice</th>\n",
              "      <th></th>\n",
              "      <th></th>\n",
              "      <th></th>\n",
              "      <th></th>\n",
              "    </tr>\n",
              "  </thead>\n",
              "  <tbody>\n",
              "    <tr>\n",
              "      <th>no</th>\n",
              "      <td>0.241316</td>\n",
              "      <td>547</td>\n",
              "      <td>-0.028652</td>\n",
              "      <td>0.893870</td>\n",
              "    </tr>\n",
              "    <tr>\n",
              "      <th>yes</th>\n",
              "      <td>0.273049</td>\n",
              "      <td>5087</td>\n",
              "      <td>0.003081</td>\n",
              "      <td>1.011412</td>\n",
              "    </tr>\n",
              "  </tbody>\n",
              "</table>\n",
              "</div>\n",
              "      <button class=\"colab-df-convert\" onclick=\"convertToInteractive('df-7204cf79-41c8-44cc-8031-a25aa0ab7a38')\"\n",
              "              title=\"Convert this dataframe to an interactive table.\"\n",
              "              style=\"display:none;\">\n",
              "        \n",
              "  <svg xmlns=\"http://www.w3.org/2000/svg\" height=\"24px\"viewBox=\"0 0 24 24\"\n",
              "       width=\"24px\">\n",
              "    <path d=\"M0 0h24v24H0V0z\" fill=\"none\"/>\n",
              "    <path d=\"M18.56 5.44l.94 2.06.94-2.06 2.06-.94-2.06-.94-.94-2.06-.94 2.06-2.06.94zm-11 1L8.5 8.5l.94-2.06 2.06-.94-2.06-.94L8.5 2.5l-.94 2.06-2.06.94zm10 10l.94 2.06.94-2.06 2.06-.94-2.06-.94-.94-2.06-.94 2.06-2.06.94z\"/><path d=\"M17.41 7.96l-1.37-1.37c-.4-.4-.92-.59-1.43-.59-.52 0-1.04.2-1.43.59L10.3 9.45l-7.72 7.72c-.78.78-.78 2.05 0 2.83L4 21.41c.39.39.9.59 1.41.59.51 0 1.02-.2 1.41-.59l7.78-7.78 2.81-2.81c.8-.78.8-2.07 0-2.86zM5.41 20L4 18.59l7.72-7.72 1.47 1.35L5.41 20z\"/>\n",
              "  </svg>\n",
              "      </button>\n",
              "      \n",
              "  <style>\n",
              "    .colab-df-container {\n",
              "      display:flex;\n",
              "      flex-wrap:wrap;\n",
              "      gap: 12px;\n",
              "    }\n",
              "\n",
              "    .colab-df-convert {\n",
              "      background-color: #E8F0FE;\n",
              "      border: none;\n",
              "      border-radius: 50%;\n",
              "      cursor: pointer;\n",
              "      display: none;\n",
              "      fill: #1967D2;\n",
              "      height: 32px;\n",
              "      padding: 0 0 0 0;\n",
              "      width: 32px;\n",
              "    }\n",
              "\n",
              "    .colab-df-convert:hover {\n",
              "      background-color: #E2EBFA;\n",
              "      box-shadow: 0px 1px 2px rgba(60, 64, 67, 0.3), 0px 1px 3px 1px rgba(60, 64, 67, 0.15);\n",
              "      fill: #174EA6;\n",
              "    }\n",
              "\n",
              "    [theme=dark] .colab-df-convert {\n",
              "      background-color: #3B4455;\n",
              "      fill: #D2E3FC;\n",
              "    }\n",
              "\n",
              "    [theme=dark] .colab-df-convert:hover {\n",
              "      background-color: #434B5C;\n",
              "      box-shadow: 0px 1px 3px 1px rgba(0, 0, 0, 0.15);\n",
              "      filter: drop-shadow(0px 1px 2px rgba(0, 0, 0, 0.3));\n",
              "      fill: #FFFFFF;\n",
              "    }\n",
              "  </style>\n",
              "\n",
              "      <script>\n",
              "        const buttonEl =\n",
              "          document.querySelector('#df-7204cf79-41c8-44cc-8031-a25aa0ab7a38 button.colab-df-convert');\n",
              "        buttonEl.style.display =\n",
              "          google.colab.kernel.accessAllowed ? 'block' : 'none';\n",
              "\n",
              "        async function convertToInteractive(key) {\n",
              "          const element = document.querySelector('#df-7204cf79-41c8-44cc-8031-a25aa0ab7a38');\n",
              "          const dataTable =\n",
              "            await google.colab.kernel.invokeFunction('convertToInteractive',\n",
              "                                                     [key], {});\n",
              "          if (!dataTable) return;\n",
              "\n",
              "          const docLinkHtml = 'Like what you see? Visit the ' +\n",
              "            '<a target=\"_blank\" href=https://colab.research.google.com/notebooks/data_table.ipynb>data table notebook</a>'\n",
              "            + ' to learn more about interactive tables.';\n",
              "          element.innerHTML = '';\n",
              "          dataTable['output_type'] = 'display_data';\n",
              "          await google.colab.output.renderOutput(dataTable, element);\n",
              "          const docLink = document.createElement('div');\n",
              "          docLink.innerHTML = docLinkHtml;\n",
              "          element.appendChild(docLink);\n",
              "        }\n",
              "      </script>\n",
              "    </div>\n",
              "  </div>\n",
              "  "
            ]
          },
          "metadata": {}
        },
        {
          "output_type": "stream",
          "name": "stdout",
          "text": [
            "\n",
            "\n",
            "multiplelines\n"
          ]
        },
        {
          "output_type": "display_data",
          "data": {
            "text/plain": [
              "                      mean  count      diff      risk\n",
              "multiplelines                                        \n",
              "no                0.257407   2700 -0.012561  0.953474\n",
              "no_phone_service  0.241316    547 -0.028652  0.893870\n",
              "yes               0.290742   2387  0.020773  1.076948"
            ],
            "text/html": [
              "\n",
              "  <div id=\"df-a2f3cd59-476c-45eb-9be8-0d677ce5e3c7\">\n",
              "    <div class=\"colab-df-container\">\n",
              "      <div>\n",
              "<style scoped>\n",
              "    .dataframe tbody tr th:only-of-type {\n",
              "        vertical-align: middle;\n",
              "    }\n",
              "\n",
              "    .dataframe tbody tr th {\n",
              "        vertical-align: top;\n",
              "    }\n",
              "\n",
              "    .dataframe thead th {\n",
              "        text-align: right;\n",
              "    }\n",
              "</style>\n",
              "<table border=\"1\" class=\"dataframe\">\n",
              "  <thead>\n",
              "    <tr style=\"text-align: right;\">\n",
              "      <th></th>\n",
              "      <th>mean</th>\n",
              "      <th>count</th>\n",
              "      <th>diff</th>\n",
              "      <th>risk</th>\n",
              "    </tr>\n",
              "    <tr>\n",
              "      <th>multiplelines</th>\n",
              "      <th></th>\n",
              "      <th></th>\n",
              "      <th></th>\n",
              "      <th></th>\n",
              "    </tr>\n",
              "  </thead>\n",
              "  <tbody>\n",
              "    <tr>\n",
              "      <th>no</th>\n",
              "      <td>0.257407</td>\n",
              "      <td>2700</td>\n",
              "      <td>-0.012561</td>\n",
              "      <td>0.953474</td>\n",
              "    </tr>\n",
              "    <tr>\n",
              "      <th>no_phone_service</th>\n",
              "      <td>0.241316</td>\n",
              "      <td>547</td>\n",
              "      <td>-0.028652</td>\n",
              "      <td>0.893870</td>\n",
              "    </tr>\n",
              "    <tr>\n",
              "      <th>yes</th>\n",
              "      <td>0.290742</td>\n",
              "      <td>2387</td>\n",
              "      <td>0.020773</td>\n",
              "      <td>1.076948</td>\n",
              "    </tr>\n",
              "  </tbody>\n",
              "</table>\n",
              "</div>\n",
              "      <button class=\"colab-df-convert\" onclick=\"convertToInteractive('df-a2f3cd59-476c-45eb-9be8-0d677ce5e3c7')\"\n",
              "              title=\"Convert this dataframe to an interactive table.\"\n",
              "              style=\"display:none;\">\n",
              "        \n",
              "  <svg xmlns=\"http://www.w3.org/2000/svg\" height=\"24px\"viewBox=\"0 0 24 24\"\n",
              "       width=\"24px\">\n",
              "    <path d=\"M0 0h24v24H0V0z\" fill=\"none\"/>\n",
              "    <path d=\"M18.56 5.44l.94 2.06.94-2.06 2.06-.94-2.06-.94-.94-2.06-.94 2.06-2.06.94zm-11 1L8.5 8.5l.94-2.06 2.06-.94-2.06-.94L8.5 2.5l-.94 2.06-2.06.94zm10 10l.94 2.06.94-2.06 2.06-.94-2.06-.94-.94-2.06-.94 2.06-2.06.94z\"/><path d=\"M17.41 7.96l-1.37-1.37c-.4-.4-.92-.59-1.43-.59-.52 0-1.04.2-1.43.59L10.3 9.45l-7.72 7.72c-.78.78-.78 2.05 0 2.83L4 21.41c.39.39.9.59 1.41.59.51 0 1.02-.2 1.41-.59l7.78-7.78 2.81-2.81c.8-.78.8-2.07 0-2.86zM5.41 20L4 18.59l7.72-7.72 1.47 1.35L5.41 20z\"/>\n",
              "  </svg>\n",
              "      </button>\n",
              "      \n",
              "  <style>\n",
              "    .colab-df-container {\n",
              "      display:flex;\n",
              "      flex-wrap:wrap;\n",
              "      gap: 12px;\n",
              "    }\n",
              "\n",
              "    .colab-df-convert {\n",
              "      background-color: #E8F0FE;\n",
              "      border: none;\n",
              "      border-radius: 50%;\n",
              "      cursor: pointer;\n",
              "      display: none;\n",
              "      fill: #1967D2;\n",
              "      height: 32px;\n",
              "      padding: 0 0 0 0;\n",
              "      width: 32px;\n",
              "    }\n",
              "\n",
              "    .colab-df-convert:hover {\n",
              "      background-color: #E2EBFA;\n",
              "      box-shadow: 0px 1px 2px rgba(60, 64, 67, 0.3), 0px 1px 3px 1px rgba(60, 64, 67, 0.15);\n",
              "      fill: #174EA6;\n",
              "    }\n",
              "\n",
              "    [theme=dark] .colab-df-convert {\n",
              "      background-color: #3B4455;\n",
              "      fill: #D2E3FC;\n",
              "    }\n",
              "\n",
              "    [theme=dark] .colab-df-convert:hover {\n",
              "      background-color: #434B5C;\n",
              "      box-shadow: 0px 1px 3px 1px rgba(0, 0, 0, 0.15);\n",
              "      filter: drop-shadow(0px 1px 2px rgba(0, 0, 0, 0.3));\n",
              "      fill: #FFFFFF;\n",
              "    }\n",
              "  </style>\n",
              "\n",
              "      <script>\n",
              "        const buttonEl =\n",
              "          document.querySelector('#df-a2f3cd59-476c-45eb-9be8-0d677ce5e3c7 button.colab-df-convert');\n",
              "        buttonEl.style.display =\n",
              "          google.colab.kernel.accessAllowed ? 'block' : 'none';\n",
              "\n",
              "        async function convertToInteractive(key) {\n",
              "          const element = document.querySelector('#df-a2f3cd59-476c-45eb-9be8-0d677ce5e3c7');\n",
              "          const dataTable =\n",
              "            await google.colab.kernel.invokeFunction('convertToInteractive',\n",
              "                                                     [key], {});\n",
              "          if (!dataTable) return;\n",
              "\n",
              "          const docLinkHtml = 'Like what you see? Visit the ' +\n",
              "            '<a target=\"_blank\" href=https://colab.research.google.com/notebooks/data_table.ipynb>data table notebook</a>'\n",
              "            + ' to learn more about interactive tables.';\n",
              "          element.innerHTML = '';\n",
              "          dataTable['output_type'] = 'display_data';\n",
              "          await google.colab.output.renderOutput(dataTable, element);\n",
              "          const docLink = document.createElement('div');\n",
              "          docLink.innerHTML = docLinkHtml;\n",
              "          element.appendChild(docLink);\n",
              "        }\n",
              "      </script>\n",
              "    </div>\n",
              "  </div>\n",
              "  "
            ]
          },
          "metadata": {}
        },
        {
          "output_type": "stream",
          "name": "stdout",
          "text": [
            "\n",
            "\n",
            "internetservice\n"
          ]
        },
        {
          "output_type": "display_data",
          "data": {
            "text/plain": [
              "                     mean  count      diff      risk\n",
              "internetservice                                     \n",
              "dsl              0.192347   1934 -0.077621  0.712482\n",
              "fiber_optic      0.425171   2479  0.155203  1.574895\n",
              "no               0.077805   1221 -0.192163  0.288201"
            ],
            "text/html": [
              "\n",
              "  <div id=\"df-419c1ac3-be9a-4675-b3f7-46ffc5087473\">\n",
              "    <div class=\"colab-df-container\">\n",
              "      <div>\n",
              "<style scoped>\n",
              "    .dataframe tbody tr th:only-of-type {\n",
              "        vertical-align: middle;\n",
              "    }\n",
              "\n",
              "    .dataframe tbody tr th {\n",
              "        vertical-align: top;\n",
              "    }\n",
              "\n",
              "    .dataframe thead th {\n",
              "        text-align: right;\n",
              "    }\n",
              "</style>\n",
              "<table border=\"1\" class=\"dataframe\">\n",
              "  <thead>\n",
              "    <tr style=\"text-align: right;\">\n",
              "      <th></th>\n",
              "      <th>mean</th>\n",
              "      <th>count</th>\n",
              "      <th>diff</th>\n",
              "      <th>risk</th>\n",
              "    </tr>\n",
              "    <tr>\n",
              "      <th>internetservice</th>\n",
              "      <th></th>\n",
              "      <th></th>\n",
              "      <th></th>\n",
              "      <th></th>\n",
              "    </tr>\n",
              "  </thead>\n",
              "  <tbody>\n",
              "    <tr>\n",
              "      <th>dsl</th>\n",
              "      <td>0.192347</td>\n",
              "      <td>1934</td>\n",
              "      <td>-0.077621</td>\n",
              "      <td>0.712482</td>\n",
              "    </tr>\n",
              "    <tr>\n",
              "      <th>fiber_optic</th>\n",
              "      <td>0.425171</td>\n",
              "      <td>2479</td>\n",
              "      <td>0.155203</td>\n",
              "      <td>1.574895</td>\n",
              "    </tr>\n",
              "    <tr>\n",
              "      <th>no</th>\n",
              "      <td>0.077805</td>\n",
              "      <td>1221</td>\n",
              "      <td>-0.192163</td>\n",
              "      <td>0.288201</td>\n",
              "    </tr>\n",
              "  </tbody>\n",
              "</table>\n",
              "</div>\n",
              "      <button class=\"colab-df-convert\" onclick=\"convertToInteractive('df-419c1ac3-be9a-4675-b3f7-46ffc5087473')\"\n",
              "              title=\"Convert this dataframe to an interactive table.\"\n",
              "              style=\"display:none;\">\n",
              "        \n",
              "  <svg xmlns=\"http://www.w3.org/2000/svg\" height=\"24px\"viewBox=\"0 0 24 24\"\n",
              "       width=\"24px\">\n",
              "    <path d=\"M0 0h24v24H0V0z\" fill=\"none\"/>\n",
              "    <path d=\"M18.56 5.44l.94 2.06.94-2.06 2.06-.94-2.06-.94-.94-2.06-.94 2.06-2.06.94zm-11 1L8.5 8.5l.94-2.06 2.06-.94-2.06-.94L8.5 2.5l-.94 2.06-2.06.94zm10 10l.94 2.06.94-2.06 2.06-.94-2.06-.94-.94-2.06-.94 2.06-2.06.94z\"/><path d=\"M17.41 7.96l-1.37-1.37c-.4-.4-.92-.59-1.43-.59-.52 0-1.04.2-1.43.59L10.3 9.45l-7.72 7.72c-.78.78-.78 2.05 0 2.83L4 21.41c.39.39.9.59 1.41.59.51 0 1.02-.2 1.41-.59l7.78-7.78 2.81-2.81c.8-.78.8-2.07 0-2.86zM5.41 20L4 18.59l7.72-7.72 1.47 1.35L5.41 20z\"/>\n",
              "  </svg>\n",
              "      </button>\n",
              "      \n",
              "  <style>\n",
              "    .colab-df-container {\n",
              "      display:flex;\n",
              "      flex-wrap:wrap;\n",
              "      gap: 12px;\n",
              "    }\n",
              "\n",
              "    .colab-df-convert {\n",
              "      background-color: #E8F0FE;\n",
              "      border: none;\n",
              "      border-radius: 50%;\n",
              "      cursor: pointer;\n",
              "      display: none;\n",
              "      fill: #1967D2;\n",
              "      height: 32px;\n",
              "      padding: 0 0 0 0;\n",
              "      width: 32px;\n",
              "    }\n",
              "\n",
              "    .colab-df-convert:hover {\n",
              "      background-color: #E2EBFA;\n",
              "      box-shadow: 0px 1px 2px rgba(60, 64, 67, 0.3), 0px 1px 3px 1px rgba(60, 64, 67, 0.15);\n",
              "      fill: #174EA6;\n",
              "    }\n",
              "\n",
              "    [theme=dark] .colab-df-convert {\n",
              "      background-color: #3B4455;\n",
              "      fill: #D2E3FC;\n",
              "    }\n",
              "\n",
              "    [theme=dark] .colab-df-convert:hover {\n",
              "      background-color: #434B5C;\n",
              "      box-shadow: 0px 1px 3px 1px rgba(0, 0, 0, 0.15);\n",
              "      filter: drop-shadow(0px 1px 2px rgba(0, 0, 0, 0.3));\n",
              "      fill: #FFFFFF;\n",
              "    }\n",
              "  </style>\n",
              "\n",
              "      <script>\n",
              "        const buttonEl =\n",
              "          document.querySelector('#df-419c1ac3-be9a-4675-b3f7-46ffc5087473 button.colab-df-convert');\n",
              "        buttonEl.style.display =\n",
              "          google.colab.kernel.accessAllowed ? 'block' : 'none';\n",
              "\n",
              "        async function convertToInteractive(key) {\n",
              "          const element = document.querySelector('#df-419c1ac3-be9a-4675-b3f7-46ffc5087473');\n",
              "          const dataTable =\n",
              "            await google.colab.kernel.invokeFunction('convertToInteractive',\n",
              "                                                     [key], {});\n",
              "          if (!dataTable) return;\n",
              "\n",
              "          const docLinkHtml = 'Like what you see? Visit the ' +\n",
              "            '<a target=\"_blank\" href=https://colab.research.google.com/notebooks/data_table.ipynb>data table notebook</a>'\n",
              "            + ' to learn more about interactive tables.';\n",
              "          element.innerHTML = '';\n",
              "          dataTable['output_type'] = 'display_data';\n",
              "          await google.colab.output.renderOutput(dataTable, element);\n",
              "          const docLink = document.createElement('div');\n",
              "          docLink.innerHTML = docLinkHtml;\n",
              "          element.appendChild(docLink);\n",
              "        }\n",
              "      </script>\n",
              "    </div>\n",
              "  </div>\n",
              "  "
            ]
          },
          "metadata": {}
        },
        {
          "output_type": "stream",
          "name": "stdout",
          "text": [
            "\n",
            "\n",
            "onlinesecurity\n"
          ]
        },
        {
          "output_type": "display_data",
          "data": {
            "text/plain": [
              "                         mean  count      diff      risk\n",
              "onlinesecurity                                          \n",
              "no                   0.420921   2801  0.150953  1.559152\n",
              "no_internet_service  0.077805   1221 -0.192163  0.288201\n",
              "yes                  0.153226   1612 -0.116742  0.567570"
            ],
            "text/html": [
              "\n",
              "  <div id=\"df-7db4c513-134c-474b-a30c-7449b77751ab\">\n",
              "    <div class=\"colab-df-container\">\n",
              "      <div>\n",
              "<style scoped>\n",
              "    .dataframe tbody tr th:only-of-type {\n",
              "        vertical-align: middle;\n",
              "    }\n",
              "\n",
              "    .dataframe tbody tr th {\n",
              "        vertical-align: top;\n",
              "    }\n",
              "\n",
              "    .dataframe thead th {\n",
              "        text-align: right;\n",
              "    }\n",
              "</style>\n",
              "<table border=\"1\" class=\"dataframe\">\n",
              "  <thead>\n",
              "    <tr style=\"text-align: right;\">\n",
              "      <th></th>\n",
              "      <th>mean</th>\n",
              "      <th>count</th>\n",
              "      <th>diff</th>\n",
              "      <th>risk</th>\n",
              "    </tr>\n",
              "    <tr>\n",
              "      <th>onlinesecurity</th>\n",
              "      <th></th>\n",
              "      <th></th>\n",
              "      <th></th>\n",
              "      <th></th>\n",
              "    </tr>\n",
              "  </thead>\n",
              "  <tbody>\n",
              "    <tr>\n",
              "      <th>no</th>\n",
              "      <td>0.420921</td>\n",
              "      <td>2801</td>\n",
              "      <td>0.150953</td>\n",
              "      <td>1.559152</td>\n",
              "    </tr>\n",
              "    <tr>\n",
              "      <th>no_internet_service</th>\n",
              "      <td>0.077805</td>\n",
              "      <td>1221</td>\n",
              "      <td>-0.192163</td>\n",
              "      <td>0.288201</td>\n",
              "    </tr>\n",
              "    <tr>\n",
              "      <th>yes</th>\n",
              "      <td>0.153226</td>\n",
              "      <td>1612</td>\n",
              "      <td>-0.116742</td>\n",
              "      <td>0.567570</td>\n",
              "    </tr>\n",
              "  </tbody>\n",
              "</table>\n",
              "</div>\n",
              "      <button class=\"colab-df-convert\" onclick=\"convertToInteractive('df-7db4c513-134c-474b-a30c-7449b77751ab')\"\n",
              "              title=\"Convert this dataframe to an interactive table.\"\n",
              "              style=\"display:none;\">\n",
              "        \n",
              "  <svg xmlns=\"http://www.w3.org/2000/svg\" height=\"24px\"viewBox=\"0 0 24 24\"\n",
              "       width=\"24px\">\n",
              "    <path d=\"M0 0h24v24H0V0z\" fill=\"none\"/>\n",
              "    <path d=\"M18.56 5.44l.94 2.06.94-2.06 2.06-.94-2.06-.94-.94-2.06-.94 2.06-2.06.94zm-11 1L8.5 8.5l.94-2.06 2.06-.94-2.06-.94L8.5 2.5l-.94 2.06-2.06.94zm10 10l.94 2.06.94-2.06 2.06-.94-2.06-.94-.94-2.06-.94 2.06-2.06.94z\"/><path d=\"M17.41 7.96l-1.37-1.37c-.4-.4-.92-.59-1.43-.59-.52 0-1.04.2-1.43.59L10.3 9.45l-7.72 7.72c-.78.78-.78 2.05 0 2.83L4 21.41c.39.39.9.59 1.41.59.51 0 1.02-.2 1.41-.59l7.78-7.78 2.81-2.81c.8-.78.8-2.07 0-2.86zM5.41 20L4 18.59l7.72-7.72 1.47 1.35L5.41 20z\"/>\n",
              "  </svg>\n",
              "      </button>\n",
              "      \n",
              "  <style>\n",
              "    .colab-df-container {\n",
              "      display:flex;\n",
              "      flex-wrap:wrap;\n",
              "      gap: 12px;\n",
              "    }\n",
              "\n",
              "    .colab-df-convert {\n",
              "      background-color: #E8F0FE;\n",
              "      border: none;\n",
              "      border-radius: 50%;\n",
              "      cursor: pointer;\n",
              "      display: none;\n",
              "      fill: #1967D2;\n",
              "      height: 32px;\n",
              "      padding: 0 0 0 0;\n",
              "      width: 32px;\n",
              "    }\n",
              "\n",
              "    .colab-df-convert:hover {\n",
              "      background-color: #E2EBFA;\n",
              "      box-shadow: 0px 1px 2px rgba(60, 64, 67, 0.3), 0px 1px 3px 1px rgba(60, 64, 67, 0.15);\n",
              "      fill: #174EA6;\n",
              "    }\n",
              "\n",
              "    [theme=dark] .colab-df-convert {\n",
              "      background-color: #3B4455;\n",
              "      fill: #D2E3FC;\n",
              "    }\n",
              "\n",
              "    [theme=dark] .colab-df-convert:hover {\n",
              "      background-color: #434B5C;\n",
              "      box-shadow: 0px 1px 3px 1px rgba(0, 0, 0, 0.15);\n",
              "      filter: drop-shadow(0px 1px 2px rgba(0, 0, 0, 0.3));\n",
              "      fill: #FFFFFF;\n",
              "    }\n",
              "  </style>\n",
              "\n",
              "      <script>\n",
              "        const buttonEl =\n",
              "          document.querySelector('#df-7db4c513-134c-474b-a30c-7449b77751ab button.colab-df-convert');\n",
              "        buttonEl.style.display =\n",
              "          google.colab.kernel.accessAllowed ? 'block' : 'none';\n",
              "\n",
              "        async function convertToInteractive(key) {\n",
              "          const element = document.querySelector('#df-7db4c513-134c-474b-a30c-7449b77751ab');\n",
              "          const dataTable =\n",
              "            await google.colab.kernel.invokeFunction('convertToInteractive',\n",
              "                                                     [key], {});\n",
              "          if (!dataTable) return;\n",
              "\n",
              "          const docLinkHtml = 'Like what you see? Visit the ' +\n",
              "            '<a target=\"_blank\" href=https://colab.research.google.com/notebooks/data_table.ipynb>data table notebook</a>'\n",
              "            + ' to learn more about interactive tables.';\n",
              "          element.innerHTML = '';\n",
              "          dataTable['output_type'] = 'display_data';\n",
              "          await google.colab.output.renderOutput(dataTable, element);\n",
              "          const docLink = document.createElement('div');\n",
              "          docLink.innerHTML = docLinkHtml;\n",
              "          element.appendChild(docLink);\n",
              "        }\n",
              "      </script>\n",
              "    </div>\n",
              "  </div>\n",
              "  "
            ]
          },
          "metadata": {}
        },
        {
          "output_type": "stream",
          "name": "stdout",
          "text": [
            "\n",
            "\n",
            "onlinebackup\n"
          ]
        },
        {
          "output_type": "display_data",
          "data": {
            "text/plain": [
              "                         mean  count      diff      risk\n",
              "onlinebackup                                            \n",
              "no                   0.404323   2498  0.134355  1.497672\n",
              "no_internet_service  0.077805   1221 -0.192163  0.288201\n",
              "yes                  0.217232   1915 -0.052736  0.804660"
            ],
            "text/html": [
              "\n",
              "  <div id=\"df-11c8b50b-2a0e-4fd2-b431-405172f9574a\">\n",
              "    <div class=\"colab-df-container\">\n",
              "      <div>\n",
              "<style scoped>\n",
              "    .dataframe tbody tr th:only-of-type {\n",
              "        vertical-align: middle;\n",
              "    }\n",
              "\n",
              "    .dataframe tbody tr th {\n",
              "        vertical-align: top;\n",
              "    }\n",
              "\n",
              "    .dataframe thead th {\n",
              "        text-align: right;\n",
              "    }\n",
              "</style>\n",
              "<table border=\"1\" class=\"dataframe\">\n",
              "  <thead>\n",
              "    <tr style=\"text-align: right;\">\n",
              "      <th></th>\n",
              "      <th>mean</th>\n",
              "      <th>count</th>\n",
              "      <th>diff</th>\n",
              "      <th>risk</th>\n",
              "    </tr>\n",
              "    <tr>\n",
              "      <th>onlinebackup</th>\n",
              "      <th></th>\n",
              "      <th></th>\n",
              "      <th></th>\n",
              "      <th></th>\n",
              "    </tr>\n",
              "  </thead>\n",
              "  <tbody>\n",
              "    <tr>\n",
              "      <th>no</th>\n",
              "      <td>0.404323</td>\n",
              "      <td>2498</td>\n",
              "      <td>0.134355</td>\n",
              "      <td>1.497672</td>\n",
              "    </tr>\n",
              "    <tr>\n",
              "      <th>no_internet_service</th>\n",
              "      <td>0.077805</td>\n",
              "      <td>1221</td>\n",
              "      <td>-0.192163</td>\n",
              "      <td>0.288201</td>\n",
              "    </tr>\n",
              "    <tr>\n",
              "      <th>yes</th>\n",
              "      <td>0.217232</td>\n",
              "      <td>1915</td>\n",
              "      <td>-0.052736</td>\n",
              "      <td>0.804660</td>\n",
              "    </tr>\n",
              "  </tbody>\n",
              "</table>\n",
              "</div>\n",
              "      <button class=\"colab-df-convert\" onclick=\"convertToInteractive('df-11c8b50b-2a0e-4fd2-b431-405172f9574a')\"\n",
              "              title=\"Convert this dataframe to an interactive table.\"\n",
              "              style=\"display:none;\">\n",
              "        \n",
              "  <svg xmlns=\"http://www.w3.org/2000/svg\" height=\"24px\"viewBox=\"0 0 24 24\"\n",
              "       width=\"24px\">\n",
              "    <path d=\"M0 0h24v24H0V0z\" fill=\"none\"/>\n",
              "    <path d=\"M18.56 5.44l.94 2.06.94-2.06 2.06-.94-2.06-.94-.94-2.06-.94 2.06-2.06.94zm-11 1L8.5 8.5l.94-2.06 2.06-.94-2.06-.94L8.5 2.5l-.94 2.06-2.06.94zm10 10l.94 2.06.94-2.06 2.06-.94-2.06-.94-.94-2.06-.94 2.06-2.06.94z\"/><path d=\"M17.41 7.96l-1.37-1.37c-.4-.4-.92-.59-1.43-.59-.52 0-1.04.2-1.43.59L10.3 9.45l-7.72 7.72c-.78.78-.78 2.05 0 2.83L4 21.41c.39.39.9.59 1.41.59.51 0 1.02-.2 1.41-.59l7.78-7.78 2.81-2.81c.8-.78.8-2.07 0-2.86zM5.41 20L4 18.59l7.72-7.72 1.47 1.35L5.41 20z\"/>\n",
              "  </svg>\n",
              "      </button>\n",
              "      \n",
              "  <style>\n",
              "    .colab-df-container {\n",
              "      display:flex;\n",
              "      flex-wrap:wrap;\n",
              "      gap: 12px;\n",
              "    }\n",
              "\n",
              "    .colab-df-convert {\n",
              "      background-color: #E8F0FE;\n",
              "      border: none;\n",
              "      border-radius: 50%;\n",
              "      cursor: pointer;\n",
              "      display: none;\n",
              "      fill: #1967D2;\n",
              "      height: 32px;\n",
              "      padding: 0 0 0 0;\n",
              "      width: 32px;\n",
              "    }\n",
              "\n",
              "    .colab-df-convert:hover {\n",
              "      background-color: #E2EBFA;\n",
              "      box-shadow: 0px 1px 2px rgba(60, 64, 67, 0.3), 0px 1px 3px 1px rgba(60, 64, 67, 0.15);\n",
              "      fill: #174EA6;\n",
              "    }\n",
              "\n",
              "    [theme=dark] .colab-df-convert {\n",
              "      background-color: #3B4455;\n",
              "      fill: #D2E3FC;\n",
              "    }\n",
              "\n",
              "    [theme=dark] .colab-df-convert:hover {\n",
              "      background-color: #434B5C;\n",
              "      box-shadow: 0px 1px 3px 1px rgba(0, 0, 0, 0.15);\n",
              "      filter: drop-shadow(0px 1px 2px rgba(0, 0, 0, 0.3));\n",
              "      fill: #FFFFFF;\n",
              "    }\n",
              "  </style>\n",
              "\n",
              "      <script>\n",
              "        const buttonEl =\n",
              "          document.querySelector('#df-11c8b50b-2a0e-4fd2-b431-405172f9574a button.colab-df-convert');\n",
              "        buttonEl.style.display =\n",
              "          google.colab.kernel.accessAllowed ? 'block' : 'none';\n",
              "\n",
              "        async function convertToInteractive(key) {\n",
              "          const element = document.querySelector('#df-11c8b50b-2a0e-4fd2-b431-405172f9574a');\n",
              "          const dataTable =\n",
              "            await google.colab.kernel.invokeFunction('convertToInteractive',\n",
              "                                                     [key], {});\n",
              "          if (!dataTable) return;\n",
              "\n",
              "          const docLinkHtml = 'Like what you see? Visit the ' +\n",
              "            '<a target=\"_blank\" href=https://colab.research.google.com/notebooks/data_table.ipynb>data table notebook</a>'\n",
              "            + ' to learn more about interactive tables.';\n",
              "          element.innerHTML = '';\n",
              "          dataTable['output_type'] = 'display_data';\n",
              "          await google.colab.output.renderOutput(dataTable, element);\n",
              "          const docLink = document.createElement('div');\n",
              "          docLink.innerHTML = docLinkHtml;\n",
              "          element.appendChild(docLink);\n",
              "        }\n",
              "      </script>\n",
              "    </div>\n",
              "  </div>\n",
              "  "
            ]
          },
          "metadata": {}
        },
        {
          "output_type": "stream",
          "name": "stdout",
          "text": [
            "\n",
            "\n",
            "deviceprotection\n"
          ]
        },
        {
          "output_type": "display_data",
          "data": {
            "text/plain": [
              "                         mean  count      diff      risk\n",
              "deviceprotection                                        \n",
              "no                   0.395875   2473  0.125907  1.466379\n",
              "no_internet_service  0.077805   1221 -0.192163  0.288201\n",
              "yes                  0.230412   1940 -0.039556  0.853480"
            ],
            "text/html": [
              "\n",
              "  <div id=\"df-7689aa40-bf29-4495-a2e3-46aec9aeda51\">\n",
              "    <div class=\"colab-df-container\">\n",
              "      <div>\n",
              "<style scoped>\n",
              "    .dataframe tbody tr th:only-of-type {\n",
              "        vertical-align: middle;\n",
              "    }\n",
              "\n",
              "    .dataframe tbody tr th {\n",
              "        vertical-align: top;\n",
              "    }\n",
              "\n",
              "    .dataframe thead th {\n",
              "        text-align: right;\n",
              "    }\n",
              "</style>\n",
              "<table border=\"1\" class=\"dataframe\">\n",
              "  <thead>\n",
              "    <tr style=\"text-align: right;\">\n",
              "      <th></th>\n",
              "      <th>mean</th>\n",
              "      <th>count</th>\n",
              "      <th>diff</th>\n",
              "      <th>risk</th>\n",
              "    </tr>\n",
              "    <tr>\n",
              "      <th>deviceprotection</th>\n",
              "      <th></th>\n",
              "      <th></th>\n",
              "      <th></th>\n",
              "      <th></th>\n",
              "    </tr>\n",
              "  </thead>\n",
              "  <tbody>\n",
              "    <tr>\n",
              "      <th>no</th>\n",
              "      <td>0.395875</td>\n",
              "      <td>2473</td>\n",
              "      <td>0.125907</td>\n",
              "      <td>1.466379</td>\n",
              "    </tr>\n",
              "    <tr>\n",
              "      <th>no_internet_service</th>\n",
              "      <td>0.077805</td>\n",
              "      <td>1221</td>\n",
              "      <td>-0.192163</td>\n",
              "      <td>0.288201</td>\n",
              "    </tr>\n",
              "    <tr>\n",
              "      <th>yes</th>\n",
              "      <td>0.230412</td>\n",
              "      <td>1940</td>\n",
              "      <td>-0.039556</td>\n",
              "      <td>0.853480</td>\n",
              "    </tr>\n",
              "  </tbody>\n",
              "</table>\n",
              "</div>\n",
              "      <button class=\"colab-df-convert\" onclick=\"convertToInteractive('df-7689aa40-bf29-4495-a2e3-46aec9aeda51')\"\n",
              "              title=\"Convert this dataframe to an interactive table.\"\n",
              "              style=\"display:none;\">\n",
              "        \n",
              "  <svg xmlns=\"http://www.w3.org/2000/svg\" height=\"24px\"viewBox=\"0 0 24 24\"\n",
              "       width=\"24px\">\n",
              "    <path d=\"M0 0h24v24H0V0z\" fill=\"none\"/>\n",
              "    <path d=\"M18.56 5.44l.94 2.06.94-2.06 2.06-.94-2.06-.94-.94-2.06-.94 2.06-2.06.94zm-11 1L8.5 8.5l.94-2.06 2.06-.94-2.06-.94L8.5 2.5l-.94 2.06-2.06.94zm10 10l.94 2.06.94-2.06 2.06-.94-2.06-.94-.94-2.06-.94 2.06-2.06.94z\"/><path d=\"M17.41 7.96l-1.37-1.37c-.4-.4-.92-.59-1.43-.59-.52 0-1.04.2-1.43.59L10.3 9.45l-7.72 7.72c-.78.78-.78 2.05 0 2.83L4 21.41c.39.39.9.59 1.41.59.51 0 1.02-.2 1.41-.59l7.78-7.78 2.81-2.81c.8-.78.8-2.07 0-2.86zM5.41 20L4 18.59l7.72-7.72 1.47 1.35L5.41 20z\"/>\n",
              "  </svg>\n",
              "      </button>\n",
              "      \n",
              "  <style>\n",
              "    .colab-df-container {\n",
              "      display:flex;\n",
              "      flex-wrap:wrap;\n",
              "      gap: 12px;\n",
              "    }\n",
              "\n",
              "    .colab-df-convert {\n",
              "      background-color: #E8F0FE;\n",
              "      border: none;\n",
              "      border-radius: 50%;\n",
              "      cursor: pointer;\n",
              "      display: none;\n",
              "      fill: #1967D2;\n",
              "      height: 32px;\n",
              "      padding: 0 0 0 0;\n",
              "      width: 32px;\n",
              "    }\n",
              "\n",
              "    .colab-df-convert:hover {\n",
              "      background-color: #E2EBFA;\n",
              "      box-shadow: 0px 1px 2px rgba(60, 64, 67, 0.3), 0px 1px 3px 1px rgba(60, 64, 67, 0.15);\n",
              "      fill: #174EA6;\n",
              "    }\n",
              "\n",
              "    [theme=dark] .colab-df-convert {\n",
              "      background-color: #3B4455;\n",
              "      fill: #D2E3FC;\n",
              "    }\n",
              "\n",
              "    [theme=dark] .colab-df-convert:hover {\n",
              "      background-color: #434B5C;\n",
              "      box-shadow: 0px 1px 3px 1px rgba(0, 0, 0, 0.15);\n",
              "      filter: drop-shadow(0px 1px 2px rgba(0, 0, 0, 0.3));\n",
              "      fill: #FFFFFF;\n",
              "    }\n",
              "  </style>\n",
              "\n",
              "      <script>\n",
              "        const buttonEl =\n",
              "          document.querySelector('#df-7689aa40-bf29-4495-a2e3-46aec9aeda51 button.colab-df-convert');\n",
              "        buttonEl.style.display =\n",
              "          google.colab.kernel.accessAllowed ? 'block' : 'none';\n",
              "\n",
              "        async function convertToInteractive(key) {\n",
              "          const element = document.querySelector('#df-7689aa40-bf29-4495-a2e3-46aec9aeda51');\n",
              "          const dataTable =\n",
              "            await google.colab.kernel.invokeFunction('convertToInteractive',\n",
              "                                                     [key], {});\n",
              "          if (!dataTable) return;\n",
              "\n",
              "          const docLinkHtml = 'Like what you see? Visit the ' +\n",
              "            '<a target=\"_blank\" href=https://colab.research.google.com/notebooks/data_table.ipynb>data table notebook</a>'\n",
              "            + ' to learn more about interactive tables.';\n",
              "          element.innerHTML = '';\n",
              "          dataTable['output_type'] = 'display_data';\n",
              "          await google.colab.output.renderOutput(dataTable, element);\n",
              "          const docLink = document.createElement('div');\n",
              "          docLink.innerHTML = docLinkHtml;\n",
              "          element.appendChild(docLink);\n",
              "        }\n",
              "      </script>\n",
              "    </div>\n",
              "  </div>\n",
              "  "
            ]
          },
          "metadata": {}
        },
        {
          "output_type": "stream",
          "name": "stdout",
          "text": [
            "\n",
            "\n",
            "techsupport\n"
          ]
        },
        {
          "output_type": "display_data",
          "data": {
            "text/plain": [
              "                         mean  count      diff      risk\n",
              "techsupport                                             \n",
              "no                   0.418914   2781  0.148946  1.551717\n",
              "no_internet_service  0.077805   1221 -0.192163  0.288201\n",
              "yes                  0.159926   1632 -0.110042  0.592390"
            ],
            "text/html": [
              "\n",
              "  <div id=\"df-69320326-336a-43e3-b3ba-a7f03c0ebeeb\">\n",
              "    <div class=\"colab-df-container\">\n",
              "      <div>\n",
              "<style scoped>\n",
              "    .dataframe tbody tr th:only-of-type {\n",
              "        vertical-align: middle;\n",
              "    }\n",
              "\n",
              "    .dataframe tbody tr th {\n",
              "        vertical-align: top;\n",
              "    }\n",
              "\n",
              "    .dataframe thead th {\n",
              "        text-align: right;\n",
              "    }\n",
              "</style>\n",
              "<table border=\"1\" class=\"dataframe\">\n",
              "  <thead>\n",
              "    <tr style=\"text-align: right;\">\n",
              "      <th></th>\n",
              "      <th>mean</th>\n",
              "      <th>count</th>\n",
              "      <th>diff</th>\n",
              "      <th>risk</th>\n",
              "    </tr>\n",
              "    <tr>\n",
              "      <th>techsupport</th>\n",
              "      <th></th>\n",
              "      <th></th>\n",
              "      <th></th>\n",
              "      <th></th>\n",
              "    </tr>\n",
              "  </thead>\n",
              "  <tbody>\n",
              "    <tr>\n",
              "      <th>no</th>\n",
              "      <td>0.418914</td>\n",
              "      <td>2781</td>\n",
              "      <td>0.148946</td>\n",
              "      <td>1.551717</td>\n",
              "    </tr>\n",
              "    <tr>\n",
              "      <th>no_internet_service</th>\n",
              "      <td>0.077805</td>\n",
              "      <td>1221</td>\n",
              "      <td>-0.192163</td>\n",
              "      <td>0.288201</td>\n",
              "    </tr>\n",
              "    <tr>\n",
              "      <th>yes</th>\n",
              "      <td>0.159926</td>\n",
              "      <td>1632</td>\n",
              "      <td>-0.110042</td>\n",
              "      <td>0.592390</td>\n",
              "    </tr>\n",
              "  </tbody>\n",
              "</table>\n",
              "</div>\n",
              "      <button class=\"colab-df-convert\" onclick=\"convertToInteractive('df-69320326-336a-43e3-b3ba-a7f03c0ebeeb')\"\n",
              "              title=\"Convert this dataframe to an interactive table.\"\n",
              "              style=\"display:none;\">\n",
              "        \n",
              "  <svg xmlns=\"http://www.w3.org/2000/svg\" height=\"24px\"viewBox=\"0 0 24 24\"\n",
              "       width=\"24px\">\n",
              "    <path d=\"M0 0h24v24H0V0z\" fill=\"none\"/>\n",
              "    <path d=\"M18.56 5.44l.94 2.06.94-2.06 2.06-.94-2.06-.94-.94-2.06-.94 2.06-2.06.94zm-11 1L8.5 8.5l.94-2.06 2.06-.94-2.06-.94L8.5 2.5l-.94 2.06-2.06.94zm10 10l.94 2.06.94-2.06 2.06-.94-2.06-.94-.94-2.06-.94 2.06-2.06.94z\"/><path d=\"M17.41 7.96l-1.37-1.37c-.4-.4-.92-.59-1.43-.59-.52 0-1.04.2-1.43.59L10.3 9.45l-7.72 7.72c-.78.78-.78 2.05 0 2.83L4 21.41c.39.39.9.59 1.41.59.51 0 1.02-.2 1.41-.59l7.78-7.78 2.81-2.81c.8-.78.8-2.07 0-2.86zM5.41 20L4 18.59l7.72-7.72 1.47 1.35L5.41 20z\"/>\n",
              "  </svg>\n",
              "      </button>\n",
              "      \n",
              "  <style>\n",
              "    .colab-df-container {\n",
              "      display:flex;\n",
              "      flex-wrap:wrap;\n",
              "      gap: 12px;\n",
              "    }\n",
              "\n",
              "    .colab-df-convert {\n",
              "      background-color: #E8F0FE;\n",
              "      border: none;\n",
              "      border-radius: 50%;\n",
              "      cursor: pointer;\n",
              "      display: none;\n",
              "      fill: #1967D2;\n",
              "      height: 32px;\n",
              "      padding: 0 0 0 0;\n",
              "      width: 32px;\n",
              "    }\n",
              "\n",
              "    .colab-df-convert:hover {\n",
              "      background-color: #E2EBFA;\n",
              "      box-shadow: 0px 1px 2px rgba(60, 64, 67, 0.3), 0px 1px 3px 1px rgba(60, 64, 67, 0.15);\n",
              "      fill: #174EA6;\n",
              "    }\n",
              "\n",
              "    [theme=dark] .colab-df-convert {\n",
              "      background-color: #3B4455;\n",
              "      fill: #D2E3FC;\n",
              "    }\n",
              "\n",
              "    [theme=dark] .colab-df-convert:hover {\n",
              "      background-color: #434B5C;\n",
              "      box-shadow: 0px 1px 3px 1px rgba(0, 0, 0, 0.15);\n",
              "      filter: drop-shadow(0px 1px 2px rgba(0, 0, 0, 0.3));\n",
              "      fill: #FFFFFF;\n",
              "    }\n",
              "  </style>\n",
              "\n",
              "      <script>\n",
              "        const buttonEl =\n",
              "          document.querySelector('#df-69320326-336a-43e3-b3ba-a7f03c0ebeeb button.colab-df-convert');\n",
              "        buttonEl.style.display =\n",
              "          google.colab.kernel.accessAllowed ? 'block' : 'none';\n",
              "\n",
              "        async function convertToInteractive(key) {\n",
              "          const element = document.querySelector('#df-69320326-336a-43e3-b3ba-a7f03c0ebeeb');\n",
              "          const dataTable =\n",
              "            await google.colab.kernel.invokeFunction('convertToInteractive',\n",
              "                                                     [key], {});\n",
              "          if (!dataTable) return;\n",
              "\n",
              "          const docLinkHtml = 'Like what you see? Visit the ' +\n",
              "            '<a target=\"_blank\" href=https://colab.research.google.com/notebooks/data_table.ipynb>data table notebook</a>'\n",
              "            + ' to learn more about interactive tables.';\n",
              "          element.innerHTML = '';\n",
              "          dataTable['output_type'] = 'display_data';\n",
              "          await google.colab.output.renderOutput(dataTable, element);\n",
              "          const docLink = document.createElement('div');\n",
              "          docLink.innerHTML = docLinkHtml;\n",
              "          element.appendChild(docLink);\n",
              "        }\n",
              "      </script>\n",
              "    </div>\n",
              "  </div>\n",
              "  "
            ]
          },
          "metadata": {}
        },
        {
          "output_type": "stream",
          "name": "stdout",
          "text": [
            "\n",
            "\n",
            "streamingtv\n"
          ]
        },
        {
          "output_type": "display_data",
          "data": {
            "text/plain": [
              "                         mean  count      diff      risk\n",
              "streamingtv                                             \n",
              "no                   0.342832   2246  0.072864  1.269897\n",
              "no_internet_service  0.077805   1221 -0.192163  0.288201\n",
              "yes                  0.302723   2167  0.032755  1.121328"
            ],
            "text/html": [
              "\n",
              "  <div id=\"df-c5377b52-bfcf-4da5-81c3-04529202bd13\">\n",
              "    <div class=\"colab-df-container\">\n",
              "      <div>\n",
              "<style scoped>\n",
              "    .dataframe tbody tr th:only-of-type {\n",
              "        vertical-align: middle;\n",
              "    }\n",
              "\n",
              "    .dataframe tbody tr th {\n",
              "        vertical-align: top;\n",
              "    }\n",
              "\n",
              "    .dataframe thead th {\n",
              "        text-align: right;\n",
              "    }\n",
              "</style>\n",
              "<table border=\"1\" class=\"dataframe\">\n",
              "  <thead>\n",
              "    <tr style=\"text-align: right;\">\n",
              "      <th></th>\n",
              "      <th>mean</th>\n",
              "      <th>count</th>\n",
              "      <th>diff</th>\n",
              "      <th>risk</th>\n",
              "    </tr>\n",
              "    <tr>\n",
              "      <th>streamingtv</th>\n",
              "      <th></th>\n",
              "      <th></th>\n",
              "      <th></th>\n",
              "      <th></th>\n",
              "    </tr>\n",
              "  </thead>\n",
              "  <tbody>\n",
              "    <tr>\n",
              "      <th>no</th>\n",
              "      <td>0.342832</td>\n",
              "      <td>2246</td>\n",
              "      <td>0.072864</td>\n",
              "      <td>1.269897</td>\n",
              "    </tr>\n",
              "    <tr>\n",
              "      <th>no_internet_service</th>\n",
              "      <td>0.077805</td>\n",
              "      <td>1221</td>\n",
              "      <td>-0.192163</td>\n",
              "      <td>0.288201</td>\n",
              "    </tr>\n",
              "    <tr>\n",
              "      <th>yes</th>\n",
              "      <td>0.302723</td>\n",
              "      <td>2167</td>\n",
              "      <td>0.032755</td>\n",
              "      <td>1.121328</td>\n",
              "    </tr>\n",
              "  </tbody>\n",
              "</table>\n",
              "</div>\n",
              "      <button class=\"colab-df-convert\" onclick=\"convertToInteractive('df-c5377b52-bfcf-4da5-81c3-04529202bd13')\"\n",
              "              title=\"Convert this dataframe to an interactive table.\"\n",
              "              style=\"display:none;\">\n",
              "        \n",
              "  <svg xmlns=\"http://www.w3.org/2000/svg\" height=\"24px\"viewBox=\"0 0 24 24\"\n",
              "       width=\"24px\">\n",
              "    <path d=\"M0 0h24v24H0V0z\" fill=\"none\"/>\n",
              "    <path d=\"M18.56 5.44l.94 2.06.94-2.06 2.06-.94-2.06-.94-.94-2.06-.94 2.06-2.06.94zm-11 1L8.5 8.5l.94-2.06 2.06-.94-2.06-.94L8.5 2.5l-.94 2.06-2.06.94zm10 10l.94 2.06.94-2.06 2.06-.94-2.06-.94-.94-2.06-.94 2.06-2.06.94z\"/><path d=\"M17.41 7.96l-1.37-1.37c-.4-.4-.92-.59-1.43-.59-.52 0-1.04.2-1.43.59L10.3 9.45l-7.72 7.72c-.78.78-.78 2.05 0 2.83L4 21.41c.39.39.9.59 1.41.59.51 0 1.02-.2 1.41-.59l7.78-7.78 2.81-2.81c.8-.78.8-2.07 0-2.86zM5.41 20L4 18.59l7.72-7.72 1.47 1.35L5.41 20z\"/>\n",
              "  </svg>\n",
              "      </button>\n",
              "      \n",
              "  <style>\n",
              "    .colab-df-container {\n",
              "      display:flex;\n",
              "      flex-wrap:wrap;\n",
              "      gap: 12px;\n",
              "    }\n",
              "\n",
              "    .colab-df-convert {\n",
              "      background-color: #E8F0FE;\n",
              "      border: none;\n",
              "      border-radius: 50%;\n",
              "      cursor: pointer;\n",
              "      display: none;\n",
              "      fill: #1967D2;\n",
              "      height: 32px;\n",
              "      padding: 0 0 0 0;\n",
              "      width: 32px;\n",
              "    }\n",
              "\n",
              "    .colab-df-convert:hover {\n",
              "      background-color: #E2EBFA;\n",
              "      box-shadow: 0px 1px 2px rgba(60, 64, 67, 0.3), 0px 1px 3px 1px rgba(60, 64, 67, 0.15);\n",
              "      fill: #174EA6;\n",
              "    }\n",
              "\n",
              "    [theme=dark] .colab-df-convert {\n",
              "      background-color: #3B4455;\n",
              "      fill: #D2E3FC;\n",
              "    }\n",
              "\n",
              "    [theme=dark] .colab-df-convert:hover {\n",
              "      background-color: #434B5C;\n",
              "      box-shadow: 0px 1px 3px 1px rgba(0, 0, 0, 0.15);\n",
              "      filter: drop-shadow(0px 1px 2px rgba(0, 0, 0, 0.3));\n",
              "      fill: #FFFFFF;\n",
              "    }\n",
              "  </style>\n",
              "\n",
              "      <script>\n",
              "        const buttonEl =\n",
              "          document.querySelector('#df-c5377b52-bfcf-4da5-81c3-04529202bd13 button.colab-df-convert');\n",
              "        buttonEl.style.display =\n",
              "          google.colab.kernel.accessAllowed ? 'block' : 'none';\n",
              "\n",
              "        async function convertToInteractive(key) {\n",
              "          const element = document.querySelector('#df-c5377b52-bfcf-4da5-81c3-04529202bd13');\n",
              "          const dataTable =\n",
              "            await google.colab.kernel.invokeFunction('convertToInteractive',\n",
              "                                                     [key], {});\n",
              "          if (!dataTable) return;\n",
              "\n",
              "          const docLinkHtml = 'Like what you see? Visit the ' +\n",
              "            '<a target=\"_blank\" href=https://colab.research.google.com/notebooks/data_table.ipynb>data table notebook</a>'\n",
              "            + ' to learn more about interactive tables.';\n",
              "          element.innerHTML = '';\n",
              "          dataTable['output_type'] = 'display_data';\n",
              "          await google.colab.output.renderOutput(dataTable, element);\n",
              "          const docLink = document.createElement('div');\n",
              "          docLink.innerHTML = docLinkHtml;\n",
              "          element.appendChild(docLink);\n",
              "        }\n",
              "      </script>\n",
              "    </div>\n",
              "  </div>\n",
              "  "
            ]
          },
          "metadata": {}
        },
        {
          "output_type": "stream",
          "name": "stdout",
          "text": [
            "\n",
            "\n",
            "streamingmovies\n"
          ]
        },
        {
          "output_type": "display_data",
          "data": {
            "text/plain": [
              "                         mean  count      diff      risk\n",
              "streamingmovies                                         \n",
              "no                   0.338906   2213  0.068938  1.255358\n",
              "no_internet_service  0.077805   1221 -0.192163  0.288201\n",
              "yes                  0.307273   2200  0.037305  1.138182"
            ],
            "text/html": [
              "\n",
              "  <div id=\"df-55a2d1d9-2ce8-4bb5-a5b3-450c96d046a6\">\n",
              "    <div class=\"colab-df-container\">\n",
              "      <div>\n",
              "<style scoped>\n",
              "    .dataframe tbody tr th:only-of-type {\n",
              "        vertical-align: middle;\n",
              "    }\n",
              "\n",
              "    .dataframe tbody tr th {\n",
              "        vertical-align: top;\n",
              "    }\n",
              "\n",
              "    .dataframe thead th {\n",
              "        text-align: right;\n",
              "    }\n",
              "</style>\n",
              "<table border=\"1\" class=\"dataframe\">\n",
              "  <thead>\n",
              "    <tr style=\"text-align: right;\">\n",
              "      <th></th>\n",
              "      <th>mean</th>\n",
              "      <th>count</th>\n",
              "      <th>diff</th>\n",
              "      <th>risk</th>\n",
              "    </tr>\n",
              "    <tr>\n",
              "      <th>streamingmovies</th>\n",
              "      <th></th>\n",
              "      <th></th>\n",
              "      <th></th>\n",
              "      <th></th>\n",
              "    </tr>\n",
              "  </thead>\n",
              "  <tbody>\n",
              "    <tr>\n",
              "      <th>no</th>\n",
              "      <td>0.338906</td>\n",
              "      <td>2213</td>\n",
              "      <td>0.068938</td>\n",
              "      <td>1.255358</td>\n",
              "    </tr>\n",
              "    <tr>\n",
              "      <th>no_internet_service</th>\n",
              "      <td>0.077805</td>\n",
              "      <td>1221</td>\n",
              "      <td>-0.192163</td>\n",
              "      <td>0.288201</td>\n",
              "    </tr>\n",
              "    <tr>\n",
              "      <th>yes</th>\n",
              "      <td>0.307273</td>\n",
              "      <td>2200</td>\n",
              "      <td>0.037305</td>\n",
              "      <td>1.138182</td>\n",
              "    </tr>\n",
              "  </tbody>\n",
              "</table>\n",
              "</div>\n",
              "      <button class=\"colab-df-convert\" onclick=\"convertToInteractive('df-55a2d1d9-2ce8-4bb5-a5b3-450c96d046a6')\"\n",
              "              title=\"Convert this dataframe to an interactive table.\"\n",
              "              style=\"display:none;\">\n",
              "        \n",
              "  <svg xmlns=\"http://www.w3.org/2000/svg\" height=\"24px\"viewBox=\"0 0 24 24\"\n",
              "       width=\"24px\">\n",
              "    <path d=\"M0 0h24v24H0V0z\" fill=\"none\"/>\n",
              "    <path d=\"M18.56 5.44l.94 2.06.94-2.06 2.06-.94-2.06-.94-.94-2.06-.94 2.06-2.06.94zm-11 1L8.5 8.5l.94-2.06 2.06-.94-2.06-.94L8.5 2.5l-.94 2.06-2.06.94zm10 10l.94 2.06.94-2.06 2.06-.94-2.06-.94-.94-2.06-.94 2.06-2.06.94z\"/><path d=\"M17.41 7.96l-1.37-1.37c-.4-.4-.92-.59-1.43-.59-.52 0-1.04.2-1.43.59L10.3 9.45l-7.72 7.72c-.78.78-.78 2.05 0 2.83L4 21.41c.39.39.9.59 1.41.59.51 0 1.02-.2 1.41-.59l7.78-7.78 2.81-2.81c.8-.78.8-2.07 0-2.86zM5.41 20L4 18.59l7.72-7.72 1.47 1.35L5.41 20z\"/>\n",
              "  </svg>\n",
              "      </button>\n",
              "      \n",
              "  <style>\n",
              "    .colab-df-container {\n",
              "      display:flex;\n",
              "      flex-wrap:wrap;\n",
              "      gap: 12px;\n",
              "    }\n",
              "\n",
              "    .colab-df-convert {\n",
              "      background-color: #E8F0FE;\n",
              "      border: none;\n",
              "      border-radius: 50%;\n",
              "      cursor: pointer;\n",
              "      display: none;\n",
              "      fill: #1967D2;\n",
              "      height: 32px;\n",
              "      padding: 0 0 0 0;\n",
              "      width: 32px;\n",
              "    }\n",
              "\n",
              "    .colab-df-convert:hover {\n",
              "      background-color: #E2EBFA;\n",
              "      box-shadow: 0px 1px 2px rgba(60, 64, 67, 0.3), 0px 1px 3px 1px rgba(60, 64, 67, 0.15);\n",
              "      fill: #174EA6;\n",
              "    }\n",
              "\n",
              "    [theme=dark] .colab-df-convert {\n",
              "      background-color: #3B4455;\n",
              "      fill: #D2E3FC;\n",
              "    }\n",
              "\n",
              "    [theme=dark] .colab-df-convert:hover {\n",
              "      background-color: #434B5C;\n",
              "      box-shadow: 0px 1px 3px 1px rgba(0, 0, 0, 0.15);\n",
              "      filter: drop-shadow(0px 1px 2px rgba(0, 0, 0, 0.3));\n",
              "      fill: #FFFFFF;\n",
              "    }\n",
              "  </style>\n",
              "\n",
              "      <script>\n",
              "        const buttonEl =\n",
              "          document.querySelector('#df-55a2d1d9-2ce8-4bb5-a5b3-450c96d046a6 button.colab-df-convert');\n",
              "        buttonEl.style.display =\n",
              "          google.colab.kernel.accessAllowed ? 'block' : 'none';\n",
              "\n",
              "        async function convertToInteractive(key) {\n",
              "          const element = document.querySelector('#df-55a2d1d9-2ce8-4bb5-a5b3-450c96d046a6');\n",
              "          const dataTable =\n",
              "            await google.colab.kernel.invokeFunction('convertToInteractive',\n",
              "                                                     [key], {});\n",
              "          if (!dataTable) return;\n",
              "\n",
              "          const docLinkHtml = 'Like what you see? Visit the ' +\n",
              "            '<a target=\"_blank\" href=https://colab.research.google.com/notebooks/data_table.ipynb>data table notebook</a>'\n",
              "            + ' to learn more about interactive tables.';\n",
              "          element.innerHTML = '';\n",
              "          dataTable['output_type'] = 'display_data';\n",
              "          await google.colab.output.renderOutput(dataTable, element);\n",
              "          const docLink = document.createElement('div');\n",
              "          docLink.innerHTML = docLinkHtml;\n",
              "          element.appendChild(docLink);\n",
              "        }\n",
              "      </script>\n",
              "    </div>\n",
              "  </div>\n",
              "  "
            ]
          },
          "metadata": {}
        },
        {
          "output_type": "stream",
          "name": "stdout",
          "text": [
            "\n",
            "\n",
            "contract\n"
          ]
        },
        {
          "output_type": "display_data",
          "data": {
            "text/plain": [
              "                    mean  count      diff      risk\n",
              "contract                                           \n",
              "month-to-month  0.431701   3104  0.161733  1.599082\n",
              "one_year        0.120573   1186 -0.149395  0.446621\n",
              "two_year        0.028274   1344 -0.241694  0.104730"
            ],
            "text/html": [
              "\n",
              "  <div id=\"df-55636f59-8a7f-4597-a056-21d9fa37c7b2\">\n",
              "    <div class=\"colab-df-container\">\n",
              "      <div>\n",
              "<style scoped>\n",
              "    .dataframe tbody tr th:only-of-type {\n",
              "        vertical-align: middle;\n",
              "    }\n",
              "\n",
              "    .dataframe tbody tr th {\n",
              "        vertical-align: top;\n",
              "    }\n",
              "\n",
              "    .dataframe thead th {\n",
              "        text-align: right;\n",
              "    }\n",
              "</style>\n",
              "<table border=\"1\" class=\"dataframe\">\n",
              "  <thead>\n",
              "    <tr style=\"text-align: right;\">\n",
              "      <th></th>\n",
              "      <th>mean</th>\n",
              "      <th>count</th>\n",
              "      <th>diff</th>\n",
              "      <th>risk</th>\n",
              "    </tr>\n",
              "    <tr>\n",
              "      <th>contract</th>\n",
              "      <th></th>\n",
              "      <th></th>\n",
              "      <th></th>\n",
              "      <th></th>\n",
              "    </tr>\n",
              "  </thead>\n",
              "  <tbody>\n",
              "    <tr>\n",
              "      <th>month-to-month</th>\n",
              "      <td>0.431701</td>\n",
              "      <td>3104</td>\n",
              "      <td>0.161733</td>\n",
              "      <td>1.599082</td>\n",
              "    </tr>\n",
              "    <tr>\n",
              "      <th>one_year</th>\n",
              "      <td>0.120573</td>\n",
              "      <td>1186</td>\n",
              "      <td>-0.149395</td>\n",
              "      <td>0.446621</td>\n",
              "    </tr>\n",
              "    <tr>\n",
              "      <th>two_year</th>\n",
              "      <td>0.028274</td>\n",
              "      <td>1344</td>\n",
              "      <td>-0.241694</td>\n",
              "      <td>0.104730</td>\n",
              "    </tr>\n",
              "  </tbody>\n",
              "</table>\n",
              "</div>\n",
              "      <button class=\"colab-df-convert\" onclick=\"convertToInteractive('df-55636f59-8a7f-4597-a056-21d9fa37c7b2')\"\n",
              "              title=\"Convert this dataframe to an interactive table.\"\n",
              "              style=\"display:none;\">\n",
              "        \n",
              "  <svg xmlns=\"http://www.w3.org/2000/svg\" height=\"24px\"viewBox=\"0 0 24 24\"\n",
              "       width=\"24px\">\n",
              "    <path d=\"M0 0h24v24H0V0z\" fill=\"none\"/>\n",
              "    <path d=\"M18.56 5.44l.94 2.06.94-2.06 2.06-.94-2.06-.94-.94-2.06-.94 2.06-2.06.94zm-11 1L8.5 8.5l.94-2.06 2.06-.94-2.06-.94L8.5 2.5l-.94 2.06-2.06.94zm10 10l.94 2.06.94-2.06 2.06-.94-2.06-.94-.94-2.06-.94 2.06-2.06.94z\"/><path d=\"M17.41 7.96l-1.37-1.37c-.4-.4-.92-.59-1.43-.59-.52 0-1.04.2-1.43.59L10.3 9.45l-7.72 7.72c-.78.78-.78 2.05 0 2.83L4 21.41c.39.39.9.59 1.41.59.51 0 1.02-.2 1.41-.59l7.78-7.78 2.81-2.81c.8-.78.8-2.07 0-2.86zM5.41 20L4 18.59l7.72-7.72 1.47 1.35L5.41 20z\"/>\n",
              "  </svg>\n",
              "      </button>\n",
              "      \n",
              "  <style>\n",
              "    .colab-df-container {\n",
              "      display:flex;\n",
              "      flex-wrap:wrap;\n",
              "      gap: 12px;\n",
              "    }\n",
              "\n",
              "    .colab-df-convert {\n",
              "      background-color: #E8F0FE;\n",
              "      border: none;\n",
              "      border-radius: 50%;\n",
              "      cursor: pointer;\n",
              "      display: none;\n",
              "      fill: #1967D2;\n",
              "      height: 32px;\n",
              "      padding: 0 0 0 0;\n",
              "      width: 32px;\n",
              "    }\n",
              "\n",
              "    .colab-df-convert:hover {\n",
              "      background-color: #E2EBFA;\n",
              "      box-shadow: 0px 1px 2px rgba(60, 64, 67, 0.3), 0px 1px 3px 1px rgba(60, 64, 67, 0.15);\n",
              "      fill: #174EA6;\n",
              "    }\n",
              "\n",
              "    [theme=dark] .colab-df-convert {\n",
              "      background-color: #3B4455;\n",
              "      fill: #D2E3FC;\n",
              "    }\n",
              "\n",
              "    [theme=dark] .colab-df-convert:hover {\n",
              "      background-color: #434B5C;\n",
              "      box-shadow: 0px 1px 3px 1px rgba(0, 0, 0, 0.15);\n",
              "      filter: drop-shadow(0px 1px 2px rgba(0, 0, 0, 0.3));\n",
              "      fill: #FFFFFF;\n",
              "    }\n",
              "  </style>\n",
              "\n",
              "      <script>\n",
              "        const buttonEl =\n",
              "          document.querySelector('#df-55636f59-8a7f-4597-a056-21d9fa37c7b2 button.colab-df-convert');\n",
              "        buttonEl.style.display =\n",
              "          google.colab.kernel.accessAllowed ? 'block' : 'none';\n",
              "\n",
              "        async function convertToInteractive(key) {\n",
              "          const element = document.querySelector('#df-55636f59-8a7f-4597-a056-21d9fa37c7b2');\n",
              "          const dataTable =\n",
              "            await google.colab.kernel.invokeFunction('convertToInteractive',\n",
              "                                                     [key], {});\n",
              "          if (!dataTable) return;\n",
              "\n",
              "          const docLinkHtml = 'Like what you see? Visit the ' +\n",
              "            '<a target=\"_blank\" href=https://colab.research.google.com/notebooks/data_table.ipynb>data table notebook</a>'\n",
              "            + ' to learn more about interactive tables.';\n",
              "          element.innerHTML = '';\n",
              "          dataTable['output_type'] = 'display_data';\n",
              "          await google.colab.output.renderOutput(dataTable, element);\n",
              "          const docLink = document.createElement('div');\n",
              "          docLink.innerHTML = docLinkHtml;\n",
              "          element.appendChild(docLink);\n",
              "        }\n",
              "      </script>\n",
              "    </div>\n",
              "  </div>\n",
              "  "
            ]
          },
          "metadata": {}
        },
        {
          "output_type": "stream",
          "name": "stdout",
          "text": [
            "\n",
            "\n",
            "paperlessbilling\n"
          ]
        },
        {
          "output_type": "display_data",
          "data": {
            "text/plain": [
              "                      mean  count      diff      risk\n",
              "paperlessbilling                                     \n",
              "no                0.172071   2313 -0.097897  0.637375\n",
              "yes               0.338151   3321  0.068183  1.252560"
            ],
            "text/html": [
              "\n",
              "  <div id=\"df-05589441-b3fd-4169-8261-9dc464f93df1\">\n",
              "    <div class=\"colab-df-container\">\n",
              "      <div>\n",
              "<style scoped>\n",
              "    .dataframe tbody tr th:only-of-type {\n",
              "        vertical-align: middle;\n",
              "    }\n",
              "\n",
              "    .dataframe tbody tr th {\n",
              "        vertical-align: top;\n",
              "    }\n",
              "\n",
              "    .dataframe thead th {\n",
              "        text-align: right;\n",
              "    }\n",
              "</style>\n",
              "<table border=\"1\" class=\"dataframe\">\n",
              "  <thead>\n",
              "    <tr style=\"text-align: right;\">\n",
              "      <th></th>\n",
              "      <th>mean</th>\n",
              "      <th>count</th>\n",
              "      <th>diff</th>\n",
              "      <th>risk</th>\n",
              "    </tr>\n",
              "    <tr>\n",
              "      <th>paperlessbilling</th>\n",
              "      <th></th>\n",
              "      <th></th>\n",
              "      <th></th>\n",
              "      <th></th>\n",
              "    </tr>\n",
              "  </thead>\n",
              "  <tbody>\n",
              "    <tr>\n",
              "      <th>no</th>\n",
              "      <td>0.172071</td>\n",
              "      <td>2313</td>\n",
              "      <td>-0.097897</td>\n",
              "      <td>0.637375</td>\n",
              "    </tr>\n",
              "    <tr>\n",
              "      <th>yes</th>\n",
              "      <td>0.338151</td>\n",
              "      <td>3321</td>\n",
              "      <td>0.068183</td>\n",
              "      <td>1.252560</td>\n",
              "    </tr>\n",
              "  </tbody>\n",
              "</table>\n",
              "</div>\n",
              "      <button class=\"colab-df-convert\" onclick=\"convertToInteractive('df-05589441-b3fd-4169-8261-9dc464f93df1')\"\n",
              "              title=\"Convert this dataframe to an interactive table.\"\n",
              "              style=\"display:none;\">\n",
              "        \n",
              "  <svg xmlns=\"http://www.w3.org/2000/svg\" height=\"24px\"viewBox=\"0 0 24 24\"\n",
              "       width=\"24px\">\n",
              "    <path d=\"M0 0h24v24H0V0z\" fill=\"none\"/>\n",
              "    <path d=\"M18.56 5.44l.94 2.06.94-2.06 2.06-.94-2.06-.94-.94-2.06-.94 2.06-2.06.94zm-11 1L8.5 8.5l.94-2.06 2.06-.94-2.06-.94L8.5 2.5l-.94 2.06-2.06.94zm10 10l.94 2.06.94-2.06 2.06-.94-2.06-.94-.94-2.06-.94 2.06-2.06.94z\"/><path d=\"M17.41 7.96l-1.37-1.37c-.4-.4-.92-.59-1.43-.59-.52 0-1.04.2-1.43.59L10.3 9.45l-7.72 7.72c-.78.78-.78 2.05 0 2.83L4 21.41c.39.39.9.59 1.41.59.51 0 1.02-.2 1.41-.59l7.78-7.78 2.81-2.81c.8-.78.8-2.07 0-2.86zM5.41 20L4 18.59l7.72-7.72 1.47 1.35L5.41 20z\"/>\n",
              "  </svg>\n",
              "      </button>\n",
              "      \n",
              "  <style>\n",
              "    .colab-df-container {\n",
              "      display:flex;\n",
              "      flex-wrap:wrap;\n",
              "      gap: 12px;\n",
              "    }\n",
              "\n",
              "    .colab-df-convert {\n",
              "      background-color: #E8F0FE;\n",
              "      border: none;\n",
              "      border-radius: 50%;\n",
              "      cursor: pointer;\n",
              "      display: none;\n",
              "      fill: #1967D2;\n",
              "      height: 32px;\n",
              "      padding: 0 0 0 0;\n",
              "      width: 32px;\n",
              "    }\n",
              "\n",
              "    .colab-df-convert:hover {\n",
              "      background-color: #E2EBFA;\n",
              "      box-shadow: 0px 1px 2px rgba(60, 64, 67, 0.3), 0px 1px 3px 1px rgba(60, 64, 67, 0.15);\n",
              "      fill: #174EA6;\n",
              "    }\n",
              "\n",
              "    [theme=dark] .colab-df-convert {\n",
              "      background-color: #3B4455;\n",
              "      fill: #D2E3FC;\n",
              "    }\n",
              "\n",
              "    [theme=dark] .colab-df-convert:hover {\n",
              "      background-color: #434B5C;\n",
              "      box-shadow: 0px 1px 3px 1px rgba(0, 0, 0, 0.15);\n",
              "      filter: drop-shadow(0px 1px 2px rgba(0, 0, 0, 0.3));\n",
              "      fill: #FFFFFF;\n",
              "    }\n",
              "  </style>\n",
              "\n",
              "      <script>\n",
              "        const buttonEl =\n",
              "          document.querySelector('#df-05589441-b3fd-4169-8261-9dc464f93df1 button.colab-df-convert');\n",
              "        buttonEl.style.display =\n",
              "          google.colab.kernel.accessAllowed ? 'block' : 'none';\n",
              "\n",
              "        async function convertToInteractive(key) {\n",
              "          const element = document.querySelector('#df-05589441-b3fd-4169-8261-9dc464f93df1');\n",
              "          const dataTable =\n",
              "            await google.colab.kernel.invokeFunction('convertToInteractive',\n",
              "                                                     [key], {});\n",
              "          if (!dataTable) return;\n",
              "\n",
              "          const docLinkHtml = 'Like what you see? Visit the ' +\n",
              "            '<a target=\"_blank\" href=https://colab.research.google.com/notebooks/data_table.ipynb>data table notebook</a>'\n",
              "            + ' to learn more about interactive tables.';\n",
              "          element.innerHTML = '';\n",
              "          dataTable['output_type'] = 'display_data';\n",
              "          await google.colab.output.renderOutput(dataTable, element);\n",
              "          const docLink = document.createElement('div');\n",
              "          docLink.innerHTML = docLinkHtml;\n",
              "          element.appendChild(docLink);\n",
              "        }\n",
              "      </script>\n",
              "    </div>\n",
              "  </div>\n",
              "  "
            ]
          },
          "metadata": {}
        },
        {
          "output_type": "stream",
          "name": "stdout",
          "text": [
            "\n",
            "\n",
            "paymentmethod\n"
          ]
        },
        {
          "output_type": "display_data",
          "data": {
            "text/plain": [
              "                               mean  count      diff      risk\n",
              "paymentmethod                                                 \n",
              "bank_transfer_(automatic)  0.168171   1219 -0.101797  0.622928\n",
              "credit_card_(automatic)    0.164339   1217 -0.105630  0.608733\n",
              "electronic_check           0.455890   1893  0.185922  1.688682\n",
              "mailed_check               0.193870   1305 -0.076098  0.718121"
            ],
            "text/html": [
              "\n",
              "  <div id=\"df-8831fc2c-e272-4e48-a6ff-2cb7085c11da\">\n",
              "    <div class=\"colab-df-container\">\n",
              "      <div>\n",
              "<style scoped>\n",
              "    .dataframe tbody tr th:only-of-type {\n",
              "        vertical-align: middle;\n",
              "    }\n",
              "\n",
              "    .dataframe tbody tr th {\n",
              "        vertical-align: top;\n",
              "    }\n",
              "\n",
              "    .dataframe thead th {\n",
              "        text-align: right;\n",
              "    }\n",
              "</style>\n",
              "<table border=\"1\" class=\"dataframe\">\n",
              "  <thead>\n",
              "    <tr style=\"text-align: right;\">\n",
              "      <th></th>\n",
              "      <th>mean</th>\n",
              "      <th>count</th>\n",
              "      <th>diff</th>\n",
              "      <th>risk</th>\n",
              "    </tr>\n",
              "    <tr>\n",
              "      <th>paymentmethod</th>\n",
              "      <th></th>\n",
              "      <th></th>\n",
              "      <th></th>\n",
              "      <th></th>\n",
              "    </tr>\n",
              "  </thead>\n",
              "  <tbody>\n",
              "    <tr>\n",
              "      <th>bank_transfer_(automatic)</th>\n",
              "      <td>0.168171</td>\n",
              "      <td>1219</td>\n",
              "      <td>-0.101797</td>\n",
              "      <td>0.622928</td>\n",
              "    </tr>\n",
              "    <tr>\n",
              "      <th>credit_card_(automatic)</th>\n",
              "      <td>0.164339</td>\n",
              "      <td>1217</td>\n",
              "      <td>-0.105630</td>\n",
              "      <td>0.608733</td>\n",
              "    </tr>\n",
              "    <tr>\n",
              "      <th>electronic_check</th>\n",
              "      <td>0.455890</td>\n",
              "      <td>1893</td>\n",
              "      <td>0.185922</td>\n",
              "      <td>1.688682</td>\n",
              "    </tr>\n",
              "    <tr>\n",
              "      <th>mailed_check</th>\n",
              "      <td>0.193870</td>\n",
              "      <td>1305</td>\n",
              "      <td>-0.076098</td>\n",
              "      <td>0.718121</td>\n",
              "    </tr>\n",
              "  </tbody>\n",
              "</table>\n",
              "</div>\n",
              "      <button class=\"colab-df-convert\" onclick=\"convertToInteractive('df-8831fc2c-e272-4e48-a6ff-2cb7085c11da')\"\n",
              "              title=\"Convert this dataframe to an interactive table.\"\n",
              "              style=\"display:none;\">\n",
              "        \n",
              "  <svg xmlns=\"http://www.w3.org/2000/svg\" height=\"24px\"viewBox=\"0 0 24 24\"\n",
              "       width=\"24px\">\n",
              "    <path d=\"M0 0h24v24H0V0z\" fill=\"none\"/>\n",
              "    <path d=\"M18.56 5.44l.94 2.06.94-2.06 2.06-.94-2.06-.94-.94-2.06-.94 2.06-2.06.94zm-11 1L8.5 8.5l.94-2.06 2.06-.94-2.06-.94L8.5 2.5l-.94 2.06-2.06.94zm10 10l.94 2.06.94-2.06 2.06-.94-2.06-.94-.94-2.06-.94 2.06-2.06.94z\"/><path d=\"M17.41 7.96l-1.37-1.37c-.4-.4-.92-.59-1.43-.59-.52 0-1.04.2-1.43.59L10.3 9.45l-7.72 7.72c-.78.78-.78 2.05 0 2.83L4 21.41c.39.39.9.59 1.41.59.51 0 1.02-.2 1.41-.59l7.78-7.78 2.81-2.81c.8-.78.8-2.07 0-2.86zM5.41 20L4 18.59l7.72-7.72 1.47 1.35L5.41 20z\"/>\n",
              "  </svg>\n",
              "      </button>\n",
              "      \n",
              "  <style>\n",
              "    .colab-df-container {\n",
              "      display:flex;\n",
              "      flex-wrap:wrap;\n",
              "      gap: 12px;\n",
              "    }\n",
              "\n",
              "    .colab-df-convert {\n",
              "      background-color: #E8F0FE;\n",
              "      border: none;\n",
              "      border-radius: 50%;\n",
              "      cursor: pointer;\n",
              "      display: none;\n",
              "      fill: #1967D2;\n",
              "      height: 32px;\n",
              "      padding: 0 0 0 0;\n",
              "      width: 32px;\n",
              "    }\n",
              "\n",
              "    .colab-df-convert:hover {\n",
              "      background-color: #E2EBFA;\n",
              "      box-shadow: 0px 1px 2px rgba(60, 64, 67, 0.3), 0px 1px 3px 1px rgba(60, 64, 67, 0.15);\n",
              "      fill: #174EA6;\n",
              "    }\n",
              "\n",
              "    [theme=dark] .colab-df-convert {\n",
              "      background-color: #3B4455;\n",
              "      fill: #D2E3FC;\n",
              "    }\n",
              "\n",
              "    [theme=dark] .colab-df-convert:hover {\n",
              "      background-color: #434B5C;\n",
              "      box-shadow: 0px 1px 3px 1px rgba(0, 0, 0, 0.15);\n",
              "      filter: drop-shadow(0px 1px 2px rgba(0, 0, 0, 0.3));\n",
              "      fill: #FFFFFF;\n",
              "    }\n",
              "  </style>\n",
              "\n",
              "      <script>\n",
              "        const buttonEl =\n",
              "          document.querySelector('#df-8831fc2c-e272-4e48-a6ff-2cb7085c11da button.colab-df-convert');\n",
              "        buttonEl.style.display =\n",
              "          google.colab.kernel.accessAllowed ? 'block' : 'none';\n",
              "\n",
              "        async function convertToInteractive(key) {\n",
              "          const element = document.querySelector('#df-8831fc2c-e272-4e48-a6ff-2cb7085c11da');\n",
              "          const dataTable =\n",
              "            await google.colab.kernel.invokeFunction('convertToInteractive',\n",
              "                                                     [key], {});\n",
              "          if (!dataTable) return;\n",
              "\n",
              "          const docLinkHtml = 'Like what you see? Visit the ' +\n",
              "            '<a target=\"_blank\" href=https://colab.research.google.com/notebooks/data_table.ipynb>data table notebook</a>'\n",
              "            + ' to learn more about interactive tables.';\n",
              "          element.innerHTML = '';\n",
              "          dataTable['output_type'] = 'display_data';\n",
              "          await google.colab.output.renderOutput(dataTable, element);\n",
              "          const docLink = document.createElement('div');\n",
              "          docLink.innerHTML = docLinkHtml;\n",
              "          element.appendChild(docLink);\n",
              "        }\n",
              "      </script>\n",
              "    </div>\n",
              "  </div>\n",
              "  "
            ]
          },
          "metadata": {}
        },
        {
          "output_type": "stream",
          "name": "stdout",
          "text": [
            "\n",
            "\n"
          ]
        }
      ]
    },
    {
      "cell_type": "markdown",
      "source": [
        "* We could not see the output but here because it's within the loop it doesn't display it\n",
        "* We use the special function for displaying thing it lives in ipython and jupyter used ipython notebooks that's why the name is still there so print the variable and add a few line breaks"
      ],
      "metadata": {
        "id": "jdMNoOsuvnNt"
      }
    },
    {
      "cell_type": "markdown",
      "source": [
        "## **3.6 Feature importance: Mutual information**(video 3.6)\n",
        "\n",
        "**Mutual information** is a concept from information theory, which measures how much we can learn about one variable if we know the value of another. In this project, we can think of this as how much do we learn about churn if we have the information from a particular feature. So, it is a measure of the importance of a categorical variable.\n",
        "\n",
        "* https://en.wikipedia.org/wiki/Mutual_information\n",
        "\n",
        "## Classes, functions, and methods:\n",
        "\n",
        "* mutual_info_score(x, y) - Scikit-Learn class for calculating the mutual information between the x target variable and y feature.\n",
        "* df[x].apply(y) - apply a y function to the x series of the df dataframe.\n",
        "* df.sort_values(ascending=False).to_frame(name='x') - sort values in an ascending order and called the column as x.\n",
        "\n"
      ],
      "metadata": {
        "id": "HA-ZbbFP6VEG"
      }
    },
    {
      "cell_type": "markdown",
      "source": [
        "* It quantifies the amount of information that we get about one variable by observing another variable\n",
        "* How much do we learn about churn if they observe the value of the contract if this particular customer has a month-to-month contract how much do we know about churn\n",
        "* Kind of relationship we are interested in and mutual information which is defined like there's a formula, we just need the intuition is the higher mutual information is the more we learn about the chart by observing the value of another variable"
      ],
      "metadata": {
        "id": "Hn5QCbucxgd0"
      }
    },
    {
      "cell_type": "code",
      "source": [
        "from sklearn.metrics import mutual_info_score"
      ],
      "metadata": {
        "id": "C4d_TlRM6PgZ"
      },
      "execution_count": 67,
      "outputs": []
    },
    {
      "cell_type": "code",
      "source": [
        "mutual_info_score(df_full_train.churn, df_full_train.contract)"
      ],
      "metadata": {
        "id": "3Z1_xuyh6kBO",
        "colab": {
          "base_uri": "https://localhost:8080/"
        },
        "outputId": "7183e3c4-4874-43d7-f2f5-1a06819fec2d"
      },
      "execution_count": 68,
      "outputs": [
        {
          "output_type": "execute_result",
          "data": {
            "text/plain": [
              "0.0983203874041556"
            ]
          },
          "metadata": {},
          "execution_count": 68
        }
      ]
    },
    {
      "cell_type": "markdown",
      "source": [
        "* What is the label we're interested in our target variable so labels are true the target variable is a term and another variable that we know like a feature let's say contract."
      ],
      "metadata": {
        "id": "RVpRSxjUzeUS"
      }
    },
    {
      "cell_type": "code",
      "source": [
        "mutual_info_score(df_full_train.gender, df_full_train.churn)"
      ],
      "metadata": {
        "id": "oegj-Yqp6oZp",
        "colab": {
          "base_uri": "https://localhost:8080/"
        },
        "outputId": "02ba159b-708c-4277-ac39-c9a5b2528beb"
      },
      "execution_count": 69,
      "outputs": [
        {
          "output_type": "execute_result",
          "data": {
            "text/plain": [
              "0.0001174846211139946"
            ]
          },
          "metadata": {},
          "execution_count": 69
        }
      ]
    },
    {
      "cell_type": "code",
      "source": [
        "mutual_info_score(df_full_train.contract, df_full_train.churn)"
      ],
      "metadata": {
        "id": "4PMfsFi_6spg",
        "colab": {
          "base_uri": "https://localhost:8080/"
        },
        "outputId": "c5de31dc-69c9-4b23-c81c-36d9e3d31bfb"
      },
      "execution_count": 70,
      "outputs": [
        {
          "output_type": "execute_result",
          "data": {
            "text/plain": [
              "0.0983203874041556"
            ]
          },
          "metadata": {},
          "execution_count": 70
        }
      ]
    },
    {
      "cell_type": "code",
      "source": [
        "mutual_info_score(df_full_train.partner, df_full_train.churn)"
      ],
      "metadata": {
        "id": "oQnGnC3X6tC4",
        "colab": {
          "base_uri": "https://localhost:8080/"
        },
        "outputId": "27ec1aee-8bad-4363-b858-ff2b75c06a29"
      },
      "execution_count": 71,
      "outputs": [
        {
          "output_type": "execute_result",
          "data": {
            "text/plain": [
              "0.009967689095399745"
            ]
          },
          "metadata": {},
          "execution_count": 71
        }
      ]
    },
    {
      "cell_type": "code",
      "source": [
        "def mutual_info_churn_score(series):\n",
        "    return mutual_info_score(series, df_full_train.churn)"
      ],
      "metadata": {
        "id": "_esMWEvR62ni"
      },
      "execution_count": 72,
      "outputs": []
    },
    {
      "cell_type": "code",
      "source": [
        "df_full_train[categorical].apply(mutual_info_churn_score)"
      ],
      "metadata": {
        "colab": {
          "base_uri": "https://localhost:8080/"
        },
        "id": "waO7VCTv1a0O",
        "outputId": "d14c8df1-f1de-4c57-83e2-89c55077b391"
      },
      "execution_count": 73,
      "outputs": [
        {
          "output_type": "execute_result",
          "data": {
            "text/plain": [
              "gender              0.000117\n",
              "seniorcitizen       0.009410\n",
              "partner             0.009968\n",
              "dependents          0.012346\n",
              "phoneservice        0.000229\n",
              "multiplelines       0.000857\n",
              "internetservice     0.055868\n",
              "onlinesecurity      0.063085\n",
              "onlinebackup        0.046923\n",
              "deviceprotection    0.043453\n",
              "techsupport         0.061032\n",
              "streamingtv         0.031853\n",
              "streamingmovies     0.031581\n",
              "contract            0.098320\n",
              "paperlessbilling    0.017589\n",
              "paymentmethod       0.043210\n",
              "dtype: float64"
            ]
          },
          "metadata": {},
          "execution_count": 73
        }
      ]
    },
    {
      "cell_type": "markdown",
      "source": [
        "* This is what we get so far each column from this list applies the module information score and returns the results what we want to do now is we want to  order this to sort it such that the most important ones come first"
      ],
      "metadata": {
        "id": "XGTPMt9H1sVw"
      }
    },
    {
      "cell_type": "code",
      "source": [
        "mi = df_full_train[categorical].apply(mutual_info_churn_score)\n",
        "mi.sort_values()"
      ],
      "metadata": {
        "colab": {
          "base_uri": "https://localhost:8080/"
        },
        "id": "ja1h-rmN2dde",
        "outputId": "f9749b60-e3c8-4ef3-9bac-eba5090f56cd"
      },
      "execution_count": 74,
      "outputs": [
        {
          "output_type": "execute_result",
          "data": {
            "text/plain": [
              "gender              0.000117\n",
              "phoneservice        0.000229\n",
              "multiplelines       0.000857\n",
              "seniorcitizen       0.009410\n",
              "partner             0.009968\n",
              "dependents          0.012346\n",
              "paperlessbilling    0.017589\n",
              "streamingmovies     0.031581\n",
              "streamingtv         0.031853\n",
              "paymentmethod       0.043210\n",
              "deviceprotection    0.043453\n",
              "onlinebackup        0.046923\n",
              "internetservice     0.055868\n",
              "techsupport         0.061032\n",
              "onlinesecurity      0.063085\n",
              "contract            0.098320\n",
              "dtype: float64"
            ]
          },
          "metadata": {},
          "execution_count": 74
        }
      ]
    },
    {
      "cell_type": "code",
      "source": [
        "mi = df_full_train[categorical].apply(mutual_info_churn_score)\n",
        "mi.sort_values(ascending=True)"
      ],
      "metadata": {
        "colab": {
          "base_uri": "https://localhost:8080/"
        },
        "id": "U7swjant3SI-",
        "outputId": "91ac1735-779a-4258-897c-f5006982738f"
      },
      "execution_count": 75,
      "outputs": [
        {
          "output_type": "execute_result",
          "data": {
            "text/plain": [
              "gender              0.000117\n",
              "phoneservice        0.000229\n",
              "multiplelines       0.000857\n",
              "seniorcitizen       0.009410\n",
              "partner             0.009968\n",
              "dependents          0.012346\n",
              "paperlessbilling    0.017589\n",
              "streamingmovies     0.031581\n",
              "streamingtv         0.031853\n",
              "paymentmethod       0.043210\n",
              "deviceprotection    0.043453\n",
              "onlinebackup        0.046923\n",
              "internetservice     0.055868\n",
              "techsupport         0.061032\n",
              "onlinesecurity      0.063085\n",
              "contract            0.098320\n",
              "dtype: float64"
            ]
          },
          "metadata": {},
          "execution_count": 75
        }
      ]
    },
    {
      "cell_type": "code",
      "source": [
        "mi = df_full_train[categorical].apply(mutual_info_churn_score)\n",
        "mi.sort_values(ascending=False)"
      ],
      "metadata": {
        "id": "-VbSuJzN668e",
        "colab": {
          "base_uri": "https://localhost:8080/"
        },
        "outputId": "42e34735-31c7-4e5e-bbcb-77f447a95e30"
      },
      "execution_count": 76,
      "outputs": [
        {
          "output_type": "execute_result",
          "data": {
            "text/plain": [
              "contract            0.098320\n",
              "onlinesecurity      0.063085\n",
              "techsupport         0.061032\n",
              "internetservice     0.055868\n",
              "onlinebackup        0.046923\n",
              "deviceprotection    0.043453\n",
              "paymentmethod       0.043210\n",
              "streamingtv         0.031853\n",
              "streamingmovies     0.031581\n",
              "paperlessbilling    0.017589\n",
              "dependents          0.012346\n",
              "partner             0.009968\n",
              "seniorcitizen       0.009410\n",
              "multiplelines       0.000857\n",
              "phoneservice        0.000229\n",
              "gender              0.000117\n",
              "dtype: float64"
            ]
          },
          "metadata": {},
          "execution_count": 76
        }
      ]
    },
    {
      "cell_type": "markdown",
      "source": [
        "* Now it sorts everything, most important ones to come first **\"true\"**, the least important ones to come last **\"false\"**\n",
        "* First six variables are very important they have a very high score, we are interested in this variable is why machine learning works"
      ],
      "metadata": {
        "id": "57gxy5iN2sO1"
      }
    },
    {
      "cell_type": "markdown",
      "source": [
        "## **3.7 Feature importance: Correlation**(video 3.7)\n",
        "\n",
        "**Correlation coefficient** measures the degree of dependency between two variables. This value is negative if one variable grows while the other decreases, and it is positive if both variables increase. Depending on its size, the dependency between both variables could be low, moderate, or strong. It allows measuring the importance of numerical variables.\n",
        "\n",
        "Functions and methods:\n",
        "\n",
        "* df[x].corrwith(y) - returns the correlation between x and y series.\n",
        "\n",
        "How about numerical columns?\n",
        "\n",
        "* Correlation coefficient - https://en.wikipedia.org/wiki/Pearson_correlation_coefficient"
      ],
      "metadata": {
        "id": "emQML-VL7VOT"
      }
    },
    {
      "cell_type": "markdown",
      "source": [
        "* Here we talk about the numerical variable for that circulation or also known as the Pearson correlation coefficient this is to measure dependency between two variables this is a way of measuring the degree of dependency between two variables\n",
        "* We have a variable x and variable y so both these variables are numbers the correlation coefficient usually is denoted by a letter r is a number between minus one and one so for negative correlation when values of x grow usually what happens it the values of y they go down in case the correlation is negative increasing one variable leads to decrease in another variable and when the correlation is positive.\n",
        "* Negative correlation between 0 and minus 0.1 so the correlation is always almost nonexistent so let's say it's low, very low it means that for positive correlation when one variable increases only very **\"rarely\"** it leads to an increase in the other variable, example 0.0 -0.2, 0 0.2 is low, -0.2 -0.5, 0.2 0.5 this is a **moderate correlation** the value increase in one variable, **\"sometimes\"** lead to increasing another variable\n",
        "* -0.6 -1.2, a  0.6 1.0, this is **very strong correlation** almost always increasing one  lead to increase another in the other or increasing one lead to decreasing in other, so let's say **\"often\"** or like when it's close to one when it's higher the 0.49 it's almost **\"always\"**\n"
      ],
      "metadata": {
        "id": "rAg8taXo5J0v"
      }
    },
    {
      "cell_type": "markdown",
      "source": [
        "* y is a binary variable which means it can take only values between 0 and 1 and X can be any number\n",
        "* Use this notation X is a real number meaning it can be anything between minus infinity and plus infinity to make it more concrete and say x be tenure which is the number of months clients spent with us and why is churn, tenure is a variable\n",
        "* Positive - more tenure = higher churn\n",
        "* Negative - more tenure = less churn\n",
        "* Zero - no effect = no churn"
      ],
      "metadata": {
        "id": "7YSoyUce8qxJ"
      }
    },
    {
      "cell_type": "code",
      "source": [
        "df_full_train.tenure.max()"
      ],
      "metadata": {
        "id": "-DugTkaV67nv",
        "colab": {
          "base_uri": "https://localhost:8080/"
        },
        "outputId": "e041367e-f4f2-496b-8a4d-81bf32392ad0"
      },
      "execution_count": 77,
      "outputs": [
        {
          "output_type": "execute_result",
          "data": {
            "text/plain": [
              "72"
            ]
          },
          "metadata": {},
          "execution_count": 77
        }
      ]
    },
    {
      "cell_type": "markdown",
      "source": [
        "* X tenure 72, y churn (0,1) in this case the positive correlation between X and y  means that when X increases **more tenure** then **more churn** it means the larger the value of X, r the  higher the churn rate **higher churn**\n",
        "* Negative correlation means more tenure less churn"
      ],
      "metadata": {
        "id": "RX7MNY26ADGQ"
      }
    },
    {
      "cell_type": "code",
      "source": [
        "df_full_train[numerical]"
      ],
      "metadata": {
        "colab": {
          "base_uri": "https://localhost:8080/",
          "height": 424
        },
        "id": "hi_nylI6_tsH",
        "outputId": "55583fed-7acd-4e09-f514-d0c244bb5223"
      },
      "execution_count": 78,
      "outputs": [
        {
          "output_type": "execute_result",
          "data": {
            "text/plain": [
              "      tenure  monthlycharges  totalcharges\n",
              "0         12           19.70        258.35\n",
              "1         42           73.90       3160.55\n",
              "2         71           65.15       4681.75\n",
              "3         71           85.45       6300.85\n",
              "4         30           70.40       2044.75\n",
              "...      ...             ...           ...\n",
              "5629       9          100.50        918.60\n",
              "5630      60           19.95       1189.90\n",
              "5631      28          105.70       2979.50\n",
              "5632       2           54.40        114.10\n",
              "5633      16           68.25       1114.85\n",
              "\n",
              "[5634 rows x 3 columns]"
            ],
            "text/html": [
              "\n",
              "  <div id=\"df-aba8a912-942f-482d-88ce-9c51b251256c\">\n",
              "    <div class=\"colab-df-container\">\n",
              "      <div>\n",
              "<style scoped>\n",
              "    .dataframe tbody tr th:only-of-type {\n",
              "        vertical-align: middle;\n",
              "    }\n",
              "\n",
              "    .dataframe tbody tr th {\n",
              "        vertical-align: top;\n",
              "    }\n",
              "\n",
              "    .dataframe thead th {\n",
              "        text-align: right;\n",
              "    }\n",
              "</style>\n",
              "<table border=\"1\" class=\"dataframe\">\n",
              "  <thead>\n",
              "    <tr style=\"text-align: right;\">\n",
              "      <th></th>\n",
              "      <th>tenure</th>\n",
              "      <th>monthlycharges</th>\n",
              "      <th>totalcharges</th>\n",
              "    </tr>\n",
              "  </thead>\n",
              "  <tbody>\n",
              "    <tr>\n",
              "      <th>0</th>\n",
              "      <td>12</td>\n",
              "      <td>19.70</td>\n",
              "      <td>258.35</td>\n",
              "    </tr>\n",
              "    <tr>\n",
              "      <th>1</th>\n",
              "      <td>42</td>\n",
              "      <td>73.90</td>\n",
              "      <td>3160.55</td>\n",
              "    </tr>\n",
              "    <tr>\n",
              "      <th>2</th>\n",
              "      <td>71</td>\n",
              "      <td>65.15</td>\n",
              "      <td>4681.75</td>\n",
              "    </tr>\n",
              "    <tr>\n",
              "      <th>3</th>\n",
              "      <td>71</td>\n",
              "      <td>85.45</td>\n",
              "      <td>6300.85</td>\n",
              "    </tr>\n",
              "    <tr>\n",
              "      <th>4</th>\n",
              "      <td>30</td>\n",
              "      <td>70.40</td>\n",
              "      <td>2044.75</td>\n",
              "    </tr>\n",
              "    <tr>\n",
              "      <th>...</th>\n",
              "      <td>...</td>\n",
              "      <td>...</td>\n",
              "      <td>...</td>\n",
              "    </tr>\n",
              "    <tr>\n",
              "      <th>5629</th>\n",
              "      <td>9</td>\n",
              "      <td>100.50</td>\n",
              "      <td>918.60</td>\n",
              "    </tr>\n",
              "    <tr>\n",
              "      <th>5630</th>\n",
              "      <td>60</td>\n",
              "      <td>19.95</td>\n",
              "      <td>1189.90</td>\n",
              "    </tr>\n",
              "    <tr>\n",
              "      <th>5631</th>\n",
              "      <td>28</td>\n",
              "      <td>105.70</td>\n",
              "      <td>2979.50</td>\n",
              "    </tr>\n",
              "    <tr>\n",
              "      <th>5632</th>\n",
              "      <td>2</td>\n",
              "      <td>54.40</td>\n",
              "      <td>114.10</td>\n",
              "    </tr>\n",
              "    <tr>\n",
              "      <th>5633</th>\n",
              "      <td>16</td>\n",
              "      <td>68.25</td>\n",
              "      <td>1114.85</td>\n",
              "    </tr>\n",
              "  </tbody>\n",
              "</table>\n",
              "<p>5634 rows × 3 columns</p>\n",
              "</div>\n",
              "      <button class=\"colab-df-convert\" onclick=\"convertToInteractive('df-aba8a912-942f-482d-88ce-9c51b251256c')\"\n",
              "              title=\"Convert this dataframe to an interactive table.\"\n",
              "              style=\"display:none;\">\n",
              "        \n",
              "  <svg xmlns=\"http://www.w3.org/2000/svg\" height=\"24px\"viewBox=\"0 0 24 24\"\n",
              "       width=\"24px\">\n",
              "    <path d=\"M0 0h24v24H0V0z\" fill=\"none\"/>\n",
              "    <path d=\"M18.56 5.44l.94 2.06.94-2.06 2.06-.94-2.06-.94-.94-2.06-.94 2.06-2.06.94zm-11 1L8.5 8.5l.94-2.06 2.06-.94-2.06-.94L8.5 2.5l-.94 2.06-2.06.94zm10 10l.94 2.06.94-2.06 2.06-.94-2.06-.94-.94-2.06-.94 2.06-2.06.94z\"/><path d=\"M17.41 7.96l-1.37-1.37c-.4-.4-.92-.59-1.43-.59-.52 0-1.04.2-1.43.59L10.3 9.45l-7.72 7.72c-.78.78-.78 2.05 0 2.83L4 21.41c.39.39.9.59 1.41.59.51 0 1.02-.2 1.41-.59l7.78-7.78 2.81-2.81c.8-.78.8-2.07 0-2.86zM5.41 20L4 18.59l7.72-7.72 1.47 1.35L5.41 20z\"/>\n",
              "  </svg>\n",
              "      </button>\n",
              "      \n",
              "  <style>\n",
              "    .colab-df-container {\n",
              "      display:flex;\n",
              "      flex-wrap:wrap;\n",
              "      gap: 12px;\n",
              "    }\n",
              "\n",
              "    .colab-df-convert {\n",
              "      background-color: #E8F0FE;\n",
              "      border: none;\n",
              "      border-radius: 50%;\n",
              "      cursor: pointer;\n",
              "      display: none;\n",
              "      fill: #1967D2;\n",
              "      height: 32px;\n",
              "      padding: 0 0 0 0;\n",
              "      width: 32px;\n",
              "    }\n",
              "\n",
              "    .colab-df-convert:hover {\n",
              "      background-color: #E2EBFA;\n",
              "      box-shadow: 0px 1px 2px rgba(60, 64, 67, 0.3), 0px 1px 3px 1px rgba(60, 64, 67, 0.15);\n",
              "      fill: #174EA6;\n",
              "    }\n",
              "\n",
              "    [theme=dark] .colab-df-convert {\n",
              "      background-color: #3B4455;\n",
              "      fill: #D2E3FC;\n",
              "    }\n",
              "\n",
              "    [theme=dark] .colab-df-convert:hover {\n",
              "      background-color: #434B5C;\n",
              "      box-shadow: 0px 1px 3px 1px rgba(0, 0, 0, 0.15);\n",
              "      filter: drop-shadow(0px 1px 2px rgba(0, 0, 0, 0.3));\n",
              "      fill: #FFFFFF;\n",
              "    }\n",
              "  </style>\n",
              "\n",
              "      <script>\n",
              "        const buttonEl =\n",
              "          document.querySelector('#df-aba8a912-942f-482d-88ce-9c51b251256c button.colab-df-convert');\n",
              "        buttonEl.style.display =\n",
              "          google.colab.kernel.accessAllowed ? 'block' : 'none';\n",
              "\n",
              "        async function convertToInteractive(key) {\n",
              "          const element = document.querySelector('#df-aba8a912-942f-482d-88ce-9c51b251256c');\n",
              "          const dataTable =\n",
              "            await google.colab.kernel.invokeFunction('convertToInteractive',\n",
              "                                                     [key], {});\n",
              "          if (!dataTable) return;\n",
              "\n",
              "          const docLinkHtml = 'Like what you see? Visit the ' +\n",
              "            '<a target=\"_blank\" href=https://colab.research.google.com/notebooks/data_table.ipynb>data table notebook</a>'\n",
              "            + ' to learn more about interactive tables.';\n",
              "          element.innerHTML = '';\n",
              "          dataTable['output_type'] = 'display_data';\n",
              "          await google.colab.output.renderOutput(dataTable, element);\n",
              "          const docLink = document.createElement('div');\n",
              "          docLink.innerHTML = docLinkHtml;\n",
              "          element.appendChild(docLink);\n",
              "        }\n",
              "      </script>\n",
              "    </div>\n",
              "  </div>\n",
              "  "
            ]
          },
          "metadata": {},
          "execution_count": 78
        }
      ]
    },
    {
      "cell_type": "code",
      "source": [
        "df_full_train[numerical].corrwith(df_full_train.churn)"
      ],
      "metadata": {
        "colab": {
          "base_uri": "https://localhost:8080/"
        },
        "id": "l_iQZvVG_99C",
        "outputId": "f87dbc7a-3a48-47ce-adeb-f984b74cd1ef"
      },
      "execution_count": 79,
      "outputs": [
        {
          "output_type": "execute_result",
          "data": {
            "text/plain": [
              "tenure           -0.351885\n",
              "monthlycharges    0.196805\n",
              "totalcharges     -0.196353\n",
              "dtype: float64"
            ]
          },
          "metadata": {},
          "execution_count": 79
        }
      ]
    },
    {
      "cell_type": "markdown",
      "source": [
        "* We get these values of tenure is negative and total charges are negative so the way we can interpret the negative coefficient here is that when tenure increases continue increases so the longer customer stays with us the less likely they churn, so with the increase of tenure churn rate goes down\n",
        "* Same as total charges the more people pay the less likely to live this might sound counter-intuitive but this tenure and total charges can relate to the longer people stay with a company the higher the total bill is, that's why we see that correlation is negative here\n",
        "* when  we talk about monthly charges the way we interpret it here the coefficient is positive the higher the monthly charges are the most likely people are to live, increase in monthly charges will lead to an increase in churn rate and we can check this in code."
      ],
      "metadata": {
        "id": "I6mmkGgLBQkR"
      }
    },
    {
      "cell_type": "code",
      "source": [
        "df_full_train[df_full_train.tenure <= 2].churn.mean()"
      ],
      "metadata": {
        "id": "JQwaquS07lRR",
        "colab": {
          "base_uri": "https://localhost:8080/"
        },
        "outputId": "40bcafc6-6e80-4303-d42e-ff36435fc4f0"
      },
      "execution_count": 80,
      "outputs": [
        {
          "output_type": "execute_result",
          "data": {
            "text/plain": [
              "0.5953420669577875"
            ]
          },
          "metadata": {},
          "execution_count": 80
        }
      ]
    },
    {
      "cell_type": "markdown",
      "source": [
        "* The churn rate is 59 percent pretty high so if somebody stayed with the company zero for one or two months the churn rate in this group is pretty high."
      ],
      "metadata": {
        "id": "ttE2jH7lDVfr"
      }
    },
    {
      "cell_type": "code",
      "source": [
        "df_full_train[df_full_train.tenure > 2].churn.mean()"
      ],
      "metadata": {
        "colab": {
          "base_uri": "https://localhost:8080/"
        },
        "id": "sT42RlfKDO0w",
        "outputId": "fe4cd08c-bda6-4935-f5af-b6da163534bf"
      },
      "execution_count": 81,
      "outputs": [
        {
          "output_type": "execute_result",
          "data": {
            "text/plain": [
              "0.22478269658378816"
            ]
          },
          "metadata": {},
          "execution_count": 81
        }
      ]
    },
    {
      "cell_type": "markdown",
      "source": [
        "* Let's say we want to take a look at the people who spent more than two months in the company."
      ],
      "metadata": {
        "id": "TRUUdqyeD1SC"
      }
    },
    {
      "cell_type": "code",
      "source": [
        "df_full_train[(df_full_train.tenure > 2) & (df_full_train.tenure <= 12)].churn.mean()"
      ],
      "metadata": {
        "id": "zkGMJd1r7pNe",
        "colab": {
          "base_uri": "https://localhost:8080/"
        },
        "outputId": "2b79fc97-55d0-4561-d754-c9a83549e2c0"
      },
      "execution_count": 82,
      "outputs": [
        {
          "output_type": "execute_result",
          "data": {
            "text/plain": [
              "0.3994413407821229"
            ]
          },
          "metadata": {},
          "execution_count": 82
        }
      ]
    },
    {
      "cell_type": "markdown",
      "source": [
        "* To check the people who stay with the company between two and 12 months, the churn rate is still pretty high almost 40 percent"
      ],
      "metadata": {
        "id": "UEpuFdRZEMPD"
      }
    },
    {
      "cell_type": "code",
      "source": [
        "df_full_train[df_full_train.tenure > 12].churn.mean()"
      ],
      "metadata": {
        "id": "RL4hr11e7tTq",
        "colab": {
          "base_uri": "https://localhost:8080/"
        },
        "outputId": "93edefd8-ed4d-4d98-c282-a4bddcc8c1e7"
      },
      "execution_count": 83,
      "outputs": [
        {
          "output_type": "execute_result",
          "data": {
            "text/plain": [
              "0.17634908339788277"
            ]
          },
          "metadata": {},
          "execution_count": 83
        }
      ]
    },
    {
      "cell_type": "markdown",
      "source": [
        "* Finally we can take a look at people who stayed with a company longer than one year so far the churn rate is even lower it's only 17 percent"
      ],
      "metadata": {
        "id": "tFO0Z3j4EpPY"
      }
    },
    {
      "cell_type": "markdown",
      "source": [
        "![image.png](data:image/png;base64,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)"
      ],
      "metadata": {
        "id": "Ug1vstWTFAY0"
      }
    },
    {
      "cell_type": "markdown",
      "source": [
        "* For tenure between zero and two months, we have a churn rate like almost sixty percent to be exact is fifty-nine percent this is between zero and two month\n",
        "* For tenure between two months and twelve months we have a churn rate of forty percent this is between 2 and 12 months\n",
        "* Finally for people who are longer than one year it is 17 percent it's more than two times so we see here this trend that like it really down with continue increases so it's 12 plus where it increases the churn rate really goes down"
      ],
      "metadata": {
        "id": "Q5LhPfMHJYRE"
      }
    },
    {
      "cell_type": "code",
      "source": [
        "df_full_train[df_full_train.monthlycharges <= 20].churn.mean()"
      ],
      "metadata": {
        "id": "JmDdXBrq7zQQ",
        "colab": {
          "base_uri": "https://localhost:8080/"
        },
        "outputId": "90fbfba1-4458-4bc2-8d6c-2fd4b86ceb0b"
      },
      "execution_count": 84,
      "outputs": [
        {
          "output_type": "execute_result",
          "data": {
            "text/plain": [
              "0.08795411089866156"
            ]
          },
          "metadata": {},
          "execution_count": 84
        }
      ]
    },
    {
      "cell_type": "markdown",
      "source": [
        "* For less than 20 dollars per month the churn rate is slightly less than nine percent"
      ],
      "metadata": {
        "id": "dmQzBOulFkbG"
      }
    },
    {
      "cell_type": "code",
      "source": [
        "df_full_train[(df_full_train.monthlycharges > 20) & (df_full_train.monthlycharges <= 50)].churn.mean()"
      ],
      "metadata": {
        "id": "ktvvBgIy7309",
        "colab": {
          "base_uri": "https://localhost:8080/"
        },
        "outputId": "98683253-9c66-4133-feeb-1fb1e73423f5"
      },
      "execution_count": 85,
      "outputs": [
        {
          "output_type": "execute_result",
          "data": {
            "text/plain": [
              "0.18340943683409436"
            ]
          },
          "metadata": {},
          "execution_count": 85
        }
      ]
    },
    {
      "cell_type": "markdown",
      "source": [
        "* Monthly charges between 20 dollars and 50 dollars per month the churn rate is 18 percent"
      ],
      "metadata": {
        "id": "Q056yPdcF5ud"
      }
    },
    {
      "cell_type": "code",
      "source": [
        "df_full_train[df_full_train.monthlycharges > 50].churn.mean()"
      ],
      "metadata": {
        "id": "bFjeW5kk78nj",
        "colab": {
          "base_uri": "https://localhost:8080/"
        },
        "outputId": "4c3b8cd6-8f15-4d46-d8b7-1d49c6ed2cf5"
      },
      "execution_count": 86,
      "outputs": [
        {
          "output_type": "execute_result",
          "data": {
            "text/plain": [
              "0.32499341585462205"
            ]
          },
          "metadata": {},
          "execution_count": 86
        }
      ]
    },
    {
      "cell_type": "markdown",
      "source": [
        "* Monthly charges more than 50 dollars per month the churn rate is 32 percent"
      ],
      "metadata": {
        "id": "O9q6Dp8tGcio"
      }
    },
    {
      "cell_type": "markdown",
      "source": [
        "![image.png](data:image/png;base64,iVBORw0KGgoAAAANSUhEUgAAA6gAAAF+CAYAAACPuTczAAAMYmlDQ1BJQ0MgUHJvZmlsZQAASImVlwdYU8kWgOeWVBJaIAJSQm+iSA0gJYQWQUCqICohCSSUGBKCiB1dVsG1iyhWdFVE0dUVkLUgYndR7K5lsaCysi4WbKi8CQnouq98b/jmzp8zZ86cc5i5dwYAnQ6+TJaL6gKQJy2Qx4UHsyakpLJIjwEB6MM/A+DDFyhknNjYKADLYPv38uY6QFTtFReVrX/2/9eiLxQpBAAgaZAzhApBHuRmAPASgUxeAAAxBMqtpxXIVCyGbCCHDkKeqeIsNS9TcYaatw3oJMRxITcCQKbx+fIsALRboZxVKMiCdrQfQXaVCiVSAHQMIAcIxHwh5ATII/Lypqp4LmQHqC+DvBMyO+Mrm1l/s58xZJ/PzxpidVwDhRwiUchy+dP/z9T875KXqxycww5WmlgeEaeKH+bwZs7USBXTIHdLM6JjVLmG/E4iVOcdAJQqVkYkqvVRU4GCC/MHmJBdhfyQSMimkMOkudFRGnlGpiSMBxmuFrRIUsBL0IxdKFKExmtsrpdPjYsZ5Ew5l6MZW8eXD8yr0m9V5iRyNPZvikW8Qfuvi8UJyZCpAGDUQklSNGRtyAaKnPhItQ5mVSzmRg/qyJVxKv9tILNF0vBgtX0sLVMeFqfRl+UpBuPFSsUSXrSGKwvECRHq/GC7BPwB/40g14uknMRBOyLFhKjBWISikFB17FibSJqoiRe7JysIjtOM7ZHlxmr0cbIoN1wlt4JsoiiM14zFxxTAxam2j0fJCmIT1H7i6dn8sbFqf/BCEAW4IASwgBLWDDAVZANJW3dDN/yl7gkDfCAHWUAEXDSSwRHJAz1S+IwHxeBPSCKgGBoXPNArAoVQ/mlIqn66gMyB3sKBETngMeQ8EAly4W/lwCjp0GxJ4BGUSP4xuwD6mgurqu+fMg6URGkkykG7LJ1BTWIoMYQYQQwjOuImeADuh0fBZxCsbjgb9xn09os+4TGhnfCAcI3QQbg1RVIi/8aXcaAD2g/TRJzxdcS4HbTpiQfj/tA6tIwzcRPggnvAeTh4IJzZE0q5Gr9VsbP+TZxDEXyVc40exZWCUoZRgigO347UdtL2HLKiyujX+VH7mjGUVe5Qz7fzc7/KsxC2kd9qYguxA9hp7Dh2FjuMNQAWdgxrxC5gR1Q8tIYeDayhwdniBvzJgXYk/5iPr5lTlUmFa61rl+tHTR8oEBUVqDYYd6psulySJS5gceBXQMTiSQUjR7DcXN3cAFB9U9SvqVfMgW8Fwjz3RZbfDIBPGRRmfZHxrQE49BgAxpsvMuuXcHvAd/2RSwKlvFAtw1UPAnwb6MAdZQzMgTVwgBG5AS/gB4JAKBgLYkACSAGTYZ7FcD3LwTQwE8wDpaAcLAOrwTqwCWwFO8EesB80gMPgODgFzoNL4Bq4DddPJ3gGesAb0IcgCAmhIwzEGLFAbBFnxA1hIwFIKBKFxCEpSDqShUgRJTITmY+UIyuQdcgWpAb5CTmEHEfOIu3ILeQ+0oW8RD6gGEpDDVAz1A4dhbJRDhqJJqCT0Cw0Hy1GF6BL0Eq0Gt2N1qPH0fPoNbQDfYb2YgDTwpiYJeaCsTEuFoOlYpmYHJuNlWEVWDVWhzXB//QVrAPrxt7jRJyBs3AXuIYj8ERcgOfjs/HF+Dp8J16Pt+JX8Pt4D/6ZQCeYEpwJvgQeYQIhizCNUEqoIGwnHCSchLupk/CGSCQyifZEb7gbU4jZxBnExcQNxL3EZmI78SGxl0QiGZOcSf6kGBKfVEAqJa0l7SYdI10mdZLekbXIFmQ3chg5lSwll5AryLvIR8mXyU/IfRRdii3FlxJDEVKmU5ZStlGaKBcpnZQ+qh7VnupPTaBmU+dRK6l11JPUO9RXWlpaVlo+WuO1JFpztSq19mmd0bqv9Z6mT3OicWlpNCVtCW0HrZl2i/aKTqfb0YPoqfQC+hJ6Df0E/R79nTZDe6Q2T1uoPUe7Srte+7L2cx2Kjq0OR2eyTrFOhc4BnYs63boUXTtdri5fd7Zule4h3Ru6vXoMvdF6MXp5eov1dumd1XuqT9K30w/VF+ov0N+qf0L/IQNjWDO4DAFjPmMb4ySj04BoYG/AM8g2KDfYY9Bm0GOob+hhmGRYZFhleMSwg4kx7Zg8Zi5zKXM/8zrzwzCzYZxhomGLhtUNuzzsrdFwoyAjkVGZ0V6ja0YfjFnGocY5xsuNG4zvmuAmTibjTaaZbDQ5adI93GC433DB8LLh+4f/ZoqaOpnGmc4w3Wp6wbTXzNws3ExmttbshFm3OdM8yDzbfJX5UfMuC4ZFgIXEYpXFMYs/WIYsDiuXVclqZfVYmlpGWCott1i2WfZZ2VslWpVY7bW6a021ZltnWq+ybrHusbGwGWcz06bW5jdbii3bVmy7xva07Vs7e7tku+/tGuye2hvZ8+yL7Wvt7zjQHQId8h2qHa46Eh3ZjjmOGxwvOaFOnk5ipyqni86os5ezxHmDc/sIwgifEdIR1SNuuNBcOC6FLrUu90cyR0aNLBnZMPL5KJtRqaOWjzo96rOrp2uu6zbX26P1R48dXTK6afRLNyc3gVuV21V3unuY+xz3RvcXHs4eIo+NHjc9GZ7jPL/3bPH85OXtJfeq8+rytvFO917vfYNtwI5lL2af8SH4BPvM8Tns897Xy7fAd7/vX34ufjl+u/yejrEfIxqzbcxDfyt/vv8W/44AVkB6wOaAjkDLQH5gdeCDIOsgYdD2oCccR042ZzfnebBrsDz4YPBbri93Frc5BAsJDykLaQvVD00MXRd6L8wqLCusNqwn3DN8RnhzBCEiMmJ5xA2eGU/Aq+H1jPUeO2tsayQtMj5yXeSDKKcoeVTTOHTc2HErx92Jto2WRjfEgBhezMqYu7H2sfmxv4wnjo8dXzX+cdzouJlxp+MZ8VPid8W/SQhOWJpwO9EhUZnYkqSTlJZUk/Q2OSR5RXLHhFETZk04n2KSIklpTCWlJqVuT+2dGDpx9cTONM+00rTrk+wnFU06O9lkcu7kI1N0pvCnHEgnpCen70r/yI/hV/N7M3gZ6zN6BFzBGsEzYZBwlbBL5C9aIXqS6Z+5IvNpln/WyqwucaC4Qtwt4UrWSV5kR2Rvyn6bE5OzI6c/Nzl3bx45Lz3vkFRfmiNtnWo+tWhqu8xZVirryPfNX53fI4+Ub1cgikmKxgIDeHi/oHRQfqe8XxhQWFX4blrStANFekXSogvTnaYvmv6kOKz4xxn4DMGMlpmWM+fNvD+LM2vLbGR2xuyWOdZzFszpnBs+d+c86ryceb+WuJasKHk9P3l+0wKzBXMXPPwu/LvaUu1SeemN7/2+37QQXyhZ2LbIfdHaRZ/LhGXnyl3LK8o/LhYsPvfD6B8qf+hfkrmkbanX0o3LiMuky64vD1y+c4XeiuIVD1eOW1m/irWqbNXr1VNWn63wqNi0hrpGuaajMqqyca3N2mVrP64Tr7tWFVy1d73p+kXr324Qbri8MWhj3SazTeWbPmyWbL65JXxLfbVddcVW4tbCrY+3JW07/SP7x5rtJtvLt3/aId3RsTNuZ2uNd03NLtNdS2vRWmVt1+603Zf2hOxprHOp27KXubd8H9in3PfHT+k/Xd8fub/lAPtA3c+2P68/yDhYVo/UT6/vaRA3dDSmNLYfGnuopcmv6eAvI3/ZcdjycNURwyNLj1KPLjjaf6z4WG+zrLn7eNbxhy1TWm6fmHDiauv41raTkSfPnAo7deI05/SxM/5nDp/1PXvoHPtcw3mv8/UXPC8c/NXz14NtXm31F70vNl7yudTUPqb96OXAy8evhFw5dZV39fy16Gvt1xOv37yRdqPjpvDm01u5t178Vvhb3+25dwh3yu7q3q24Z3qv+nfH3/d2eHUcuR9y/8KD+Ae3HwoePnukePSxc8Fj+uOKJxZPap66PT3cFdZ16Y+Jf3Q+kz3r6y79U+/P9c8dnv/8V9BfF3om9HS+kL/of7n4lfGrHa89Xrf0xvbee5P3pu9t2Tvjdzvfs9+f/pD84UnftI+kj5WfHD81fY78fKc/r79fxpfzB44CGKxoZiYAL3cAQE+BZ4dL8JowUX3nGyiI+p46QOA/sfpeOFC8ANgRBEDiXACi4BllI6y2kGmwVR3VE4IA6u4+VDVFkenuprZFgzcewrv+/ldmAJCaAPgk7+/v29Df/wneUbFbADTnq++aqkKEd4PNqrsoOF/EB98W9T30qxi/bYHKAw/wbfsvF5mHw8bVJsMAAAA4ZVhJZk1NACoAAAAIAAGHaQAEAAAAAQAAABoAAAAAAAKgAgAEAAAAAQAAA6igAwAEAAAAAQAAAX4AAAAAdSu70gAAQABJREFUeAHt3QeYXGX99vEzu5uEkgQITUAIVUB6AgpK2SSbAIoKRDooTUAQIdmACqJU4Y8kIErvvURQARXIJrsB6U06SIuhB6mB9N1573v3PHCYd2a2zc7Oznyf67r39HOe8zmrF788Z2ajiIYAAggggAACCCCAAAIIIIBAJQvUjZ/+29H1TSdVsgH3jgACCCCAAAIIIIAAAggg8IVA1RezzCGAAAIIIIAAAggggAACCCDQewIUqL1nz5URQAABBBBAAAEEEEAAAQQSAhSoCQxmEUAAAQQQQAABBBBAAAEEek+AArX37LkyAggggAACCCCAAAIIIIBAQoACNYHBLAIIIIAAAggggAACCCCAQO8JUKD2nj1XRgABBBBAAAEEEEAAAQQQSAhQoCYwmEUAAQQQQAABBBBAAAEEEOg9ge4UqBPU7QuVDXuv+1wZAQQQQAABBBBAAAEEEECgXARqstyIi9bNlGHKpkqL8h/lDuU1JbSDNbOucp/yTFjZh6f7qO8rJPrfrPmPlOnKfxPrmUUAAQQQQAABBBBAAAEEEOgBgcwCdSVd4zplRJZrnaN1VyiHKYuybO/Lq3zf1+a5gX9q2wHKu3n2aW/TEO2wlfKW8kR7O7MdAQQQQAABBBBAAAEEEKg0gWSBur5uvknxKGJamaI8pPRTvq1soxykXKA8ppRT65+4mYs0/46ypLKD4leYd1RuUbZWutp20YGXKk8rG3f1JByHAAIIIIAAAggggAACCJSrQLJAnaibdHE6R9lPuVVJtm21cKbyYXJlGc7/Uff0bHxfx2nqgtyFuYt0v/rM6KcQaAgggAACCCCAAAIIIIBAoQVCgepXej1K6HaCklmcev09ypaeydJc2HqEcAtlptKg3K8k2zpa+KHyinJzcoPml1cOVD5W/MVLoa2umb2UxxV/1vUoxZ97fVk5TVlVCdvv0vxIpU5ZWvExvs4nSlfbQh3o/rhAdfM9JAvUgVreSfF9L6e8qzyvXK/MV9wGKy74t/GCmq1+1joXRbM0zbT4htZ5368rbym+3u2K+0JDAAEEEEAAAQQQQAABBMpewKOEfq33fcVFV0faC9rJx1ym+JVYz4f4i5XGKcl2qBa8/UmvrBs//bej65tO8ryaC2Rvm+uFRNtT817v4tOvFYfze7qsErb/XfNXKsntnn9OWUlprw3VDuHYDTJ29hdFhW2jEts8/2FiW9jHUxfQLljdtlaS25Lzb7fu0fZjgCYevU1uD/MPav1X23bjJwIIIIAAAggggAACCCBQngJV8W15ZNDtAeXT1rmO//DIp0cJL1WOVFy4ppTTlRWVQrQxOom/VdijomcoLljnKaF9RzM/Vv6tHKOEQm99zR+rdLW5CParz24fKI+0zrX9GK3JIMUjoHsrLlh/pbjIXks5XnFzQe4+/cULau8pv4hT7xVx8+vEHln1fXm7Xyn2PbmI/aZynkJDAAEEEEAAAQQQQAABBMpe4L+6Q4/W/akTd+pC1Me4oK1VQvNIn19H9Ta/2hraoZrxuq6MoPq4e5QBSrLtqQVvc1wA9lNCu1AzXv9KWJFnOjTe1/s3KJMVX8+vB3udi84fKMm2qhZciGa2M7XCx9yXseGgeP1TGeu96Nd+7ejj9lGSbawWvN75WnID8wgggAACCCCAAAIIIIBAOQmEz6CuHN+URwk7236pA5oSB72heRehw5WOvF6bODTn7Gfa4sJtfo49PMq4u+LCOLQ7NOOiuLN98Ehosi3SwrcVj94m2+vJhcS8R3HdgmnbUv6fW2rzkopfGb4+Y1cXzO6Dn9UGyn8UGgIIIIAAAggggAACCCBQdgKhQH1Ld7aa0pmiKmB8HGYS01nxvF+BLUTzlw/lKgh9fo9wJotTrwt9WFzz1UqzV3agHaB9fD1/LvZoxaOyfq14jJLZFtOKXZXtFNsto3g01M2vOXe0rR3v6ONfy3JQeE6rZNnGKgQQQAABBBBAAAEEEECgLARC4fOy7sYF6poFuiuP+PV262ofHlHHn1X+qTynXKH486a7KOFzpJqNXFQ2KaFoXKB5j4C6IO5sWz4+wF8u5deKM9vTWuEC3H2jIYAAAggggAACCCCAAAJlKVAV35ULVLdtlUIVqa0nTPxw8eXmV1n7SrtSHQ2fGR2f0enLtezi9BnlG4pHU7+ieAS2s21mfICnG+eIX5l+KN6PCQIIIIAAAggggAACCCBQdgKhQL0svjO/CnuKkuv11GHaNjjet7OT8MqtX4V1MZdsOyQXSmz+T3F/ttZ0w3i+v6b+Zl23ExSPbPpLjNxsmK2FAj28Apzc55V4YTVN10puYB4BBBBAAAEEEEAAAQQQqBSBUKA+rBueHN/03prermyguNjyPi5Mb1Aei+c16XQLo7R+BfYYH92yaIFfMT5DOdbLJdpuVL/8JU1uh7VNWr+0yK/cun27bdL60wVs+LM0idWts6FAX1FLHiV1C99KfK/mX1dsfZEyREm2oVrYN7mCeQQQQAABBBBAAAEEEECgnAU8snm/4pHAkDma9zfnhmXPr6+4vaB4/X5eyGi3adnbTslYf0+8Pr3Otoe9t/bWB8+Ll9+Ip/6yo2TbUws+TxhhTG7zfL7tLqpDv11o52tDtTHs68I8s12mFd7uL4QKnzG9OV7n9R5BbVDC/XjdDCXZ/G3CYbuLW78a/Gpihz0071FWH+vPsk5TblWeUrzen3GlIYAAAggggAACCCCAAAJlKxBGUH2DbynbKL9R/CVBixQXY36d9RPlOsVF3/OKWxhBDNO2tW0/QzGVuW03bW5U0s0L5y0XpdMuHD1CuaXiIixz/7AczqddvtTybQ/bfB8u+vI17xv2yXYtj2q6f369Obzm+1PN/1Vx21wZpbyk+AuVshWUb2v9zxUXqR45diH8rhLaTZrxNwe7IPV1PO8vZtpI+a9ykkJDAAEEEEAAAQQQQAABBCpSYDHd9deVVZRsI5AuXJdSsjUXYEsrqWwbtW7wVvtffUHd0VNOTWxfUvO+ZmZzseZr5Wr5tg/UQS6yO9KW0E5OruZt2f5sju9zM2X5xIG+l/D6bmJ166zv0cXp15TkPxC0box/uM8bx0meN7kP8wgggAACCCCAAAIIIIBAWQm4kMzVPNL3XK6NWu+RxmyjjT7Eo5YfeSZH+2TJIUPfSaXSyQLts1z75lgfVnt0N1f7NNeGLOv9OnO+lmu77/OJjANz3Yt3s+uzGftnLvpVZ4+k0hBAAAEEEEAAAQQQQACBihFIFogVc9PcKAIIIIAAAggggAACCCCAQOkJUKCW3jOhRwgggAACCCCAAAIIIIBARQpQoFbkY+emEUAAAQQQQAABBBBAAIHSE6BALb1nQo8QQAABBBBAAAEEEEAAgYoUoECtyMfOTSOAAAIIIIAAAggggAACpSdAgVp6z4QeIYAAAggggAACCCCAAAIVKUCBWpGPnZtGAAEEEEAAAQQQQAABBEpPgAK19J4JPUIAAQQQQAABBBBAAAEEKlKAArUiHzs3jQACCCCAAAIIIIAAAgiUngAFauk9E3qEQCUIrK+bvEA5thJulntEAAEEEEAAAQQQ6JhATcd2Yy8EuiWwho7+vhL+QSSt+TnKi8q/lGalGG07XeR05SXlx5244OXadzPFxdSUThzHrrkFNtGmw5RXlTNz79atLV193t26KAcjgAACCCCAAAIIdF2AArXrdhzZcYHjtOvBOXZ/M952Z47thVy9k062VRwXR3Pjkw+J172l6RPxujAZqJkD4oU6TSlQg0xpTL+hbiyn3KvMzuhSruedsRuLCCCAAAIIIIAAAqUiQIFaKk+ivPsRfs88YnqD0l9ZW/mesopyh7K18qDSk+0vOvlGyvNKKE59vV2US5WnlY2VZPtUC962qvK35AbmS0LgFvXiq8pY5daMHuV63hm7sYgAAggggAACCCBQKgKhcCiV/tCP8hZwAXhS4haHab5JGaT8WvGIV0+2+3XyHbpwgZ904RgO6X2Brj7v3u85PUAAAQQQQAABBCpUgAK1Qh98idz24+qHRyX3VfwZz8y2pFaMVvx5xdWVVxQXuR5xzfa51W21fpQyVPlQaVJuV1oUt9WUvZXXleuUwcp+yjaK2wrKz1rnomiWpjfH8z7G5/To7wxlZ+XrSpPiIiizjdSKLZUmJbl9KS1/V/G9+tpPKVOVF5TOtDrt7PP7s73vKXcpjUpm82jxt5WNlUXKs8o05SUl2VbXwl6Kn8d9ylHKusrLymmKrf2MPNrtLzbaNF7WJLpCecAzcSvEPW6ic+2orKkMUF5T/qr8WwnNBuspvp6b/3Fj5da5tt+PGZrPfN7x5s8nXfGxtZ+vr7+0YjP/nnyi0BBAAAEEEEAAAQT6qkDd+Om/HV3flBxN66u3Qr/bF3ARk1YmZ9n19Hjb2xnbXMT5lWAflxm/CuziJdnO1ULmfl4en9hpz3ifV+J1W8fL2Y5L9scFpPfZLz7u+nj5yXg5c/JqvP03iQ3f0vyMeH3yevO17gilI83FmF9pTR4f5l1wh9ZPM2coLizD9jCdp3VJEy1GwcXF12NK2NfTZRW3YPB/mk+e94+tW9t+dOYewzXDswinuU0zyeuHeV+zPuykaUOO/bz/ofF+ua7RVZ+/67xXKqFPYfqc1q2k0BBAAAEEEEAAAQT6qgAFal99cl3q9xU6yv8xn61AvTve1pg48xDNfxivf0PTCcoeylnKAsXnelgJzV+U43WLFBd7HoEbq7iIGaeEllmwDNIGn/tWxcfPUo6Ns7emoYXibL94xQ809f6O/1xKsm2hhbBtw3iD7+eDeP10TT3aV6tcoXjfFmWY0l5zMej9XaxNUvZSTlHeV/xZ2dBO1kzogwvXfRW72Cys/67mQwsuYZuL1NOVO5Ul452CgfdxUX2ecrlyuOLW2XsM10wWqIvpPD6/C/zjlO0VW9+jeL0/N7yi4uZtflazFW/zfYZnN1Tzbtmu4fXd9XlC5/DvzbmKn52vf7ZCQwABBBBAAAEEEOirAhSoffXJdanfV+go/0f85MTRVZo/Jl7vbcnRsd/H6114rawk2+5a8P6Oixc3j5h52YVVvparYDlIB/n4p3IcHIqzUKD2137um4/JfAvARbTXJ19HDffznNZ79C7ZPArr/T0qm6+tro0LFe/7cyXZPHpnAzcXcC5WvZ9HUZNtCS08qnibi6zQgovXuxgcEDYkpsHAxbEL7MzW2XsM10wWqD6nX0nONHLxO09x/0YryebXtb1+1+TKeD7bNbrr8xedO9m/C7Xs62feR9wFJggggAACCCCAAAKdEXCRQEOgWALb6EK3KdOUN5UzFTd/TvOc1rm2H9+N5y/R9K3Ees9OVkIxsFW8zUWK2yaKi82UF3qweRTX/XDbo23S+tPX3S1evjaxflQ8f5GmLjKT7fZ4YYPkyizzm2tdjeIRQ7sk29ta8LndtlOWVFzQ+XXcZJujhXPjFbZaPLlR858p+yjzM9YnF/+khTuSK+L5QtyjT3Wfkmnk0eeZ3qiW+Q8WbWs7/rM7Pnb2P5Ak+xcsVup4F9gTAQQQQAABBBBAIJcABWouGdb3hIBHr76njFC+ovxP+bXi4qZZcfPv5Jqtc1H0SDxNTjxaFUb/wn5+lfdxpVq5VHlBOVoZpPRUCwXourrApvFFttR0NcWvfd4Qr/Nk7Xj+ZE1nZOSweNsq8TTXZJ14g4vzubl20vpwrZc1/2GW/cIos4vpNTK2v6vl1zPWZS56BDZbC9ftzj2G826hmdMUjyr7HzNctNrVzf3uTgv97IqP3ZPFqfsxK+6Mi33//tEQQAABBBBAAAEEuiFQ041jORSBzgrcowP82UKPQLrQ8shYZhusFQPilR9nboyXfbxb/7ZJ6/lqNe/i6CfK15SzlQmKC+JQ0Gq2YM1F03+VoYpHUf1Kr6dujcqbrXNt9xIKZY9QfhKvDxMve5T4/rAix9QFvVvm8W1rv/i5Qjybyy45Ohr8vji6a3N+XoW4R1/do77HeiZuH2k6TylUXwvtsyh0lCkCCCCAAAIIIIBA9wWqun8KzoBAhwU82uTCziOj2YpTn8gFiQs5t1yvTS7ftvnz1z696Fdf/YVIfgXUUxdoHpW8TOmJ5pHc6+ITuzD1/5Z+GC+H9V50QRhG2X6l+Y1zJIykanPWFgreXCbhoDfimVz7hQLNu80MB3VzWqh7HKl+hOL0BM0vrSyj+F6eUQrResOnEP3mHAgggAACCCCAQEUIUKBWxGPuczf5atzjnbP03AXWtvH657Js9wjjOcoB8TYXhO29KdAS75ss3uJVeSehEPWrsuMVF8R+DfQWJdk8WuzmAqyrbUZ84NqarpPlJGHUOditqX02yrJfKKL9Om+ufyTIcli7qwpxj9vEV3lS01MV/yNDaLlen+3ss+stn3AfTBFAAAEEEEAAAQTyCFCg5sFhU68JXB1f+QeaHpjohV8jvUpxMeZRyWsVt/2V3ZSUEtpy8YyLsPZewwwjnCtqXxe0bqHga1vK/tMFcnh9+PfxLv7So8zXcK+Pt+2taSgQ41WtxfN3tbBBWJFjOkXrXbD5Hi9UBitu/tMsHm0M93C35l18ul2mBAcvf18JI7WTvKKArRD36Fd53dZVlm2daxuZnqj5r8fLmZNw3yO1wUVsSOZ+Ybm3fML1mSKAAAIIIIAAAgiUogB/ZqYUn0qP9ekKndmvxE7u4BVcdL0YH+PjXlceUPwar5f9RTUu9kL7s2a8fobia7iYa1a8zsVNaHtqxuteCSviqV8hdXEUzv2M5sNIm3d5Id62nxcyWr2WfVzI9zK2e9EjuB4VDPv4/Lcq7ueH8frjNG2v/Uo7hHPYwsWxX4n2uvBatGZbv8nYI4te7/t6WHkpXva6xxUbh5bLJWz3NJ+Bt3f2HrNdcxOdx8/WfbTL35TX4mWvc/ZXku1cLYRtMzX/vvLjeIds1/Cmg5RC+QzTucL1XRzTEEAAAQQQQAABBPqiAAVqX3xqXe7zRTrS/xEfXontyIkGaSePAIai1Me7eHlE2VJJtjotPK+EQsFTF2xnKv2U0MZqxtu8b2Y7RCv8em44hwvi0J7WjNe74MlsK2uFr+XtbyrJ62nx87ak5v6geHQ1XMNTX/MfSq4RQm36UnM/31OS53hQy9t+aa8o2l7LLyihEPP+Hm30yOkAJdnyuYT98hmEfTpzj7muuZdO9o4S7m+25s9WQiG6r+aTbUUt3K+E/f0PEzvGO+S6hjcXymcjncvX9u9mlUJDAAEEEEAAAQQQ6IsCFKh98al1uc/+D3d/4U1X/gPer7Surmys9FfyNReLmyvrKLn2HZxnm0cVN1C+piT76nMtpeRqLkp9fx5F7EhbRTttoayt5Cpo2zuPz+F7be9zsy4aN1M8Spyv5XPxce0ZZJ67I/eY65oeiVxLcfEXRiU9zfcMXKhuogxRki3XNcI+hfAZqJMtHk7IFAEEEEAAAQQQQKDrAh39D+quX4EjEWgbxfOrqF1pHp2a0cED39J+Tr7mEcxcbZ42PJtl4wKtc3I1j5515v7e1P5Od1pHz+HR3Sc6cKF8Lj68PYPMS3Skf7mu6VHQVzJO6HUfZ6xLLvpzt+Gzt8n1ua4R9imEz6fhZEwRQAABBBBAAAEEuieQHCXq3pk4GgEEEEAAAQQQQAABBBBAAIFuCFCgdgOPQxFAAAEEEEAAAQQQQAABBAonQIFaOEvOhAACCCCAAAIIIIAAAggg0A0BCtRu4HEoAggggAACCCCAAAIIIIBA4QQoUAtnyZkQQAABBBBAAAEEEEAAAQS6IUCB2g08DkUAAQQQQAABBBBAAAEEECicAAVq4Sw5EwIIIIAAAggggAACCCCAQDcEKFC7gcehCCCAAAIIIIAAAggggAAChROgQC2cJWdCAAEEEEAAAQQQQAABBBDohgAFajfwOBQBBBBAAAEEEEAAAQQQQKBwAhSohbPkTAgggAACCCCAAAIIIIAAAt0QoEDtBh6HIoAAAggggAACCCCAAAIIFE6AArVwlpwJAQQQQAABBBBAAAEEEECgGwIUqN3A41AEEEAAAQQQQAABBBBAAIHCCVCgFs6SMyGAAAIIIIAAAggggAACCHRDgAK1G3gcigACCCCAAAIIIIAAAgggUDgBCtTCWXImBBBAAAEEEEAAAQQQQACBbghQoHYDj0MRQAABBBBAAAEEEEAAAQQKJ0CBWjhLzoQAAggggAACCCCAAAIIINANAQrUbuBxKAIIIIAAAggggAACCCCAQOEEKFALZ8mZEEAAAQQQQAABBBBAAAEEuiFAgdoNPA5FAAEEEEAAAQQQQAABBBAonAAFauEsORMCCCCAAAIIIIAAAggggEA3BChQu4HHoQgggAACCCCAAAIIIIAAAoUToEAtnCVnQgABBBBAAAEEEEAAAQQQ6IYABWo38DgUAQQQQAABBBBAAAEEEECgcAIUqIWz5EwIIIAAAggggAACCCCAAALdEKBA7QYehyKAAAIIIIAAAggggAACCBROgAK1cJacCQEEEEAAAQQQQAABBBBAoBsCFKjdwONQBBBAAAEEEEAAAQQQQACBwglQoBbOkjMhgAACCCCAAAIIIIAAAgh0Q4ACtRt4HIoAAggggAACCCCAAAIIIFA4AQrUwllyJgQQQAABBBBAAAEEEEAAgW4I1HTjWA5FoFwEUrXjGteqTkXDU6nU8FSUGh5F6elTJtaeXC43yH0ggAACCCCAAAIIINAXBChQ+8JToo+FFEiNGt+wTlWqxkWoomI0FW2monSpxEUWLGpu/lFimVkEEEAAAQQQQAABBBAoggAFahGQuUTvCow6qmHFVE3NLzwymlIxqt4MautRKnvH0ukrp5096s3sG1mLAAIIIIAAAggggAACPSXAZ1B7SpbzlozA1D/UvatSdFUVp9uqU3FxmqN76XRzS8ui/8uxldUIIIAAAggggAACCCDQgwIUqD2Iy6lLR2DOhx8fqFd6X2yvR+lUdEPD2XWvtrcf2xFAAAEEEEAAAQQQQKDwAhSohTfljCUocN/lP5jdnF60azpKf5are2ltbEkvOj3XdtYjgAACCCCAAAIIIIBAzwpQoPasL2cvIYGpE+ue0+dQL8jZpVT6r94n53Y2IIAAAggggAACCCCAQI8K8CVJPcrLyUtH4MSq0eNrj1d/xufqUyrdclqubaxHAAEEEEAAAQQQQACBnhegQO15Y67QywJbjbtzyKDqxa7Tn5TZQV1p0Yu8J0RR1Y768zLfCl3T6713TZk48rGwzBQBBBBAAAEEEEAAAQSKL8ArvsU354pFFBhTP234wKrFHndxmk6n/9fS3LL93RNHnLqoZdHuKkpnha60tKQZPQ0YTBFAAAEEEEAAAQQQ6CUBCtRegueyPS8wZkLjQRopvS+VSg1VMfrQ/PT8YQ1nj2jwlf13TlvS6T0j/VkZfbvvvVPPrr2353vEFRBAAAEEEEAAAQQQQCCfAK/45tNhW58UqN2/cbF+y6bO16jpAXqNVzVodOFbM9896tnJuy9I3tDUSbWNoydMP16jqk8m1zOPAAIIIIAAAggggAACvSNAgdo77ly1hwTqxjWsmapO3aJv691Ul5jTnG45ZOrEEfr8afY25aztztSWdPatrEUAAQQQQAABBBBAAIFiClCgFlOba/WowKjxjTvpdd5rVJwurYrzJb28O3bq2SOebueiFKftALEZAQQQQAABBBBAAIFiCfAZ1GJJc50eFNCfkJnQdHJVquo2FagqTtN/+WT+Z5s3nL1de8VpD/aJUyOAAAIIIIAAAggggEBnBRhB7awY+5eUQG1943L9U6kb9HnTOr2p26wvPvp1w8QRZ5RUJ+kMAggggAACCCCAAAIIdEiAArVDTOxUigJjJkz7ZpSumqy+rao/IfNuOpXes+GsEU2l2Ff6hAACCCCAAAIIIIAAAu0L8Ipv+0bsUYICo+sbD4ui6nv0Lb2r6kOk90XzFwyjOC3BB0WXEEAAAQQQQAABBBDohAAjqJ3AYtfeFxh+yO1LDBk86CJ9EdK+rb1Jp//4wewX6x+7+NCFvd87eoAAAggggAACCCCAAALdEaBA7Y4exxZVYPTPp68T9Uv7T8hspFd6P9XnTQ+eOmnETUXtBBdDAAEEEEAAAQQQQACBHhOgQO0xWk5cSIFR9Y07p6LoqiiVGhyl0y+km1O7Tj2n9vlCXoNzIYAAAggggAACCCCAQO8KUKD2rj9Xb09gt5urx6y24qn6rOkvvav+hMzkhXPTBzadX/tpe4eyHQEEEEAAAQQQQAABBPqWAAVq33peFdXbMRPuWiGdHnCTitNaFaaLonTql1Mm1k6sKARuFgEEEEAAAQQQQACBChKgQK2gh92XbnXk+KnfSkc1k1OpaGUNm76tAnX3hom1/+pL90BfEUAAAQQQQAABBBBAoHMC/JmZznmxdxEE6uqbjqxO1TTpM6crp9PRPQvmtgxrmDiC4rQI9lwCAQQQQAABBBBAAIHeFGAEtTf1ufaXBGoPbxzYf/GqS/VK7x7eoFHTSQsfS/+iqWnEoi/tyAICCCCAAAIIIIAAAgiUpQAFalk+1r53U7X1jev1i6puUXH6dfV+dktL8wENk0be0vfuhB4jgAACCCCAAAIIIIBAVwUoULsqx3EFExg9vmk3nexyfd50oP6EzLPN6UW7Tp1U95+CXYATIYAAAggggAACCCCAQJ8QoEDtE4+pPDtZW9tY0294dEYqlapvu8P09VFq/iFTJ27/WXneMXeFAAIIIIAAAggggAAC+QQoUPPpsK3HBLY5+s6V+lWnblZxurW+CGlhKpWecPdZtef22AU5MQIIIIAAAggggAACCJS8AAVqyT+i8uvgmPqp20ap6puiKPUVfRXSGy3N0e5Tz6l9oPzulDtCAAEEEEAAAQQQQACBzgjwZ2Y6o8W+3RbQ503Hp1PVU12cauR02tz5c4ZRnHablRMggAACCCCAAAIIIFAWAoyglsVjLP2b+PaBfxu05JClr1BPx6owTafTLf835fX3jo8m795c+r2nhwgggAACCCCAAAIIIFAMAQrUYihX+DVGjJu2Qb9q/QmZKFpXtenHUTr1oymTRtxW4SzcPgIIIIAAAggggAACCGQIUKBmgLBYWIHR9U176W+bXqJXepfUmZ9qnt+867Q/jnqlsFfhbAgggAACCCCAAAIIIFAOAhSo5fAUS/Aehh9yUb8hA9c9S9/S+/O27qWvnt0867AH/rj73BLsLl1CAAEEEEAAAQQQQACBEhCgQC2Bh1BuXRg5buoqNdXVkzVqupU+bTq/JR2Na5hUe0G53Sf3gwACCCCAAAIIIIAAAoUVoEAtrGfFn23MhKkjo6jmRkEsn46imS1R9MOpk2of6WMw/dTfHZVtlZWUD5XnlWuUT5RsbRmt3Eb5lrKi8rhyv/KYktkGa8U+ykbKTMWfx31OydYu1codlAOUKdl2YB0CCCCAAAIIIIAAAuUiQIFaLk+y9+8jNXrC9GM1YnqaPnNareL07pa5C/eeel7d+73ftU71wEXjX5U1sxz1G61zsfhExrb1tKw/nROtnFi/fzz/a01PS6xfSvP+m6/rJ9adoHmf997EOs+6KD1IeUm5T6EhgAACCCCAAAIIIFDWAhSoZf14i3NzdYdMWSo1qN/VqSj6fjpK6U/IRKc2TGz8bRSdqAHUPtfGqscuTp9UPGL6lrKd8hNlBcUjmsOV0DzCOl3xtpeVqxR/CdSPFBedpyo+xxWK22GKi1O9Ah3trxyl/E5xIbu9EtoamvmDskjZV5mj0BBAAAEEEEAAAQQQKGsBCtSyfrw9f3OjjmrYuKqm5pYolVpbV/swSkf7Nkza7h89f+Ueu0KTzvyickPiCp5vVg5XhimDlNmKmwtRF6d+DXi0MkNxu0lpUrZRDlZCgbqV5t3OU1x0ugh1Ebu5Elq1Zq5WfJ0TlYcVGgIIIIAAAggggAACZS9QVfZ3yA32mEDd+Ok/qqrp92BcnOozl/OGT+nbxamtmpRkcep1bg+2TVp/Lp2Yd4HqdqkywzNx8+jxufG8P5e6Wjzvz6e6/a9t0lqkztP8wHjZk2OVrZWHFBevNAQQQAABBBBAAAEEKkKgpiLukpssqMAGu93cf5WhK5yjk/609cTp9OUL3k8f0XTl9i60yrW5yHT7THmzdS6K/HnSr8fzjfE0OUl+bnQ9bZiphMLUheqzymLKAGWW4uYR2pMUX8ev9nrkloYAAggggAACCCCAQEUIUKBWxGMu3E3WHTVltVRNvz/rT8hskY7S81JR+md3TxxxWeGuUHJncvH4M+WQuGd+Jdejo25+tTc0f5FRZntbK+YqiyvLxhuf0HQnxef0N/0eqviVXhez3u9apZ/i7S8rNAQQQAABBBBAAAEEKkaAArViHnX3b3T0uKljourq61NRall9EdJr6XRq7JRJtS64yq3V6Yb+pLg4/aoS/ndymuZ/o4QWXtf18idhZcbUn1VNFqjna/kAZZc4mrSOqp6o6RnK+srtysWKm6+9qHWOHwgggAACCCCAAAIIlLkAn0Et8wdcoNtLjalv/HWquuafrcVplP7H3Dmzh+vLkMqxODWZP2O6rrK6EopTzba+cvsdz8RtYJjRNNeruGG01aOkbu8ofo33SMWfUT1a2Uzxn6jxOr/qe7Di13ufV+YrM5QTlZRCQwABBBBAAAEEEECgbAWS//FdtjfJjXVdYOuf3rHM4ksOvFa1kQuzFv0Nmd9OmVh7iubTXT9ryR/5Z/XQo6f+38cqykjlBGWo8jdlW8Wv5H6ohLaUZt4PC4lp+EegjxLr3tO8R2hDG6IZf8uvC9CDlQ2Ua5SPlasV2/9W+Z+SPE6LNAQQQAABBBBAAAEEykcg/Mdz+dwRd1IwgZFHTx22+BKDHtOo6Xf0edP3082LdlRxerIuUM7FafBboBn/GRh/tvQiZZTiL4Hy/2bGK24uGEPzqGtm82dJw2dPPTKaq12gDS6EL1H8eu+hitsRil8H3tsLavu1TfiJAAIIIIAAAggggEB5ClCgludz7fZd1U1oOqC6pvq+VCpaQ6Omj6QXLhw25exRd3f7xH33BP7bqOGV5jXi20gWqH5NN7P586Th1d43MjfGy36Vd3flZWVcvG6deHp/PP1XPF0tnjJBAAEEEEAAAQQQQKAsBfwKIw2BzwVq929crN+Qqj/pXdODWlem0xe/NXPWkc9O3t0jipXc/I85X4kBZsZTv4L7iLKF8l0l89uMd9M6t/8oT7fOffmHC06/suvPr3p01H9axs0jr8m2MF4In2dNbmMeAQQQQAABBBBAAIGyEaBALZtH2f0bGTPhLo0MVvnzl8P0Lb1zlcMaJtVe3f0z96kz3KPeTlP8Wu/bcc/9edTTlTBy2hSv9+QGxQXqzso+ynWK27ZKfetc2+dI49nPJy54r1L82dWTlQeV0DzaulGc1zTdMN7wejxlggACCCCAAAIIIIBAWQpQoJblY+38TY0eP91fxHOtskyUTr/csmjR2Kl/qHuq82fq80espTvYRjlBeUnxlxv5lVt/kZHbA0ryi4qu1PKPlE0V+52qzFb8RUcuQu9VzlUymz/HWqt4BPYUJdlu1cKOio9zobqH4nZN24SfCCCAAAIIIIAAAgiUp4D/A5pW0QInVo2ubzpJ3x97hxiWUf7WMnvh5hVanPo3wcWmR1D92u26yjcVF6cfKCcqo5Xk3yX1N/mOUP6qfKKsrrio9JciXansoLhgTba1teBC1l/C5M+gJs+nxdaRVY/gflXxfuspLla9joYAAggggAACCCCAQNkK1JTtnXFj7QqMOqJh2arF+12fiqIxGjV1QXbC3WfVnqFpJXxLby6fqdrgLKGspgxU/qu8p+RqHmXdRRFla1Hrb/udoeRqLmT9hUj/Vvz51Mzmz5wephytuA8zlEr/DLAIaAgggAACCCCAAALlLkCBWu5POMf9japv2qIqlfqzKqrV9FnTWalU8153nzXKI4e0NgGPbr7QSQwX9h05xqOr/tMy7TUXutkK2PaOYzsCCCCAAAIIIIAAAn1SgFd8++Rj616nx9RPP6Q6lfqXi1MNlj7Q3LJoGMVp90w5GgEEEEAAAQQQQAABBLovwAhq9w37zBm2Gnfz4oOqV7hQHf6RO62R0/M+mP3iuMcuPjT8GZM+cy90FAEEEEAAAQQQQAABBMpPgAK1/J5p1jsaeeTUtWqqa/ztsBuno/Rn+pTpT6ZMrL0h686sRAABBBBAAAEEEEAAAQR6QYACtRfQi31J/QmZ70dV6at1Xf3NzfSLi5pbxjaePfLZYveD6yGAAAIIIIAAAggggAAC+QQoUPPp9PVtu91cPXq1FU7WbfwqFaX8DbO3fPbBxwfcd/kPMv/sSV+/U/qPAAIIIIAAAggggAACZSBAgVoGDzHbLWxz5D+WX6z/kjeqLB2pV3oXtbSkf9UwacRZ2fZlHQIIIIAAAggggAACCCBQCgIUqKXwFArch1FHN21VVR1NVnG6il7pfSeVbt5jyqRR9xT4MpwOAQQQQAABBBBAAAEEECioAH9mpqCcvX+y0eMbj6iqTk1PpVIuTu+du2jesLsnUpz2/pOhBwgggAACCCCAAAIIINCeACOo7Qn1ke1jJty1ZDo94BIVpnvFXT5nwaPpY+5t2mFRH7kFuokAAggggAACCCCAAAIVLkCBWga/AKPGN3wtStfcquJ0A93O7HRL+qApk2onl8GtcQsIIIAAAggggAACCCBQQQIUqH38YdeNnza2qqr6Ct3GoHQ6em5h1DK2adKIF/r4bfV69zcbOzHd651IdOCJW+r9Lcw0BBBAAAEEEEAAAQTKWoACtY8+3traxpqa4anfVaVSx7TeQjq6aeHcloObzh/xaR+9JbqNAAIIIIAAAggggAACFS5AgdoHfwFqD2/8Sr/Fq27St/Ruq1HThbqFY6ZM3O4PffBWSr7Ly6+xea/28b3XHu3V63NxBBBAAAEEEEAAAQSKKUCBWkztAlyrrr5x66qo6uYoFa2kd1Dfak4v2m3apFH3F+DUnAIBBBBAAAEEEEAAAQQQ6FUB/sxMr/J37uJ14xuP1hchNbYWp+l0UyqatxnFaecM2RsBBBBAAAEEEEAAAQRKV4AR1NJ9Np/3TK/0Duy3ROryVJTazStb0unfN8yc9ato8u7Nn+/EDAIIIIAAAggggAACCCDQxwUoUEv8AY6qb/h6dZS6JYpS60Xp6JPmqOXHUyeO+GuJd5vuIYAAAggggAACCCCAAAKdFqBA7TRZ8Q4YNb5xj6oodWmUSg1Mp9NPRwtTY6eeO+Kl4vWAKyGAAAIIIIAAAggggAACxROgQC2edYevNPyQi/otO3i9M3XA0T4oHaWv/WD27EMfu/h7czp8EnZEAAEEEEAAAQQQQAABBPqYAAVqiT2w0T+7e+VosQE3q1vfVhakW1rGT5k04rwS6ybdQQABBBBAAAEEEEAAAQQKLkCBWnDSrp+wbkJjbZRO3ZiKohU1bPp6lGrebcqkkQ91/YwciQACCCCAAAIIIIAAAgj0HQH+zEyJPKsxE5qOqUqnGvRnZFbUS70NC6KWYXefRXFaIo+HbiCAAAIIIIAAAggggEARBBhBLQJyvkt888h/DB48YIkr9S29u6RbP26a/t2UiU0nRNGJLfmOYxsCCCCAAAIIIIAAAgggUG4CFKi9+ETrxk3fKFUd3aJXetfRt/R+pL9vut/USSPu6MUucWkEEEAAAQQQQAABBBBAoNcEeMW3l+hHj2/ct6o6erC1OI3S/063LBpOcdpLD4PLIoAAAggggAACCCCAQEkIMIJa5MewwW439195tRUnpVLREb60Rk6vWPh++vCmK+vmFbkrXA4BBBBAAAEEEEAAAQQQKCkBCtQiPo5tx9+16oDUYpNVnH5Tlel8fe7051Mm1l5cxC5wKQQQQAABBBBAAAEEEECgZAUoUIv0aOrGNdbpG3pvUHG6nIrTGVHU8sO7J458rEiX5zIIIIAAAggggAACCCCAQMkL8BnUnn9EqdH1TcdVVVfdpQJ1Ob3Ue+fslnnDKU57Hp4rIIAAAggggAACCCCAQN8SYAS1B59X7dGNS/evTl0TpVI76TL6szEtJ9191vST+RMyPYjOqRFAAAEEEEAAAQQQQKDPClCg9tCjG31046ZRddUtUSpaM0pHHzS3tOwz9ewRd/bQ5TgtAggggAACCCCAAAIIINDnBXjFtwceof6EzP4qTu/X503XTEfpRxdFi4ZRnPYANKdEAAEEEEAAAQQQQACBshJgBLWAj3PtI/8xYM3+S5yrV3oPaTtt+pLX5s858uU/fkff2EtDAAEEEEAAAQQQQAABBBDIJ0CBmk+nE9tG1k8dWhPV+JXe4el0NDdKtxw+ZdKIKztxCnZFAAEEEEAAAQQQQAABBCpagAK1AI9/1LjGHaqjqutUnA5Rcfpq1Nwydso5I/5dgFNzCgQQQAABBBBAAAEEEECgYgT4DGq3HvWJVXXjp/+2urrq723Fafr2hc0twylOu4XKwQgggAACCCCAAAIIIFChAoygdvHBbzXuziGDqhe7TofvoLS0tES/bphU+zvNp7t4Sg5DAAEEEEAAAQQQQAABBCpagAK1C49/TP204elIf0ImSg1Np9P/S7ek92o4e0RDF07FIQgggAACCCCAAAIIIIAAArEAr/h28lehbnzTT6Ko6r5UysVp9NDCBenNKE47icjuCCCAAAIIIIAAAggggEAWAUZQs6BkW7XVuJsXH1i1wvkqTPf39pZ0+vy3Z84a9+zk3Rdk2591CCCAAAIIIIAAAggggAACnROgQO2AV924hjVT1TW3pKLUptp9TnO65ZCpE0f486c0BBBAAAEEEEAAAQQQQACBAglQoLYDOWp8404aNb1GxenS+vajl1JRy64qTp9p5zA2I4AAAggggAACCCCAAAIIdFKAAjUn2IlVYyZsd3I6XXVcStVpOkr/5ZP5c/Z/6I/f+STnIZWxYZBu8whliHKJ8pKSrfnzzTsrmylrKJ8pzyseeX5PSbbBWthH2UiZqdymPKdka5dqpb85+QBlSrYdWIcAAggggAACCCCAAAJ9U4ACNctzq61vXK5/KnWDvqW3LhWlm/VlSMdNmVh7ZpZdK23VTrrh85VV4xt/VNNsBeoqWn+XskG8X3Jyshb2Vu6IVy6l6QPK+vGyJycoLkLv9UKiuSg9SPE170usZxYBBBBAAAEEEEAAAQTKQMCjXLSEwJgJ077ZP6p63MWp/oTMuy2pdB3FabS8iG5UbldCcZpQ+/9mL9MaF6cfKGcpLjZ/rLyqeAT2KmVxxe0wxcXpZGVJ5ThlCeXXSrJ5FPYPyiJlX2WOQkMAAQQQQAABBBBAAIEyEqBATTzMMfVNh0dR9T1RKlpVnze9L5q/YFjDWSOaErtU6qxHNPdQ3lT2VPIVhy486xQ3F6fHKB5NvVrZXXHz68Ebts5F0Vbx9DxNfV4XoS3K5kpo1Zrx8S5uT1UeVmgIIIAAAggggAACCCBQZgK84qsHOvyQ25cYMnjQRRo19chclE63/OGD2f855rGLD11YZs+7q7fznA48TTld8WdJPUKaq62gDS4o3f7VNvn85/zP5/THZOP5FePp/+Kpi9R5ysB42ZNjla2VhxQXqDQEEEAAAQQQQAABBBAoQ4GKL1BH/3z6OlG/tP+EzEZ6pfdT/X3Tg6dOGnFTGT7r7tzShZ04+HXt+5GytPIL5UElFPo/17zbe8rTrXNRFApTF6rPKospA5RZitsw5STFhbH/AaFZoSGAAAIIIIAAAggggEAZCoRRrDK8tfZvafS4pl1S/aJH9WdkNtKw6Qvp5tQ3KE7bd2tnD7+e++t4n+9q2qRso/gzpj9RvP1nikdK3Z5om7Suc1F7lOIRWH8Jkl8Xvlbpp4xXXlZoCCCAAAIIIIAAAgggUKYClTmCutvN1aNXW+F3Kkz96mikPyEzeeHc9IFN59d+WqbPudi35c+T+nfrDOVbyj2K2yfKPkr4Bl+vO1/xt/PuEkeT1lHVEzX18esr/nKmixU3n3dR6xw/EEAAAQQQQAABBBBAoKwEKq5AHXVUw4pVNTU3qjitVWG6SH/g9Fh9S+/ZZfVUS+Nmnlc3/C2+Kye642/nrVMaFH/O1O0dxa/x7qGso/ibfm9RXJgeqfhV34OVfZXjla8pfo34SsWv/ur7rGgIIIAAAggggAACCCBQDgIV9Yrv6KOnfbuqX7/HXZyqrHlbnzkdcTfFaU/8HtfrpHcqLk5vUFyU3qb4H0T8Cu80xZ81Dc2fSf2T4m3+Fl+//nuFklJcnG6gXKOspFyt+NXf3ypHKDQEEEAAAQQQQAABBBAoE4GKKVBH108/KqqublTFs7KG3KYvmNsyrGHiiH+VyXMspdvYUp35veLi0p8b3VuZqvxAOUxx85+WOaZ1LvuPC7R6FeUSxa/3Hqq4uSA9QPE53fZrm/ATAQQQQAABBBBAAAEEykHAI1pl3WoPbxzYf/GqS1Uu+RVSt7MWPtryq6amEXyOsc2j0D931wldnD6pZL46rT/lE31X+Z5Sq5yiZDa/yutzvKyMizf61V+3+9smn//5mtXiZSYIIIAAAggggAACCCBQBgJlXaDW1jeu1y+qukXl0tf1rGa3pKP9GyZud2sZPLdSvoUV487575h6hN7f2pts/hyqW+Z6r3PB6Vd9/adkPDrqPy3j5m/xTbaF8UK2cyT3Yx4BBBBAAAEEEEAAAQT6kEDZvuI7enzTbv2i1CMpF6fp9LPNLQs3pzgtym/mv+OrrKXpgUr4RxCPqo5QRipuj7VNPv/p38WrlKWU05QHldDeiGc2iqcbxtPXww5MEUAAAQQQQAABBBBAoO8LlF2BWlvbWFNX3zQpVZW6WV+GpFG89PVRav43p06q+0/ff1y9dgc/1ZXfTGTJuCcXJ9YdEK+7WtNQOPozpO8r/gzq28o0xYWqt09Uks2fV61VHlFOUZItjHqfq5XHK9fGG69J7sQ8AggggAACCCCAAAII9G2BMLrVt+8i7v02R9+5Ur/q1sJ063Q6WphOtYxvOGuEXxmldU9gaR2+cpZTeLTTcQuv7r6r+ZHKSYo/Szo4XtYkWqBMVrztPSW0tTVzquJv7/VnUDM/H3yV1m2uHKx4P7/i62LVn2mlIYAAAggggAACCCCAQJkI1JTJfURj6qduG6Wqb9IA3Vc0avqG/oTMbvqW3uRrouVyq71xH6frok5Hm7/gaB9lf2UVZTnlHeUtJdvnRj/Ren8hkl8PzjbS7YLU3wB8tOLPqc5QXOzSEEAAAQQQQAABBBBAoIwEyqJArRvfOCGdSp2eilI1GjmdNm/BnD3v/eN3kiN0ZfTI+tStuLCcESdfx2dpo/+0THttnnbIVsC2dxzbEUAAAQQQQAABBBBAoA8I9PkCtW789B9VVUW/V2GqQdP06VNen3VCNHl3fwssrRsCm42dqD8XWzrtiVvq/dlVGgIIIIAAAggggAACCJSxQJ8vUBtef/e6MUNX3DVKR5dPmVR7Wxk/K24NAQQQQAABBBBAAAEEEChrgT5foHq09O4o2rmsn1Iv3tzya/i7iXqvvffao713ca6MAAIIIIAAAggggAACRRUouz8zU1Q9LoYAAggggAACCCCAAAIIIFAwAQrUglFyIgQQQAABBBBAAAEEEEAAge4IUKB2R49jEUAAAQQQQAABBBBAAAEECiZAgVowSk6EAAIIIIAAAggggAACCCDQHQEK1O7ocSwCCCCAAAIIIIAAAggggEDBBChQC0bJiRBAAAEEEEAAAQQQQAABBLojQIHaHT2ORQABBBBAAAEEEEAAAQQQKJhA3/87qAWj+PxEa2juB8o6yiDlNeV+5S4ls22tFTsoAxX/wc4blGYlsw3XihuVVxTvT0MAAQQQQAABBBBAAAEEEMgQoED9Mki9Fk9TBnx5devS3fq5k7Iw3naYpucrqXjZk92V7yeWPbu4cq2ytnKmQkMAAQQQQAABBBBAAAEEEMgiwCu+X6B8S7MuIF2cTlV+ooxWLlDcxijjW+faik4XsouULZVVlf8q31O2UpLt91pYT7lNuSS5gXkEEEAAAQQQQAABBBBAAIEvBChQv7Dw6Kg9PlI8Cnqp0qAcrtyhuG3bNonW1XSIcp/ykPKG4td73TZvm7T+9Ou8RyizlINb1/ADAQQQQAABBBBAAAEEEEAgqwAF6hcsK8Wzj2s654vVrXPpeDl4rRgv/y+x3wfx/MB4uqyml8fzB2n6XjzPBAEEEEAAAQQQQAABBBBAIItAKLiybKq4VU/Fd7ydptsk7t5fmrR9vOxXf91CYRoKVa9byj/U3m+bRBdp6qL3YiWMwMabmCCAAAIIIIAAAggggAACCGQKUKB+IeLPh85QqhV/IdIxyljlUaW/8rBynuL2H+UzxZ9b9Tf5DlX2Utz8jb8/UnzsS0r43KpmaQgggAACCCCAAAIIIIAAArkEKFC/kPlUsx499WdKF1P8hUl/VvxZ0xsVf0nSXMVttnK64mL2XmWGsqZyoeLz/FHxFyjtp7iQ9Tf9Yi0EGgIIIIAAAggggAACCCCQS6Am14YKXf+x7tsjpt/MuP9NtOzck1jvb/H1qKqLWheqHjn9u9KoDFZOUl5RblFGKR6F9bkPVZ5XaAgggAACCCCAAAIIIIAAAgkBCtQvML6qWb/au77ytvJLZaByouJ1/kbfvRWPqoY2RTNOaL/QjL/p14XrqYqPcQHrwtajr9sr/hzrUGWhQkMAAQQQQAABBBBAAAEEEIgFeO30i1+FizXrQvRFZbhytXK+srHyhNJP8T4eHc3WNtXKkxW/0ruvsrbi4vQ/ygjFf3LmX4q/OKlOoSGAAAIIIIAAAggggAACCCQEKFDbMPwNvDvGLh459QhqaO9o5uB4YRlN/apvZvNnVq9V/BpvveIvR1pHcXtQaWmdaytQPbtavMwEAQQQQAABBBBAAAEEEEAgFqBAbYNYIfEbkW2E1KOnoYViMyx7erqygeLPoF6kuCWPaVsTRel4Jts5wj5MEUAAAQQQQAABBBBAAIGKFKBAbXvs/jIjfzOv2zjlK61zbT+W1uS4eLlZ0yfj+TDxFyAdpbynHBRWavpGPL9RYt168fzriXXMIoAAAggggAACCCCAAAIISKAGhVYBj2ieoZym+LOkfsX3GcWfJ91cqVbcjlf8Z2RC8yu/Vyr+MzI/Ud5VQntcM/9VNlMuV1wA76y8qUxTaAgggAACCCCAAAIIIIAAAgkBCtQvMH6n2feVY5S1lA2V0PzFSS5grwwr4ulZmvrbfy9V/havC5NFmtlLuVE5IF75sqZ7KwviZSYIIIAAAggggAACCCCAAAKxAAXql38V/PlRxyOjqyl+pdejoOH1X81+qflPzvjvn97wpbVfLDygWf9JmVUUj9J6ZJaGAAIIIIAAAggggAACCCCQRYACNQuKVn0YJ/vWL9b+84vZvHN+rZeGAAIIIIAAAggggAACCCCQR4AvScqDwyYEEEAAAQQQQAABBBBAAIHiCVCgFs+aKyGAAAIIIIAAAggggAACCOQRoEDNg8MmBBBAAAEEEEAAAQQQQACB4glQoBbPmishgAACCCCAAAIIIIAAAgjkEaBAzYPDJgQQQAABBBBAAAEEEEAAgeIJUKAWz5orIYAAAggggAACCCCAAAII5BGgQM2DwyYEEEAAAQQQQAABBBBAAIHiCVCgFs+aKyGAAAIIIIAAAggggAACCOQRoEDNg8MmBBBAAAEEEEAAAQQQQACB4glQoBbPmishgAACCCCAAAIIIIAAAgjkEaBAzYPDJgQQQAABBBBAAAEEEEAAgeIJUKAWz5orIYAAAggggAACCCCAAAII5BGgQM2DwyYEEEAAAQQQQPbFHZcAAB4JSURBVAABBBBAAIHiCVCgFs+aKyGAAAIIIIAAAggggAACCOQRoEDNg8MmBBBAAAEEEEAAAQQQQACB4glQoBbPmishgAACCCCAAAIIIIAAAgjkEaBAzYPDJgQQQAABBBBAAAEEEEAAgeIJUKAWz5orIYAAAggggAACCCCAAAII5BGoybOtIjZtNnZiupRu9Ilb6lOl1B/6ggACCCCAAAIIIIAAAggUS4AR1GJJcx0EEEAAAQQQQAABBBBAAIG8AhU/ghp0ll9j8zDbK9P3Xnu0V67LRRFAAAEEEEAAAQQQQACBUhFgBLVUngT9QAABBBBAAAEEEEAAAQQqXIACtcJ/Abh9BBBAAAEEEEAAAQQQQKBUBChQS+VJ0A8EEEAAAQQQQAABBBBAoMIFKFAr/BeA20cAAQQQQAABBBBAAAEESkWAArVUngT9QAABBBBAAAEEEEAAAQQqXIACtcJ/Abh9BBBAAAEEEEAAAQQQQKBUBChQS+VJ0A8EEEAAAQQQQAABBBBAoMIFKFAr/BeA20cAAQQQQAABBBBAAAEESkWAArVUngT9QAABBBBAAAEEEEAAAQQqXIACtcJ/Abh9BBBAAAEEEEAAAQQQQKBUBChQS+VJ0A8EEEAAAQQQQAABBBBAoMIFKFAr/BeA20cAAQQQQAABBBBAAAEESkWAArVUngT9QAABBBBAAAEEEEAAAQQqXIACtcJ/Abh9BBBAAAEEEEAAAQQQQKBUBChQS+VJ0A8EEEAAAQQQQAABBBBAoMIFKFAr/BeA20cAAQQQQAABBBBAAAEESkWAArVUngT9QAABBBBAAAEEEEAAAQQqXIACtcJ/Abh9BBBAAAEEEEAAAQQQQKBUBChQS+VJ0A8EEEAAAQQQQAABBBBAoMIFKFAr/BeA20cAAQQQQAABBBBAAAEESkWAArVUngT9QAABBBBAAAEEEEAAAQQqXIACtcJ/Abh9BBBAAAEEEEAAAQQQQKBUBChQS+VJ0A8EEEAAAQQQQAABBBBAoMIFKFAr/BeA20cAAQQQQAABBBBAAAEESkWAArVUngT9QAABBBBAAAEEEEAAAQQqXIACtcJ/Abh9BBBAAAEEEEAAAQQQQKBUBChQS+VJ0A8EEEAAAQQQQAABBBBAoMIFKFAr/BeA20cAAQQQQAABBBBAAAEESkWAArVUngT9QAABBBBAAAEEEEAAAQQqXIACtcJ/Abh9BBBAAAEEEEAAAQQQQKBUBChQS+VJ0A8EEEAAAQQQQAABBBBAoMIFKFAr/BeA20cAAQQQQAABBBBAAAEESkWAArVUngT9QAABBBBAAAEEEEAAAQQqXIACtcJ/Abh9BBBAAAEEEEAAAQQQQKBUBChQS+VJ0A8EEEAAAQQQQAABBBBAoMIFKFAr/BeA20cAAQQQQAABBBBAAAEESkWAArVUngT9QAABBBBAAAEEEEAAAQQqXIACtcJ/Abh9BBBAAAEEEEAAAQQQQKBUBChQS+VJ0A8EEEAAAQQQQAABBBBAoMIFKFAr/BeA20cAAQQQQAABBBBAAAEESkWAArVUngT9QAABBBBAAAEEEEAAAQQqXIACtcJ/Abh9BBBAAAEEEEAAAQQQQKBUBChQS+VJ0A8EEEAAAQQQQAABBBBAoMIFKFAr/BeA20cAAQQQQAABBBBAAAEESkWAArVUngT9QAABBBBAAAEEEEAAAQQqXIACtcJ/Abh9BBBAAAEEEEAAAQQQQKBUBChQS+VJ0A8EEEAAAQQQQAABBBBAoMIFKFAr/BeA20cAAQQQQAABBBBAAAEESkWAArVUngT9QACB3hKYoAtfqGzYwQ6sr/0uUI7t4P6F3q23r1/o++F8CCCAAAIIIIDA5wI1n89V+Mx7rz1a4QLZb7/SXSr9/jN+K4ZqeWclpbyg3Km01wZph72UJZX/KdcopdYOVofWVe5TnulA5zbRPocprypndmD/Qu/S29cv9P1wPgQQQAABBBBA4HOBXixQ02+lopT/Q5eGAAJ9Q+A4dfOQRFddrP4tsZxt1iON+yQ23KP5/yaWizE7RBfZSnlLeaIYF+QaCCCAAAIIIIAAAl0T6NUCcXR900ld6zZHIYBAsQXeeuaf3583e9am4br9Fl/q1VU33fnasBymqajltrsnjnxMyysrLkaT/xC2jpZfVorZDtLFLlWeVjbOcmGPBnsE9UdKR0Z499R+NygeQV1LKXbr7esX+365HgIIIIAAAghUkEDyPxyLftvpdKql6Bflgggg0CWBdBSl1aKqmgEftiyav8yCOR+tMffjd5debPBXPkiesLlFO7W1QzXx/8e4AFyvbRU/EUAAAQQQQAABBBDILdCrBWrDpO0YQc39bNiCQKkJrK4Obab8VdlOWfPVB66cp2m2/x330/qfKG4XKue0zmX/4c+njlb82crVlVcUj3beoTQryba6FvyZ1seVu5SRSp2ytOJ1NyufKG6Dlf2UbbygtoLys9a5KJqlqffNbN5nF2ULZabSoNyv5GvLaaNHaRcqf1IWKMm2hBYOV1y4n6t4v3xtRW38vrKR0l/x52I9Yvu+kq3ZwH5LKZkGyf3tu6OypjJAeU3xs/y3kmyrayEY36f5o5R1FY98n6aEZ+J+7q74Hx+qFY8oz1Hc/I+PVymfeSFu7t93Ff8O+dk8pUxV/A8YmW1brRilDFU+VJqU2xX+UVMINAQQQAABBBBAAAEEEIiiK4TgIsuvyx4fz7+rqYuozObCxft6+6rxvJfXVpLNxcqLirdl5kGtczGVbHtqwfv9Xbkynk8e95zWraS4ba0ktyXn327do+2HCyRvu0x5J54P+7ogGqckW+jDK/FK31PYf7fkjvH8j+PtczVdPMv25KqdteAvkwrnC9OPtG7zeMdw/be0fEWWfZMG8SHRbVn287mblfqwUzwN5/c/APhV7dAHT5eN93Gh+3HGtuR+nh8e7+vJt5QZSuY+87XuCCXZXMRn7ufl8cmdmEcAAQQQQAABBBBAAIHKFrhCt+9CwQXqKsqieNnFaGabrhXe93TFI22ed5IF6hAte3TM699QJih7KGcpHoX0+oeVZAvFUzjfE9ro41zUuJj0+rMVt0GKt92qeP0s5dg4e2sa2guaCeebo/lLFI+0Ph+vn6ep7yG00IdQoHq9++lzeEQys/1TK7zt5swNGcuratnX974e1TxU8cisC0Wv8724het7nZPPwPsvFu/3qqbHKdsrP1DuUXz8XCXb/YXzu0j1c7xT8Wi3XW3p7bbdRvm58pridS8rhylLKG5+zh8o3ubfi52UWuUKxev83IYpbt9QvM6/Wy5cN1HGKg1K5j8UaBUNAQQQQAABBBBAAAEEKlUgFBSXxgC3a+piwsVDsm2oBa/36NwaiosfLzvJAvX38br3NV1ZSbbdtRCOcTEVWrI4+4tW9gsbNL1Q8THJwtGbXeR5/VNeyNJe0Dpv/1SpVUL7qmb8Oq637RdWahr6kLzO4fF+HhF0QRaaRxzDOb4XVuaY2tXXmqG4CEy2H2rBrm7h+t63owbf1r5JK5/H/Zyn+DyjldCS53cROyBsiKfbaepjXKS6+A3tAM14vQveqrBS0/Ccn9N8Zh+e1Dofc73idqji5ce8QEMAAQQQQACByhNI/kdE5d09d4wAAt0RuCw+eKSmycLTI19uHvl7rXUu+4/vxqs9YunXVZNtshZCAbhVckM8/7amLmJd/IV2RzyzUljRyekvtX9T4hiP6rqAcmvvnDdqH4/69ldcTIbm0b8axUX4nWFljumW8Xp7zM7Y589afiZjXWcM7tOxSSufyqOaMz2jlvkPBF7nz4/uo8z3QqKtGs+7j/MS6x+I5120JgtXf5bU7SIlsw+3t26Jog3i6evx1COn/oeFVLzMBAEEEEAAAQQqRIACtUIeNLeJQA8IuCB8R3ER8ZP4/IM13TeevzCeZpv4/3vWjDc8kmUHj6I9Ea8P+yV38yhdZrHjET03f86zunWucz/8mcrMFs6ZOaKZuZ+LvdvilS7qQtsjnrlJ08z+hn08teFa8YrMQjRe/f9NOmuwhc5wmuLRymmKi9bVFLdsheC7Wh8Kxtad4h8vx1M/l60SG1yMu81Q5ngmbuEfL07W8oyMHBbvs0o8bdD0ccXPzyPKLyhHK+35axcaAggggAACCJSDQFU53AT3gAACvSKwSFe9Kr7yAZp69PDHykDFo4/+IqNczYXsgHhjtsLQmzwi6ebzdqS5P4VunTlnsNhGnXDht6JSq7hd0zbJ+XNpbQmjjp/k3Kv9Dbn6+3869GHlOGUvZTPFBWZHbbXr5+0hzb0aL92r6RTlTuXUeN258dQTP+NQXHpE1veWzFtaflrxCLGbn3mtco7i/b+mnK08r7jPNAQQQAABBBAocwEK1DJ/wNweAj0scHl8/uU13UU5PF6+RNPmeD7b5COtdAHitlLb5P/76XO6zWyblPxPF2kedfRo5N7Kbor/P/Zl5UElX/tQGz0i6pbLo21r53+O1CHHxoedoKmL4WUUX6ejo7Xa9fNWq7k1FT9DjwrXKdsrLjx/qbi4DG2+ZsIo9K80v3GOhJFUH+dXh8cpK8fTjzX1COtlCg0BBBBAAAEEylzA//FEQwABBLoq8B8deE988Pmarqd4FO/SeF2+SRiF2znLTito3bbx+ueybO/MqpZ4Z5+zJ5vv+7r4Ai5Q94jnw7p4MedkRrxlxyx7+P+r+2VZ35FVHtF1e1LxKKcLvtD8Km1n23fiAy7UdDnFnxddS1lG8UitX89OtlfihZHJlR2Yd8HrYtej824ubmta5/iBAAIIIIAAAmUrQIFato+WG0OgaAKhGB0SX/E2Tf3qZnvt6niHH2h6YGJnvxLq12X9eqhH365VutPCCJ5fuXWR4xZeL25bKtzP8JrvRjrl1vFpO9r/8JqrC9tdEl0apvlHlfGJdZ2ZnRfvvK6my8bz/v/+icrX4+XOTD6Nd/65pr7f/RUXkfXKrspSSrJdHy+4aP9hcoPmXXD6y7LClyTtr3mPPKeU0FwEu32g+B8BaAgggAACCCCAAAIIIIDA53+3MhSkgWRxzfh1T4+cOaOVZHNhGLatndjgz1y+mNj2uuYfUPyKp/f366MuapJtTy14WxiVS25zIReukxwZ9KusLtLCOZ/RfBi91WzrF/F4235eyGi3adnbTkmsz9cH7/a4Evrh++loW1o7+hXhcOzLmrePR4C97hjFLd/1sxl4hNOWPseHyt+U1+LlcK39tRxavvN7H4+UuugPx2ZO/buQHAV2EfpkYn/736pMUdwfH3+c4uYi3cszlMmK92lWvM4FNQ0BBBBAAAEEEEAAAQQQaBW4SD9dKPhV3sz2B63wtheU5OiX9/OonYsMF1pDlWTzaOllSihKfQ4XU/5m3y2VzDZWK7zP85kbtOxRy3B85tshh2jb3Hi790kWjk/H612YZbZQMP0msSFfH7zbzxRfwzlc6UxbRTvfrdggnONjzf9e8T8EuOW7fi6DvXTcO0o452zNn62cG6/bV9PQ8p3f+9QrPs97yq6Ki1FPT1ReUbwtjFprtrUtqZ/+HflECX3w1M/kH0oYya3TvJ9tcp/PtHym0tVXnHUoDQEEEEAAAQQQQAABBMpNwEWfR/kyi79wn97m0bJsbQmtdHI1F7WrKxsr/ZV8bbA25tpnoLaFQi7zHB6x3UD5mpK8B59rKSVb8/34vjKL7nx92E/7u8BaoCyrdKW5r5so6yvZTPNdP5eBR5XXUlzEhhFmT7Pde77zv6tjfH/ZCnoXq6G49Mh1tuYifAtlbSVX0bmytm2urKPketbaREMAAQQQQAABBBBAAAEEEMgncK82ukj7W76d+ug2F+rzFd/fKVnu4Rfxtg81zSzqs+zOKgQQQAABBBBAAAEEEEAAgZ4S8IhnGEH8YU9dpJfP61dyfY/+wqJ/KX7l+2wlFObeFj4vq1kaAggggAACCCCAAAIIIIBAbwicpIu6QPMI4oDe6EARrjlE17hGmaeEYjxM/6t1Ryo0BBBAAAEEEECgSwK8gtUlNg5CAAEEsgr4s5PrKv4G3tez7lE+K/1ZV9/rMoq//GiGMkuhIYAAAggggAACCCCAAAIIIIAAAggggAACCCCAAAIIIIAAAggggAACCCCAAAIIIIAAAggggAACCCCAAAIIIIAAAggggAACCCCAAAIIIIAAAggggAACCCCAAAIIIIAAAggggAACCCCAAAIIIIAAAggggAACCCCAAAIIIIAAAggggAACCCCAAAIIIIAAAggggAACCCCAAAIIIIAAAggggEAFC6yve79AObaCDbh1BBBAAAEEEEAAgQoQSFXAPRbqFlfViXZRNlAWV/6jTFUeUDrTltHO2yjfUlZUHlfuVx5TeqJ1pd+bqSPu3+bKu8rDSqPyodLRVqUdD1QG5ThgltZfl2NbIa6f49Ttri7Ffu+pXt+gvKqs1e4dsAMCCCCAAAIIIIAAAgiUtcCZuruFSjpL/tSJO19P+76Z5Rw+7/GdOE9Hd+1Kvyfm6N/LWj+0oxfWfl/PcZ5g+HGOcxXq+jlO3+7qUuy3C1S7vdJu79kBAQQQQAABBBBAAIE+LFDTh/terK7b6BilRfm74hHTpZVDlMHKEUqT8mclX1tJG6crKygu9q5SXHD8SNlBOVV5S7lCKUTrSr9P1oXHxxe/VtMpysrKLxSP3DUq6yjNSnvN13f7VPG5MtvMzBVaLuT1s5y+Q6v6ar87dHPshAACCCCAAAIIIIAAAn1LwK/gnqhsmej2eZrfJLHs2eGKCzWPbF2jtNdc5HnfD5TVldD8Suk9irfdF1YWaNqZfg/QNf0Kr/sxKeP6dfF6bxudsS3X4sbxMX4VuiOt0NfvyDWz7VOK/WYENduTYh0CCCCAAAIIIIAAAmUs4FHRkxS/eupCzCOk7bXntIP3dYHZXntWO3hfv3ab2X6oFd7mrJa5sQeWs/V7t/j6izQdnOWaz8TbL8uyLduqzhZ6hb5+tj51ZF0x+r2fOnKM4s8y+3PI/vKjKxT//vkfAzJbrgL1QO34S2WVzAO0vLNynLJhxjY/W4/6+9X0yxVfe1WFhgACCCCAAAIIIIAAAiUgsJT68BsljB66SHxCWVdpr72iHbz/39rZ0dfwfs6OWfb1679h+5gs2wu9Klu/z4778FCOi10Ub78/x/bM1Z0t9Ap9/cz+dHS5GP1+QZ3x8z5a+TCeD8/f0/MVj6yHlqtAfVs7eP9dwo6J6fR4m0fuQ/NnoP2lV8lred7/KENDAAEEEEAAAQQQQKDXBcLn7Xq9I73QAY8k/VzxZy6Xia//iKanKHco/g/3fM0F7JrxDg/k21HbVkhsfykxH2ZdaMxVPKK2bFjZQ9Nc/Q59zNY/d8VFrVtn++cRQv8DQLXiL4jyef6lzFeSraeun7xGZ+aL0W8X5fOU3yv+XPLeynbKTxW/7n2dUsg2SSezs/1/pSxUvqvsq6SU9n7ntQsNAQQQQAABBBBAAAEECikwUCfzq4/vK/4PcsfFgL+oqDPtWu3sY11otfda7tbxvt4/FGKa/VILI1s/+9Lawi/k6neDLuX+nZ/jki6avP1/ObZnrt4o3t/HZGaG1vkV1GQr9PWT5+7MfDH6HUZQP1HHvpno3ADNP6nY697E+kKNoPofQnzu7yXOzSwCCCCAAAIIIIAAAiUjUFMyPSleR/6uS20bX65JU4+YTouXOzrZXjvuE+98mqYz2znQRXFozWEmY9oSL3uksadavn6HPhaqf/5ypOOVBYoLMX/G16/P+rOmQ5WblC2VJxS3Ql+/7ayd/1nMfvsfSh5KdNH/2HGF4pHVLRLrCzX7uk70FeWXit3fUGgIIIAAAggggAACCJSMQCUWqEsk9D1K9e/Eckdm/Tm+G+MdH9b09A4c9GFin6U079HbzBY+c/hR5oYCLbfX79BH9y9by+xfo3baLmNHF9mrKy58XGz9TslsZ2mFP8e6uDJBCYV+Z6+vQ3ukFbPf2T77+VR8VwM0XV55r4B36S/ouln5luJXrW9R/qAki2Qt0hBAAAEEEEAAAQQQ6B2BUHT0ztV756oH6rK3xZc+QdP/Kv4Pd3/msL3mffz5VI8G+j/wd1L8Ob722v8SO/jYzNZPK8JnO2dlbizAckf6HfqYrX/ugkfe3EL/3tX8mxlxYdqex7+1T/DfUPOhdfb64bhiTYvV70U9eEN/1rn9JVyPKv2VvZQHlfMUGgIIIIAAAggggAACvS5QiQXq01L/gbK58ndloHKM8ppyrvJVJVvzFyndrayleFRrh3iqSbstFF/ecbMse6+vdeHV3kK/dtnRfoeRuk2z9M+r/NlMt9C/PTW/akZW17IL1/ba7Cw7dPb6WU7R46uK0e/wGWUX+tlG2pM3GV4LXzK5sp15f9Z3C8Wffb0r3vdwTb8fzzNBAAEEEEAAAQQQQACBXhT4hq79DyUdx694XqyEEU3NthaxD2jqffwqaq4iTptytoe1xcffmmWPU+JtL2bZ1p1VLr472u/vxH1wH/1Z0WRbWgsuzrxt7+SGLszX6JjnFJ/rmsTxxbp+4pKdmi1kv1/QlX3/Vyr+9txku0oL3vZSYqX/McDrPGqfbE9owet/k1yp+TWUdxRv+4WSq/kfqMI5Tsy1E+sRQAABBBBAAAEEEECg+AJb6pIeUfJ/1Dv7K24uTKYqXucizft1pY3TQT6HR732SZxgW83PUbzt+MT67s52tt9+zdgjve7Ho8ogxW1x5WbF6z+JlzVpt03SHi46w8iwD1hKuUTxuZydldAKff1w3s5Oi9HvUKDawB7B2l4LFa//tRJargJ1snbwvjOVleOdN9HUr617vRMKVP+DyxnKKkpoS2jmJcX7HR5WMkUAAQQQQAABBBBAAIHSEfi2uuJC9Ydxl+o0Df+x72lzjuyv9fmaX7UNo1U+z2vKU4rP5+V7lFCoaLbbrSv9PlBXDf1x0fyI4ldv3b8Fym5KR5uLWR/3ofKw4qI3jMJ6/SVKZivk9TPP3dHlYvQ7WaDaYq4SCkUv+7O9/n0JLVeBOlI7eH/H/fYIvOf9jyB+PdjzoUDdMF5eqOk05UZlZrzOz2g1hYYAAggggAACCCCAAAIlLrCl+heKtlAMZJu6uGqv+VXZvygfK+Ecb2v+CsWjWYVsXe23X+F9XnGR4z66MHWBuZPSmXa0dn5ZCffpqc/p4mwvJfPVVq1qbYW6fjhfZ6fF6LcN7PFLJTlq7+JxqrKykmxjteD9/Vwym3/vkr9Pr2n5+8pZio8Zr7h5hPpyxcWw14f4HyG+pdAQQAABBBBAAAEEEECgQgVcnK2nrF7C97+U+raZ4ld8u9NW0MGbKv5ca2eK8EJdv6t978l+hwJ1v7hzq2o6rB2fwdrub97N1vz7tI6yRmKjX632P4h4W7L5z9dsoPh6yyU3MI8AAggggAACCCCAAAIIIFB5ApkFauUJcMcIIIAAAggggAACCGQRqMqyjlUIIIAAAggggAACCCCAAAIIFF2AArXo5FwQAQQQQAABBBBAAAEEEEAAAQQQKA0BfwZ0hFLIb20ujTujFwgggAACCCCAAAIIIIAAAggggAACCCCAAAIIIIAAAggggAACCCCAAAIIIIAAAggggAACCCCAAAIIIIAAAggggAACCCCAAAIIIIAAAggggAACCCCAAAIIIIAAAggggAACCCCAAAIIIIAAAggggAACCCCAAAIIIIAAAggggAACCCCAAAIIIIAAAggggAACCCCAAAIIIIAAAggggAACCCCAAAIIIIAAAggggAACCCCAAAIIIIAAAggggAACCCCAAAIIIIAAAggggAACCCCAAAIIIIAAAggggAACCCCAAAIIIIAAAggggAACCCCAAAIIIIAAAggggAACCCCAAAIIIIAAAggggAACCCCAAAIIIIAAAggggAACCCCAAAIIIIAAAggggAACCCCAAAIIIIAAAggggAACCCCAAAIIIIAAAggggAACCCCAAAIIIIAAAggggAACCCCAAAIIIIAAAggggAACCCCAAAIIIIAAAggggAACCCCAAAIIIIAAAggggAACCCCAAAIIIIAAAggggAACCCCAAAIIIIAAAggggAACCCCAAAIIIIAAAggggAACCCCAAAIIIIAAAggggAACCCCAAAIIIIAAAggggAACCCCAAAIIIIAAAggggAACCCCAAAIIIIAAAggggAACCCCAAAIIIIAAAggggAACCCCAAAIIIIAAAggggAACCCCAAAIIIIAAAggggAACCCCAAAIIINA5gf8H/CqSfcPTbX8AAAAASUVORK5CYII=)"
      ],
      "metadata": {
        "id": "qoWM75f7uU1N"
      }
    },
    {
      "cell_type": "markdown",
      "source": [
        "* Draw it here churns rate for monthly charges for less than 20 dollars we have an eight percent churn rate low value\n",
        "* For between 20 and 50 dollars we have 18 percent\n",
        "* Last we have a 30 percent this churn rate for more than 50 plus\n",
        "* For tenure, this is a negative correlation and for the monthly charge is a positive correlation\n",
        "* When correlation is a positive increase in charge leads to an increase in churn rate and one correlation is increasing tenure leads to a decrease in churn rate, the strength of the correlation is what our correlation coefficient tells us how often an increase in tenure leads to decrease in churn rate and increase in monthly charge leads to an increase in churn rate"
      ],
      "metadata": {
        "id": "G-SFHlw_GscS"
      }
    },
    {
      "cell_type": "code",
      "source": [
        "df_full_train[numerical].corrwith(df_full_train.churn).abs()"
      ],
      "metadata": {
        "id": "8iqEaJl77hTK",
        "colab": {
          "base_uri": "https://localhost:8080/"
        },
        "outputId": "931fef9c-c95d-42ac-ed3e-3baf8dfc9c73"
      },
      "execution_count": 87,
      "outputs": [
        {
          "output_type": "execute_result",
          "data": {
            "text/plain": [
              "tenure            0.351885\n",
              "monthlycharges    0.196805\n",
              "totalcharges      0.196353\n",
              "dtype: float64"
            ]
          },
          "metadata": {},
          "execution_count": 87
        }
      ]
    },
    {
      "cell_type": "markdown",
      "source": [
        "* Tenure ordered already, the most important one, the most important numerical variable then monthly charges is the next important and the total charge is the least important one, how we understand the numerical variables affect our target variable churn"
      ],
      "metadata": {
        "id": "JX-GYnq9JNJf"
      }
    },
    {
      "cell_type": "markdown",
      "source": [
        "## **3.8 One-hot encoding** (video 3.8)\n",
        "\n",
        "**One-Hot Encoding** allows encoding categorical variables in numerical ones. This method represents each category of a variable as one column, and a 1 is assigned if the value belongs to the category or 0 otherwise.\n",
        "\n",
        "## Classes, functions, and methods:\n",
        "\n",
        "* df[x].to_dict(oriented='records') - convert x series to dictionaries, oriented by rows.\n",
        "* DictVectorizer().fit_transform(x) - Scikit-Learn class for converting x dictionaries into a sparse matrix, and in this way doing the one-hot encoding. It does not affect the numerical variables.\n",
        "* DictVectorizer().get_feature_names() - returns the names of the columns in the sparse matrix.\n",
        "\n",
        "* Use Scikit-Learn to encode categorical features"
      ],
      "metadata": {
        "id": "7PcbQylW8EYh"
      }
    },
    {
      "cell_type": "code",
      "source": [
        "from sklearn.feature_extraction import DictVectorizer"
      ],
      "metadata": {
        "id": "XOB7km0P8BX8"
      },
      "execution_count": 88,
      "outputs": []
    },
    {
      "cell_type": "code",
      "source": [
        "df_train[['gender','contract']]"
      ],
      "metadata": {
        "colab": {
          "base_uri": "https://localhost:8080/",
          "height": 424
        },
        "id": "KkvKCn-CLIq6",
        "outputId": "65a95d24-16b0-4558-e540-3df3e4e6ef6e"
      },
      "execution_count": 89,
      "outputs": [
        {
          "output_type": "execute_result",
          "data": {
            "text/plain": [
              "      gender        contract\n",
              "0     female        two_year\n",
              "1       male  month-to-month\n",
              "2     female  month-to-month\n",
              "3     female  month-to-month\n",
              "4     female        two_year\n",
              "...      ...             ...\n",
              "4220    male        one_year\n",
              "4221    male  month-to-month\n",
              "4222    male  month-to-month\n",
              "4223  female        two_year\n",
              "4224  female  month-to-month\n",
              "\n",
              "[4225 rows x 2 columns]"
            ],
            "text/html": [
              "\n",
              "  <div id=\"df-a217519b-70c6-419e-a3b6-c725a6cdd10e\">\n",
              "    <div class=\"colab-df-container\">\n",
              "      <div>\n",
              "<style scoped>\n",
              "    .dataframe tbody tr th:only-of-type {\n",
              "        vertical-align: middle;\n",
              "    }\n",
              "\n",
              "    .dataframe tbody tr th {\n",
              "        vertical-align: top;\n",
              "    }\n",
              "\n",
              "    .dataframe thead th {\n",
              "        text-align: right;\n",
              "    }\n",
              "</style>\n",
              "<table border=\"1\" class=\"dataframe\">\n",
              "  <thead>\n",
              "    <tr style=\"text-align: right;\">\n",
              "      <th></th>\n",
              "      <th>gender</th>\n",
              "      <th>contract</th>\n",
              "    </tr>\n",
              "  </thead>\n",
              "  <tbody>\n",
              "    <tr>\n",
              "      <th>0</th>\n",
              "      <td>female</td>\n",
              "      <td>two_year</td>\n",
              "    </tr>\n",
              "    <tr>\n",
              "      <th>1</th>\n",
              "      <td>male</td>\n",
              "      <td>month-to-month</td>\n",
              "    </tr>\n",
              "    <tr>\n",
              "      <th>2</th>\n",
              "      <td>female</td>\n",
              "      <td>month-to-month</td>\n",
              "    </tr>\n",
              "    <tr>\n",
              "      <th>3</th>\n",
              "      <td>female</td>\n",
              "      <td>month-to-month</td>\n",
              "    </tr>\n",
              "    <tr>\n",
              "      <th>4</th>\n",
              "      <td>female</td>\n",
              "      <td>two_year</td>\n",
              "    </tr>\n",
              "    <tr>\n",
              "      <th>...</th>\n",
              "      <td>...</td>\n",
              "      <td>...</td>\n",
              "    </tr>\n",
              "    <tr>\n",
              "      <th>4220</th>\n",
              "      <td>male</td>\n",
              "      <td>one_year</td>\n",
              "    </tr>\n",
              "    <tr>\n",
              "      <th>4221</th>\n",
              "      <td>male</td>\n",
              "      <td>month-to-month</td>\n",
              "    </tr>\n",
              "    <tr>\n",
              "      <th>4222</th>\n",
              "      <td>male</td>\n",
              "      <td>month-to-month</td>\n",
              "    </tr>\n",
              "    <tr>\n",
              "      <th>4223</th>\n",
              "      <td>female</td>\n",
              "      <td>two_year</td>\n",
              "    </tr>\n",
              "    <tr>\n",
              "      <th>4224</th>\n",
              "      <td>female</td>\n",
              "      <td>month-to-month</td>\n",
              "    </tr>\n",
              "  </tbody>\n",
              "</table>\n",
              "<p>4225 rows × 2 columns</p>\n",
              "</div>\n",
              "      <button class=\"colab-df-convert\" onclick=\"convertToInteractive('df-a217519b-70c6-419e-a3b6-c725a6cdd10e')\"\n",
              "              title=\"Convert this dataframe to an interactive table.\"\n",
              "              style=\"display:none;\">\n",
              "        \n",
              "  <svg xmlns=\"http://www.w3.org/2000/svg\" height=\"24px\"viewBox=\"0 0 24 24\"\n",
              "       width=\"24px\">\n",
              "    <path d=\"M0 0h24v24H0V0z\" fill=\"none\"/>\n",
              "    <path d=\"M18.56 5.44l.94 2.06.94-2.06 2.06-.94-2.06-.94-.94-2.06-.94 2.06-2.06.94zm-11 1L8.5 8.5l.94-2.06 2.06-.94-2.06-.94L8.5 2.5l-.94 2.06-2.06.94zm10 10l.94 2.06.94-2.06 2.06-.94-2.06-.94-.94-2.06-.94 2.06-2.06.94z\"/><path d=\"M17.41 7.96l-1.37-1.37c-.4-.4-.92-.59-1.43-.59-.52 0-1.04.2-1.43.59L10.3 9.45l-7.72 7.72c-.78.78-.78 2.05 0 2.83L4 21.41c.39.39.9.59 1.41.59.51 0 1.02-.2 1.41-.59l7.78-7.78 2.81-2.81c.8-.78.8-2.07 0-2.86zM5.41 20L4 18.59l7.72-7.72 1.47 1.35L5.41 20z\"/>\n",
              "  </svg>\n",
              "      </button>\n",
              "      \n",
              "  <style>\n",
              "    .colab-df-container {\n",
              "      display:flex;\n",
              "      flex-wrap:wrap;\n",
              "      gap: 12px;\n",
              "    }\n",
              "\n",
              "    .colab-df-convert {\n",
              "      background-color: #E8F0FE;\n",
              "      border: none;\n",
              "      border-radius: 50%;\n",
              "      cursor: pointer;\n",
              "      display: none;\n",
              "      fill: #1967D2;\n",
              "      height: 32px;\n",
              "      padding: 0 0 0 0;\n",
              "      width: 32px;\n",
              "    }\n",
              "\n",
              "    .colab-df-convert:hover {\n",
              "      background-color: #E2EBFA;\n",
              "      box-shadow: 0px 1px 2px rgba(60, 64, 67, 0.3), 0px 1px 3px 1px rgba(60, 64, 67, 0.15);\n",
              "      fill: #174EA6;\n",
              "    }\n",
              "\n",
              "    [theme=dark] .colab-df-convert {\n",
              "      background-color: #3B4455;\n",
              "      fill: #D2E3FC;\n",
              "    }\n",
              "\n",
              "    [theme=dark] .colab-df-convert:hover {\n",
              "      background-color: #434B5C;\n",
              "      box-shadow: 0px 1px 3px 1px rgba(0, 0, 0, 0.15);\n",
              "      filter: drop-shadow(0px 1px 2px rgba(0, 0, 0, 0.3));\n",
              "      fill: #FFFFFF;\n",
              "    }\n",
              "  </style>\n",
              "\n",
              "      <script>\n",
              "        const buttonEl =\n",
              "          document.querySelector('#df-a217519b-70c6-419e-a3b6-c725a6cdd10e button.colab-df-convert');\n",
              "        buttonEl.style.display =\n",
              "          google.colab.kernel.accessAllowed ? 'block' : 'none';\n",
              "\n",
              "        async function convertToInteractive(key) {\n",
              "          const element = document.querySelector('#df-a217519b-70c6-419e-a3b6-c725a6cdd10e');\n",
              "          const dataTable =\n",
              "            await google.colab.kernel.invokeFunction('convertToInteractive',\n",
              "                                                     [key], {});\n",
              "          if (!dataTable) return;\n",
              "\n",
              "          const docLinkHtml = 'Like what you see? Visit the ' +\n",
              "            '<a target=\"_blank\" href=https://colab.research.google.com/notebooks/data_table.ipynb>data table notebook</a>'\n",
              "            + ' to learn more about interactive tables.';\n",
              "          element.innerHTML = '';\n",
              "          dataTable['output_type'] = 'display_data';\n",
              "          await google.colab.output.renderOutput(dataTable, element);\n",
              "          const docLink = document.createElement('div');\n",
              "          docLink.innerHTML = docLinkHtml;\n",
              "          element.appendChild(docLink);\n",
              "        }\n",
              "      </script>\n",
              "    </div>\n",
              "  </div>\n",
              "  "
            ]
          },
          "metadata": {},
          "execution_count": 89
        }
      ]
    },
    {
      "cell_type": "code",
      "source": [
        "df_train[['gender','contract']].iloc[:10]"
      ],
      "metadata": {
        "colab": {
          "base_uri": "https://localhost:8080/",
          "height": 363
        },
        "id": "CpsV2ecELfbE",
        "outputId": "3a8bb82c-c687-44e5-a048-a07fe7f442f4"
      },
      "execution_count": 90,
      "outputs": [
        {
          "output_type": "execute_result",
          "data": {
            "text/plain": [
              "   gender        contract\n",
              "0  female        two_year\n",
              "1    male  month-to-month\n",
              "2  female  month-to-month\n",
              "3  female  month-to-month\n",
              "4  female        two_year\n",
              "5    male  month-to-month\n",
              "6    male  month-to-month\n",
              "7  female  month-to-month\n",
              "8  female        two_year\n",
              "9  female  month-to-month"
            ],
            "text/html": [
              "\n",
              "  <div id=\"df-187435f3-1c1d-401a-8f92-ecbed7a2e529\">\n",
              "    <div class=\"colab-df-container\">\n",
              "      <div>\n",
              "<style scoped>\n",
              "    .dataframe tbody tr th:only-of-type {\n",
              "        vertical-align: middle;\n",
              "    }\n",
              "\n",
              "    .dataframe tbody tr th {\n",
              "        vertical-align: top;\n",
              "    }\n",
              "\n",
              "    .dataframe thead th {\n",
              "        text-align: right;\n",
              "    }\n",
              "</style>\n",
              "<table border=\"1\" class=\"dataframe\">\n",
              "  <thead>\n",
              "    <tr style=\"text-align: right;\">\n",
              "      <th></th>\n",
              "      <th>gender</th>\n",
              "      <th>contract</th>\n",
              "    </tr>\n",
              "  </thead>\n",
              "  <tbody>\n",
              "    <tr>\n",
              "      <th>0</th>\n",
              "      <td>female</td>\n",
              "      <td>two_year</td>\n",
              "    </tr>\n",
              "    <tr>\n",
              "      <th>1</th>\n",
              "      <td>male</td>\n",
              "      <td>month-to-month</td>\n",
              "    </tr>\n",
              "    <tr>\n",
              "      <th>2</th>\n",
              "      <td>female</td>\n",
              "      <td>month-to-month</td>\n",
              "    </tr>\n",
              "    <tr>\n",
              "      <th>3</th>\n",
              "      <td>female</td>\n",
              "      <td>month-to-month</td>\n",
              "    </tr>\n",
              "    <tr>\n",
              "      <th>4</th>\n",
              "      <td>female</td>\n",
              "      <td>two_year</td>\n",
              "    </tr>\n",
              "    <tr>\n",
              "      <th>5</th>\n",
              "      <td>male</td>\n",
              "      <td>month-to-month</td>\n",
              "    </tr>\n",
              "    <tr>\n",
              "      <th>6</th>\n",
              "      <td>male</td>\n",
              "      <td>month-to-month</td>\n",
              "    </tr>\n",
              "    <tr>\n",
              "      <th>7</th>\n",
              "      <td>female</td>\n",
              "      <td>month-to-month</td>\n",
              "    </tr>\n",
              "    <tr>\n",
              "      <th>8</th>\n",
              "      <td>female</td>\n",
              "      <td>two_year</td>\n",
              "    </tr>\n",
              "    <tr>\n",
              "      <th>9</th>\n",
              "      <td>female</td>\n",
              "      <td>month-to-month</td>\n",
              "    </tr>\n",
              "  </tbody>\n",
              "</table>\n",
              "</div>\n",
              "      <button class=\"colab-df-convert\" onclick=\"convertToInteractive('df-187435f3-1c1d-401a-8f92-ecbed7a2e529')\"\n",
              "              title=\"Convert this dataframe to an interactive table.\"\n",
              "              style=\"display:none;\">\n",
              "        \n",
              "  <svg xmlns=\"http://www.w3.org/2000/svg\" height=\"24px\"viewBox=\"0 0 24 24\"\n",
              "       width=\"24px\">\n",
              "    <path d=\"M0 0h24v24H0V0z\" fill=\"none\"/>\n",
              "    <path d=\"M18.56 5.44l.94 2.06.94-2.06 2.06-.94-2.06-.94-.94-2.06-.94 2.06-2.06.94zm-11 1L8.5 8.5l.94-2.06 2.06-.94-2.06-.94L8.5 2.5l-.94 2.06-2.06.94zm10 10l.94 2.06.94-2.06 2.06-.94-2.06-.94-.94-2.06-.94 2.06-2.06.94z\"/><path d=\"M17.41 7.96l-1.37-1.37c-.4-.4-.92-.59-1.43-.59-.52 0-1.04.2-1.43.59L10.3 9.45l-7.72 7.72c-.78.78-.78 2.05 0 2.83L4 21.41c.39.39.9.59 1.41.59.51 0 1.02-.2 1.41-.59l7.78-7.78 2.81-2.81c.8-.78.8-2.07 0-2.86zM5.41 20L4 18.59l7.72-7.72 1.47 1.35L5.41 20z\"/>\n",
              "  </svg>\n",
              "      </button>\n",
              "      \n",
              "  <style>\n",
              "    .colab-df-container {\n",
              "      display:flex;\n",
              "      flex-wrap:wrap;\n",
              "      gap: 12px;\n",
              "    }\n",
              "\n",
              "    .colab-df-convert {\n",
              "      background-color: #E8F0FE;\n",
              "      border: none;\n",
              "      border-radius: 50%;\n",
              "      cursor: pointer;\n",
              "      display: none;\n",
              "      fill: #1967D2;\n",
              "      height: 32px;\n",
              "      padding: 0 0 0 0;\n",
              "      width: 32px;\n",
              "    }\n",
              "\n",
              "    .colab-df-convert:hover {\n",
              "      background-color: #E2EBFA;\n",
              "      box-shadow: 0px 1px 2px rgba(60, 64, 67, 0.3), 0px 1px 3px 1px rgba(60, 64, 67, 0.15);\n",
              "      fill: #174EA6;\n",
              "    }\n",
              "\n",
              "    [theme=dark] .colab-df-convert {\n",
              "      background-color: #3B4455;\n",
              "      fill: #D2E3FC;\n",
              "    }\n",
              "\n",
              "    [theme=dark] .colab-df-convert:hover {\n",
              "      background-color: #434B5C;\n",
              "      box-shadow: 0px 1px 3px 1px rgba(0, 0, 0, 0.15);\n",
              "      filter: drop-shadow(0px 1px 2px rgba(0, 0, 0, 0.3));\n",
              "      fill: #FFFFFF;\n",
              "    }\n",
              "  </style>\n",
              "\n",
              "      <script>\n",
              "        const buttonEl =\n",
              "          document.querySelector('#df-187435f3-1c1d-401a-8f92-ecbed7a2e529 button.colab-df-convert');\n",
              "        buttonEl.style.display =\n",
              "          google.colab.kernel.accessAllowed ? 'block' : 'none';\n",
              "\n",
              "        async function convertToInteractive(key) {\n",
              "          const element = document.querySelector('#df-187435f3-1c1d-401a-8f92-ecbed7a2e529');\n",
              "          const dataTable =\n",
              "            await google.colab.kernel.invokeFunction('convertToInteractive',\n",
              "                                                     [key], {});\n",
              "          if (!dataTable) return;\n",
              "\n",
              "          const docLinkHtml = 'Like what you see? Visit the ' +\n",
              "            '<a target=\"_blank\" href=https://colab.research.google.com/notebooks/data_table.ipynb>data table notebook</a>'\n",
              "            + ' to learn more about interactive tables.';\n",
              "          element.innerHTML = '';\n",
              "          dataTable['output_type'] = 'display_data';\n",
              "          await google.colab.output.renderOutput(dataTable, element);\n",
              "          const docLink = document.createElement('div');\n",
              "          docLink.innerHTML = docLinkHtml;\n",
              "          element.appendChild(docLink);\n",
              "        }\n",
              "      </script>\n",
              "    </div>\n",
              "  </div>\n",
              "  "
            ]
          },
          "metadata": {},
          "execution_count": 90
        }
      ]
    },
    {
      "cell_type": "markdown",
      "source": [
        "* So we have this small dataframe"
      ],
      "metadata": {
        "id": "FSo6J8PiLrIV"
      }
    },
    {
      "cell_type": "code",
      "source": [
        "df_train[['gender','contract']].iloc[:10].to_dict()"
      ],
      "metadata": {
        "colab": {
          "base_uri": "https://localhost:8080/"
        },
        "id": "3xhL3BSCLpcd",
        "outputId": "583f49d5-ff3d-4717-ca7b-1591896fea57"
      },
      "execution_count": 91,
      "outputs": [
        {
          "output_type": "execute_result",
          "data": {
            "text/plain": [
              "{'gender': {0: 'female',\n",
              "  1: 'male',\n",
              "  2: 'female',\n",
              "  3: 'female',\n",
              "  4: 'female',\n",
              "  5: 'male',\n",
              "  6: 'male',\n",
              "  7: 'female',\n",
              "  8: 'female',\n",
              "  9: 'female'},\n",
              " 'contract': {0: 'two_year',\n",
              "  1: 'month-to-month',\n",
              "  2: 'month-to-month',\n",
              "  3: 'month-to-month',\n",
              "  4: 'two_year',\n",
              "  5: 'month-to-month',\n",
              "  6: 'month-to-month',\n",
              "  7: 'month-to-month',\n",
              "  8: 'two_year',\n",
              "  9: 'month-to-month'}}"
            ]
          },
          "metadata": {},
          "execution_count": 91
        }
      ]
    },
    {
      "cell_type": "code",
      "source": [
        "df_train[['gender','contract']].iloc[:10].to_dict(orient='records')"
      ],
      "metadata": {
        "colab": {
          "base_uri": "https://localhost:8080/"
        },
        "id": "ySd-0xoDMAwY",
        "outputId": "4d8e855d-5986-4513-bd51-20d3aed457a3"
      },
      "execution_count": 92,
      "outputs": [
        {
          "output_type": "execute_result",
          "data": {
            "text/plain": [
              "[{'gender': 'female', 'contract': 'two_year'},\n",
              " {'gender': 'male', 'contract': 'month-to-month'},\n",
              " {'gender': 'female', 'contract': 'month-to-month'},\n",
              " {'gender': 'female', 'contract': 'month-to-month'},\n",
              " {'gender': 'female', 'contract': 'two_year'},\n",
              " {'gender': 'male', 'contract': 'month-to-month'},\n",
              " {'gender': 'male', 'contract': 'month-to-month'},\n",
              " {'gender': 'female', 'contract': 'month-to-month'},\n",
              " {'gender': 'female', 'contract': 'two_year'},\n",
              " {'gender': 'female', 'contract': 'month-to-month'}]"
            ]
          },
          "metadata": {},
          "execution_count": 92
        }
      ]
    },
    {
      "cell_type": "markdown",
      "source": [
        "* If we want to have row-wise\n",
        "* If we want to turn it into dictionaries"
      ],
      "metadata": {
        "id": "Sd9nkI3rMUuy"
      }
    },
    {
      "cell_type": "code",
      "source": [
        "dicts = df_train[['gender','contract']].iloc[:10].to_dict(orient='records')"
      ],
      "metadata": {
        "id": "XMyEQyZ1Myrs"
      },
      "execution_count": 93,
      "outputs": []
    },
    {
      "cell_type": "code",
      "source": [
        "dv = DictVectorizer(sparse=False)"
      ],
      "metadata": {
        "id": "zSX0dCVkNPHl"
      },
      "execution_count": 94,
      "outputs": []
    },
    {
      "cell_type": "code",
      "source": [
        "dv.fit(dicts)"
      ],
      "metadata": {
        "colab": {
          "base_uri": "https://localhost:8080/"
        },
        "id": "Zdcl_tZ_NWsc",
        "outputId": "1b577d1e-d097-444b-a08f-d25cc7c7b923"
      },
      "execution_count": 95,
      "outputs": [
        {
          "output_type": "execute_result",
          "data": {
            "text/plain": [
              "DictVectorizer(sparse=False)"
            ]
          },
          "metadata": {},
          "execution_count": 95
        }
      ]
    },
    {
      "cell_type": "markdown",
      "source": [
        "* DictVectorizer so we first create a new instance of this class, we need here is the method fit so first we train our dictvectorizer and we fit it"
      ],
      "metadata": {
        "id": "UEAaYDerNmRB"
      }
    },
    {
      "cell_type": "code",
      "source": [
        "#dv.transform(dicts)"
      ],
      "metadata": {
        "colab": {
          "base_uri": "https://localhost:8080/"
        },
        "id": "YhwnNhSQNfee",
        "outputId": "2594ba44-250e-44fa-cc5a-eb28ed12c1cb"
      },
      "execution_count": null,
      "outputs": [
        {
          "output_type": "execute_result",
          "data": {
            "text/plain": [
              "<10x4 sparse matrix of type '<class 'numpy.float64'>'\n",
              "\twith 20 stored elements in Compressed Sparse Row format>"
            ]
          },
          "metadata": {},
          "execution_count": 96
        }
      ]
    },
    {
      "cell_type": "markdown",
      "source": [
        "* list transform so here it produces a sparse matrix is a special way of encoding data when there are many zeros\n",
        "* Sparse matrix is used for compressed space raw format"
      ],
      "metadata": {
        "id": "wHaxWONNOMVl"
      }
    },
    {
      "cell_type": "code",
      "source": [
        "dv.transform(dicts)"
      ],
      "metadata": {
        "colab": {
          "base_uri": "https://localhost:8080/"
        },
        "id": "uI8gI7hqPzBY",
        "outputId": "a1d5bd5f-f6af-4088-f0d2-db1405c656d8"
      },
      "execution_count": 96,
      "outputs": [
        {
          "output_type": "execute_result",
          "data": {
            "text/plain": [
              "array([[0., 1., 1., 0.],\n",
              "       [1., 0., 0., 1.],\n",
              "       [1., 0., 1., 0.],\n",
              "       [1., 0., 1., 0.],\n",
              "       [0., 1., 1., 0.],\n",
              "       [1., 0., 0., 1.],\n",
              "       [1., 0., 0., 1.],\n",
              "       [1., 0., 1., 0.],\n",
              "       [0., 1., 1., 0.],\n",
              "       [1., 0., 1., 0.]])"
            ]
          },
          "metadata": {},
          "execution_count": 96
        }
      ]
    },
    {
      "cell_type": "code",
      "source": [
        "dicts = df_train[['gender','contract']].iloc[:100].to_dict(orient='records')"
      ],
      "metadata": {
        "id": "8euG68XRPle2"
      },
      "execution_count": 97,
      "outputs": []
    },
    {
      "cell_type": "code",
      "source": [
        "dv = DictVectorizer(sparse=False)\n"
      ],
      "metadata": {
        "id": "Pk3KarbKOJsF"
      },
      "execution_count": 98,
      "outputs": []
    },
    {
      "cell_type": "code",
      "source": [
        "dv.fit(dicts)"
      ],
      "metadata": {
        "colab": {
          "base_uri": "https://localhost:8080/"
        },
        "id": "Sz-_htrYPH5C",
        "outputId": "41add384-e93b-486d-9890-cea279d97c39"
      },
      "execution_count": 99,
      "outputs": [
        {
          "output_type": "execute_result",
          "data": {
            "text/plain": [
              "DictVectorizer(sparse=False)"
            ]
          },
          "metadata": {},
          "execution_count": 99
        }
      ]
    },
    {
      "cell_type": "code",
      "source": [
        "dv.get_feature_names()"
      ],
      "metadata": {
        "colab": {
          "base_uri": "https://localhost:8080/"
        },
        "id": "4S7bYmTEQKwe",
        "outputId": "c801834c-b0de-4b5b-fbe5-97ea6219b6a0"
      },
      "execution_count": 100,
      "outputs": [
        {
          "output_type": "execute_result",
          "data": {
            "text/plain": [
              "['contract=month-to-month',\n",
              " 'contract=one_year',\n",
              " 'contract=two_year',\n",
              " 'gender=female',\n",
              " 'gender=male']"
            ]
          },
          "metadata": {},
          "execution_count": 100
        }
      ]
    },
    {
      "cell_type": "code",
      "source": [
        "dv.transform(dicts)"
      ],
      "metadata": {
        "colab": {
          "base_uri": "https://localhost:8080/"
        },
        "id": "zK4okp_9PKRU",
        "outputId": "8315e0c5-2f40-4aab-aef6-e8b78567e72a"
      },
      "execution_count": 101,
      "outputs": [
        {
          "output_type": "execute_result",
          "data": {
            "text/plain": [
              "array([[0., 0., 1., 1., 0.],\n",
              "       [1., 0., 0., 0., 1.],\n",
              "       [1., 0., 0., 1., 0.],\n",
              "       [1., 0., 0., 1., 0.],\n",
              "       [0., 0., 1., 1., 0.],\n",
              "       [1., 0., 0., 0., 1.],\n",
              "       [1., 0., 0., 0., 1.],\n",
              "       [1., 0., 0., 1., 0.],\n",
              "       [0., 0., 1., 1., 0.],\n",
              "       [1., 0., 0., 1., 0.],\n",
              "       [0., 0., 1., 1., 0.],\n",
              "       [1., 0., 0., 0., 1.],\n",
              "       [0., 0., 1., 1., 0.],\n",
              "       [1., 0., 0., 1., 0.],\n",
              "       [1., 0., 0., 1., 0.],\n",
              "       [1., 0., 0., 0., 1.],\n",
              "       [0., 0., 1., 1., 0.],\n",
              "       [1., 0., 0., 1., 0.],\n",
              "       [0., 1., 0., 0., 1.],\n",
              "       [0., 0., 1., 0., 1.],\n",
              "       [1., 0., 0., 0., 1.],\n",
              "       [0., 1., 0., 1., 0.],\n",
              "       [1., 0., 0., 1., 0.],\n",
              "       [0., 0., 1., 1., 0.],\n",
              "       [1., 0., 0., 0., 1.],\n",
              "       [0., 0., 1., 0., 1.],\n",
              "       [1., 0., 0., 1., 0.],\n",
              "       [1., 0., 0., 1., 0.],\n",
              "       [1., 0., 0., 1., 0.],\n",
              "       [0., 1., 0., 1., 0.],\n",
              "       [1., 0., 0., 0., 1.],\n",
              "       [1., 0., 0., 0., 1.],\n",
              "       [0., 1., 0., 1., 0.],\n",
              "       [0., 1., 0., 1., 0.],\n",
              "       [1., 0., 0., 0., 1.],\n",
              "       [0., 1., 0., 1., 0.],\n",
              "       [0., 1., 0., 1., 0.],\n",
              "       [0., 0., 1., 0., 1.],\n",
              "       [1., 0., 0., 0., 1.],\n",
              "       [1., 0., 0., 1., 0.],\n",
              "       [1., 0., 0., 1., 0.],\n",
              "       [1., 0., 0., 0., 1.],\n",
              "       [1., 0., 0., 1., 0.],\n",
              "       [1., 0., 0., 0., 1.],\n",
              "       [1., 0., 0., 0., 1.],\n",
              "       [0., 1., 0., 1., 0.],\n",
              "       [1., 0., 0., 0., 1.],\n",
              "       [0., 0., 1., 1., 0.],\n",
              "       [1., 0., 0., 0., 1.],\n",
              "       [0., 0., 1., 1., 0.],\n",
              "       [0., 0., 1., 0., 1.],\n",
              "       [1., 0., 0., 0., 1.],\n",
              "       [0., 1., 0., 1., 0.],\n",
              "       [1., 0., 0., 0., 1.],\n",
              "       [0., 1., 0., 1., 0.],\n",
              "       [1., 0., 0., 1., 0.],\n",
              "       [1., 0., 0., 0., 1.],\n",
              "       [0., 1., 0., 0., 1.],\n",
              "       [0., 0., 1., 1., 0.],\n",
              "       [0., 0., 1., 1., 0.],\n",
              "       [0., 0., 1., 0., 1.],\n",
              "       [0., 0., 1., 1., 0.],\n",
              "       [1., 0., 0., 0., 1.],\n",
              "       [0., 0., 1., 1., 0.],\n",
              "       [1., 0., 0., 0., 1.],\n",
              "       [0., 1., 0., 0., 1.],\n",
              "       [0., 1., 0., 0., 1.],\n",
              "       [0., 0., 1., 0., 1.],\n",
              "       [0., 1., 0., 0., 1.],\n",
              "       [0., 1., 0., 1., 0.],\n",
              "       [1., 0., 0., 0., 1.],\n",
              "       [1., 0., 0., 0., 1.],\n",
              "       [1., 0., 0., 1., 0.],\n",
              "       [0., 0., 1., 0., 1.],\n",
              "       [1., 0., 0., 0., 1.],\n",
              "       [1., 0., 0., 1., 0.],\n",
              "       [0., 0., 1., 1., 0.],\n",
              "       [1., 0., 0., 0., 1.],\n",
              "       [1., 0., 0., 0., 1.],\n",
              "       [0., 1., 0., 1., 0.],\n",
              "       [0., 1., 0., 0., 1.],\n",
              "       [1., 0., 0., 0., 1.],\n",
              "       [1., 0., 0., 0., 1.],\n",
              "       [1., 0., 0., 1., 0.],\n",
              "       [1., 0., 0., 0., 1.],\n",
              "       [1., 0., 0., 1., 0.],\n",
              "       [1., 0., 0., 0., 1.],\n",
              "       [0., 1., 0., 1., 0.],\n",
              "       [0., 0., 1., 0., 1.],\n",
              "       [0., 1., 0., 0., 1.],\n",
              "       [1., 0., 0., 1., 0.],\n",
              "       [0., 1., 0., 0., 1.],\n",
              "       [1., 0., 0., 1., 0.],\n",
              "       [1., 0., 0., 0., 1.],\n",
              "       [1., 0., 0., 1., 0.],\n",
              "       [0., 1., 0., 0., 1.],\n",
              "       [1., 0., 0., 1., 0.],\n",
              "       [1., 0., 0., 0., 1.],\n",
              "       [0., 1., 0., 0., 1.],\n",
              "       [1., 0., 0., 0., 1.]])"
            ]
          },
          "metadata": {},
          "execution_count": 101
        }
      ]
    },
    {
      "cell_type": "markdown",
      "source": [
        "* The first three columns are for contract and last two are for gender, we get these values activated one, one and the value the rest are zeros"
      ],
      "metadata": {
        "id": "o4trkWiOQe5f"
      }
    },
    {
      "cell_type": "code",
      "source": [
        "df_train[['gender','contract','tenure']].iloc[:100]"
      ],
      "metadata": {
        "colab": {
          "base_uri": "https://localhost:8080/",
          "height": 424
        },
        "id": "Zz11frllPWpE",
        "outputId": "137eb5e1-430a-4405-b8cd-749b529dfcb4"
      },
      "execution_count": 102,
      "outputs": [
        {
          "output_type": "execute_result",
          "data": {
            "text/plain": [
              "    gender        contract  tenure\n",
              "0   female        two_year      72\n",
              "1     male  month-to-month      10\n",
              "2   female  month-to-month       5\n",
              "3   female  month-to-month       5\n",
              "4   female        two_year      18\n",
              "..     ...             ...     ...\n",
              "95    male        one_year      39\n",
              "96  female  month-to-month      19\n",
              "97    male  month-to-month      21\n",
              "98    male        one_year      43\n",
              "99    male  month-to-month      19\n",
              "\n",
              "[100 rows x 3 columns]"
            ],
            "text/html": [
              "\n",
              "  <div id=\"df-199eaeb3-ad90-4983-906b-74df52ac44be\">\n",
              "    <div class=\"colab-df-container\">\n",
              "      <div>\n",
              "<style scoped>\n",
              "    .dataframe tbody tr th:only-of-type {\n",
              "        vertical-align: middle;\n",
              "    }\n",
              "\n",
              "    .dataframe tbody tr th {\n",
              "        vertical-align: top;\n",
              "    }\n",
              "\n",
              "    .dataframe thead th {\n",
              "        text-align: right;\n",
              "    }\n",
              "</style>\n",
              "<table border=\"1\" class=\"dataframe\">\n",
              "  <thead>\n",
              "    <tr style=\"text-align: right;\">\n",
              "      <th></th>\n",
              "      <th>gender</th>\n",
              "      <th>contract</th>\n",
              "      <th>tenure</th>\n",
              "    </tr>\n",
              "  </thead>\n",
              "  <tbody>\n",
              "    <tr>\n",
              "      <th>0</th>\n",
              "      <td>female</td>\n",
              "      <td>two_year</td>\n",
              "      <td>72</td>\n",
              "    </tr>\n",
              "    <tr>\n",
              "      <th>1</th>\n",
              "      <td>male</td>\n",
              "      <td>month-to-month</td>\n",
              "      <td>10</td>\n",
              "    </tr>\n",
              "    <tr>\n",
              "      <th>2</th>\n",
              "      <td>female</td>\n",
              "      <td>month-to-month</td>\n",
              "      <td>5</td>\n",
              "    </tr>\n",
              "    <tr>\n",
              "      <th>3</th>\n",
              "      <td>female</td>\n",
              "      <td>month-to-month</td>\n",
              "      <td>5</td>\n",
              "    </tr>\n",
              "    <tr>\n",
              "      <th>4</th>\n",
              "      <td>female</td>\n",
              "      <td>two_year</td>\n",
              "      <td>18</td>\n",
              "    </tr>\n",
              "    <tr>\n",
              "      <th>...</th>\n",
              "      <td>...</td>\n",
              "      <td>...</td>\n",
              "      <td>...</td>\n",
              "    </tr>\n",
              "    <tr>\n",
              "      <th>95</th>\n",
              "      <td>male</td>\n",
              "      <td>one_year</td>\n",
              "      <td>39</td>\n",
              "    </tr>\n",
              "    <tr>\n",
              "      <th>96</th>\n",
              "      <td>female</td>\n",
              "      <td>month-to-month</td>\n",
              "      <td>19</td>\n",
              "    </tr>\n",
              "    <tr>\n",
              "      <th>97</th>\n",
              "      <td>male</td>\n",
              "      <td>month-to-month</td>\n",
              "      <td>21</td>\n",
              "    </tr>\n",
              "    <tr>\n",
              "      <th>98</th>\n",
              "      <td>male</td>\n",
              "      <td>one_year</td>\n",
              "      <td>43</td>\n",
              "    </tr>\n",
              "    <tr>\n",
              "      <th>99</th>\n",
              "      <td>male</td>\n",
              "      <td>month-to-month</td>\n",
              "      <td>19</td>\n",
              "    </tr>\n",
              "  </tbody>\n",
              "</table>\n",
              "<p>100 rows × 3 columns</p>\n",
              "</div>\n",
              "      <button class=\"colab-df-convert\" onclick=\"convertToInteractive('df-199eaeb3-ad90-4983-906b-74df52ac44be')\"\n",
              "              title=\"Convert this dataframe to an interactive table.\"\n",
              "              style=\"display:none;\">\n",
              "        \n",
              "  <svg xmlns=\"http://www.w3.org/2000/svg\" height=\"24px\"viewBox=\"0 0 24 24\"\n",
              "       width=\"24px\">\n",
              "    <path d=\"M0 0h24v24H0V0z\" fill=\"none\"/>\n",
              "    <path d=\"M18.56 5.44l.94 2.06.94-2.06 2.06-.94-2.06-.94-.94-2.06-.94 2.06-2.06.94zm-11 1L8.5 8.5l.94-2.06 2.06-.94-2.06-.94L8.5 2.5l-.94 2.06-2.06.94zm10 10l.94 2.06.94-2.06 2.06-.94-2.06-.94-.94-2.06-.94 2.06-2.06.94z\"/><path d=\"M17.41 7.96l-1.37-1.37c-.4-.4-.92-.59-1.43-.59-.52 0-1.04.2-1.43.59L10.3 9.45l-7.72 7.72c-.78.78-.78 2.05 0 2.83L4 21.41c.39.39.9.59 1.41.59.51 0 1.02-.2 1.41-.59l7.78-7.78 2.81-2.81c.8-.78.8-2.07 0-2.86zM5.41 20L4 18.59l7.72-7.72 1.47 1.35L5.41 20z\"/>\n",
              "  </svg>\n",
              "      </button>\n",
              "      \n",
              "  <style>\n",
              "    .colab-df-container {\n",
              "      display:flex;\n",
              "      flex-wrap:wrap;\n",
              "      gap: 12px;\n",
              "    }\n",
              "\n",
              "    .colab-df-convert {\n",
              "      background-color: #E8F0FE;\n",
              "      border: none;\n",
              "      border-radius: 50%;\n",
              "      cursor: pointer;\n",
              "      display: none;\n",
              "      fill: #1967D2;\n",
              "      height: 32px;\n",
              "      padding: 0 0 0 0;\n",
              "      width: 32px;\n",
              "    }\n",
              "\n",
              "    .colab-df-convert:hover {\n",
              "      background-color: #E2EBFA;\n",
              "      box-shadow: 0px 1px 2px rgba(60, 64, 67, 0.3), 0px 1px 3px 1px rgba(60, 64, 67, 0.15);\n",
              "      fill: #174EA6;\n",
              "    }\n",
              "\n",
              "    [theme=dark] .colab-df-convert {\n",
              "      background-color: #3B4455;\n",
              "      fill: #D2E3FC;\n",
              "    }\n",
              "\n",
              "    [theme=dark] .colab-df-convert:hover {\n",
              "      background-color: #434B5C;\n",
              "      box-shadow: 0px 1px 3px 1px rgba(0, 0, 0, 0.15);\n",
              "      filter: drop-shadow(0px 1px 2px rgba(0, 0, 0, 0.3));\n",
              "      fill: #FFFFFF;\n",
              "    }\n",
              "  </style>\n",
              "\n",
              "      <script>\n",
              "        const buttonEl =\n",
              "          document.querySelector('#df-199eaeb3-ad90-4983-906b-74df52ac44be button.colab-df-convert');\n",
              "        buttonEl.style.display =\n",
              "          google.colab.kernel.accessAllowed ? 'block' : 'none';\n",
              "\n",
              "        async function convertToInteractive(key) {\n",
              "          const element = document.querySelector('#df-199eaeb3-ad90-4983-906b-74df52ac44be');\n",
              "          const dataTable =\n",
              "            await google.colab.kernel.invokeFunction('convertToInteractive',\n",
              "                                                     [key], {});\n",
              "          if (!dataTable) return;\n",
              "\n",
              "          const docLinkHtml = 'Like what you see? Visit the ' +\n",
              "            '<a target=\"_blank\" href=https://colab.research.google.com/notebooks/data_table.ipynb>data table notebook</a>'\n",
              "            + ' to learn more about interactive tables.';\n",
              "          element.innerHTML = '';\n",
              "          dataTable['output_type'] = 'display_data';\n",
              "          await google.colab.output.renderOutput(dataTable, element);\n",
              "          const docLink = document.createElement('div');\n",
              "          docLink.innerHTML = docLinkHtml;\n",
              "          element.appendChild(docLink);\n",
              "        }\n",
              "      </script>\n",
              "    </div>\n",
              "  </div>\n",
              "  "
            ]
          },
          "metadata": {},
          "execution_count": 102
        }
      ]
    },
    {
      "cell_type": "code",
      "source": [
        "dicts = df_train[['gender','contract','tenure']].iloc[:100].to_dict(orient='records')"
      ],
      "metadata": {
        "id": "567k6gCpRwG6"
      },
      "execution_count": 103,
      "outputs": []
    },
    {
      "cell_type": "code",
      "source": [
        "dicts[0]"
      ],
      "metadata": {
        "colab": {
          "base_uri": "https://localhost:8080/"
        },
        "id": "yTRVikgSR0RA",
        "outputId": "a76ca56f-cac5-4f23-d1ef-e454a2ddb668"
      },
      "execution_count": 104,
      "outputs": [
        {
          "output_type": "execute_result",
          "data": {
            "text/plain": [
              "{'gender': 'female', 'contract': 'two_year', 'tenure': 72}"
            ]
          },
          "metadata": {},
          "execution_count": 104
        }
      ]
    },
    {
      "cell_type": "code",
      "source": [
        "dv = DictVectorizer(sparse=False)"
      ],
      "metadata": {
        "id": "6biTNbx4SOYb"
      },
      "execution_count": 105,
      "outputs": []
    },
    {
      "cell_type": "code",
      "source": [
        "dv.fit(dicts)"
      ],
      "metadata": {
        "colab": {
          "base_uri": "https://localhost:8080/"
        },
        "id": "0DdMb0s7Sdmx",
        "outputId": "b31a51df-e237-414b-ed45-19f80537bed6"
      },
      "execution_count": 106,
      "outputs": [
        {
          "output_type": "execute_result",
          "data": {
            "text/plain": [
              "DictVectorizer(sparse=False)"
            ]
          },
          "metadata": {},
          "execution_count": 106
        }
      ]
    },
    {
      "cell_type": "code",
      "source": [
        "dv.get_feature_names()"
      ],
      "metadata": {
        "colab": {
          "base_uri": "https://localhost:8080/"
        },
        "id": "pUT7aQy8Sszg",
        "outputId": "237bfbb3-5c52-4849-8e59-3d9b244ba69a"
      },
      "execution_count": 107,
      "outputs": [
        {
          "output_type": "execute_result",
          "data": {
            "text/plain": [
              "['contract=month-to-month',\n",
              " 'contract=one_year',\n",
              " 'contract=two_year',\n",
              " 'gender=female',\n",
              " 'gender=male',\n",
              " 'tenure']"
            ]
          },
          "metadata": {},
          "execution_count": 107
        }
      ]
    },
    {
      "cell_type": "code",
      "source": [
        "dv.transform(dicts)"
      ],
      "metadata": {
        "colab": {
          "base_uri": "https://localhost:8080/"
        },
        "id": "PQfmSYH-SfeE",
        "outputId": "65485f91-b59b-49ac-ecf0-033d696c2f9b"
      },
      "execution_count": 108,
      "outputs": [
        {
          "output_type": "execute_result",
          "data": {
            "text/plain": [
              "array([[ 0.,  0.,  1.,  1.,  0., 72.],\n",
              "       [ 1.,  0.,  0.,  0.,  1., 10.],\n",
              "       [ 1.,  0.,  0.,  1.,  0.,  5.],\n",
              "       [ 1.,  0.,  0.,  1.,  0.,  5.],\n",
              "       [ 0.,  0.,  1.,  1.,  0., 18.],\n",
              "       [ 1.,  0.,  0.,  0.,  1.,  4.],\n",
              "       [ 1.,  0.,  0.,  0.,  1.,  1.],\n",
              "       [ 1.,  0.,  0.,  1.,  0.,  1.],\n",
              "       [ 0.,  0.,  1.,  1.,  0., 72.],\n",
              "       [ 1.,  0.,  0.,  1.,  0.,  6.],\n",
              "       [ 0.,  0.,  1.,  1.,  0., 72.],\n",
              "       [ 1.,  0.,  0.,  0.,  1., 17.],\n",
              "       [ 0.,  0.,  1.,  1.,  0., 66.],\n",
              "       [ 1.,  0.,  0.,  1.,  0.,  2.],\n",
              "       [ 1.,  0.,  0.,  1.,  0.,  4.],\n",
              "       [ 1.,  0.,  0.,  0.,  1.,  3.],\n",
              "       [ 0.,  0.,  1.,  1.,  0., 71.],\n",
              "       [ 1.,  0.,  0.,  1.,  0., 32.],\n",
              "       [ 0.,  1.,  0.,  0.,  1., 53.],\n",
              "       [ 0.,  0.,  1.,  0.,  1., 56.],\n",
              "       [ 1.,  0.,  0.,  0.,  1., 61.],\n",
              "       [ 0.,  1.,  0.,  1.,  0., 41.],\n",
              "       [ 1.,  0.,  0.,  1.,  0.,  1.],\n",
              "       [ 0.,  0.,  1.,  1.,  0.,  3.],\n",
              "       [ 1.,  0.,  0.,  0.,  1.,  3.],\n",
              "       [ 0.,  0.,  1.,  0.,  1., 12.],\n",
              "       [ 1.,  0.,  0.,  1.,  0., 41.],\n",
              "       [ 1.,  0.,  0.,  1.,  0., 47.],\n",
              "       [ 1.,  0.,  0.,  1.,  0.,  2.],\n",
              "       [ 0.,  1.,  0.,  1.,  0., 66.],\n",
              "       [ 1.,  0.,  0.,  0.,  1.,  8.],\n",
              "       [ 1.,  0.,  0.,  0.,  1.,  1.],\n",
              "       [ 0.,  1.,  0.,  1.,  0., 35.],\n",
              "       [ 0.,  1.,  0.,  1.,  0., 67.],\n",
              "       [ 1.,  0.,  0.,  0.,  1.,  1.],\n",
              "       [ 0.,  1.,  0.,  1.,  0., 46.],\n",
              "       [ 0.,  1.,  0.,  1.,  0., 37.],\n",
              "       [ 0.,  0.,  1.,  0.,  1., 72.],\n",
              "       [ 1.,  0.,  0.,  0.,  1., 35.],\n",
              "       [ 1.,  0.,  0.,  1.,  0., 43.],\n",
              "       [ 1.,  0.,  0.,  1.,  0., 20.],\n",
              "       [ 1.,  0.,  0.,  0.,  1., 64.],\n",
              "       [ 1.,  0.,  0.,  1.,  0.,  6.],\n",
              "       [ 1.,  0.,  0.,  0.,  1.,  9.],\n",
              "       [ 1.,  0.,  0.,  0.,  1., 18.],\n",
              "       [ 0.,  1.,  0.,  1.,  0., 46.],\n",
              "       [ 1.,  0.,  0.,  0.,  1.,  9.],\n",
              "       [ 0.,  0.,  1.,  1.,  0., 69.],\n",
              "       [ 1.,  0.,  0.,  0.,  1., 32.],\n",
              "       [ 0.,  0.,  1.,  1.,  0., 67.],\n",
              "       [ 0.,  0.,  1.,  0.,  1., 69.],\n",
              "       [ 1.,  0.,  0.,  0.,  1.,  6.],\n",
              "       [ 0.,  1.,  0.,  1.,  0., 30.],\n",
              "       [ 1.,  0.,  0.,  0.,  1., 30.],\n",
              "       [ 0.,  1.,  0.,  1.,  0., 58.],\n",
              "       [ 1.,  0.,  0.,  1.,  0., 18.],\n",
              "       [ 1.,  0.,  0.,  0.,  1., 34.],\n",
              "       [ 0.,  1.,  0.,  0.,  1.,  2.],\n",
              "       [ 0.,  0.,  1.,  1.,  0., 10.],\n",
              "       [ 0.,  0.,  1.,  1.,  0., 71.],\n",
              "       [ 0.,  0.,  1.,  0.,  1., 72.],\n",
              "       [ 0.,  0.,  1.,  1.,  0., 46.],\n",
              "       [ 1.,  0.,  0.,  0.,  1., 49.],\n",
              "       [ 0.,  0.,  1.,  1.,  0., 65.],\n",
              "       [ 1.,  0.,  0.,  0.,  1., 15.],\n",
              "       [ 0.,  1.,  0.,  0.,  1., 58.],\n",
              "       [ 0.,  1.,  0.,  0.,  1., 66.],\n",
              "       [ 0.,  0.,  1.,  0.,  1., 66.],\n",
              "       [ 0.,  1.,  0.,  0.,  1., 68.],\n",
              "       [ 0.,  1.,  0.,  1.,  0., 45.],\n",
              "       [ 1.,  0.,  0.,  0.,  1.,  1.],\n",
              "       [ 1.,  0.,  0.,  0.,  1., 11.],\n",
              "       [ 1.,  0.,  0.,  1.,  0., 18.],\n",
              "       [ 0.,  0.,  1.,  0.,  1., 71.],\n",
              "       [ 1.,  0.,  0.,  0.,  1.,  4.],\n",
              "       [ 1.,  0.,  0.,  1.,  0., 13.],\n",
              "       [ 0.,  0.,  1.,  1.,  0., 50.],\n",
              "       [ 1.,  0.,  0.,  0.,  1., 12.],\n",
              "       [ 1.,  0.,  0.,  0.,  1.,  1.],\n",
              "       [ 0.,  1.,  0.,  1.,  0.,  7.],\n",
              "       [ 0.,  1.,  0.,  0.,  1., 71.],\n",
              "       [ 1.,  0.,  0.,  0.,  1.,  1.],\n",
              "       [ 1.,  0.,  0.,  0.,  1., 21.],\n",
              "       [ 1.,  0.,  0.,  1.,  0., 12.],\n",
              "       [ 1.,  0.,  0.,  0.,  1.,  1.],\n",
              "       [ 1.,  0.,  0.,  1.,  0., 33.],\n",
              "       [ 1.,  0.,  0.,  0.,  1., 46.],\n",
              "       [ 0.,  1.,  0.,  1.,  0., 44.],\n",
              "       [ 0.,  0.,  1.,  0.,  1., 70.],\n",
              "       [ 0.,  1.,  0.,  0.,  1.,  7.],\n",
              "       [ 1.,  0.,  0.,  1.,  0., 18.],\n",
              "       [ 0.,  1.,  0.,  0.,  1., 54.],\n",
              "       [ 1.,  0.,  0.,  1.,  0., 35.],\n",
              "       [ 1.,  0.,  0.,  0.,  1.,  5.],\n",
              "       [ 1.,  0.,  0.,  1.,  0., 35.],\n",
              "       [ 0.,  1.,  0.,  0.,  1., 39.],\n",
              "       [ 1.,  0.,  0.,  1.,  0., 19.],\n",
              "       [ 1.,  0.,  0.,  0.,  1., 21.],\n",
              "       [ 0.,  1.,  0.,  0.,  1., 43.],\n",
              "       [ 1.,  0.,  0.,  0.,  1., 19.]])"
            ]
          },
          "metadata": {},
          "execution_count": 108
        }
      ]
    },
    {
      "cell_type": "code",
      "source": [
        "train_dicts = df_train[categorical + numerical].to_dict(orient='records')"
      ],
      "metadata": {
        "id": "I22xC688TMX_"
      },
      "execution_count": 109,
      "outputs": []
    },
    {
      "cell_type": "code",
      "source": [
        "train_dicts[0]"
      ],
      "metadata": {
        "colab": {
          "base_uri": "https://localhost:8080/"
        },
        "id": "xjPXQ_RqTUOt",
        "outputId": "bd11e116-800e-45ac-a735-88ed67ad7e8a"
      },
      "execution_count": 110,
      "outputs": [
        {
          "output_type": "execute_result",
          "data": {
            "text/plain": [
              "{'gender': 'female',\n",
              " 'seniorcitizen': 0,\n",
              " 'partner': 'yes',\n",
              " 'dependents': 'yes',\n",
              " 'phoneservice': 'yes',\n",
              " 'multiplelines': 'yes',\n",
              " 'internetservice': 'fiber_optic',\n",
              " 'onlinesecurity': 'yes',\n",
              " 'onlinebackup': 'yes',\n",
              " 'deviceprotection': 'yes',\n",
              " 'techsupport': 'yes',\n",
              " 'streamingtv': 'yes',\n",
              " 'streamingmovies': 'yes',\n",
              " 'contract': 'two_year',\n",
              " 'paperlessbilling': 'yes',\n",
              " 'paymentmethod': 'electronic_check',\n",
              " 'tenure': 72,\n",
              " 'monthlycharges': 115.5,\n",
              " 'totalcharges': 8425.15}"
            ]
          },
          "metadata": {},
          "execution_count": 110
        }
      ]
    },
    {
      "cell_type": "markdown",
      "source": [
        "* We have all the values here from gender to total charges all the values from datafame that we have and record in our list of dictionaries look like"
      ],
      "metadata": {
        "id": "coKUXzP0VGeP"
      }
    },
    {
      "cell_type": "code",
      "source": [
        "dv = DictVectorizer(sparse=False)"
      ],
      "metadata": {
        "id": "ZRnr8EckTnHk"
      },
      "execution_count": 111,
      "outputs": []
    },
    {
      "cell_type": "code",
      "source": [
        "dv.fit(train_dicts)"
      ],
      "metadata": {
        "colab": {
          "base_uri": "https://localhost:8080/"
        },
        "id": "cyRmqUChT2Bz",
        "outputId": "e1a1c5a9-33a5-4b8f-fc46-af5dbbb846da"
      },
      "execution_count": 112,
      "outputs": [
        {
          "output_type": "execute_result",
          "data": {
            "text/plain": [
              "DictVectorizer(sparse=False)"
            ]
          },
          "metadata": {},
          "execution_count": 112
        }
      ]
    },
    {
      "cell_type": "code",
      "source": [
        "dv.get_feature_names()"
      ],
      "metadata": {
        "colab": {
          "base_uri": "https://localhost:8080/"
        },
        "id": "-hBc85C_T3kh",
        "outputId": "7a2a0246-b17a-42a3-fe3a-45cfcaecb0c8"
      },
      "execution_count": 113,
      "outputs": [
        {
          "output_type": "execute_result",
          "data": {
            "text/plain": [
              "['contract=month-to-month',\n",
              " 'contract=one_year',\n",
              " 'contract=two_year',\n",
              " 'dependents=no',\n",
              " 'dependents=yes',\n",
              " 'deviceprotection=no',\n",
              " 'deviceprotection=no_internet_service',\n",
              " 'deviceprotection=yes',\n",
              " 'gender=female',\n",
              " 'gender=male',\n",
              " 'internetservice=dsl',\n",
              " 'internetservice=fiber_optic',\n",
              " 'internetservice=no',\n",
              " 'monthlycharges',\n",
              " 'multiplelines=no',\n",
              " 'multiplelines=no_phone_service',\n",
              " 'multiplelines=yes',\n",
              " 'onlinebackup=no',\n",
              " 'onlinebackup=no_internet_service',\n",
              " 'onlinebackup=yes',\n",
              " 'onlinesecurity=no',\n",
              " 'onlinesecurity=no_internet_service',\n",
              " 'onlinesecurity=yes',\n",
              " 'paperlessbilling=no',\n",
              " 'paperlessbilling=yes',\n",
              " 'partner=no',\n",
              " 'partner=yes',\n",
              " 'paymentmethod=bank_transfer_(automatic)',\n",
              " 'paymentmethod=credit_card_(automatic)',\n",
              " 'paymentmethod=electronic_check',\n",
              " 'paymentmethod=mailed_check',\n",
              " 'phoneservice=no',\n",
              " 'phoneservice=yes',\n",
              " 'seniorcitizen',\n",
              " 'streamingmovies=no',\n",
              " 'streamingmovies=no_internet_service',\n",
              " 'streamingmovies=yes',\n",
              " 'streamingtv=no',\n",
              " 'streamingtv=no_internet_service',\n",
              " 'streamingtv=yes',\n",
              " 'techsupport=no',\n",
              " 'techsupport=no_internet_service',\n",
              " 'techsupport=yes',\n",
              " 'tenure',\n",
              " 'totalcharges']"
            ]
          },
          "metadata": {},
          "execution_count": 113
        }
      ]
    },
    {
      "cell_type": "markdown",
      "source": [
        "* Our feature names are quite large here you see each categorical variable here is a group of binary variables these are the feature names"
      ],
      "metadata": {
        "id": "aJznZJabVaWs"
      }
    },
    {
      "cell_type": "code",
      "source": [
        "list(dv.transform(train_dicts[:5])[0])"
      ],
      "metadata": {
        "colab": {
          "base_uri": "https://localhost:8080/"
        },
        "id": "zLgx0-iEUPV9",
        "outputId": "7431d8f2-875c-4f02-ab9d-8b5d7044d399"
      },
      "execution_count": 114,
      "outputs": [
        {
          "output_type": "execute_result",
          "data": {
            "text/plain": [
              "[0.0,\n",
              " 0.0,\n",
              " 1.0,\n",
              " 0.0,\n",
              " 1.0,\n",
              " 0.0,\n",
              " 0.0,\n",
              " 1.0,\n",
              " 1.0,\n",
              " 0.0,\n",
              " 0.0,\n",
              " 1.0,\n",
              " 0.0,\n",
              " 115.5,\n",
              " 0.0,\n",
              " 0.0,\n",
              " 1.0,\n",
              " 0.0,\n",
              " 0.0,\n",
              " 1.0,\n",
              " 0.0,\n",
              " 0.0,\n",
              " 1.0,\n",
              " 0.0,\n",
              " 1.0,\n",
              " 0.0,\n",
              " 1.0,\n",
              " 0.0,\n",
              " 0.0,\n",
              " 1.0,\n",
              " 0.0,\n",
              " 0.0,\n",
              " 1.0,\n",
              " 0.0,\n",
              " 0.0,\n",
              " 0.0,\n",
              " 1.0,\n",
              " 0.0,\n",
              " 0.0,\n",
              " 1.0,\n",
              " 0.0,\n",
              " 0.0,\n",
              " 1.0,\n",
              " 72.0,\n",
              " 8425.15]"
            ]
          },
          "metadata": {},
          "execution_count": 114
        }
      ]
    },
    {
      "cell_type": "code",
      "source": [
        "train_dicts = df_train[categorical + numerical].to_dict(orient='records')"
      ],
      "metadata": {
        "id": "cDNPSvLJVsPz"
      },
      "execution_count": 115,
      "outputs": []
    },
    {
      "cell_type": "code",
      "source": [
        "dv = DictVectorizer(sparse=False)"
      ],
      "metadata": {
        "id": "B1yjUxcKWaS_"
      },
      "execution_count": 116,
      "outputs": []
    },
    {
      "cell_type": "code",
      "source": [
        "dv.fit(train_dicts)\n",
        "X_train = dv.transform(train_dicts)"
      ],
      "metadata": {
        "id": "Z-Q5IkP2Wf5s"
      },
      "execution_count": 117,
      "outputs": []
    },
    {
      "cell_type": "code",
      "source": [
        "X_train.shape"
      ],
      "metadata": {
        "colab": {
          "base_uri": "https://localhost:8080/"
        },
        "id": "rG1NNS9sW74d",
        "outputId": "51697903-b7cc-4c83-b390-792fcef37f41"
      },
      "execution_count": 118,
      "outputs": [
        {
          "output_type": "execute_result",
          "data": {
            "text/plain": [
              "(4225, 45)"
            ]
          },
          "metadata": {},
          "execution_count": 118
        }
      ]
    },
    {
      "cell_type": "code",
      "source": [
        "dv = DictVectorizer(sparse=False)\n",
        "\n",
        "train_dict = df_train[categorical + numerical].to_dict(orient='records')\n",
        "X_train = dv.fit_transform(train_dict)\n",
        "\n",
        "val_dict = df_val[categorical + numerical].to_dict(orient='records')\n",
        "X_val = dv.transform(val_dict)"
      ],
      "metadata": {
        "id": "0aTF8hJM8OXn"
      },
      "execution_count": 119,
      "outputs": []
    },
    {
      "cell_type": "markdown",
      "source": [
        "## **3.9 Logistic regression** (video 3.9)\n",
        "\n",
        "* Binary classification\n",
        "* Linear vs logistic regression"
      ],
      "metadata": {
        "id": "f1xwXe_m8XAG"
      }
    },
    {
      "cell_type": "markdown",
      "source": [
        "In general, supervised models follow can be represented with this formula:\n",
        "\n",
        "![image.png](data:image/png;base64,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)\n",
        "\n",
        "Depending on what is the type of target variable, the supervised task can be regression or classification (binary or multiclass). Binary classification tasks can have negative (0) or positive (1) target values. The output of these models is the probability of xi belonging to the positive class.\n",
        "\n",
        "\n",
        "Logistic regression is similar to linear regression because both models take into account the bias term and weighted sum of features. The difference between these models is that the output of linear regression is a real number, while logistic regression outputs a value between zero and one, applying the sigmoid function to the linear regression formula.\n",
        "\n",
        "![image.png](data:image/png;base64,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)\n",
        "\n",
        "\n",
        "![image.png](data:image/png;base64,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)\n",
        "\n",
        "In this way, the sigmoid function allows transforming a score into a probability."
      ],
      "metadata": {
        "id": "agfK7rKSXfGY"
      }
    },
    {
      "cell_type": "code",
      "source": [
        "def sigmoid(z):\n",
        "    return 1 / (1 + np.exp(-z))"
      ],
      "metadata": {
        "id": "ID4Be9SH8TV4"
      },
      "execution_count": 120,
      "outputs": []
    },
    {
      "cell_type": "code",
      "source": [
        "z = np.linspace(-5, 5, 15)"
      ],
      "metadata": {
        "id": "rGUfXOhp8koI"
      },
      "execution_count": 121,
      "outputs": []
    },
    {
      "cell_type": "code",
      "source": [
        "sigmoid(z)"
      ],
      "metadata": {
        "colab": {
          "base_uri": "https://localhost:8080/"
        },
        "id": "KBz_6CJuZJmo",
        "outputId": "38c920d6-8fea-4990-e2af-5148d630ec3c"
      },
      "execution_count": 122,
      "outputs": [
        {
          "output_type": "execute_result",
          "data": {
            "text/plain": [
              "array([0.00669285, 0.01357692, 0.02734679, 0.05431327, 0.10500059,\n",
              "       0.19332137, 0.32865255, 0.5       , 0.67134745, 0.80667863,\n",
              "       0.89499941, 0.94568673, 0.97265321, 0.98642308, 0.99330715])"
            ]
          },
          "metadata": {},
          "execution_count": 122
        }
      ]
    },
    {
      "cell_type": "code",
      "source": [
        "sigmoid(10000)"
      ],
      "metadata": {
        "id": "YZxYOkhM8oh3",
        "colab": {
          "base_uri": "https://localhost:8080/"
        },
        "outputId": "2363e644-1f2a-40c8-9b05-9b137e16c0d6"
      },
      "execution_count": 123,
      "outputs": [
        {
          "output_type": "execute_result",
          "data": {
            "text/plain": [
              "1.0"
            ]
          },
          "metadata": {},
          "execution_count": 123
        }
      ]
    },
    {
      "cell_type": "code",
      "source": [
        "plt.plot(z, sigmoid(z))"
      ],
      "metadata": {
        "id": "dqHPGkwx8sv5",
        "colab": {
          "base_uri": "https://localhost:8080/",
          "height": 358
        },
        "outputId": "11cdc574-a721-4827-a6be-ab6ae4b7f9cd"
      },
      "execution_count": 124,
      "outputs": [
        {
          "output_type": "execute_result",
          "data": {
            "text/plain": [
              "[<matplotlib.lines.Line2D at 0x7f25231a5cd0>]"
            ]
          },
          "metadata": {},
          "execution_count": 124
        },
        {
          "output_type": "display_data",
          "data": {
            "text/plain": [
              "<Figure size 864x360 with 1 Axes>"
            ],
            "image/png": "[encoded data removed]"
          },
          "metadata": {}
        }
      ]
    },
    {
      "cell_type": "code",
      "source": [
        "z = np.linspace(-7, 7, 51)"
      ],
      "metadata": {
        "id": "O7CIiBjdZhci"
      },
      "execution_count": 125,
      "outputs": []
    },
    {
      "cell_type": "code",
      "source": [
        "plt.plot(z, sigmoid(z))"
      ],
      "metadata": {
        "colab": {
          "base_uri": "https://localhost:8080/",
          "height": 358
        },
        "id": "YI17amo7Zpo5",
        "outputId": "53494dc7-ba2d-402f-8366-0c245b891f97"
      },
      "execution_count": 126,
      "outputs": [
        {
          "output_type": "execute_result",
          "data": {
            "text/plain": [
              "[<matplotlib.lines.Line2D at 0x7f252313f990>]"
            ]
          },
          "metadata": {},
          "execution_count": 126
        },
        {
          "output_type": "display_data",
          "data": {
            "text/plain": [
              "<Figure size 864x360 with 1 Axes>"
            ],
            "image/png": "[encoded data removed]"
          },
          "metadata": {}
        }
      ]
    },
    {
      "cell_type": "code",
      "source": [
        "def linear_regression(xi):\n",
        "    result = w0\n",
        "    \n",
        "    for j in range(len(w)):\n",
        "        result = result + xi[j] * w[j]\n",
        "        \n",
        "    return result"
      ],
      "metadata": {
        "id": "sEtHDXM38xg1"
      },
      "execution_count": 127,
      "outputs": []
    },
    {
      "cell_type": "code",
      "source": [
        "def logistic_regression(xi):\n",
        "    score = w0\n",
        "    \n",
        "    for j in range(len(w)):\n",
        "        score = score + xi[j] * w[j]\n",
        "        \n",
        "    result = sigmoid(score)\n",
        "    return result"
      ],
      "metadata": {
        "id": "82ThWGz_85vA"
      },
      "execution_count": 128,
      "outputs": []
    },
    {
      "cell_type": "markdown",
      "source": [
        "## **3.10 Training logistic regression with Scikit-Learn**(video 3.10)\n",
        "\n",
        "* Train a model with Scikit-Learn\n",
        "* Apply it to the validation dataset\n",
        "* Calculate the accuracy"
      ],
      "metadata": {
        "id": "SVjTGu1N8_XK"
      }
    },
    {
      "cell_type": "markdown",
      "source": [
        "This video was about training a logistic regression model with Scikit-Learn, applying it to the validation dataset, and calculating its accuracy.\n",
        "\n",
        "### Classes, functions, and methods:\n",
        "\n",
        "* LogisticRegression( ).fit_transform(x) - Scikit-Learn class for calculating the logistic regression model.\n",
        "* LogisticRegression( ).coef_[0] - returns the coeffcients or weights of the LR model\n",
        "* LogisticRegression( ).intercept_[0] - returns the bias or intercept of the LR model\n",
        "* LogisticRegression( ).predict[x] - make predictions on the x dataset\n",
        "* LogisticRegression( ).predict_proba[x] - make predictions on the x dataset, and returns two columns with their probabilities for the two categories - soft predictions\n"
      ],
      "metadata": {
        "id": "UiJoHuiRaIpq"
      }
    },
    {
      "cell_type": "code",
      "source": [
        "from sklearn.linear_model import LogisticRegression"
      ],
      "metadata": {
        "id": "wHbsJUAR88hR"
      },
      "execution_count": 129,
      "outputs": []
    },
    {
      "cell_type": "code",
      "source": [
        "model = LogisticRegression(solver='lbfgs')\n",
        "# solver='lbfgs' is the default solver in newer version of sklearn\n",
        "# for older versions, you need to specify it explicitly\n",
        "model.fit(X_train, y_train)"
      ],
      "metadata": {
        "id": "YzQkZ1x79K1Q"
      },
      "execution_count": null,
      "outputs": []
    },
    {
      "cell_type": "code",
      "source": [
        "model = LogisticRegression()\n",
        "model.fit(X_train, y_train)"
      ],
      "metadata": {
        "colab": {
          "base_uri": "https://localhost:8080/"
        },
        "id": "BMo5iWMta_QG",
        "outputId": "64dc512f-f4cc-4022-e4d8-d085930bae0e"
      },
      "execution_count": 130,
      "outputs": [
        {
          "output_type": "execute_result",
          "data": {
            "text/plain": [
              "LogisticRegression()"
            ]
          },
          "metadata": {},
          "execution_count": 130
        }
      ]
    },
    {
      "cell_type": "code",
      "source": [
        "model.coef_[0].round(3)"
      ],
      "metadata": {
        "colab": {
          "base_uri": "https://localhost:8080/"
        },
        "id": "sXq--VPHbZ_6",
        "outputId": "3a7a9b22-ac5d-473f-986d-49f7433cd7c1"
      },
      "execution_count": 131,
      "outputs": [
        {
          "output_type": "execute_result",
          "data": {
            "text/plain": [
              "array([ 0.475, -0.175, -0.408, -0.03 , -0.078,  0.063, -0.089, -0.081,\n",
              "       -0.034, -0.073, -0.335,  0.317, -0.089,  0.004, -0.258,  0.141,\n",
              "        0.009,  0.063, -0.089, -0.081,  0.266, -0.089, -0.284, -0.231,\n",
              "        0.124, -0.166,  0.058, -0.087, -0.032,  0.07 , -0.059,  0.141,\n",
              "       -0.249,  0.215, -0.12 , -0.089,  0.102, -0.071, -0.089,  0.052,\n",
              "        0.213, -0.089, -0.232, -0.07 ,  0.   ])"
            ]
          },
          "metadata": {},
          "execution_count": 131
        }
      ]
    },
    {
      "cell_type": "markdown",
      "source": [
        "* These are the weights the w so we see it's a two-dimensional array with just one row"
      ],
      "metadata": {
        "id": "I4IJQ7RdbjUw"
      }
    },
    {
      "cell_type": "code",
      "source": [
        "model.intercept_[0]"
      ],
      "metadata": {
        "id": "4fw3mjtg9P1K",
        "colab": {
          "base_uri": "https://localhost:8080/"
        },
        "outputId": "8c22417a-82a1-49bd-bff6-3b76e866fac0"
      },
      "execution_count": 132,
      "outputs": [
        {
          "output_type": "execute_result",
          "data": {
            "text/plain": [
              "-0.10903461122930498"
            ]
          },
          "metadata": {},
          "execution_count": 132
        }
      ]
    },
    {
      "cell_type": "code",
      "source": [
        "model.predict(X_train)"
      ],
      "metadata": {
        "colab": {
          "base_uri": "https://localhost:8080/"
        },
        "id": "Z0gKRfWXcYIR",
        "outputId": "3267f99d-d547-40ba-f0f8-9df107da36fa"
      },
      "execution_count": 133,
      "outputs": [
        {
          "output_type": "execute_result",
          "data": {
            "text/plain": [
              "array([0, 1, 1, ..., 1, 0, 1])"
            ]
          },
          "metadata": {},
          "execution_count": 133
        }
      ]
    },
    {
      "cell_type": "markdown",
      "source": [
        "* Use the function called predict use it for our train dataset, predict zero and once so in this case zero is a significant one\n",
        "* This we call **hard predictions** because they already have the exact label"
      ],
      "metadata": {
        "id": "h3lnWD-fcitV"
      }
    },
    {
      "cell_type": "code",
      "source": [
        "model.predict_proba(X_train)"
      ],
      "metadata": {
        "colab": {
          "base_uri": "https://localhost:8080/"
        },
        "id": "odw6FBY5dLmF",
        "outputId": "9bd07cf1-ed52-4ebc-ed34-39f255927fbd"
      },
      "execution_count": 134,
      "outputs": [
        {
          "output_type": "execute_result",
          "data": {
            "text/plain": [
              "array([[0.90451531, 0.09548469],\n",
              "       [0.32067017, 0.67932983],\n",
              "       [0.36632206, 0.63367794],\n",
              "       ...,\n",
              "       [0.46838428, 0.53161572],\n",
              "       [0.95746004, 0.04253996],\n",
              "       [0.30127008, 0.69872992]])"
            ]
          },
          "metadata": {},
          "execution_count": 134
        }
      ]
    },
    {
      "cell_type": "markdown",
      "source": [
        "* We use probability function - predict proba which stands for predict probability\n",
        "* These are the **soft predictions**\n",
        "* By soft we mean here that it's not just a  number zero or one but a score, this two-dimensional matrix\n",
        "* Two columns the first one is the probability of being negative, negative class, and the second one is the probability of belonging to a positive class is the probability of churning\n",
        "* For example this person has a 50% probability of churning and another one has a 46% probability of non-churning"
      ],
      "metadata": {
        "id": "EvUi4DlkdTNG"
      }
    },
    {
      "cell_type": "code",
      "source": [
        "model.predict_proba(X_train)[:,1]"
      ],
      "metadata": {
        "colab": {
          "base_uri": "https://localhost:8080/"
        },
        "id": "7KqpxJsffSZM",
        "outputId": "4ddec1a8-c1a6-4c02-b6f3-f1eb8d7c1650"
      },
      "execution_count": 135,
      "outputs": [
        {
          "output_type": "execute_result",
          "data": {
            "text/plain": [
              "array([0.09548469, 0.67932983, 0.63367794, ..., 0.53161572, 0.04253996,\n",
              "       0.69872992])"
            ]
          },
          "metadata": {},
          "execution_count": 135
        }
      ]
    },
    {
      "cell_type": "markdown",
      "source": [
        "* The negative part is we don't need it we just take the first column of the predictions\n",
        "* This would be soft predictions because it's not like a hard decision we now can use this to decide above each threshold we treat people as churning"
      ],
      "metadata": {
        "id": "hkR44NLnhXQY"
      }
    },
    {
      "cell_type": "code",
      "source": [
        "y_pred = model.predict_proba(X_val)[:,1]"
      ],
      "metadata": {
        "id": "QuxH7p1yhWa1"
      },
      "execution_count": 136,
      "outputs": []
    },
    {
      "cell_type": "code",
      "source": [
        "y_pred"
      ],
      "metadata": {
        "colab": {
          "base_uri": "https://localhost:8080/"
        },
        "id": "DIejWw0KiYWG",
        "outputId": "091cb17d-563a-4e25-e772-f2c37b5c0b5e"
      },
      "execution_count": 137,
      "outputs": [
        {
          "output_type": "execute_result",
          "data": {
            "text/plain": [
              "array([0.00899598, 0.20452238, 0.21222245, ..., 0.13638428, 0.79976953,\n",
              "       0.83740736])"
            ]
          },
          "metadata": {},
          "execution_count": 137
        }
      ]
    },
    {
      "cell_type": "markdown",
      "source": [
        "* We get this array with predictions and now we can make this so-called hard decision."
      ],
      "metadata": {
        "id": "FK4mBC2Cif9y"
      }
    },
    {
      "cell_type": "code",
      "source": [
        "y_pred >= 0.5"
      ],
      "metadata": {
        "colab": {
          "base_uri": "https://localhost:8080/"
        },
        "id": "Mut8JeTniy66",
        "outputId": "d19761e3-bfa8-4b22-b957-eaba63fa7428"
      },
      "execution_count": 138,
      "outputs": [
        {
          "output_type": "execute_result",
          "data": {
            "text/plain": [
              "array([False, False, False, ..., False,  True,  True])"
            ]
          },
          "metadata": {},
          "execution_count": 138
        }
      ]
    },
    {
      "cell_type": "markdown",
      "source": [
        "* For people above a certain threshold  and for us, it can be 0.5 the default threshold here when we do predict is 0.5, this is what the model is used by default we get a binary array with predictions that is false means that this customer is not churning and true means that this customer is churning"
      ],
      "metadata": {
        "id": "lSSHjP7rjBHp"
      }
    },
    {
      "cell_type": "code",
      "source": [
        "churn_decision = (y_pred >= 0.5)\n",
        "churn_decision"
      ],
      "metadata": {
        "id": "RwnXn77v9c3s",
        "colab": {
          "base_uri": "https://localhost:8080/"
        },
        "outputId": "e10ccfbb-6d12-48fa-f2c1-57f4f950ec83"
      },
      "execution_count": 141,
      "outputs": [
        {
          "output_type": "execute_result",
          "data": {
            "text/plain": [
              "array([False, False, False, ..., False,  True,  True])"
            ]
          },
          "metadata": {},
          "execution_count": 141
        }
      ]
    },
    {
      "cell_type": "markdown",
      "source": [
        "* Let's call it churn decision"
      ],
      "metadata": {
        "id": "f9v5MdR0PX2D"
      }
    },
    {
      "cell_type": "code",
      "source": [
        "df_val[churn_decision]"
      ],
      "metadata": {
        "colab": {
          "base_uri": "https://localhost:8080/",
          "height": 661
        },
        "id": "yiITVn3TjBmm",
        "outputId": "0f0a7e72-3571-4ad6-e5de-1d88dc15f597"
      },
      "execution_count": 142,
      "outputs": [
        {
          "output_type": "execute_result",
          "data": {
            "text/plain": [
              "      customerid  gender  seniorcitizen partner dependents  tenure  \\\n",
              "3     8433-wxgna    male              0      no         no       2   \n",
              "8     3440-jpscl  female              0      no         no       6   \n",
              "11    2637-fkfsy  female              0     yes         no       3   \n",
              "12    7228-omtpn    male              0      no         no       4   \n",
              "19    6711-fldfb  female              0      no         no       7   \n",
              "...          ...     ...            ...     ...        ...     ...   \n",
              "1397  5976-jcjrh    male              0     yes         no      10   \n",
              "1398  2034-cgrhz    male              1      no         no      24   \n",
              "1399  5276-kqwhg  female              1      no         no       2   \n",
              "1407  6521-yytyi    male              0      no        yes       1   \n",
              "1408  3049-solay  female              0     yes         no       3   \n",
              "\n",
              "     phoneservice multiplelines internetservice onlinesecurity onlinebackup  \\\n",
              "3             yes            no     fiber_optic            yes           no   \n",
              "8             yes            no     fiber_optic             no           no   \n",
              "11            yes            no             dsl             no           no   \n",
              "12            yes            no     fiber_optic             no           no   \n",
              "19            yes           yes     fiber_optic             no           no   \n",
              "...           ...           ...             ...            ...          ...   \n",
              "1397          yes            no     fiber_optic             no           no   \n",
              "1398          yes           yes     fiber_optic             no          yes   \n",
              "1399          yes            no     fiber_optic             no           no   \n",
              "1407          yes           yes     fiber_optic             no           no   \n",
              "1408          yes           yes     fiber_optic             no           no   \n",
              "\n",
              "     deviceprotection techsupport streamingtv streamingmovies        contract  \\\n",
              "3                  no          no          no              no  month-to-month   \n",
              "8                 yes         yes         yes             yes  month-to-month   \n",
              "11                 no          no          no              no  month-to-month   \n",
              "12                 no          no         yes             yes  month-to-month   \n",
              "19                 no          no          no              no  month-to-month   \n",
              "...               ...         ...         ...             ...             ...   \n",
              "1397               no          no          no              no  month-to-month   \n",
              "1398              yes          no         yes             yes  month-to-month   \n",
              "1399               no          no          no              no  month-to-month   \n",
              "1407               no          no         yes             yes  month-to-month   \n",
              "1408               no          no         yes             yes  month-to-month   \n",
              "\n",
              "     paperlessbilling            paymentmethod  monthlycharges  totalcharges  \n",
              "3                 yes         electronic_check           75.70        189.20  \n",
              "8                 yes             mailed_check           99.95        547.65  \n",
              "11                yes             mailed_check           46.10        130.15  \n",
              "12                yes         electronic_check           88.45        370.65  \n",
              "19                yes         electronic_check           74.90        541.15  \n",
              "...               ...                      ...             ...           ...  \n",
              "1397              yes         electronic_check           70.30        738.20  \n",
              "1398              yes  credit_card_(automatic)          102.95       2496.70  \n",
              "1399              yes         electronic_check           69.60        131.65  \n",
              "1407              yes         electronic_check           93.30         93.30  \n",
              "1408              yes         electronic_check           95.20        292.85  \n",
              "\n",
              "[311 rows x 20 columns]"
            ],
            "text/html": [
              "\n",
              "  <div id=\"df-aa590d13-885d-4958-baeb-76db88443944\">\n",
              "    <div class=\"colab-df-container\">\n",
              "      <div>\n",
              "<style scoped>\n",
              "    .dataframe tbody tr th:only-of-type {\n",
              "        vertical-align: middle;\n",
              "    }\n",
              "\n",
              "    .dataframe tbody tr th {\n",
              "        vertical-align: top;\n",
              "    }\n",
              "\n",
              "    .dataframe thead th {\n",
              "        text-align: right;\n",
              "    }\n",
              "</style>\n",
              "<table border=\"1\" class=\"dataframe\">\n",
              "  <thead>\n",
              "    <tr style=\"text-align: right;\">\n",
              "      <th></th>\n",
              "      <th>customerid</th>\n",
              "      <th>gender</th>\n",
              "      <th>seniorcitizen</th>\n",
              "      <th>partner</th>\n",
              "      <th>dependents</th>\n",
              "      <th>tenure</th>\n",
              "      <th>phoneservice</th>\n",
              "      <th>multiplelines</th>\n",
              "      <th>internetservice</th>\n",
              "      <th>onlinesecurity</th>\n",
              "      <th>onlinebackup</th>\n",
              "      <th>deviceprotection</th>\n",
              "      <th>techsupport</th>\n",
              "      <th>streamingtv</th>\n",
              "      <th>streamingmovies</th>\n",
              "      <th>contract</th>\n",
              "      <th>paperlessbilling</th>\n",
              "      <th>paymentmethod</th>\n",
              "      <th>monthlycharges</th>\n",
              "      <th>totalcharges</th>\n",
              "    </tr>\n",
              "  </thead>\n",
              "  <tbody>\n",
              "    <tr>\n",
              "      <th>3</th>\n",
              "      <td>8433-wxgna</td>\n",
              "      <td>male</td>\n",
              "      <td>0</td>\n",
              "      <td>no</td>\n",
              "      <td>no</td>\n",
              "      <td>2</td>\n",
              "      <td>yes</td>\n",
              "      <td>no</td>\n",
              "      <td>fiber_optic</td>\n",
              "      <td>yes</td>\n",
              "      <td>no</td>\n",
              "      <td>no</td>\n",
              "      <td>no</td>\n",
              "      <td>no</td>\n",
              "      <td>no</td>\n",
              "      <td>month-to-month</td>\n",
              "      <td>yes</td>\n",
              "      <td>electronic_check</td>\n",
              "      <td>75.70</td>\n",
              "      <td>189.20</td>\n",
              "    </tr>\n",
              "    <tr>\n",
              "      <th>8</th>\n",
              "      <td>3440-jpscl</td>\n",
              "      <td>female</td>\n",
              "      <td>0</td>\n",
              "      <td>no</td>\n",
              "      <td>no</td>\n",
              "      <td>6</td>\n",
              "      <td>yes</td>\n",
              "      <td>no</td>\n",
              "      <td>fiber_optic</td>\n",
              "      <td>no</td>\n",
              "      <td>no</td>\n",
              "      <td>yes</td>\n",
              "      <td>yes</td>\n",
              "      <td>yes</td>\n",
              "      <td>yes</td>\n",
              "      <td>month-to-month</td>\n",
              "      <td>yes</td>\n",
              "      <td>mailed_check</td>\n",
              "      <td>99.95</td>\n",
              "      <td>547.65</td>\n",
              "    </tr>\n",
              "    <tr>\n",
              "      <th>11</th>\n",
              "      <td>2637-fkfsy</td>\n",
              "      <td>female</td>\n",
              "      <td>0</td>\n",
              "      <td>yes</td>\n",
              "      <td>no</td>\n",
              "      <td>3</td>\n",
              "      <td>yes</td>\n",
              "      <td>no</td>\n",
              "      <td>dsl</td>\n",
              "      <td>no</td>\n",
              "      <td>no</td>\n",
              "      <td>no</td>\n",
              "      <td>no</td>\n",
              "      <td>no</td>\n",
              "      <td>no</td>\n",
              "      <td>month-to-month</td>\n",
              "      <td>yes</td>\n",
              "      <td>mailed_check</td>\n",
              "      <td>46.10</td>\n",
              "      <td>130.15</td>\n",
              "    </tr>\n",
              "    <tr>\n",
              "      <th>12</th>\n",
              "      <td>7228-omtpn</td>\n",
              "      <td>male</td>\n",
              "      <td>0</td>\n",
              "      <td>no</td>\n",
              "      <td>no</td>\n",
              "      <td>4</td>\n",
              "      <td>yes</td>\n",
              "      <td>no</td>\n",
              "      <td>fiber_optic</td>\n",
              "      <td>no</td>\n",
              "      <td>no</td>\n",
              "      <td>no</td>\n",
              "      <td>no</td>\n",
              "      <td>yes</td>\n",
              "      <td>yes</td>\n",
              "      <td>month-to-month</td>\n",
              "      <td>yes</td>\n",
              "      <td>electronic_check</td>\n",
              "      <td>88.45</td>\n",
              "      <td>370.65</td>\n",
              "    </tr>\n",
              "    <tr>\n",
              "      <th>19</th>\n",
              "      <td>6711-fldfb</td>\n",
              "      <td>female</td>\n",
              "      <td>0</td>\n",
              "      <td>no</td>\n",
              "      <td>no</td>\n",
              "      <td>7</td>\n",
              "      <td>yes</td>\n",
              "      <td>yes</td>\n",
              "      <td>fiber_optic</td>\n",
              "      <td>no</td>\n",
              "      <td>no</td>\n",
              "      <td>no</td>\n",
              "      <td>no</td>\n",
              "      <td>no</td>\n",
              "      <td>no</td>\n",
              "      <td>month-to-month</td>\n",
              "      <td>yes</td>\n",
              "      <td>electronic_check</td>\n",
              "      <td>74.90</td>\n",
              "      <td>541.15</td>\n",
              "    </tr>\n",
              "    <tr>\n",
              "      <th>...</th>\n",
              "      <td>...</td>\n",
              "      <td>...</td>\n",
              "      <td>...</td>\n",
              "      <td>...</td>\n",
              "      <td>...</td>\n",
              "      <td>...</td>\n",
              "      <td>...</td>\n",
              "      <td>...</td>\n",
              "      <td>...</td>\n",
              "      <td>...</td>\n",
              "      <td>...</td>\n",
              "      <td>...</td>\n",
              "      <td>...</td>\n",
              "      <td>...</td>\n",
              "      <td>...</td>\n",
              "      <td>...</td>\n",
              "      <td>...</td>\n",
              "      <td>...</td>\n",
              "      <td>...</td>\n",
              "      <td>...</td>\n",
              "    </tr>\n",
              "    <tr>\n",
              "      <th>1397</th>\n",
              "      <td>5976-jcjrh</td>\n",
              "      <td>male</td>\n",
              "      <td>0</td>\n",
              "      <td>yes</td>\n",
              "      <td>no</td>\n",
              "      <td>10</td>\n",
              "      <td>yes</td>\n",
              "      <td>no</td>\n",
              "      <td>fiber_optic</td>\n",
              "      <td>no</td>\n",
              "      <td>no</td>\n",
              "      <td>no</td>\n",
              "      <td>no</td>\n",
              "      <td>no</td>\n",
              "      <td>no</td>\n",
              "      <td>month-to-month</td>\n",
              "      <td>yes</td>\n",
              "      <td>electronic_check</td>\n",
              "      <td>70.30</td>\n",
              "      <td>738.20</td>\n",
              "    </tr>\n",
              "    <tr>\n",
              "      <th>1398</th>\n",
              "      <td>2034-cgrhz</td>\n",
              "      <td>male</td>\n",
              "      <td>1</td>\n",
              "      <td>no</td>\n",
              "      <td>no</td>\n",
              "      <td>24</td>\n",
              "      <td>yes</td>\n",
              "      <td>yes</td>\n",
              "      <td>fiber_optic</td>\n",
              "      <td>no</td>\n",
              "      <td>yes</td>\n",
              "      <td>yes</td>\n",
              "      <td>no</td>\n",
              "      <td>yes</td>\n",
              "      <td>yes</td>\n",
              "      <td>month-to-month</td>\n",
              "      <td>yes</td>\n",
              "      <td>credit_card_(automatic)</td>\n",
              "      <td>102.95</td>\n",
              "      <td>2496.70</td>\n",
              "    </tr>\n",
              "    <tr>\n",
              "      <th>1399</th>\n",
              "      <td>5276-kqwhg</td>\n",
              "      <td>female</td>\n",
              "      <td>1</td>\n",
              "      <td>no</td>\n",
              "      <td>no</td>\n",
              "      <td>2</td>\n",
              "      <td>yes</td>\n",
              "      <td>no</td>\n",
              "      <td>fiber_optic</td>\n",
              "      <td>no</td>\n",
              "      <td>no</td>\n",
              "      <td>no</td>\n",
              "      <td>no</td>\n",
              "      <td>no</td>\n",
              "      <td>no</td>\n",
              "      <td>month-to-month</td>\n",
              "      <td>yes</td>\n",
              "      <td>electronic_check</td>\n",
              "      <td>69.60</td>\n",
              "      <td>131.65</td>\n",
              "    </tr>\n",
              "    <tr>\n",
              "      <th>1407</th>\n",
              "      <td>6521-yytyi</td>\n",
              "      <td>male</td>\n",
              "      <td>0</td>\n",
              "      <td>no</td>\n",
              "      <td>yes</td>\n",
              "      <td>1</td>\n",
              "      <td>yes</td>\n",
              "      <td>yes</td>\n",
              "      <td>fiber_optic</td>\n",
              "      <td>no</td>\n",
              "      <td>no</td>\n",
              "      <td>no</td>\n",
              "      <td>no</td>\n",
              "      <td>yes</td>\n",
              "      <td>yes</td>\n",
              "      <td>month-to-month</td>\n",
              "      <td>yes</td>\n",
              "      <td>electronic_check</td>\n",
              "      <td>93.30</td>\n",
              "      <td>93.30</td>\n",
              "    </tr>\n",
              "    <tr>\n",
              "      <th>1408</th>\n",
              "      <td>3049-solay</td>\n",
              "      <td>female</td>\n",
              "      <td>0</td>\n",
              "      <td>yes</td>\n",
              "      <td>no</td>\n",
              "      <td>3</td>\n",
              "      <td>yes</td>\n",
              "      <td>yes</td>\n",
              "      <td>fiber_optic</td>\n",
              "      <td>no</td>\n",
              "      <td>no</td>\n",
              "      <td>no</td>\n",
              "      <td>no</td>\n",
              "      <td>yes</td>\n",
              "      <td>yes</td>\n",
              "      <td>month-to-month</td>\n",
              "      <td>yes</td>\n",
              "      <td>electronic_check</td>\n",
              "      <td>95.20</td>\n",
              "      <td>292.85</td>\n",
              "    </tr>\n",
              "  </tbody>\n",
              "</table>\n",
              "<p>311 rows × 20 columns</p>\n",
              "</div>\n",
              "      <button class=\"colab-df-convert\" onclick=\"convertToInteractive('df-aa590d13-885d-4958-baeb-76db88443944')\"\n",
              "              title=\"Convert this dataframe to an interactive table.\"\n",
              "              style=\"display:none;\">\n",
              "        \n",
              "  <svg xmlns=\"http://www.w3.org/2000/svg\" height=\"24px\"viewBox=\"0 0 24 24\"\n",
              "       width=\"24px\">\n",
              "    <path d=\"M0 0h24v24H0V0z\" fill=\"none\"/>\n",
              "    <path d=\"M18.56 5.44l.94 2.06.94-2.06 2.06-.94-2.06-.94-.94-2.06-.94 2.06-2.06.94zm-11 1L8.5 8.5l.94-2.06 2.06-.94-2.06-.94L8.5 2.5l-.94 2.06-2.06.94zm10 10l.94 2.06.94-2.06 2.06-.94-2.06-.94-.94-2.06-.94 2.06-2.06.94z\"/><path d=\"M17.41 7.96l-1.37-1.37c-.4-.4-.92-.59-1.43-.59-.52 0-1.04.2-1.43.59L10.3 9.45l-7.72 7.72c-.78.78-.78 2.05 0 2.83L4 21.41c.39.39.9.59 1.41.59.51 0 1.02-.2 1.41-.59l7.78-7.78 2.81-2.81c.8-.78.8-2.07 0-2.86zM5.41 20L4 18.59l7.72-7.72 1.47 1.35L5.41 20z\"/>\n",
              "  </svg>\n",
              "      </button>\n",
              "      \n",
              "  <style>\n",
              "    .colab-df-container {\n",
              "      display:flex;\n",
              "      flex-wrap:wrap;\n",
              "      gap: 12px;\n",
              "    }\n",
              "\n",
              "    .colab-df-convert {\n",
              "      background-color: #E8F0FE;\n",
              "      border: none;\n",
              "      border-radius: 50%;\n",
              "      cursor: pointer;\n",
              "      display: none;\n",
              "      fill: #1967D2;\n",
              "      height: 32px;\n",
              "      padding: 0 0 0 0;\n",
              "      width: 32px;\n",
              "    }\n",
              "\n",
              "    .colab-df-convert:hover {\n",
              "      background-color: #E2EBFA;\n",
              "      box-shadow: 0px 1px 2px rgba(60, 64, 67, 0.3), 0px 1px 3px 1px rgba(60, 64, 67, 0.15);\n",
              "      fill: #174EA6;\n",
              "    }\n",
              "\n",
              "    [theme=dark] .colab-df-convert {\n",
              "      background-color: #3B4455;\n",
              "      fill: #D2E3FC;\n",
              "    }\n",
              "\n",
              "    [theme=dark] .colab-df-convert:hover {\n",
              "      background-color: #434B5C;\n",
              "      box-shadow: 0px 1px 3px 1px rgba(0, 0, 0, 0.15);\n",
              "      filter: drop-shadow(0px 1px 2px rgba(0, 0, 0, 0.3));\n",
              "      fill: #FFFFFF;\n",
              "    }\n",
              "  </style>\n",
              "\n",
              "      <script>\n",
              "        const buttonEl =\n",
              "          document.querySelector('#df-aa590d13-885d-4958-baeb-76db88443944 button.colab-df-convert');\n",
              "        buttonEl.style.display =\n",
              "          google.colab.kernel.accessAllowed ? 'block' : 'none';\n",
              "\n",
              "        async function convertToInteractive(key) {\n",
              "          const element = document.querySelector('#df-aa590d13-885d-4958-baeb-76db88443944');\n",
              "          const dataTable =\n",
              "            await google.colab.kernel.invokeFunction('convertToInteractive',\n",
              "                                                     [key], {});\n",
              "          if (!dataTable) return;\n",
              "\n",
              "          const docLinkHtml = 'Like what you see? Visit the ' +\n",
              "            '<a target=\"_blank\" href=https://colab.research.google.com/notebooks/data_table.ipynb>data table notebook</a>'\n",
              "            + ' to learn more about interactive tables.';\n",
              "          element.innerHTML = '';\n",
              "          dataTable['output_type'] = 'display_data';\n",
              "          await google.colab.output.renderOutput(dataTable, element);\n",
              "          const docLink = document.createElement('div');\n",
              "          docLink.innerHTML = docLinkHtml;\n",
              "          element.appendChild(docLink);\n",
              "        }\n",
              "      </script>\n",
              "    </div>\n",
              "  </div>\n",
              "  "
            ]
          },
          "metadata": {},
          "execution_count": 142
        }
      ]
    },
    {
      "cell_type": "markdown",
      "source": [
        "* We can select all the customers that are think they are going to churn"
      ],
      "metadata": {
        "id": "agFfnNm-jrUa"
      }
    },
    {
      "cell_type": "code",
      "source": [
        "df_val[churn_decision].customerid"
      ],
      "metadata": {
        "colab": {
          "base_uri": "https://localhost:8080/"
        },
        "id": "WWl--MwjjsP3",
        "outputId": "5316dc7a-bf3d-4d25-d6e3-ca869ff37044"
      },
      "execution_count": 143,
      "outputs": [
        {
          "output_type": "execute_result",
          "data": {
            "text/plain": [
              "3       8433-wxgna\n",
              "8       3440-jpscl\n",
              "11      2637-fkfsy\n",
              "12      7228-omtpn\n",
              "19      6711-fldfb\n",
              "           ...    \n",
              "1397    5976-jcjrh\n",
              "1398    2034-cgrhz\n",
              "1399    5276-kqwhg\n",
              "1407    6521-yytyi\n",
              "1408    3049-solay\n",
              "Name: customerid, Length: 311, dtype: object"
            ]
          },
          "metadata": {},
          "execution_count": 143
        }
      ]
    },
    {
      "cell_type": "markdown",
      "source": [
        "* These are the people that will receive promotional emails with some discount of 25 percent, our model thinks that they will churn so let's send them some discount\n",
        "* How accurate our predictions are for regression we used rmse as a way to measure the performance of our model to see how good it is"
      ],
      "metadata": {
        "id": "t1K3Luk6j0N_"
      }
    },
    {
      "cell_type": "code",
      "source": [
        "y_val"
      ],
      "metadata": {
        "colab": {
          "base_uri": "https://localhost:8080/"
        },
        "id": "CVvUQDdPkIqs",
        "outputId": "98998ac1-2111-4577-e1d9-d9f2247fa641"
      },
      "execution_count": 144,
      "outputs": [
        {
          "output_type": "execute_result",
          "data": {
            "text/plain": [
              "array([0, 0, 0, ..., 0, 1, 1])"
            ]
          },
          "metadata": {},
          "execution_count": 144
        }
      ]
    },
    {
      "cell_type": "code",
      "source": [
        "churn_decision.astype(int)\n"
      ],
      "metadata": {
        "id": "zC81fRkm9zgI",
        "colab": {
          "base_uri": "https://localhost:8080/"
        },
        "outputId": "c9b15a58-976b-479f-c358-ae65218ca320"
      },
      "execution_count": 145,
      "outputs": [
        {
          "output_type": "execute_result",
          "data": {
            "text/plain": [
              "array([0, 0, 0, ..., 0, 1, 1])"
            ]
          },
          "metadata": {},
          "execution_count": 145
        }
      ]
    },
    {
      "cell_type": "markdown",
      "source": [
        "* Which tells us how many correct predictions we made this is fairly easy to implement well, we can just see how many of them match\n",
        "* how many in total and how many of them are matching"
      ],
      "metadata": {
        "id": "9N-nMeqNkXiP"
      }
    },
    {
      "cell_type": "code",
      "source": [
        "y_val == churn_decision"
      ],
      "metadata": {
        "colab": {
          "base_uri": "https://localhost:8080/"
        },
        "id": "llhHu9-rkgpK",
        "outputId": "fb885305-e357-4864-debc-dfc09da9e74a"
      },
      "execution_count": 146,
      "outputs": [
        {
          "output_type": "execute_result",
          "data": {
            "text/plain": [
              "array([ True,  True,  True, ...,  True,  True,  True])"
            ]
          },
          "metadata": {},
          "execution_count": 146
        }
      ]
    },
    {
      "cell_type": "markdown",
      "source": [
        "* If the number match true and false if they don't match"
      ],
      "metadata": {
        "id": "-BYYqw1oknuL"
      }
    },
    {
      "cell_type": "code",
      "source": [
        "(y_val == churn_decision).mean()"
      ],
      "metadata": {
        "id": "Y4sb_ZE79hXM",
        "colab": {
          "base_uri": "https://localhost:8080/"
        },
        "outputId": "9d675df4-c861-44b4-a044-be4709f546ea"
      },
      "execution_count": 147,
      "outputs": [
        {
          "output_type": "execute_result",
          "data": {
            "text/plain": [
              "0.8034066713981547"
            ]
          },
          "metadata": {},
          "execution_count": 147
        }
      ]
    },
    {
      "cell_type": "markdown",
      "source": [
        "* We see that 80 percent of our predictions match"
      ],
      "metadata": {
        "id": "K62ycxGhk08E"
      }
    },
    {
      "cell_type": "code",
      "source": [
        "df_pred = pd.DataFrame()\n",
        "df_pred['probability'] = y_pred\n",
        "df_pred['prediction'] = churn_decision.astype(int)\n",
        "df_pred['actual'] = y_val"
      ],
      "metadata": {
        "id": "ESXlfx7O9lU8"
      },
      "execution_count": 149,
      "outputs": []
    },
    {
      "cell_type": "code",
      "source": [
        "df_pred"
      ],
      "metadata": {
        "colab": {
          "base_uri": "https://localhost:8080/",
          "height": 424
        },
        "id": "_ROyKBrGkxq5",
        "outputId": "c570c906-fd5b-40e0-ede0-d57d68a810e0"
      },
      "execution_count": 150,
      "outputs": [
        {
          "output_type": "execute_result",
          "data": {
            "text/plain": [
              "      probability  prediction  actual\n",
              "0        0.008996           0       0\n",
              "1        0.204522           0       0\n",
              "2        0.212222           0       0\n",
              "3        0.543045           1       1\n",
              "4        0.213785           0       0\n",
              "...           ...         ...     ...\n",
              "1404     0.313661           0       0\n",
              "1405     0.039356           0       1\n",
              "1406     0.136384           0       0\n",
              "1407     0.799770           1       1\n",
              "1408     0.837407           1       1\n",
              "\n",
              "[1409 rows x 3 columns]"
            ],
            "text/html": [
              "\n",
              "  <div id=\"df-d1215248-a09c-49d6-ae46-00ac29d946f5\">\n",
              "    <div class=\"colab-df-container\">\n",
              "      <div>\n",
              "<style scoped>\n",
              "    .dataframe tbody tr th:only-of-type {\n",
              "        vertical-align: middle;\n",
              "    }\n",
              "\n",
              "    .dataframe tbody tr th {\n",
              "        vertical-align: top;\n",
              "    }\n",
              "\n",
              "    .dataframe thead th {\n",
              "        text-align: right;\n",
              "    }\n",
              "</style>\n",
              "<table border=\"1\" class=\"dataframe\">\n",
              "  <thead>\n",
              "    <tr style=\"text-align: right;\">\n",
              "      <th></th>\n",
              "      <th>probability</th>\n",
              "      <th>prediction</th>\n",
              "      <th>actual</th>\n",
              "    </tr>\n",
              "  </thead>\n",
              "  <tbody>\n",
              "    <tr>\n",
              "      <th>0</th>\n",
              "      <td>0.008996</td>\n",
              "      <td>0</td>\n",
              "      <td>0</td>\n",
              "    </tr>\n",
              "    <tr>\n",
              "      <th>1</th>\n",
              "      <td>0.204522</td>\n",
              "      <td>0</td>\n",
              "      <td>0</td>\n",
              "    </tr>\n",
              "    <tr>\n",
              "      <th>2</th>\n",
              "      <td>0.212222</td>\n",
              "      <td>0</td>\n",
              "      <td>0</td>\n",
              "    </tr>\n",
              "    <tr>\n",
              "      <th>3</th>\n",
              "      <td>0.543045</td>\n",
              "      <td>1</td>\n",
              "      <td>1</td>\n",
              "    </tr>\n",
              "    <tr>\n",
              "      <th>4</th>\n",
              "      <td>0.213785</td>\n",
              "      <td>0</td>\n",
              "      <td>0</td>\n",
              "    </tr>\n",
              "    <tr>\n",
              "      <th>...</th>\n",
              "      <td>...</td>\n",
              "      <td>...</td>\n",
              "      <td>...</td>\n",
              "    </tr>\n",
              "    <tr>\n",
              "      <th>1404</th>\n",
              "      <td>0.313661</td>\n",
              "      <td>0</td>\n",
              "      <td>0</td>\n",
              "    </tr>\n",
              "    <tr>\n",
              "      <th>1405</th>\n",
              "      <td>0.039356</td>\n",
              "      <td>0</td>\n",
              "      <td>1</td>\n",
              "    </tr>\n",
              "    <tr>\n",
              "      <th>1406</th>\n",
              "      <td>0.136384</td>\n",
              "      <td>0</td>\n",
              "      <td>0</td>\n",
              "    </tr>\n",
              "    <tr>\n",
              "      <th>1407</th>\n",
              "      <td>0.799770</td>\n",
              "      <td>1</td>\n",
              "      <td>1</td>\n",
              "    </tr>\n",
              "    <tr>\n",
              "      <th>1408</th>\n",
              "      <td>0.837407</td>\n",
              "      <td>1</td>\n",
              "      <td>1</td>\n",
              "    </tr>\n",
              "  </tbody>\n",
              "</table>\n",
              "<p>1409 rows × 3 columns</p>\n",
              "</div>\n",
              "      <button class=\"colab-df-convert\" onclick=\"convertToInteractive('df-d1215248-a09c-49d6-ae46-00ac29d946f5')\"\n",
              "              title=\"Convert this dataframe to an interactive table.\"\n",
              "              style=\"display:none;\">\n",
              "        \n",
              "  <svg xmlns=\"http://www.w3.org/2000/svg\" height=\"24px\"viewBox=\"0 0 24 24\"\n",
              "       width=\"24px\">\n",
              "    <path d=\"M0 0h24v24H0V0z\" fill=\"none\"/>\n",
              "    <path d=\"M18.56 5.44l.94 2.06.94-2.06 2.06-.94-2.06-.94-.94-2.06-.94 2.06-2.06.94zm-11 1L8.5 8.5l.94-2.06 2.06-.94-2.06-.94L8.5 2.5l-.94 2.06-2.06.94zm10 10l.94 2.06.94-2.06 2.06-.94-2.06-.94-.94-2.06-.94 2.06-2.06.94z\"/><path d=\"M17.41 7.96l-1.37-1.37c-.4-.4-.92-.59-1.43-.59-.52 0-1.04.2-1.43.59L10.3 9.45l-7.72 7.72c-.78.78-.78 2.05 0 2.83L4 21.41c.39.39.9.59 1.41.59.51 0 1.02-.2 1.41-.59l7.78-7.78 2.81-2.81c.8-.78.8-2.07 0-2.86zM5.41 20L4 18.59l7.72-7.72 1.47 1.35L5.41 20z\"/>\n",
              "  </svg>\n",
              "      </button>\n",
              "      \n",
              "  <style>\n",
              "    .colab-df-container {\n",
              "      display:flex;\n",
              "      flex-wrap:wrap;\n",
              "      gap: 12px;\n",
              "    }\n",
              "\n",
              "    .colab-df-convert {\n",
              "      background-color: #E8F0FE;\n",
              "      border: none;\n",
              "      border-radius: 50%;\n",
              "      cursor: pointer;\n",
              "      display: none;\n",
              "      fill: #1967D2;\n",
              "      height: 32px;\n",
              "      padding: 0 0 0 0;\n",
              "      width: 32px;\n",
              "    }\n",
              "\n",
              "    .colab-df-convert:hover {\n",
              "      background-color: #E2EBFA;\n",
              "      box-shadow: 0px 1px 2px rgba(60, 64, 67, 0.3), 0px 1px 3px 1px rgba(60, 64, 67, 0.15);\n",
              "      fill: #174EA6;\n",
              "    }\n",
              "\n",
              "    [theme=dark] .colab-df-convert {\n",
              "      background-color: #3B4455;\n",
              "      fill: #D2E3FC;\n",
              "    }\n",
              "\n",
              "    [theme=dark] .colab-df-convert:hover {\n",
              "      background-color: #434B5C;\n",
              "      box-shadow: 0px 1px 3px 1px rgba(0, 0, 0, 0.15);\n",
              "      filter: drop-shadow(0px 1px 2px rgba(0, 0, 0, 0.3));\n",
              "      fill: #FFFFFF;\n",
              "    }\n",
              "  </style>\n",
              "\n",
              "      <script>\n",
              "        const buttonEl =\n",
              "          document.querySelector('#df-d1215248-a09c-49d6-ae46-00ac29d946f5 button.colab-df-convert');\n",
              "        buttonEl.style.display =\n",
              "          google.colab.kernel.accessAllowed ? 'block' : 'none';\n",
              "\n",
              "        async function convertToInteractive(key) {\n",
              "          const element = document.querySelector('#df-d1215248-a09c-49d6-ae46-00ac29d946f5');\n",
              "          const dataTable =\n",
              "            await google.colab.kernel.invokeFunction('convertToInteractive',\n",
              "                                                     [key], {});\n",
              "          if (!dataTable) return;\n",
              "\n",
              "          const docLinkHtml = 'Like what you see? Visit the ' +\n",
              "            '<a target=\"_blank\" href=https://colab.research.google.com/notebooks/data_table.ipynb>data table notebook</a>'\n",
              "            + ' to learn more about interactive tables.';\n",
              "          element.innerHTML = '';\n",
              "          dataTable['output_type'] = 'display_data';\n",
              "          await google.colab.output.renderOutput(dataTable, element);\n",
              "          const docLink = document.createElement('div');\n",
              "          docLink.innerHTML = docLinkHtml;\n",
              "          element.appendChild(docLink);\n",
              "        }\n",
              "      </script>\n",
              "    </div>\n",
              "  </div>\n",
              "  "
            ]
          },
          "metadata": {},
          "execution_count": 150
        }
      ]
    },
    {
      "cell_type": "markdown",
      "source": [
        "* Which customer had the predictions and has the actual value"
      ],
      "metadata": {
        "id": "r7AtNywqlTRP"
      }
    },
    {
      "cell_type": "code",
      "source": [
        "df_pred['correct'] = df_pred.prediction == df_pred.actual\n"
      ],
      "metadata": {
        "id": "LlGtaAj69qKb"
      },
      "execution_count": 151,
      "outputs": []
    },
    {
      "cell_type": "code",
      "source": [
        "df_pred"
      ],
      "metadata": {
        "colab": {
          "base_uri": "https://localhost:8080/",
          "height": 424
        },
        "id": "vwxZ5_ymlkYD",
        "outputId": "78268970-2ae5-4b38-aec6-6e4daf48bee8"
      },
      "execution_count": 152,
      "outputs": [
        {
          "output_type": "execute_result",
          "data": {
            "text/plain": [
              "      probability  prediction  actual  correct\n",
              "0        0.008996           0       0     True\n",
              "1        0.204522           0       0     True\n",
              "2        0.212222           0       0     True\n",
              "3        0.543045           1       1     True\n",
              "4        0.213785           0       0     True\n",
              "...           ...         ...     ...      ...\n",
              "1404     0.313661           0       0     True\n",
              "1405     0.039356           0       1    False\n",
              "1406     0.136384           0       0     True\n",
              "1407     0.799770           1       1     True\n",
              "1408     0.837407           1       1     True\n",
              "\n",
              "[1409 rows x 4 columns]"
            ],
            "text/html": [
              "\n",
              "  <div id=\"df-1c686ad2-1638-4287-8b73-e58c950b4b58\">\n",
              "    <div class=\"colab-df-container\">\n",
              "      <div>\n",
              "<style scoped>\n",
              "    .dataframe tbody tr th:only-of-type {\n",
              "        vertical-align: middle;\n",
              "    }\n",
              "\n",
              "    .dataframe tbody tr th {\n",
              "        vertical-align: top;\n",
              "    }\n",
              "\n",
              "    .dataframe thead th {\n",
              "        text-align: right;\n",
              "    }\n",
              "</style>\n",
              "<table border=\"1\" class=\"dataframe\">\n",
              "  <thead>\n",
              "    <tr style=\"text-align: right;\">\n",
              "      <th></th>\n",
              "      <th>probability</th>\n",
              "      <th>prediction</th>\n",
              "      <th>actual</th>\n",
              "      <th>correct</th>\n",
              "    </tr>\n",
              "  </thead>\n",
              "  <tbody>\n",
              "    <tr>\n",
              "      <th>0</th>\n",
              "      <td>0.008996</td>\n",
              "      <td>0</td>\n",
              "      <td>0</td>\n",
              "      <td>True</td>\n",
              "    </tr>\n",
              "    <tr>\n",
              "      <th>1</th>\n",
              "      <td>0.204522</td>\n",
              "      <td>0</td>\n",
              "      <td>0</td>\n",
              "      <td>True</td>\n",
              "    </tr>\n",
              "    <tr>\n",
              "      <th>2</th>\n",
              "      <td>0.212222</td>\n",
              "      <td>0</td>\n",
              "      <td>0</td>\n",
              "      <td>True</td>\n",
              "    </tr>\n",
              "    <tr>\n",
              "      <th>3</th>\n",
              "      <td>0.543045</td>\n",
              "      <td>1</td>\n",
              "      <td>1</td>\n",
              "      <td>True</td>\n",
              "    </tr>\n",
              "    <tr>\n",
              "      <th>4</th>\n",
              "      <td>0.213785</td>\n",
              "      <td>0</td>\n",
              "      <td>0</td>\n",
              "      <td>True</td>\n",
              "    </tr>\n",
              "    <tr>\n",
              "      <th>...</th>\n",
              "      <td>...</td>\n",
              "      <td>...</td>\n",
              "      <td>...</td>\n",
              "      <td>...</td>\n",
              "    </tr>\n",
              "    <tr>\n",
              "      <th>1404</th>\n",
              "      <td>0.313661</td>\n",
              "      <td>0</td>\n",
              "      <td>0</td>\n",
              "      <td>True</td>\n",
              "    </tr>\n",
              "    <tr>\n",
              "      <th>1405</th>\n",
              "      <td>0.039356</td>\n",
              "      <td>0</td>\n",
              "      <td>1</td>\n",
              "      <td>False</td>\n",
              "    </tr>\n",
              "    <tr>\n",
              "      <th>1406</th>\n",
              "      <td>0.136384</td>\n",
              "      <td>0</td>\n",
              "      <td>0</td>\n",
              "      <td>True</td>\n",
              "    </tr>\n",
              "    <tr>\n",
              "      <th>1407</th>\n",
              "      <td>0.799770</td>\n",
              "      <td>1</td>\n",
              "      <td>1</td>\n",
              "      <td>True</td>\n",
              "    </tr>\n",
              "    <tr>\n",
              "      <th>1408</th>\n",
              "      <td>0.837407</td>\n",
              "      <td>1</td>\n",
              "      <td>1</td>\n",
              "      <td>True</td>\n",
              "    </tr>\n",
              "  </tbody>\n",
              "</table>\n",
              "<p>1409 rows × 4 columns</p>\n",
              "</div>\n",
              "      <button class=\"colab-df-convert\" onclick=\"convertToInteractive('df-1c686ad2-1638-4287-8b73-e58c950b4b58')\"\n",
              "              title=\"Convert this dataframe to an interactive table.\"\n",
              "              style=\"display:none;\">\n",
              "        \n",
              "  <svg xmlns=\"http://www.w3.org/2000/svg\" height=\"24px\"viewBox=\"0 0 24 24\"\n",
              "       width=\"24px\">\n",
              "    <path d=\"M0 0h24v24H0V0z\" fill=\"none\"/>\n",
              "    <path d=\"M18.56 5.44l.94 2.06.94-2.06 2.06-.94-2.06-.94-.94-2.06-.94 2.06-2.06.94zm-11 1L8.5 8.5l.94-2.06 2.06-.94-2.06-.94L8.5 2.5l-.94 2.06-2.06.94zm10 10l.94 2.06.94-2.06 2.06-.94-2.06-.94-.94-2.06-.94 2.06-2.06.94z\"/><path d=\"M17.41 7.96l-1.37-1.37c-.4-.4-.92-.59-1.43-.59-.52 0-1.04.2-1.43.59L10.3 9.45l-7.72 7.72c-.78.78-.78 2.05 0 2.83L4 21.41c.39.39.9.59 1.41.59.51 0 1.02-.2 1.41-.59l7.78-7.78 2.81-2.81c.8-.78.8-2.07 0-2.86zM5.41 20L4 18.59l7.72-7.72 1.47 1.35L5.41 20z\"/>\n",
              "  </svg>\n",
              "      </button>\n",
              "      \n",
              "  <style>\n",
              "    .colab-df-container {\n",
              "      display:flex;\n",
              "      flex-wrap:wrap;\n",
              "      gap: 12px;\n",
              "    }\n",
              "\n",
              "    .colab-df-convert {\n",
              "      background-color: #E8F0FE;\n",
              "      border: none;\n",
              "      border-radius: 50%;\n",
              "      cursor: pointer;\n",
              "      display: none;\n",
              "      fill: #1967D2;\n",
              "      height: 32px;\n",
              "      padding: 0 0 0 0;\n",
              "      width: 32px;\n",
              "    }\n",
              "\n",
              "    .colab-df-convert:hover {\n",
              "      background-color: #E2EBFA;\n",
              "      box-shadow: 0px 1px 2px rgba(60, 64, 67, 0.3), 0px 1px 3px 1px rgba(60, 64, 67, 0.15);\n",
              "      fill: #174EA6;\n",
              "    }\n",
              "\n",
              "    [theme=dark] .colab-df-convert {\n",
              "      background-color: #3B4455;\n",
              "      fill: #D2E3FC;\n",
              "    }\n",
              "\n",
              "    [theme=dark] .colab-df-convert:hover {\n",
              "      background-color: #434B5C;\n",
              "      box-shadow: 0px 1px 3px 1px rgba(0, 0, 0, 0.15);\n",
              "      filter: drop-shadow(0px 1px 2px rgba(0, 0, 0, 0.3));\n",
              "      fill: #FFFFFF;\n",
              "    }\n",
              "  </style>\n",
              "\n",
              "      <script>\n",
              "        const buttonEl =\n",
              "          document.querySelector('#df-1c686ad2-1638-4287-8b73-e58c950b4b58 button.colab-df-convert');\n",
              "        buttonEl.style.display =\n",
              "          google.colab.kernel.accessAllowed ? 'block' : 'none';\n",
              "\n",
              "        async function convertToInteractive(key) {\n",
              "          const element = document.querySelector('#df-1c686ad2-1638-4287-8b73-e58c950b4b58');\n",
              "          const dataTable =\n",
              "            await google.colab.kernel.invokeFunction('convertToInteractive',\n",
              "                                                     [key], {});\n",
              "          if (!dataTable) return;\n",
              "\n",
              "          const docLinkHtml = 'Like what you see? Visit the ' +\n",
              "            '<a target=\"_blank\" href=https://colab.research.google.com/notebooks/data_table.ipynb>data table notebook</a>'\n",
              "            + ' to learn more about interactive tables.';\n",
              "          element.innerHTML = '';\n",
              "          dataTable['output_type'] = 'display_data';\n",
              "          await google.colab.output.renderOutput(dataTable, element);\n",
              "          const docLink = document.createElement('div');\n",
              "          docLink.innerHTML = docLinkHtml;\n",
              "          element.appendChild(docLink);\n",
              "        }\n",
              "      </script>\n",
              "    </div>\n",
              "  </div>\n",
              "  "
            ]
          },
          "metadata": {},
          "execution_count": 152
        }
      ]
    },
    {
      "cell_type": "markdown",
      "source": [
        "* Let's take a look at this dataframe we have another column each time it matches each time it's the same it's true and when it's not correct and actually for this person we thought that probability is super tiny it's like thirty-four percent but this person still left this we didn't get it"
      ],
      "metadata": {
        "id": "YeRv03GGluof"
      }
    },
    {
      "cell_type": "code",
      "source": [
        "df_pred.correct.mean()"
      ],
      "metadata": {
        "id": "dzkRFPAv9t-B",
        "colab": {
          "base_uri": "https://localhost:8080/"
        },
        "outputId": "b992a81a-9780-49b9-9125-cced245e8a1c"
      },
      "execution_count": null,
      "outputs": [
        {
          "output_type": "execute_result",
          "data": {
            "text/plain": [
              "0.8034066713981547"
            ]
          },
          "metadata": {},
          "execution_count": 198
        }
      ]
    },
    {
      "cell_type": "markdown",
      "source": [
        "* Eighty percent correct which means that in eighty percent of the cases when the model says a person is going to churn or not going to churn this is true so the model is correct and for the domain and twenty percent the model is saying that okay"
      ],
      "metadata": {
        "id": "d4wtiQCUTpj4"
      }
    },
    {
      "cell_type": "code",
      "source": [
        "df_pred.correct"
      ],
      "metadata": {
        "colab": {
          "base_uri": "https://localhost:8080/"
        },
        "id": "3Dj5o80vmNzW",
        "outputId": "e8ac2a88-9f9d-47cc-ca96-91bf21287694"
      },
      "execution_count": null,
      "outputs": [
        {
          "output_type": "execute_result",
          "data": {
            "text/plain": [
              "0        True\n",
              "1        True\n",
              "2        True\n",
              "3        True\n",
              "4        True\n",
              "        ...  \n",
              "1404     True\n",
              "1405    False\n",
              "1406     True\n",
              "1407     True\n",
              "1408     True\n",
              "Name: correct, Length: 1409, dtype: bool"
            ]
          },
          "metadata": {},
          "execution_count": 197
        }
      ]
    },
    {
      "cell_type": "markdown",
      "source": [
        "## **3.11 Model interpretation** (video 3.11)\n",
        "\n",
        "* Look at the coefficients\n",
        "* Train a smaller model with fewer features\n",
        "\n",
        "In the formula of the logistic regression model, only one of the one-hot encoded categories is multiplied by 1, and the other by 0. In this way, we only consider the appropriate category for each categorical feature.\n",
        "\n",
        "### Classes, functions, and methods:\n",
        "\n",
        "* zip(x,y) - returns a new list with elements from x joined with their corresponding elements on y\n"
      ],
      "metadata": {
        "id": "13kV09qF97Ew"
      }
    },
    {
      "cell_type": "code",
      "source": [
        "train_dicts = df_train[categorical + numerical].to_dict(orient='records')"
      ],
      "metadata": {
        "id": "ZL73z6fKWDs1"
      },
      "execution_count": 156,
      "outputs": []
    },
    {
      "cell_type": "code",
      "source": [
        "dv = DictVectorizer(sparse=False)"
      ],
      "metadata": {
        "id": "zlTDt0ZTV2VG"
      },
      "execution_count": 157,
      "outputs": []
    },
    {
      "cell_type": "code",
      "source": [
        "dv.fit(train_dicts)"
      ],
      "metadata": {
        "colab": {
          "base_uri": "https://localhost:8080/"
        },
        "id": "JNQ1UmFfWWMR",
        "outputId": "5f0964b9-6fa8-42c7-f8bc-e8842db9ee25"
      },
      "execution_count": 159,
      "outputs": [
        {
          "output_type": "execute_result",
          "data": {
            "text/plain": [
              "DictVectorizer(sparse=False)"
            ]
          },
          "metadata": {},
          "execution_count": 159
        }
      ]
    },
    {
      "cell_type": "code",
      "source": [
        "dv.get_feature_names()"
      ],
      "metadata": {
        "colab": {
          "base_uri": "https://localhost:8080/"
        },
        "id": "AQGVdJgkVjiY",
        "outputId": "478727d4-a429-4942-9c09-5c00122f886a"
      },
      "execution_count": 160,
      "outputs": [
        {
          "output_type": "execute_result",
          "data": {
            "text/plain": [
              "['contract=month-to-month',\n",
              " 'contract=one_year',\n",
              " 'contract=two_year',\n",
              " 'dependents=no',\n",
              " 'dependents=yes',\n",
              " 'deviceprotection=no',\n",
              " 'deviceprotection=no_internet_service',\n",
              " 'deviceprotection=yes',\n",
              " 'gender=female',\n",
              " 'gender=male',\n",
              " 'internetservice=dsl',\n",
              " 'internetservice=fiber_optic',\n",
              " 'internetservice=no',\n",
              " 'monthlycharges',\n",
              " 'multiplelines=no',\n",
              " 'multiplelines=no_phone_service',\n",
              " 'multiplelines=yes',\n",
              " 'onlinebackup=no',\n",
              " 'onlinebackup=no_internet_service',\n",
              " 'onlinebackup=yes',\n",
              " 'onlinesecurity=no',\n",
              " 'onlinesecurity=no_internet_service',\n",
              " 'onlinesecurity=yes',\n",
              " 'paperlessbilling=no',\n",
              " 'paperlessbilling=yes',\n",
              " 'partner=no',\n",
              " 'partner=yes',\n",
              " 'paymentmethod=bank_transfer_(automatic)',\n",
              " 'paymentmethod=credit_card_(automatic)',\n",
              " 'paymentmethod=electronic_check',\n",
              " 'paymentmethod=mailed_check',\n",
              " 'phoneservice=no',\n",
              " 'phoneservice=yes',\n",
              " 'seniorcitizen',\n",
              " 'streamingmovies=no',\n",
              " 'streamingmovies=no_internet_service',\n",
              " 'streamingmovies=yes',\n",
              " 'streamingtv=no',\n",
              " 'streamingtv=no_internet_service',\n",
              " 'streamingtv=yes',\n",
              " 'techsupport=no',\n",
              " 'techsupport=no_internet_service',\n",
              " 'techsupport=yes',\n",
              " 'tenure',\n",
              " 'totalcharges']"
            ]
          },
          "metadata": {},
          "execution_count": 160
        }
      ]
    },
    {
      "cell_type": "code",
      "source": [
        "model.coef_[0].round(3)"
      ],
      "metadata": {
        "colab": {
          "base_uri": "https://localhost:8080/"
        },
        "id": "F-0jSblYU_Pi",
        "outputId": "55dbb181-4874-4b8a-b348-4d5f3aa9ead8"
      },
      "execution_count": 161,
      "outputs": [
        {
          "output_type": "execute_result",
          "data": {
            "text/plain": [
              "array([ 0.475, -0.175, -0.408, -0.03 , -0.078,  0.063, -0.089, -0.081,\n",
              "       -0.034, -0.073, -0.335,  0.317, -0.089,  0.004, -0.258,  0.141,\n",
              "        0.009,  0.063, -0.089, -0.081,  0.266, -0.089, -0.284, -0.231,\n",
              "        0.124, -0.166,  0.058, -0.087, -0.032,  0.07 , -0.059,  0.141,\n",
              "       -0.249,  0.215, -0.12 , -0.089,  0.102, -0.071, -0.089,  0.052,\n",
              "        0.213, -0.089, -0.232, -0.07 ,  0.   ])"
            ]
          },
          "metadata": {},
          "execution_count": 161
        }
      ]
    },
    {
      "cell_type": "code",
      "source": [
        "a = [1, 2, 3, 4]\n",
        "b = 'abcd'"
      ],
      "metadata": {
        "id": "0DojUx8C933B"
      },
      "execution_count": 162,
      "outputs": []
    },
    {
      "cell_type": "code",
      "source": [
        "list(zip(a,b))"
      ],
      "metadata": {
        "colab": {
          "base_uri": "https://localhost:8080/"
        },
        "id": "agba_dEJXCjx",
        "outputId": "7a1b0e5f-1162-443c-ec43-a43e257a3e18"
      },
      "execution_count": 166,
      "outputs": [
        {
          "output_type": "execute_result",
          "data": {
            "text/plain": [
              "[(1, 'a'), (2, 'b'), (3, 'c'), (4, 'd')]"
            ]
          },
          "metadata": {},
          "execution_count": 166
        }
      ]
    },
    {
      "cell_type": "code",
      "source": [
        "dict(zip(a, b))"
      ],
      "metadata": {
        "id": "NF5wcgXM-EWO",
        "colab": {
          "base_uri": "https://localhost:8080/"
        },
        "outputId": "d339b628-d628-4a1e-83e3-5d32818d4405"
      },
      "execution_count": 163,
      "outputs": [
        {
          "output_type": "execute_result",
          "data": {
            "text/plain": [
              "{1: 'a', 2: 'b', 3: 'c', 4: 'd'}"
            ]
          },
          "metadata": {},
          "execution_count": 163
        }
      ]
    },
    {
      "cell_type": "code",
      "source": [
        "dict(zip(dv.get_feature_names(), model.coef_[0].round(3)))"
      ],
      "metadata": {
        "id": "HNjTIi0o-IlD",
        "colab": {
          "base_uri": "https://localhost:8080/"
        },
        "outputId": "12eaac4a-265c-44aa-a2ba-5e4485d4136f"
      },
      "execution_count": 164,
      "outputs": [
        {
          "output_type": "execute_result",
          "data": {
            "text/plain": [
              "{'contract=month-to-month': 0.475,\n",
              " 'contract=one_year': -0.175,\n",
              " 'contract=two_year': -0.408,\n",
              " 'dependents=no': -0.03,\n",
              " 'dependents=yes': -0.078,\n",
              " 'deviceprotection=no': 0.063,\n",
              " 'deviceprotection=no_internet_service': -0.089,\n",
              " 'deviceprotection=yes': -0.081,\n",
              " 'gender=female': -0.034,\n",
              " 'gender=male': -0.073,\n",
              " 'internetservice=dsl': -0.335,\n",
              " 'internetservice=fiber_optic': 0.317,\n",
              " 'internetservice=no': -0.089,\n",
              " 'monthlycharges': 0.004,\n",
              " 'multiplelines=no': -0.258,\n",
              " 'multiplelines=no_phone_service': 0.141,\n",
              " 'multiplelines=yes': 0.009,\n",
              " 'onlinebackup=no': 0.063,\n",
              " 'onlinebackup=no_internet_service': -0.089,\n",
              " 'onlinebackup=yes': -0.081,\n",
              " 'onlinesecurity=no': 0.266,\n",
              " 'onlinesecurity=no_internet_service': -0.089,\n",
              " 'onlinesecurity=yes': -0.284,\n",
              " 'paperlessbilling=no': -0.231,\n",
              " 'paperlessbilling=yes': 0.124,\n",
              " 'partner=no': -0.166,\n",
              " 'partner=yes': 0.058,\n",
              " 'paymentmethod=bank_transfer_(automatic)': -0.087,\n",
              " 'paymentmethod=credit_card_(automatic)': -0.032,\n",
              " 'paymentmethod=electronic_check': 0.07,\n",
              " 'paymentmethod=mailed_check': -0.059,\n",
              " 'phoneservice=no': 0.141,\n",
              " 'phoneservice=yes': -0.249,\n",
              " 'seniorcitizen': 0.215,\n",
              " 'streamingmovies=no': -0.12,\n",
              " 'streamingmovies=no_internet_service': -0.089,\n",
              " 'streamingmovies=yes': 0.102,\n",
              " 'streamingtv=no': -0.071,\n",
              " 'streamingtv=no_internet_service': -0.089,\n",
              " 'streamingtv=yes': 0.052,\n",
              " 'techsupport=no': 0.213,\n",
              " 'techsupport=no_internet_service': -0.089,\n",
              " 'techsupport=yes': -0.232,\n",
              " 'tenure': -0.07,\n",
              " 'totalcharges': 0.0}"
            ]
          },
          "metadata": {},
          "execution_count": 164
        }
      ]
    },
    {
      "cell_type": "code",
      "source": [
        "small = ['contract', 'tenure', 'monthlycharges']"
      ],
      "metadata": {
        "id": "AuSYDiF7-NG1"
      },
      "execution_count": 165,
      "outputs": []
    },
    {
      "cell_type": "code",
      "source": [
        "df_train[small].iloc[:10]"
      ],
      "metadata": {
        "colab": {
          "base_uri": "https://localhost:8080/",
          "height": 363
        },
        "id": "qeqz2ysHXrkS",
        "outputId": "225b6ca6-3bfe-416b-e615-ace0d60538c1"
      },
      "execution_count": 169,
      "outputs": [
        {
          "output_type": "execute_result",
          "data": {
            "text/plain": [
              "         contract  tenure  monthlycharges\n",
              "0        two_year      72          115.50\n",
              "1  month-to-month      10           95.25\n",
              "2  month-to-month       5           75.55\n",
              "3  month-to-month       5           80.85\n",
              "4        two_year      18           20.10\n",
              "5  month-to-month       4           30.50\n",
              "6  month-to-month       1           75.10\n",
              "7  month-to-month       1           70.30\n",
              "8        two_year      72           19.75\n",
              "9  month-to-month       6          109.90"
            ],
            "text/html": [
              "\n",
              "  <div id=\"df-65137838-295b-4dd5-b4e6-ecf89ff5389e\">\n",
              "    <div class=\"colab-df-container\">\n",
              "      <div>\n",
              "<style scoped>\n",
              "    .dataframe tbody tr th:only-of-type {\n",
              "        vertical-align: middle;\n",
              "    }\n",
              "\n",
              "    .dataframe tbody tr th {\n",
              "        vertical-align: top;\n",
              "    }\n",
              "\n",
              "    .dataframe thead th {\n",
              "        text-align: right;\n",
              "    }\n",
              "</style>\n",
              "<table border=\"1\" class=\"dataframe\">\n",
              "  <thead>\n",
              "    <tr style=\"text-align: right;\">\n",
              "      <th></th>\n",
              "      <th>contract</th>\n",
              "      <th>tenure</th>\n",
              "      <th>monthlycharges</th>\n",
              "    </tr>\n",
              "  </thead>\n",
              "  <tbody>\n",
              "    <tr>\n",
              "      <th>0</th>\n",
              "      <td>two_year</td>\n",
              "      <td>72</td>\n",
              "      <td>115.50</td>\n",
              "    </tr>\n",
              "    <tr>\n",
              "      <th>1</th>\n",
              "      <td>month-to-month</td>\n",
              "      <td>10</td>\n",
              "      <td>95.25</td>\n",
              "    </tr>\n",
              "    <tr>\n",
              "      <th>2</th>\n",
              "      <td>month-to-month</td>\n",
              "      <td>5</td>\n",
              "      <td>75.55</td>\n",
              "    </tr>\n",
              "    <tr>\n",
              "      <th>3</th>\n",
              "      <td>month-to-month</td>\n",
              "      <td>5</td>\n",
              "      <td>80.85</td>\n",
              "    </tr>\n",
              "    <tr>\n",
              "      <th>4</th>\n",
              "      <td>two_year</td>\n",
              "      <td>18</td>\n",
              "      <td>20.10</td>\n",
              "    </tr>\n",
              "    <tr>\n",
              "      <th>5</th>\n",
              "      <td>month-to-month</td>\n",
              "      <td>4</td>\n",
              "      <td>30.50</td>\n",
              "    </tr>\n",
              "    <tr>\n",
              "      <th>6</th>\n",
              "      <td>month-to-month</td>\n",
              "      <td>1</td>\n",
              "      <td>75.10</td>\n",
              "    </tr>\n",
              "    <tr>\n",
              "      <th>7</th>\n",
              "      <td>month-to-month</td>\n",
              "      <td>1</td>\n",
              "      <td>70.30</td>\n",
              "    </tr>\n",
              "    <tr>\n",
              "      <th>8</th>\n",
              "      <td>two_year</td>\n",
              "      <td>72</td>\n",
              "      <td>19.75</td>\n",
              "    </tr>\n",
              "    <tr>\n",
              "      <th>9</th>\n",
              "      <td>month-to-month</td>\n",
              "      <td>6</td>\n",
              "      <td>109.90</td>\n",
              "    </tr>\n",
              "  </tbody>\n",
              "</table>\n",
              "</div>\n",
              "      <button class=\"colab-df-convert\" onclick=\"convertToInteractive('df-65137838-295b-4dd5-b4e6-ecf89ff5389e')\"\n",
              "              title=\"Convert this dataframe to an interactive table.\"\n",
              "              style=\"display:none;\">\n",
              "        \n",
              "  <svg xmlns=\"http://www.w3.org/2000/svg\" height=\"24px\"viewBox=\"0 0 24 24\"\n",
              "       width=\"24px\">\n",
              "    <path d=\"M0 0h24v24H0V0z\" fill=\"none\"/>\n",
              "    <path d=\"M18.56 5.44l.94 2.06.94-2.06 2.06-.94-2.06-.94-.94-2.06-.94 2.06-2.06.94zm-11 1L8.5 8.5l.94-2.06 2.06-.94-2.06-.94L8.5 2.5l-.94 2.06-2.06.94zm10 10l.94 2.06.94-2.06 2.06-.94-2.06-.94-.94-2.06-.94 2.06-2.06.94z\"/><path d=\"M17.41 7.96l-1.37-1.37c-.4-.4-.92-.59-1.43-.59-.52 0-1.04.2-1.43.59L10.3 9.45l-7.72 7.72c-.78.78-.78 2.05 0 2.83L4 21.41c.39.39.9.59 1.41.59.51 0 1.02-.2 1.41-.59l7.78-7.78 2.81-2.81c.8-.78.8-2.07 0-2.86zM5.41 20L4 18.59l7.72-7.72 1.47 1.35L5.41 20z\"/>\n",
              "  </svg>\n",
              "      </button>\n",
              "      \n",
              "  <style>\n",
              "    .colab-df-container {\n",
              "      display:flex;\n",
              "      flex-wrap:wrap;\n",
              "      gap: 12px;\n",
              "    }\n",
              "\n",
              "    .colab-df-convert {\n",
              "      background-color: #E8F0FE;\n",
              "      border: none;\n",
              "      border-radius: 50%;\n",
              "      cursor: pointer;\n",
              "      display: none;\n",
              "      fill: #1967D2;\n",
              "      height: 32px;\n",
              "      padding: 0 0 0 0;\n",
              "      width: 32px;\n",
              "    }\n",
              "\n",
              "    .colab-df-convert:hover {\n",
              "      background-color: #E2EBFA;\n",
              "      box-shadow: 0px 1px 2px rgba(60, 64, 67, 0.3), 0px 1px 3px 1px rgba(60, 64, 67, 0.15);\n",
              "      fill: #174EA6;\n",
              "    }\n",
              "\n",
              "    [theme=dark] .colab-df-convert {\n",
              "      background-color: #3B4455;\n",
              "      fill: #D2E3FC;\n",
              "    }\n",
              "\n",
              "    [theme=dark] .colab-df-convert:hover {\n",
              "      background-color: #434B5C;\n",
              "      box-shadow: 0px 1px 3px 1px rgba(0, 0, 0, 0.15);\n",
              "      filter: drop-shadow(0px 1px 2px rgba(0, 0, 0, 0.3));\n",
              "      fill: #FFFFFF;\n",
              "    }\n",
              "  </style>\n",
              "\n",
              "      <script>\n",
              "        const buttonEl =\n",
              "          document.querySelector('#df-65137838-295b-4dd5-b4e6-ecf89ff5389e button.colab-df-convert');\n",
              "        buttonEl.style.display =\n",
              "          google.colab.kernel.accessAllowed ? 'block' : 'none';\n",
              "\n",
              "        async function convertToInteractive(key) {\n",
              "          const element = document.querySelector('#df-65137838-295b-4dd5-b4e6-ecf89ff5389e');\n",
              "          const dataTable =\n",
              "            await google.colab.kernel.invokeFunction('convertToInteractive',\n",
              "                                                     [key], {});\n",
              "          if (!dataTable) return;\n",
              "\n",
              "          const docLinkHtml = 'Like what you see? Visit the ' +\n",
              "            '<a target=\"_blank\" href=https://colab.research.google.com/notebooks/data_table.ipynb>data table notebook</a>'\n",
              "            + ' to learn more about interactive tables.';\n",
              "          element.innerHTML = '';\n",
              "          dataTable['output_type'] = 'display_data';\n",
              "          await google.colab.output.renderOutput(dataTable, element);\n",
              "          const docLink = document.createElement('div');\n",
              "          docLink.innerHTML = docLinkHtml;\n",
              "          element.appendChild(docLink);\n",
              "        }\n",
              "      </script>\n",
              "    </div>\n",
              "  </div>\n",
              "  "
            ]
          },
          "metadata": {},
          "execution_count": 169
        }
      ]
    },
    {
      "cell_type": "code",
      "source": [
        "df_train[small].iloc[:10].to_dict(orient='records')"
      ],
      "metadata": {
        "id": "xkWfijyb-SKg",
        "colab": {
          "base_uri": "https://localhost:8080/"
        },
        "outputId": "f9d3d97e-b364-4368-eaae-703229e2378b"
      },
      "execution_count": 167,
      "outputs": [
        {
          "output_type": "execute_result",
          "data": {
            "text/plain": [
              "[{'contract': 'two_year', 'tenure': 72, 'monthlycharges': 115.5},\n",
              " {'contract': 'month-to-month', 'tenure': 10, 'monthlycharges': 95.25},\n",
              " {'contract': 'month-to-month', 'tenure': 5, 'monthlycharges': 75.55},\n",
              " {'contract': 'month-to-month', 'tenure': 5, 'monthlycharges': 80.85},\n",
              " {'contract': 'two_year', 'tenure': 18, 'monthlycharges': 20.1},\n",
              " {'contract': 'month-to-month', 'tenure': 4, 'monthlycharges': 30.5},\n",
              " {'contract': 'month-to-month', 'tenure': 1, 'monthlycharges': 75.1},\n",
              " {'contract': 'month-to-month', 'tenure': 1, 'monthlycharges': 70.3},\n",
              " {'contract': 'two_year', 'tenure': 72, 'monthlycharges': 19.75},\n",
              " {'contract': 'month-to-month', 'tenure': 6, 'monthlycharges': 109.9}]"
            ]
          },
          "metadata": {},
          "execution_count": 167
        }
      ]
    },
    {
      "cell_type": "code",
      "source": [
        "dicts_train_small = df_train[small].to_dict(orient='records')\n",
        "dicts_val_small = df_val[small].to_dict(orient='records')"
      ],
      "metadata": {
        "id": "cCfAKQ56-Wef"
      },
      "execution_count": 168,
      "outputs": []
    },
    {
      "cell_type": "code",
      "source": [
        "dv_small = DictVectorizer(sparse=False)\n",
        "dv_small.fit(dicts_train_small)"
      ],
      "metadata": {
        "id": "RJJQhgSF-awI",
        "colab": {
          "base_uri": "https://localhost:8080/"
        },
        "outputId": "8ec8798e-a122-4f23-b89a-ced5af9a8166"
      },
      "execution_count": 170,
      "outputs": [
        {
          "output_type": "execute_result",
          "data": {
            "text/plain": [
              "DictVectorizer(sparse=False)"
            ]
          },
          "metadata": {},
          "execution_count": 170
        }
      ]
    },
    {
      "cell_type": "code",
      "source": [
        "dv_small.get_feature_names()"
      ],
      "metadata": {
        "id": "Yrx8uqnI-fZF",
        "colab": {
          "base_uri": "https://localhost:8080/"
        },
        "outputId": "5ebe542b-bd50-4668-9d93-10409c2b468c"
      },
      "execution_count": 171,
      "outputs": [
        {
          "output_type": "execute_result",
          "data": {
            "text/plain": [
              "['contract=month-to-month',\n",
              " 'contract=one_year',\n",
              " 'contract=two_year',\n",
              " 'monthlycharges',\n",
              " 'tenure']"
            ]
          },
          "metadata": {},
          "execution_count": 171
        }
      ]
    },
    {
      "cell_type": "code",
      "source": [
        "X_train_small = dv_small.transform(dicts_train_small)"
      ],
      "metadata": {
        "id": "gwow3ah2-jX6"
      },
      "execution_count": 177,
      "outputs": []
    },
    {
      "cell_type": "code",
      "source": [
        "model_small = LogisticRegression(solver='lbfgs')\n",
        "model_small.fit(X_train_small, y_train)"
      ],
      "metadata": {
        "id": "XpFx7fbE-ni4",
        "colab": {
          "base_uri": "https://localhost:8080/"
        },
        "outputId": "0be5df1d-5215-4280-b8c8-4a69abf372d5"
      },
      "execution_count": 178,
      "outputs": [
        {
          "output_type": "execute_result",
          "data": {
            "text/plain": [
              "LogisticRegression()"
            ]
          },
          "metadata": {},
          "execution_count": 178
        }
      ]
    },
    {
      "cell_type": "code",
      "source": [
        "model_small.intercept_[0]"
      ],
      "metadata": {
        "colab": {
          "base_uri": "https://localhost:8080/"
        },
        "id": "6fAPzMf0Ykfo",
        "outputId": "c0e0c476-b641-40a0-eac1-451d32df645c"
      },
      "execution_count": 180,
      "outputs": [
        {
          "output_type": "execute_result",
          "data": {
            "text/plain": [
              "-2.476775663985754"
            ]
          },
          "metadata": {},
          "execution_count": 180
        }
      ]
    },
    {
      "cell_type": "code",
      "source": [
        "model_small.coef_[0]"
      ],
      "metadata": {
        "colab": {
          "base_uri": "https://localhost:8080/"
        },
        "id": "DuYHzK1aY9w4",
        "outputId": "01003f83-5cd3-4b3e-8443-a9d657dd8b52"
      },
      "execution_count": 181,
      "outputs": [
        {
          "output_type": "execute_result",
          "data": {
            "text/plain": [
              "array([ 0.97004492, -0.0251365 , -0.94872201,  0.02748236, -0.03618424])"
            ]
          },
          "metadata": {},
          "execution_count": 181
        }
      ]
    },
    {
      "cell_type": "code",
      "source": [
        "w0 = model_small.intercept_[0]\n",
        "w0"
      ],
      "metadata": {
        "id": "ge3NVo-1-r8O",
        "colab": {
          "base_uri": "https://localhost:8080/"
        },
        "outputId": "9fd113cf-6f98-4f40-87b4-f83e8013ef7e"
      },
      "execution_count": 182,
      "outputs": [
        {
          "output_type": "execute_result",
          "data": {
            "text/plain": [
              "-2.476775663985754"
            ]
          },
          "metadata": {},
          "execution_count": 182
        }
      ]
    },
    {
      "cell_type": "code",
      "source": [
        "w = model_small.coef_[0]\n",
        "w.round(3)"
      ],
      "metadata": {
        "id": "5HVNxxvN-v6_",
        "colab": {
          "base_uri": "https://localhost:8080/"
        },
        "outputId": "20086b12-229f-4647-99ff-e35834896a7c"
      },
      "execution_count": 183,
      "outputs": [
        {
          "output_type": "execute_result",
          "data": {
            "text/plain": [
              "array([ 0.97 , -0.025, -0.949,  0.027, -0.036])"
            ]
          },
          "metadata": {},
          "execution_count": 183
        }
      ]
    },
    {
      "cell_type": "code",
      "source": [
        "dict(zip(dv_small.get_feature_names(), w.round(3)))"
      ],
      "metadata": {
        "id": "qd9jPzwF-0HJ",
        "colab": {
          "base_uri": "https://localhost:8080/"
        },
        "outputId": "0ca318f2-a822-4fc3-e138-cebbb02298e9"
      },
      "execution_count": 184,
      "outputs": [
        {
          "output_type": "execute_result",
          "data": {
            "text/plain": [
              "{'contract=month-to-month': 0.97,\n",
              " 'contract=one_year': -0.025,\n",
              " 'contract=two_year': -0.949,\n",
              " 'monthlycharges': 0.027,\n",
              " 'tenure': -0.036}"
            ]
          },
          "metadata": {},
          "execution_count": 184
        }
      ]
    },
    {
      "cell_type": "code",
      "source": [
        "sigmoid(-2.7)"
      ],
      "metadata": {
        "id": "Y-grQqvG-8-g",
        "colab": {
          "base_uri": "https://localhost:8080/"
        },
        "outputId": "f86f2433-8233-4b43-d2cd-3c2beed0f55c"
      },
      "execution_count": 187,
      "outputs": [
        {
          "output_type": "execute_result",
          "data": {
            "text/plain": [
              "0.06297335605699649"
            ]
          },
          "metadata": {},
          "execution_count": 187
        }
      ]
    },
    {
      "cell_type": "markdown",
      "source": [
        "* This very low probability by default"
      ],
      "metadata": {
        "id": "0NDofEBhZ0P9"
      }
    },
    {
      "cell_type": "code",
      "source": [
        "sigmoid(-2.7 + 0.97)"
      ],
      "metadata": {
        "colab": {
          "base_uri": "https://localhost:8080/"
        },
        "id": "IycF5JByaMT0",
        "outputId": "213aa84d-2637-4768-d556-e17fedc87fab"
      },
      "execution_count": 188,
      "outputs": [
        {
          "output_type": "execute_result",
          "data": {
            "text/plain": [
              "0.1505875797458439"
            ]
          },
          "metadata": {},
          "execution_count": 188
        }
      ]
    },
    {
      "cell_type": "markdown",
      "source": [
        "* We learned the customer has a monthly contract the probability of churning this customer just grows bigger "
      ],
      "metadata": {
        "id": "2lHSSsYJaYWW"
      }
    },
    {
      "cell_type": "code",
      "source": [
        "sigmoid(-2.47 + 0.97 + 50 * 0.027)"
      ],
      "metadata": {
        "colab": {
          "base_uri": "https://localhost:8080/"
        },
        "id": "N30LYlEAbQi_",
        "outputId": "b3ad264e-8c16-4ae8-b810-d0f7bf6c749d"
      },
      "execution_count": 190,
      "outputs": [
        {
          "output_type": "execute_result",
          "data": {
            "text/plain": [
              "0.46257015465625034"
            ]
          },
          "metadata": {},
          "execution_count": 190
        }
      ]
    },
    {
      "cell_type": "markdown",
      "source": [
        "* Now the probability is almost 46%"
      ],
      "metadata": {
        "id": "QISbrDqqbbx2"
      }
    },
    {
      "cell_type": "code",
      "source": [
        "sigmoid(-2.47 + 0.97 + 50 * 0.027 + 5 * (-0.036))"
      ],
      "metadata": {
        "colab": {
          "base_uri": "https://localhost:8080/"
        },
        "id": "juMV7hpJbs2H",
        "outputId": "5e34b261-0e14-4976-aa5e-f592c4afdb5a"
      },
      "execution_count": 191,
      "outputs": [
        {
          "output_type": "execute_result",
          "data": {
            "text/plain": [
              "0.41824062315816374"
            ]
          },
          "metadata": {},
          "execution_count": 191
        }
      ]
    },
    {
      "cell_type": "code",
      "source": [
        "-2.47 + 0.97 + 50 * 0.027 + 5 * (-0.036)"
      ],
      "metadata": {
        "colab": {
          "base_uri": "https://localhost:8080/"
        },
        "id": "1h2LanR3cz54",
        "outputId": "5f6e18c6-e813-4d66-fcc8-d2e9978a2e61"
      },
      "execution_count": 193,
      "outputs": [
        {
          "output_type": "execute_result",
          "data": {
            "text/plain": [
              "-0.3300000000000001"
            ]
          },
          "metadata": {},
          "execution_count": 193
        }
      ]
    },
    {
      "cell_type": "markdown",
      "source": [
        "* Let's see the row score is -0.3300"
      ],
      "metadata": {
        "id": "vT3a1A37ccSl"
      }
    },
    {
      "cell_type": "code",
      "source": [
        "sigmoid(_)"
      ],
      "metadata": {
        "colab": {
          "base_uri": "https://localhost:8080/"
        },
        "id": "D0fWTDROdCYi",
        "outputId": "9744f41b-c281-461a-90a5-051cd5d60e16"
      },
      "execution_count": 194,
      "outputs": [
        {
          "output_type": "execute_result",
          "data": {
            "text/plain": [
              "0.41824062315816374"
            ]
          },
          "metadata": {},
          "execution_count": 194
        }
      ]
    },
    {
      "cell_type": "markdown",
      "source": [
        "* The probability is 41% and the underscore here **(_)** means to take what every output of the previous cell was and put it in a parameter, underscore just like a magic variable"
      ],
      "metadata": {
        "id": "EP9C515odbde"
      }
    },
    {
      "cell_type": "code",
      "source": [
        "-2.47 + 0.97 + 60 * 0.027 + 1 * (-0.036)"
      ],
      "metadata": {
        "colab": {
          "base_uri": "https://localhost:8080/"
        },
        "id": "G-RaNMxQebX1",
        "outputId": "cf5f5a56-fc89-455d-e341-597989e6e78e"
      },
      "execution_count": 195,
      "outputs": [
        {
          "output_type": "execute_result",
          "data": {
            "text/plain": [
              "0.08399999999999966"
            ]
          },
          "metadata": {},
          "execution_count": 195
        }
      ]
    },
    {
      "cell_type": "markdown",
      "source": [
        "* The score becomes positive remember sigmoid zero we get 0.5 "
      ],
      "metadata": {
        "id": "5sLn4kvaeuSR"
      }
    },
    {
      "cell_type": "code",
      "source": [
        "sigmoid(_)"
      ],
      "metadata": {
        "colab": {
          "base_uri": "https://localhost:8080/"
        },
        "id": "ACjRbfEefLmG",
        "outputId": "be2d2eb4-b4d7-41f4-be84-a66357258db4"
      },
      "execution_count": 196,
      "outputs": [
        {
          "output_type": "execute_result",
          "data": {
            "text/plain": [
              "0.5209876607065322"
            ]
          },
          "metadata": {},
          "execution_count": 196
        }
      ]
    },
    {
      "cell_type": "markdown",
      "source": [
        "* The score of sigmoid 52% is not pretty high, we take these users are churning"
      ],
      "metadata": {
        "id": "awJnY4NQfQHd"
      }
    },
    {
      "cell_type": "code",
      "source": [
        "-2.47 + (-0.949) + 30 * 0.027 + 24 * (-0.036)"
      ],
      "metadata": {
        "id": "qBXginr8-4lI",
        "colab": {
          "base_uri": "https://localhost:8080/"
        },
        "outputId": "0c5cf83d-7bb3-4e20-dd2c-36f3f368caa7"
      },
      "execution_count": 197,
      "outputs": [
        {
          "output_type": "execute_result",
          "data": {
            "text/plain": [
              "-3.473"
            ]
          },
          "metadata": {},
          "execution_count": 197
        }
      ]
    },
    {
      "cell_type": "markdown",
      "source": [
        "* For The 2 year contract probability is -3.472"
      ],
      "metadata": {
        "id": "ao-8zE7If3s4"
      }
    },
    {
      "cell_type": "code",
      "source": [
        "sigmoid(_)"
      ],
      "metadata": {
        "colab": {
          "base_uri": "https://localhost:8080/"
        },
        "id": "dssp2f9jckQH",
        "outputId": "2628f1a2-539c-438f-caad-7f9deed68aca"
      },
      "execution_count": 198,
      "outputs": [
        {
          "output_type": "execute_result",
          "data": {
            "text/plain": [
              "0.030090303318277657"
            ]
          },
          "metadata": {},
          "execution_count": 198
        }
      ]
    },
    {
      "cell_type": "markdown",
      "source": [
        "## **3.12 Using the model**(video 3.12)\n",
        "\n",
        "We trained the logistic regression model with the full training dataset (training + validation), considering numerical and categorical features. Thus, predictions were made on the test dataset, and we evaluate the model using the accuracy metric.\n",
        "\n",
        "In this case, the predictions of validation and test were similar, which means that the model is working well."
      ],
      "metadata": {
        "id": "lZDQpgk-_DzC"
      }
    },
    {
      "cell_type": "code",
      "source": [
        "dicts_full_train = df_full_train[categorical + numerical].to_dict(orient='records')"
      ],
      "metadata": {
        "id": "wm4R0GLe_A0A"
      },
      "execution_count": 199,
      "outputs": []
    },
    {
      "cell_type": "code",
      "source": [
        "dv = DictVectorizer(sparse=False)\n",
        "X_full_train = dv.fit_transform(dicts_full_train)"
      ],
      "metadata": {
        "id": "dI3u_gcu_Kwj"
      },
      "execution_count": 200,
      "outputs": []
    },
    {
      "cell_type": "code",
      "source": [
        "y_full_train = df_full_train.churn.values"
      ],
      "metadata": {
        "id": "bMYmXHi4_Pev"
      },
      "execution_count": 201,
      "outputs": []
    },
    {
      "cell_type": "code",
      "source": [
        "model = LogisticRegression(solver='lbfgs')\n",
        "model.fit(X_full_train, y_full_train)"
      ],
      "metadata": {
        "id": "qqks6H1B_TgS",
        "colab": {
          "base_uri": "https://localhost:8080/"
        },
        "outputId": "aaf08c0f-9b0c-424a-a949-d54e6013a00c"
      },
      "execution_count": 202,
      "outputs": [
        {
          "output_type": "execute_result",
          "data": {
            "text/plain": [
              "LogisticRegression()"
            ]
          },
          "metadata": {},
          "execution_count": 202
        }
      ]
    },
    {
      "cell_type": "code",
      "source": [
        "dicts_test = df_test[categorical + numerical].to_dict(orient='records')"
      ],
      "metadata": {
        "id": "0d8uPnv6_XdN"
      },
      "execution_count": 203,
      "outputs": []
    },
    {
      "cell_type": "code",
      "source": [
        "X_test = dv.transform(dicts_test)"
      ],
      "metadata": {
        "id": "rxRmk2c5_b0p"
      },
      "execution_count": 204,
      "outputs": []
    },
    {
      "cell_type": "code",
      "source": [
        "y_pred = model.predict_proba(X_test)[:, 1]"
      ],
      "metadata": {
        "id": "4kN3TBOP_gVe"
      },
      "execution_count": 205,
      "outputs": []
    },
    {
      "cell_type": "code",
      "source": [
        "churn_decision = (y_pred >= 0.5)"
      ],
      "metadata": {
        "id": "U6YNurF-_kDM"
      },
      "execution_count": 206,
      "outputs": []
    },
    {
      "cell_type": "code",
      "source": [
        "(churn_decision == y_test).mean()"
      ],
      "metadata": {
        "id": "JElix8vT_oOl",
        "colab": {
          "base_uri": "https://localhost:8080/"
        },
        "outputId": "e00b285a-f600-4d00-8eb9-2547056f7f3a"
      },
      "execution_count": 207,
      "outputs": [
        {
          "output_type": "execute_result",
          "data": {
            "text/plain": [
              "0.815471965933286"
            ]
          },
          "metadata": {},
          "execution_count": 207
        }
      ]
    },
    {
      "cell_type": "code",
      "source": [
        "y_test"
      ],
      "metadata": {
        "id": "2zRQwCL4_sSa",
        "colab": {
          "base_uri": "https://localhost:8080/"
        },
        "outputId": "3ec34790-4fed-4c60-f4b9-2baf6350d69d"
      },
      "execution_count": 208,
      "outputs": [
        {
          "output_type": "execute_result",
          "data": {
            "text/plain": [
              "array([0, 0, 0, ..., 0, 0, 1])"
            ]
          },
          "metadata": {},
          "execution_count": 208
        }
      ]
    },
    {
      "cell_type": "code",
      "source": [
        "customer = dicts_test[-1]\n",
        "customer"
      ],
      "metadata": {
        "id": "gUOO4j-2_v_r",
        "colab": {
          "base_uri": "https://localhost:8080/"
        },
        "outputId": "8d08396b-26fe-482d-8891-4ba731395404"
      },
      "execution_count": 209,
      "outputs": [
        {
          "output_type": "execute_result",
          "data": {
            "text/plain": [
              "{'gender': 'female',\n",
              " 'seniorcitizen': 0,\n",
              " 'partner': 'yes',\n",
              " 'dependents': 'yes',\n",
              " 'phoneservice': 'yes',\n",
              " 'multiplelines': 'yes',\n",
              " 'internetservice': 'fiber_optic',\n",
              " 'onlinesecurity': 'yes',\n",
              " 'onlinebackup': 'no',\n",
              " 'deviceprotection': 'yes',\n",
              " 'techsupport': 'no',\n",
              " 'streamingtv': 'yes',\n",
              " 'streamingmovies': 'yes',\n",
              " 'contract': 'month-to-month',\n",
              " 'paperlessbilling': 'yes',\n",
              " 'paymentmethod': 'electronic_check',\n",
              " 'tenure': 17,\n",
              " 'monthlycharges': 104.2,\n",
              " 'totalcharges': 1743.5}"
            ]
          },
          "metadata": {},
          "execution_count": 209
        }
      ]
    },
    {
      "cell_type": "code",
      "source": [
        "X_small = dv.transform([customer])"
      ],
      "metadata": {
        "id": "ZZM895Op_0fk"
      },
      "execution_count": 210,
      "outputs": []
    },
    {
      "cell_type": "code",
      "source": [
        "model.predict_proba(X_small)[0, 1]"
      ],
      "metadata": {
        "id": "Sa0ZqaiG_4ne",
        "colab": {
          "base_uri": "https://localhost:8080/"
        },
        "outputId": "f5dd16a7-fdb2-472f-d4fd-e88f2474befe"
      },
      "execution_count": 211,
      "outputs": [
        {
          "output_type": "execute_result",
          "data": {
            "text/plain": [
              "0.5968852088243913"
            ]
          },
          "metadata": {},
          "execution_count": 211
        }
      ]
    },
    {
      "cell_type": "code",
      "source": [
        "y_test[-1]"
      ],
      "metadata": {
        "id": "rEeGudkE_8v6",
        "colab": {
          "base_uri": "https://localhost:8080/"
        },
        "outputId": "266bc0e0-80db-47c2-8d11-c4937d7bfc35"
      },
      "execution_count": 212,
      "outputs": [
        {
          "output_type": "execute_result",
          "data": {
            "text/plain": [
              "1"
            ]
          },
          "metadata": {},
          "execution_count": 212
        }
      ]
    },
    {
      "cell_type": "code",
      "source": [
        "customer = dicts_test[10]\n",
        "customer"
      ],
      "metadata": {
        "colab": {
          "base_uri": "https://localhost:8080/"
        },
        "id": "sY_8Ex6MihcI",
        "outputId": "b428baae-52a4-46ba-edfe-a17f2417f752"
      },
      "execution_count": 213,
      "outputs": [
        {
          "output_type": "execute_result",
          "data": {
            "text/plain": [
              "{'gender': 'male',\n",
              " 'seniorcitizen': 1,\n",
              " 'partner': 'yes',\n",
              " 'dependents': 'yes',\n",
              " 'phoneservice': 'yes',\n",
              " 'multiplelines': 'no',\n",
              " 'internetservice': 'fiber_optic',\n",
              " 'onlinesecurity': 'no',\n",
              " 'onlinebackup': 'yes',\n",
              " 'deviceprotection': 'no',\n",
              " 'techsupport': 'no',\n",
              " 'streamingtv': 'yes',\n",
              " 'streamingmovies': 'yes',\n",
              " 'contract': 'month-to-month',\n",
              " 'paperlessbilling': 'yes',\n",
              " 'paymentmethod': 'mailed_check',\n",
              " 'tenure': 32,\n",
              " 'monthlycharges': 93.95,\n",
              " 'totalcharges': 2861.45}"
            ]
          },
          "metadata": {},
          "execution_count": 213
        }
      ]
    },
    {
      "cell_type": "code",
      "source": [
        "X_small = dv.transform([customer])"
      ],
      "metadata": {
        "id": "M0VBfk2jjf2p"
      },
      "execution_count": 214,
      "outputs": []
    },
    {
      "cell_type": "code",
      "source": [
        "X_small.shape"
      ],
      "metadata": {
        "colab": {
          "base_uri": "https://localhost:8080/"
        },
        "id": "mc0SvaSyjr5m",
        "outputId": "835cc80f-39cd-4406-fb1c-d5c6896de1b2"
      },
      "execution_count": 215,
      "outputs": [
        {
          "output_type": "execute_result",
          "data": {
            "text/plain": [
              "(1, 45)"
            ]
          },
          "metadata": {},
          "execution_count": 215
        }
      ]
    },
    {
      "cell_type": "code",
      "source": [
        "model.predict_proba(X_small)"
      ],
      "metadata": {
        "colab": {
          "base_uri": "https://localhost:8080/"
        },
        "id": "00cZTFLnj2nG",
        "outputId": "03211c07-198a-48f0-fe12-d25b9943ef53"
      },
      "execution_count": 216,
      "outputs": [
        {
          "output_type": "execute_result",
          "data": {
            "text/plain": [
              "array([[0.5943189, 0.4056811]])"
            ]
          },
          "metadata": {},
          "execution_count": 216
        }
      ]
    },
    {
      "cell_type": "code",
      "source": [
        "model.predict_proba(X_small)[0,1]"
      ],
      "metadata": {
        "colab": {
          "base_uri": "https://localhost:8080/"
        },
        "id": "NBrOwVq8kLem",
        "outputId": "55121410-dac1-4196-91c9-d2f737ba4a4c"
      },
      "execution_count": 217,
      "outputs": [
        {
          "output_type": "execute_result",
          "data": {
            "text/plain": [
              "0.4056810977859304"
            ]
          },
          "metadata": {},
          "execution_count": 217
        }
      ]
    },
    {
      "cell_type": "code",
      "source": [
        "y_test[10]"
      ],
      "metadata": {
        "colab": {
          "base_uri": "https://localhost:8080/"
        },
        "id": "jKrrilMQkfDX",
        "outputId": "1fc54017-d4e8-4a0d-ac16-c92ba93c932a"
      },
      "execution_count": 218,
      "outputs": [
        {
          "output_type": "execute_result",
          "data": {
            "text/plain": [
              "0"
            ]
          },
          "metadata": {},
          "execution_count": 218
        }
      ]
    },
    {
      "cell_type": "markdown",
      "source": [
        "## **3.13 Summary**(video 3.13)\n",
        "\n",
        "* Feature importance - risk, mutual information, correlation\n",
        "* One-hot encoding can be implemented with DictVectorizer\n",
        "* Logistic regression - linear model like linear regression\n",
        "* Output of log reg - probability\n",
        "* Interpretation of weights is similar to linear regression"
      ],
      "metadata": {
        "id": "XIEkRgxiAIFQ"
      }
    },
    {
      "cell_type": "markdown",
      "source": [
        "## **3.14 Explore more**\n",
        "\n",
        "More things\n",
        "\n",
        "* Try to exclude least useful features\n",
        "\n",
        "Use scikit-learn in project of last week\n",
        "\n",
        "* Re-implement train/val/test split using scikit-learn in the project from the last week\n",
        "* Also, instead of our own linear regression, use LinearRegression (not regularized) and RidgeRegression (regularized). Find the best regularization parameter for Ridge\n",
        "\n",
        "Other projects\n",
        "\n",
        "* Lead scoring - https://www.kaggle.com/ashydv/leads-dataset\n",
        "* Default prediction - https://archive.ics.uci.edu/ml/datasets/default+of+credit+card+clients"
      ],
      "metadata": {
        "id": "xlYqhxwgASXB"
      }
    },
    {
      "cell_type": "markdown",
      "source": [
        "Happy Learning!!"
      ],
      "metadata": {
        "id": "RytgVtPQvxed"
      }
    }
  ]
}