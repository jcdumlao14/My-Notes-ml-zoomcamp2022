{
  "nbformat": 4,
  "nbformat_minor": 0,
  "metadata": {
    "colab": {
      "provenance": [],
      "collapsed_sections": [],
      "authorship_tag": "ABX9TyNUrNNvI3DMYSD5DjYyVN2s",
      "include_colab_link": true
    },
    "kernelspec": {
      "name": "python3",
      "display_name": "Python 3"
    },
    "language_info": {
      "name": "python"
    }
  },
  "cells": [
    {
      "cell_type": "markdown",
      "metadata": {
        "id": "view-in-github",
        "colab_type": "text"
      },
      "source": [
        "<a href=\"https://colab.research.google.com/github/jcdumlao14/My-Notes-ml-zoomcamp2022/blob/main/week_1_2_notes_Intro_to_NumPy.ipynb\" target=\"_parent\"><img src=\"https://colab.research.google.com/assets/colab-badge.svg\" alt=\"Open In Colab\"/></a>"
      ]
    },
    {
      "cell_type": "markdown",
      "source": [
        "# **Machine Learning Zoomcamp**\n",
        "\n",
        "##**1.7 Introduction to NumPy**\n",
        "\n",
        "### Plan:\n",
        "\n",
        "* Creating arrays\n",
        "* Multi-dementional arrays\n",
        "* Randomly generated arrays\n",
        "* Element-wise operations\n",
        "  * Comparison operations\n",
        "  * Logical operations\n",
        "\n",
        "* Summarizing operations"
      ],
      "metadata": {
        "id": "eZPC9Vevg5rT"
      }
    },
    {
      "cell_type": "code",
      "execution_count": null,
      "metadata": {
        "id": "LEo-9SR3gzr5"
      },
      "outputs": [],
      "source": [
        "import numpy as np"
      ]
    },
    {
      "cell_type": "markdown",
      "source": [
        "* import the package: import num import and name of the package import NumPy and we use an alias as np"
      ],
      "metadata": {
        "id": "bpRnmP5LmuMy"
      }
    },
    {
      "cell_type": "code",
      "source": [
        "np"
      ],
      "metadata": {
        "colab": {
          "base_uri": "https://localhost:8080/"
        },
        "id": "5mZvGNzWhYqI",
        "outputId": "20583b21-92af-42b8-af67-d752ff04ec01"
      },
      "execution_count": null,
      "outputs": [
        {
          "output_type": "execute_result",
          "data": {
            "text/plain": [
              "<module 'numpy' from '/usr/local/lib/python3.7/dist-packages/numpy/__init__.py'>"
            ]
          },
          "metadata": {},
          "execution_count": 2
        }
      ]
    },
    {
      "cell_type": "markdown",
      "source": [
        "* NumPy we can just write np"
      ],
      "metadata": {
        "id": "t-xC8JbSnKLm"
      }
    },
    {
      "cell_type": "markdown",
      "source": [
        "# **Creating arrays**"
      ],
      "metadata": {
        "id": "cvhvOan_hiXA"
      }
    },
    {
      "cell_type": "code",
      "source": [
        "np.zeros(10)"
      ],
      "metadata": {
        "id": "1OtxKWbOhfYg",
        "colab": {
          "base_uri": "https://localhost:8080/"
        },
        "outputId": "1da724a3-20b1-48e7-cad9-ec14f7d8cfbf"
      },
      "execution_count": null,
      "outputs": [
        {
          "output_type": "execute_result",
          "data": {
            "text/plain": [
              "array([0., 0., 0., 0., 0., 0., 0., 0., 0., 0.])"
            ]
          },
          "metadata": {},
          "execution_count": 3
        }
      ]
    },
    {
      "cell_type": "markdown",
      "source": [
        "* Start creating arrays\n",
        "\n",
        "* Simplest method for that is called zeros simplest function so it takes one argument this is the size  of the array and it just creates an array of this size of the specified size with zero(10)"
      ],
      "metadata": {
        "id": "_vM0BIzpnWml"
      }
    },
    {
      "cell_type": "code",
      "source": [
        "np.ones(10)"
      ],
      "metadata": {
        "id": "qLciFeLAhfUV",
        "colab": {
          "base_uri": "https://localhost:8080/"
        },
        "outputId": "a2973666-1ccc-4cf5-eb05-dca8b14f9ade"
      },
      "execution_count": null,
      "outputs": [
        {
          "output_type": "execute_result",
          "data": {
            "text/plain": [
              "array([1., 1., 1., 1., 1., 1., 1., 1., 1., 1.])"
            ]
          },
          "metadata": {},
          "execution_count": 4
        }
      ]
    },
    {
      "cell_type": "markdown",
      "source": [
        "* Similar that we called once and create size(10)"
      ],
      "metadata": {
        "id": "3Dcxa-vMon0e"
      }
    },
    {
      "cell_type": "code",
      "source": [
        "np.full(10, 2.5)"
      ],
      "metadata": {
        "id": "MKxx3vu3hfQm",
        "colab": {
          "base_uri": "https://localhost:8080/"
        },
        "outputId": "65740597-3a7f-4632-ffa7-3410aa0947fa"
      },
      "execution_count": null,
      "outputs": [
        {
          "output_type": "execute_result",
          "data": {
            "text/plain": [
              "array([2.5, 2.5, 2.5, 2.5, 2.5, 2.5, 2.5, 2.5, 2.5, 2.5])"
            ]
          },
          "metadata": {},
          "execution_count": 5
        }
      ]
    },
    {
      "cell_type": "markdown",
      "source": [
        "* The you use a function called **full** an array with some arbitrary number, then first specify the size of the array (10, 2.5), you specify the element you want to fill the array with in case 2.5 and array of size 10, these how you create arrays with NumPy\n"
      ],
      "metadata": {
        "id": "k-eml_eGoy_w"
      }
    },
    {
      "cell_type": "code",
      "source": [
        "a = np.array([1, 2, 3, 5, 7, 12])\n",
        "a"
      ],
      "metadata": {
        "id": "LPTz3yVVhfFO",
        "colab": {
          "base_uri": "https://localhost:8080/"
        },
        "outputId": "2017f605-15d2-4f13-df27-fc5facb3e28f"
      },
      "execution_count": null,
      "outputs": [
        {
          "output_type": "execute_result",
          "data": {
            "text/plain": [
              "array([ 1,  2,  3,  5,  7, 12])"
            ]
          },
          "metadata": {},
          "execution_count": 10
        }
      ]
    },
    {
      "cell_type": "markdown",
      "source": [
        "* If you want to convert a python list so **1,2,3,5,7,12** so, for example, we have this python list and create an array from this use **a** function called **array** and then pass the list the argument and then the result is an array, now we called the **array a**\n"
      ],
      "metadata": {
        "id": "-0O1SUuLpeJm"
      }
    },
    {
      "cell_type": "code",
      "source": [
        "a[2]"
      ],
      "metadata": {
        "colab": {
          "base_uri": "https://localhost:8080/"
        },
        "id": "qubrj7vCq39a",
        "outputId": "678ac7df-4f4d-43fb-a3b9-a1fd69191a47"
      },
      "execution_count": null,
      "outputs": [
        {
          "output_type": "execute_result",
          "data": {
            "text/plain": [
              "3"
            ]
          },
          "metadata": {},
          "execution_count": 11
        }
      ]
    },
    {
      "cell_type": "markdown",
      "source": [
        "* If we want to access an element of this array the element three with, here we just write index two so remember indexing in python starts with zero, and then this is how we access the third element, like in this case element number three\n",
        "\n",
        "* Likewise if we want to change this to something else, let's say we want to change it to replace three with 10, so just use the assignment operator"
      ],
      "metadata": {
        "id": "N1YZ_gGrqC4L"
      }
    },
    {
      "cell_type": "code",
      "source": [
        "a[2] = 10"
      ],
      "metadata": {
        "id": "tB4kfjhxi_GF"
      },
      "execution_count": null,
      "outputs": []
    },
    {
      "cell_type": "code",
      "source": [
        "a"
      ],
      "metadata": {
        "colab": {
          "base_uri": "https://localhost:8080/"
        },
        "id": "QO-ugnZAjDuT",
        "outputId": "9d8800ec-7e54-4dc1-fe45-df4cbc28847a"
      },
      "execution_count": null,
      "outputs": [
        {
          "output_type": "execute_result",
          "data": {
            "text/plain": [
              "array([ 1,  2, 10,  5,  7, 12])"
            ]
          },
          "metadata": {},
          "execution_count": 8
        }
      ]
    },
    {
      "cell_type": "markdown",
      "source": [
        "* And hereafter executing code and here we have 10 instead of three, and the useful function for creating is on the range, create a range from 0 to 9, so 10 is like the last element not in its exclusive, so basically up to and by default its fro 0 to 10 exclusive, so in this case, it's from 0 to 9 and let's say if we start another number, not with three, but just put another parameter it creates range from three to nine this is very similar a python function called range, so it's doing the same thing except instead of giving us an iterator from python it gives as a NumPy array."
      ],
      "metadata": {
        "id": "wJU9XSsvrhdK"
      }
    },
    {
      "cell_type": "code",
      "source": [
        "np.arange(3, 10)"
      ],
      "metadata": {
        "colab": {
          "base_uri": "https://localhost:8080/"
        },
        "id": "CjOTNXRajGLi",
        "outputId": "577b567d-88fe-4b04-f58a-689ece496a02"
      },
      "execution_count": null,
      "outputs": [
        {
          "output_type": "execute_result",
          "data": {
            "text/plain": [
              "array([3, 4, 5, 6, 7, 8, 9])"
            ]
          },
          "metadata": {},
          "execution_count": 12
        }
      ]
    },
    {
      "cell_type": "code",
      "source": [
        "np.linspace(0, 100, 11)"
      ],
      "metadata": {
        "colab": {
          "base_uri": "https://localhost:8080/"
        },
        "id": "YerQmpRTjG27",
        "outputId": "29a4e5a7-caf5-4ed2-b4e5-c5d31b7f1177"
      },
      "execution_count": null,
      "outputs": [
        {
          "output_type": "execute_result",
          "data": {
            "text/plain": [
              "array([  0.,  10.,  20.,  30.,  40.,  50.,  60.,  70.,  80.,  90., 100.])"
            ]
          },
          "metadata": {},
          "execution_count": 13
        }
      ]
    },
    {
      "cell_type": "markdown",
      "source": [
        "* Another useful function in NumPy is called **linspace** which creates an array filled with a number between the first parameter and the second parameter, so let's say we want to create an array with numbers from 0 to 1, so the first element of this array is 0 the last is 1 and then create an array of size 10 of or size 11 like specify here and if fills everything between these two numbers and of course like instead of one we can put anything you want here, we created a one-dimensional array and multi-dimensional arrays."
      ],
      "metadata": {
        "id": "okwq2qwUukDV"
      }
    },
    {
      "cell_type": "markdown",
      "source": [
        "# **Multi-dementional arrays**"
      ],
      "metadata": {
        "id": "jJk99tHDjUvf"
      }
    },
    {
      "cell_type": "code",
      "source": [
        "np.zeros((5, 2))"
      ],
      "metadata": {
        "colab": {
          "base_uri": "https://localhost:8080/"
        },
        "id": "a63GG8XdjGza",
        "outputId": "1941229b-62d5-437c-891f-ec5fe48c720d"
      },
      "execution_count": null,
      "outputs": [
        {
          "output_type": "execute_result",
          "data": {
            "text/plain": [
              "array([[0., 0.],\n",
              "       [0., 0.],\n",
              "       [0., 0.],\n",
              "       [0., 0.],\n",
              "       [0., 0.]])"
            ]
          },
          "metadata": {},
          "execution_count": 14
        }
      ]
    },
    {
      "cell_type": "markdown",
      "source": [
        "* So let's say if we want to create a **multi-dimensional array** we use the same function previously zeros, but here we can specify the dimensions of the array, so we can say that we want to create an array with five rows and two columns, so the first number here is rows takes second is columns and then it creates an array with five columns, **\"5 rows and 2 columns\"**. two raws filled with zeros."
      ],
      "metadata": {
        "id": "2RuNnMuuv3hG"
      }
    },
    {
      "cell_type": "code",
      "source": [
        "a = np.array([1,2,3])\n",
        "a"
      ],
      "metadata": {
        "colab": {
          "base_uri": "https://localhost:8080/"
        },
        "id": "Km0zfvrTzMJa",
        "outputId": "45f9ca7a-baca-4e8b-ad15-71a57e7e3f46"
      },
      "execution_count": null,
      "outputs": [
        {
          "output_type": "execute_result",
          "data": {
            "text/plain": [
              "array([1, 2, 3])"
            ]
          },
          "metadata": {},
          "execution_count": 23
        }
      ]
    },
    {
      "cell_type": "markdown",
      "source": [
        "* The same way we can create an array from python list, so let's say we have an array, we have **a** list of list in python, one two three the four set the seven eight nine, so this is a list of python we pass it to array function it creates a two-dimensional array for us let's called **n** and again if we want to access an element of this array"
      ],
      "metadata": {
        "id": "BuidneKwxdkO"
      }
    },
    {
      "cell_type": "code",
      "source": [
        "n = np.array([\n",
        "    [1, 2, 3],\n",
        "    [4, 5, 6],\n",
        "    [7, 8, 9]\n",
        "])"
      ],
      "metadata": {
        "id": "4XKyx04QjGv_"
      },
      "execution_count": null,
      "outputs": []
    },
    {
      "cell_type": "code",
      "source": [
        "n"
      ],
      "metadata": {
        "colab": {
          "base_uri": "https://localhost:8080/"
        },
        "id": "UhlIWEVjxam7",
        "outputId": "e21fbb39-f0cf-43cd-b72b-9c055d9b4a37"
      },
      "execution_count": null,
      "outputs": [
        {
          "output_type": "execute_result",
          "data": {
            "text/plain": [
              "array([[1, 2, 3],\n",
              "       [4, 5, 6],\n",
              "       [7, 8, 9]])"
            ]
          },
          "metadata": {},
          "execution_count": 25
        }
      ]
    },
    {
      "cell_type": "markdown",
      "source": [
        "* If you want to acces elements of this array this is basically the same as one dimensional except, we have now, indices and it's indexed wiht the it starts with zero, so zero one two for rows and zero one two for columns and if we want to now let's say access."
      ],
      "metadata": {
        "id": "1pqP-QfqzpDq"
      }
    },
    {
      "cell_type": "code",
      "source": [
        "n[0,1]"
      ],
      "metadata": {
        "colab": {
          "base_uri": "https://localhost:8080/"
        },
        "id": "AkoIst9c0ol7",
        "outputId": "73b4ac90-5840-48f0-e647-6ea55a839686"
      },
      "execution_count": null,
      "outputs": [
        {
          "output_type": "execute_result",
          "data": {
            "text/plain": [
              "2"
            ]
          },
          "metadata": {},
          "execution_count": 26
        }
      ]
    },
    {
      "cell_type": "markdown",
      "source": [
        "* This element number is from row number zero and column number one, so we use the first we specify zero and then one so it gives us this element"
      ],
      "metadata": {
        "id": "2g0JUVRh0vhk"
      }
    },
    {
      "cell_type": "code",
      "source": [
        "n[0, 1] = 20"
      ],
      "metadata": {
        "id": "Y7DKEwjskGKd"
      },
      "execution_count": null,
      "outputs": []
    },
    {
      "cell_type": "code",
      "source": [
        "n"
      ],
      "metadata": {
        "colab": {
          "base_uri": "https://localhost:8080/"
        },
        "id": "j3PODWnNkKiY",
        "outputId": "df756eac-9a8e-4b18-9827-4a457df780b0"
      },
      "execution_count": null,
      "outputs": [
        {
          "output_type": "execute_result",
          "data": {
            "text/plain": [
              "array([[ 1, 20,  3],\n",
              "       [ 4,  5,  6],\n",
              "       [ 7,  8,  9]])"
            ]
          },
          "metadata": {},
          "execution_count": 18
        }
      ]
    },
    {
      "cell_type": "markdown",
      "source": [
        "* First we specify zero and then one so, it gives us this element we can use the assignment operator, so if we want to replace this 2 with 20, so we just use the assignment operator and then we see that it changes, so now we change this element to 20."
      ],
      "metadata": {
        "id": "Swi3SsZJvpMm"
      }
    },
    {
      "cell_type": "code",
      "source": [
        "n[2] = [1, 1, 1]"
      ],
      "metadata": {
        "id": "Jyd2A9LwkLd_"
      },
      "execution_count": null,
      "outputs": []
    },
    {
      "cell_type": "code",
      "source": [
        "n"
      ],
      "metadata": {
        "id": "6i8OwmoDkP47",
        "colab": {
          "base_uri": "https://localhost:8080/"
        },
        "outputId": "2bbfce55-d5dc-44f3-e709-dfbe937b4f4b"
      },
      "execution_count": null,
      "outputs": [
        {
          "output_type": "execute_result",
          "data": {
            "text/plain": [
              "array([[1, 2, 3],\n",
              "       [4, 5, 6],\n",
              "       [1, 1, 1]])"
            ]
          },
          "metadata": {},
          "execution_count": 28
        }
      ]
    },
    {
      "cell_type": "markdown",
      "source": [
        "* If we only want to access the rows then instead of passing two indices here we can pass one and let's say we want to get the zero row to say from number one row number two and let's say if we want to get the zero row, the row number one or row number two, so this how we access entire row and again we can use the assignment operator, let's say if we want to rewrite the entire row, we can say the last row should be just once we can say that we can assign using python list on NumPy array like the only condition that it should match the dimension here."
      ],
      "metadata": {
        "id": "8jrGSuPh6X5t"
      }
    },
    {
      "cell_type": "code",
      "source": [
        "n[:, 1] = [20, 5, 1]"
      ],
      "metadata": {
        "id": "BRlLyCTV8FIt"
      },
      "execution_count": null,
      "outputs": []
    },
    {
      "cell_type": "code",
      "source": [
        "n"
      ],
      "metadata": {
        "colab": {
          "base_uri": "https://localhost:8080/"
        },
        "id": "wKy__Sz-8Vb_",
        "outputId": "3f08d01a-4889-493a-e085-93f45d33f3b3"
      },
      "execution_count": null,
      "outputs": [
        {
          "output_type": "execute_result",
          "data": {
            "text/plain": [
              "array([[ 1, 20,  3],\n",
              "       [ 4,  5,  6],\n",
              "       [ 1,  1,  1]])"
            ]
          },
          "metadata": {},
          "execution_count": 30
        }
      ]
    },
    {
      "cell_type": "markdown",
      "source": [
        "* Some we can do with if we want to access a column we can get the entire column if we want and for that, we need to use only to specify only second argument but, let's say if we want to get the second array a second column we use one, but we cannot leave it empty, so we need to put something and we put the column operator meaning we want to get all the rows, but just keep the column indexed by the number we get this second column here right."
      ],
      "metadata": {
        "id": "DoRFhm5E8brX"
      }
    },
    {
      "cell_type": "code",
      "source": [
        "n[:,2]"
      ],
      "metadata": {
        "colab": {
          "base_uri": "https://localhost:8080/"
        },
        "id": "cFiDDJh99YEc",
        "outputId": "b84fce9d-14b4-4ff7-fb6d-3b359f30c3a9"
      },
      "execution_count": null,
      "outputs": [
        {
          "output_type": "execute_result",
          "data": {
            "text/plain": [
              "array([0, 1, 2])"
            ]
          },
          "metadata": {},
          "execution_count": 33
        }
      ]
    },
    {
      "cell_type": "markdown",
      "source": [
        "* And this column operator means return all the rows so we can just use that as if returns everything and let's say if we want to set the last column this is what we get ([3,6,1])."
      ],
      "metadata": {
        "id": "vE5UhQAW9b6_"
      }
    },
    {
      "cell_type": "code",
      "source": [
        "n[:, 2] = [0, 1, 2]"
      ],
      "metadata": {
        "id": "oxdqp_NJkSe7"
      },
      "execution_count": null,
      "outputs": []
    },
    {
      "cell_type": "code",
      "source": [
        "n"
      ],
      "metadata": {
        "id": "SRpBGCohkZMm",
        "colab": {
          "base_uri": "https://localhost:8080/"
        },
        "outputId": "27c44efd-ec3e-4581-a28f-029c5fdc0a9c"
      },
      "execution_count": null,
      "outputs": [
        {
          "output_type": "execute_result",
          "data": {
            "text/plain": [
              "array([[ 1, 20,  0],\n",
              "       [ 4,  5,  1],\n",
              "       [ 1,  1,  2]])"
            ]
          },
          "metadata": {},
          "execution_count": 32
        }
      ]
    },
    {
      "cell_type": "markdown",
      "source": [
        "* And likewise we can assign something else to this let's say if we want to reassign it to zero one or two we do that and then when we look again at our array we see that we managed to change it. these are two-dimensional arrays."
      ],
      "metadata": {
        "id": "7chp-V9f-Gwu"
      }
    },
    {
      "cell_type": "markdown",
      "source": [
        "# **Randomly generated arrays**"
      ],
      "metadata": {
        "id": "XC7BL209kdJ9"
      }
    },
    {
      "cell_type": "code",
      "source": [
        "np.random.seed(2)\n",
        "100 * np.random.rand(5, 2)"
      ],
      "metadata": {
        "id": "hAfIvaKEkczn",
        "colab": {
          "base_uri": "https://localhost:8080/"
        },
        "outputId": "b11025a9-46d2-4033-9ec6-b6d91966e558"
      },
      "execution_count": null,
      "outputs": [
        {
          "output_type": "execute_result",
          "data": {
            "text/plain": [
              "array([[43.59949021,  2.59262318],\n",
              "       [54.96624779, 43.53223926],\n",
              "       [42.03678021, 33.0334821 ],\n",
              "       [20.4648634 , 61.92709664],\n",
              "       [29.96546737, 26.68272751]])"
            ]
          },
          "metadata": {},
          "execution_count": 34
        }
      ]
    },
    {
      "cell_type": "markdown",
      "source": [
        "* We create a Randomly generated array we can use this random package in NumPy, so let's generate a two-dimensional array of size five rows and two columns, we just specify the number of rows, and number of columns and it gives us an array with random numbers between zero and one so this is like a uniform distribution, standard uniform distribution, so every time we execute this cell we get a different number but if we want to make the results reproducible"
      ],
      "metadata": {
        "id": "QzIhic1b-tDA"
      }
    },
    {
      "cell_type": "code",
      "source": [
        "np.random.seed(10)\n",
        "np.random.randn(5, 2)"
      ],
      "metadata": {
        "colab": {
          "base_uri": "https://localhost:8080/"
        },
        "id": "OBJ9JVEhA3ru",
        "outputId": "68bfdfe4-de6a-492b-b314-524b41bf8198"
      },
      "execution_count": null,
      "outputs": [
        {
          "output_type": "execute_result",
          "data": {
            "text/plain": [
              "array([[ 1.3315865 ,  0.71527897],\n",
              "       [-1.54540029, -0.00838385],\n",
              "       [ 0.62133597, -0.72008556],\n",
              "       [ 0.26551159,  0.10854853],\n",
              "       [ 0.00429143, -0.17460021]])"
            ]
          },
          "metadata": {},
          "execution_count": 37
        }
      ]
    },
    {
      "cell_type": "markdown",
      "source": [
        "* If you run this code we get the same numbers it's possible we do this by fixing the random sets because the numbers that are not random are student pseudorandom so they are generated then, we can set the seed of this generator, and if we do this the sequence of random numbers is produced on my computer and will be the same"
      ],
      "metadata": {
        "id": "cvbeLkwO_y7h"
      }
    },
    {
      "cell_type": "code",
      "source": [
        "np.random.seed(2)\n",
        "np.random.randn(5, 2)"
      ],
      "metadata": {
        "id": "I_cY-2HyklGb",
        "colab": {
          "base_uri": "https://localhost:8080/"
        },
        "outputId": "7695c451-d899-4e3c-8559-cb9c2bc49051"
      },
      "execution_count": null,
      "outputs": [
        {
          "output_type": "execute_result",
          "data": {
            "text/plain": [
              "array([[-0.41675785, -0.05626683],\n",
              "       [-2.1361961 ,  1.64027081],\n",
              "       [-1.79343559, -0.84174737],\n",
              "       [ 0.50288142, -1.24528809],\n",
              "       [-1.05795222, -0.90900761]])"
            ]
          },
          "metadata": {},
          "execution_count": 35
        }
      ]
    },
    {
      "cell_type": "markdown",
      "source": [
        "* These numbers are random but every time we execute this cell the results are the same right because we fixed the random sets like the seed number here for the random generation generator that's why if you execute you probably will have the same one, a bit varies depending on the version of NumPy or operating system you have but n general the sequence you get the matrix you get should be the same as I get.\n",
        "\n",
        "* So here we sample from the uniform distribution, standard uniform distribution there are many different distributions, so let's say if we want to draw numbers from the standard normal distribution, we just add an **n** here so it's around, around **n** meaning and normal and then the distribution looks a bit different."
      ],
      "metadata": {
        "id": "Chh81H0YBEQZ"
      }
    },
    {
      "cell_type": "code",
      "source": [
        "np.random.seed(2)\n",
        "np.random.randint(low=0, high=100, size=(5, 2))"
      ],
      "metadata": {
        "id": "RhlPhfJhkpq4",
        "colab": {
          "base_uri": "https://localhost:8080/"
        },
        "outputId": "a2658c1e-3c02-42cc-fba2-29ee150476b3"
      },
      "execution_count": null,
      "outputs": [
        {
          "output_type": "execute_result",
          "data": {
            "text/plain": [
              "array([[40, 15],\n",
              "       [72, 22],\n",
              "       [43, 82],\n",
              "       [75,  7],\n",
              "       [34, 49]])"
            ]
          },
          "metadata": {},
          "execution_count": 36
        }
      ]
    },
    {
      "cell_type": "markdown",
      "source": [
        "* For integers like, let's say if we want to have numbers between 0 and 100 so one simple thing we can do is we can multiply every number here by 100 and actually, since this is numpy array we can just use that and this is something will show your in this section you can multiply every element by 100 and then you will set instead of having number between 0 and 1, you will have numbers 0 between 0 and 100 but if want there is a also a function that you can use for generating random integers, so you can specify here the low = lowest numbers and the highest number that is possible to set I think it's one is includes, included this one is probably excluded so its between 0 and  99 and then you can say that I want to have five rows and two columns and it will generate you a matrix and a two-dimensional array like that with random integers."
      ],
      "metadata": {
        "id": "yhb_ujaIC6tk"
      }
    },
    {
      "cell_type": "markdown",
      "source": [
        "# **Element-wise operations**"
      ],
      "metadata": {
        "id": "BJur2_gzkxIa"
      }
    },
    {
      "cell_type": "code",
      "source": [
        "a = np.arange(5)\n",
        "a"
      ],
      "metadata": {
        "id": "BSzcVjD3kplX",
        "colab": {
          "base_uri": "https://localhost:8080/"
        },
        "outputId": "3a148928-dede-422e-a358-56dde22429e5"
      },
      "execution_count": null,
      "outputs": [
        {
          "output_type": "execute_result",
          "data": {
            "text/plain": [
              "array([0, 1, 2, 3, 4])"
            ]
          },
          "metadata": {},
          "execution_count": 38
        }
      ]
    },
    {
      "cell_type": "markdown",
      "source": [
        "* So here we did this multiplication let me explain how it works.\n",
        "* Now we just create an array first a range of five so it's number from between zero and five, four in this case"
      ],
      "metadata": {
        "id": "Nk8G_N7-E51b"
      }
    },
    {
      "cell_type": "code",
      "source": [
        "a + 1"
      ],
      "metadata": {
        "colab": {
          "base_uri": "https://localhost:8080/"
        },
        "id": "4e3y9yD5FaAI",
        "outputId": "d9dbea2f-7616-4338-d8e8-3c4942988512"
      },
      "execution_count": null,
      "outputs": [
        {
          "output_type": "execute_result",
          "data": {
            "text/plain": [
              "array([1, 2, 3, 4, 5])"
            ]
          },
          "metadata": {},
          "execution_count": 41
        }
      ]
    },
    {
      "cell_type": "markdown",
      "source": [
        "* We can do let's say what if we want to add **a**  number to this array so we want to add one to all the elements of this array was a usual, python list then we won't be able to do this we would meet to write a loop and then add number element by numpy makes it easier for us we can just write plus one and it adds an element to each number here."
      ],
      "metadata": {
        "id": "zSxnCOvXFdGV"
      }
    },
    {
      "cell_type": "code",
      "source": [
        "a * 2"
      ],
      "metadata": {
        "colab": {
          "base_uri": "https://localhost:8080/"
        },
        "id": "wMZvwcDhGIGO",
        "outputId": "d48de46a-0a0e-4958-c7cc-c4f6706ffd6f"
      },
      "execution_count": null,
      "outputs": [
        {
          "output_type": "execute_result",
          "data": {
            "text/plain": [
              "array([0, 2, 4, 6, 8])"
            ]
          },
          "metadata": {},
          "execution_count": 42
        }
      ]
    },
    {
      "cell_type": "code",
      "source": [
        "b = (10 + (a * 2)) ** 2 / 100\n"
      ],
      "metadata": {
        "id": "xx7PXhx8kpgH"
      },
      "execution_count": null,
      "outputs": []
    },
    {
      "cell_type": "code",
      "source": [
        "b"
      ],
      "metadata": {
        "id": "D8_bzfgLk9pD",
        "colab": {
          "base_uri": "https://localhost:8080/"
        },
        "outputId": "08f18017-3e83-4a1b-d80e-fc9f2aefa865"
      },
      "execution_count": null,
      "outputs": [
        {
          "output_type": "execute_result",
          "data": {
            "text/plain": [
              "array([1.  , 1.44, 1.96, 2.56, 3.24])"
            ]
          },
          "metadata": {},
          "execution_count": 40
        }
      ]
    },
    {
      "cell_type": "markdown",
      "source": [
        "* If we want to multiply by two then every element of this array you can see so 0 is multiplied by 2, so basically every elements is multiplied by this number 2. what we just multiplied everything by 100 and of course we can divide it subtact do everything we wan and not only that we can also chain them so let's say we can first divide, multiply by 2 and then add 10 and even let's  say take power of it we can change this equation anyway, like, whatever we want, let's save it to a different array so now we have array one array a and three b what we can do also and combine these two arrays so can do element wise sum, so we can take add element wise these two array for the first element we would compute the second for the second element we would compute the sum, let's say the last element here is 3.24, which is the sum of these two, or the second 2.56, 1.44 is the same of these two does the sum element twice."
      ],
      "metadata": {
        "id": "JMQNFEKOGMsO"
      }
    },
    {
      "cell_type": "code",
      "source": [
        "a / b + 10"
      ],
      "metadata": {
        "id": "LFLwCVzOlAbv",
        "colab": {
          "base_uri": "https://localhost:8080/"
        },
        "outputId": "6d88b584-819b-4f46-879a-cd5850780d2e"
      },
      "execution_count": null,
      "outputs": [
        {
          "output_type": "execute_result",
          "data": {
            "text/plain": [
              "array([10.        , 10.69444444, 11.02040816, 11.171875  , 11.2345679 ])"
            ]
          },
          "metadata": {},
          "execution_count": 43
        }
      ]
    },
    {
      "cell_type": "markdown",
      "source": [
        "* Or divide, we can do anything we want here right, and then again we can chain it with all these different operations."
      ],
      "metadata": {
        "id": "STm0nARwJAzH"
      }
    },
    {
      "cell_type": "markdown",
      "source": [
        "# **Comparison operations**"
      ],
      "metadata": {
        "id": "X-iCucQvlN-u"
      }
    },
    {
      "cell_type": "code",
      "source": [
        "a"
      ],
      "metadata": {
        "id": "QikCKAAflKyw",
        "colab": {
          "base_uri": "https://localhost:8080/"
        },
        "outputId": "4959e2bb-ffbe-4d6f-b6a1-96e1b07a1685"
      },
      "execution_count": null,
      "outputs": [
        {
          "output_type": "execute_result",
          "data": {
            "text/plain": [
              "array([0, 1, 2, 3, 4])"
            ]
          },
          "metadata": {},
          "execution_count": 44
        }
      ]
    },
    {
      "cell_type": "markdown",
      "source": [
        "* let's print **a**\n",
        "* Comparision Operations are also element-wise operations, so let's say we want to see if the element of this array which element of this array is higher or equal to two."
      ],
      "metadata": {
        "id": "MLoH15G2JfvP"
      }
    },
    {
      "cell_type": "code",
      "source": [
        "a >= 2"
      ],
      "metadata": {
        "id": "I8gaKnOylTQj",
        "colab": {
          "base_uri": "https://localhost:8080/"
        },
        "outputId": "fe76cf75-d0a8-4c38-8309-8c9cfa2e563a"
      },
      "execution_count": null,
      "outputs": [
        {
          "output_type": "execute_result",
          "data": {
            "text/plain": [
              "array([False, False,  True,  True,  True])"
            ]
          },
          "metadata": {},
          "execution_count": 45
        }
      ]
    },
    {
      "cell_type": "markdown",
      "source": [
        "* First one is less than to 0 is false, then second is less than the 1 is false and the two but this one is higher or equal to two because it's two and then the same is true for the rest."
      ],
      "metadata": {
        "id": "TaC2hjy4KJJ5"
      }
    },
    {
      "cell_type": "code",
      "source": [
        "b"
      ],
      "metadata": {
        "id": "P3WKU5XMlYVj",
        "colab": {
          "base_uri": "https://localhost:8080/"
        },
        "outputId": "7c4741b9-6832-40d9-e011-04ecba5dc4b3"
      },
      "execution_count": null,
      "outputs": [
        {
          "output_type": "execute_result",
          "data": {
            "text/plain": [
              "array([1.  , 1.44, 1.96, 2.56, 3.24])"
            ]
          },
          "metadata": {},
          "execution_count": 46
        }
      ]
    },
    {
      "cell_type": "code",
      "source": [
        "a > b"
      ],
      "metadata": {
        "id": "fNk93UOTlsOo",
        "colab": {
          "base_uri": "https://localhost:8080/"
        },
        "outputId": "dca07f8f-bee9-4ab9-b87a-bb0d42a6394f"
      },
      "execution_count": null,
      "outputs": [
        {
          "output_type": "execute_result",
          "data": {
            "text/plain": [
              "array([False, False,  True,  True,  True])"
            ]
          },
          "metadata": {},
          "execution_count": 47
        }
      ]
    },
    {
      "cell_type": "markdown",
      "source": [
        "* We can do it other arrays, so let's say we can see which elements of array **a** are greater than the elements array **b**, like this one is actually smaller the second one is also smaller because zero is more than one, one is smaller than one point 44 but two is bigger then two is bigger and three is bigger , false, false, true, true, you know for compare elements of multiple arrays"
      ],
      "metadata": {
        "id": "sGm0jEY0Lr3c"
      }
    },
    {
      "cell_type": "code",
      "source": [
        "a[a > b]"
      ],
      "metadata": {
        "id": "VwKt9bS7lxP2",
        "colab": {
          "base_uri": "https://localhost:8080/"
        },
        "outputId": "24d4ff39-c390-43ab-ed9c-eb3596de994c"
      },
      "execution_count": null,
      "outputs": [
        {
          "output_type": "execute_result",
          "data": {
            "text/plain": [
              "array([2, 3, 4])"
            ]
          },
          "metadata": {},
          "execution_count": 48
        }
      ]
    },
    {
      "cell_type": "markdown",
      "source": [
        "* We can see which elements of **a** are actually greater  **b** if we write something like this and execute it and so what happen here. these statement **a > b** returns a boolean array, so it returns an array with false, false,true,true, when we do these **a > b** it basically returns all the element of array **a** for which this condition is true."
      ],
      "metadata": {
        "id": "CwgG4N0qMjAe"
      }
    },
    {
      "cell_type": "markdown",
      "source": [
        "# **Summarizing operations**"
      ],
      "metadata": {
        "id": "IbciJAxSl5TC"
      }
    },
    {
      "cell_type": "code",
      "source": [
        "a"
      ],
      "metadata": {
        "id": "U_W2QlKsl1mP",
        "colab": {
          "base_uri": "https://localhost:8080/"
        },
        "outputId": "62b66c72-b9e4-4771-a523-5deb6a22fd15"
      },
      "execution_count": null,
      "outputs": [
        {
          "output_type": "execute_result",
          "data": {
            "text/plain": [
              "array([0, 1, 2, 3, 4])"
            ]
          },
          "metadata": {},
          "execution_count": 49
        }
      ]
    },
    {
      "cell_type": "code",
      "source": [
        "a.std()"
      ],
      "metadata": {
        "id": "REB1v1sGl80P",
        "colab": {
          "base_uri": "https://localhost:8080/"
        },
        "outputId": "b9171a83-28fe-4b98-9080-b1e65553e97f"
      },
      "execution_count": null,
      "outputs": [
        {
          "output_type": "execute_result",
          "data": {
            "text/plain": [
              "1.4142135623730951"
            ]
          },
          "metadata": {},
          "execution_count": 50
        }
      ]
    },
    {
      "cell_type": "code",
      "source": [
        "a.max()"
      ],
      "metadata": {
        "colab": {
          "base_uri": "https://localhost:8080/"
        },
        "id": "xbjXmtJQNWvG",
        "outputId": "7e306b1a-71ca-4146-b6e9-dc76875a80ea"
      },
      "execution_count": null,
      "outputs": [
        {
          "output_type": "execute_result",
          "data": {
            "text/plain": [
              "4"
            ]
          },
          "metadata": {},
          "execution_count": 52
        }
      ]
    },
    {
      "cell_type": "code",
      "source": [
        "a.min()"
      ],
      "metadata": {
        "colab": {
          "base_uri": "https://localhost:8080/"
        },
        "id": "X_efBWhoNZih",
        "outputId": "4f7421be-63d1-445e-8d06-31b4de5ed392"
      },
      "execution_count": null,
      "outputs": [
        {
          "output_type": "execute_result",
          "data": {
            "text/plain": [
              "0"
            ]
          },
          "metadata": {},
          "execution_count": 53
        }
      ]
    },
    {
      "cell_type": "code",
      "source": [
        "a.sum()"
      ],
      "metadata": {
        "colab": {
          "base_uri": "https://localhost:8080/"
        },
        "id": "kAU8gZ-rNqXg",
        "outputId": "7ed7b16a-666a-416a-b23c-bc05f32ac08a"
      },
      "execution_count": null,
      "outputs": [
        {
          "output_type": "execute_result",
          "data": {
            "text/plain": [
              "10"
            ]
          },
          "metadata": {},
          "execution_count": 56
        }
      ]
    },
    {
      "cell_type": "code",
      "source": [
        "n.min()"
      ],
      "metadata": {
        "id": "QMPEjzWOmCbR",
        "colab": {
          "base_uri": "https://localhost:8080/"
        },
        "outputId": "426dd71d-666e-4be0-a302-110d47e4ae83"
      },
      "execution_count": null,
      "outputs": [
        {
          "output_type": "execute_result",
          "data": {
            "text/plain": [
              "0"
            ]
          },
          "metadata": {},
          "execution_count": 51
        }
      ]
    },
    {
      "cell_type": "code",
      "source": [
        "n.std()"
      ],
      "metadata": {
        "colab": {
          "base_uri": "https://localhost:8080/"
        },
        "id": "BlniuZPqNgyU",
        "outputId": "5574918f-aaf2-4a25-960a-97a330f88f7d"
      },
      "execution_count": null,
      "outputs": [
        {
          "output_type": "execute_result",
          "data": {
            "text/plain": [
              "5.89622184952071"
            ]
          },
          "metadata": {},
          "execution_count": 54
        }
      ]
    },
    {
      "cell_type": "code",
      "source": [
        "n.sum()"
      ],
      "metadata": {
        "colab": {
          "base_uri": "https://localhost:8080/"
        },
        "id": "_DthGr8fNm2C",
        "outputId": "d911e03d-8fd5-4775-a7f1-26979fb3539d"
      },
      "execution_count": null,
      "outputs": [
        {
          "output_type": "execute_result",
          "data": {
            "text/plain": [
              "35"
            ]
          },
          "metadata": {},
          "execution_count": 55
        }
      ]
    },
    {
      "cell_type": "markdown",
      "source": [
        "* There ar different kinds of operations that we can call summarizing operations because instead of returning another array, return a single number so an example of this is **a min** operation **a** smallest number in this case it's zero, you can use **a.maximum** number.\n",
        "\n",
        "* also cumpute the sum of all the arrays\n",
        "* And you can compute the average number **a.mean()**\n",
        "* And you can compute the standard deviation **a.std()**\n",
        "* You also work for two dimensional, let's say n to compute the sum **n.sum()** of all the elements\n",
        "* find the minimal number of **n.min()**"
      ],
      "metadata": {
        "id": "kC7VgcLCNe0G"
      }
    },
    {
      "cell_type": "markdown",
      "source": [
        "## **Next**\n",
        "\n",
        "Linear algebra refresher\n"
      ],
      "metadata": {
        "id": "chPvjjL5O8V7"
      }
    }
  ]
}